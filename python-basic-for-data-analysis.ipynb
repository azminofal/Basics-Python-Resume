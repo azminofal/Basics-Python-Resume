{
 "cells": [
  {
   "cell_type": "markdown",
   "id": "c7b419ff",
   "metadata": {
    "papermill": {
     "duration": 0.085343,
     "end_time": "2024-07-05T08:23:05.467649",
     "exception": false,
     "start_time": "2024-07-05T08:23:05.382306",
     "status": "completed"
    },
    "tags": []
   },
   "source": [
    "References: [DataDaft](https://www.youtube.com/watch?v=2_6O39UdFi0&list=PLiC1doDIe9rCYWmH9wIEYEXXaJ4KAi3jc), [NeuralNine](https://www.youtube.com/watch?v=4c_mwnYdbhQ)"
   ]
  },
  {
   "cell_type": "markdown",
   "id": "53f55153",
   "metadata": {
    "_cell_guid": "b1076dfc-b9ad-4769-8c92-a6c4dae69d19",
    "_uuid": "8f2839f25d086af736a60e9eeb907d3b93b6e0e5",
    "execution": {
     "iopub.execute_input": "2024-07-02T11:45:55.968640Z",
     "iopub.status.busy": "2024-07-02T11:45:55.968255Z",
     "iopub.status.idle": "2024-07-02T11:45:57.136551Z",
     "shell.execute_reply": "2024-07-02T11:45:57.135447Z",
     "shell.execute_reply.started": "2024-07-02T11:45:55.968606Z"
    },
    "papermill": {
     "duration": 0.080865,
     "end_time": "2024-07-05T08:23:05.630820",
     "exception": false,
     "start_time": "2024-07-05T08:23:05.549955",
     "status": "completed"
    },
    "tags": []
   },
   "source": [
    "# **Basic math operations**"
   ]
  },
  {
   "cell_type": "code",
   "execution_count": 1,
   "id": "c8dcaddf",
   "metadata": {
    "execution": {
     "iopub.execute_input": "2024-07-05T08:23:05.841702Z",
     "iopub.status.busy": "2024-07-05T08:23:05.841020Z",
     "iopub.status.idle": "2024-07-05T08:23:05.854685Z",
     "shell.execute_reply": "2024-07-05T08:23:05.853818Z"
    },
    "papermill": {
     "duration": 0.099924,
     "end_time": "2024-07-05T08:23:05.856541",
     "exception": false,
     "start_time": "2024-07-05T08:23:05.756617",
     "status": "completed"
    },
    "tags": []
   },
   "outputs": [
    {
     "data": {
      "text/plain": [
       "25"
      ]
     },
     "execution_count": 1,
     "metadata": {},
     "output_type": "execute_result"
    }
   ],
   "source": [
    "1 + 2 # 3\n",
    "5 - 3 # 2\n",
    "3 + 4 * 5 # 23\n",
    "((2 + 3) * 3) **2 # 225\n",
    "100 % 75 # 25"
   ]
  },
  {
   "cell_type": "code",
   "execution_count": 2,
   "id": "919e211f",
   "metadata": {
    "execution": {
     "iopub.execute_input": "2024-07-05T08:23:06.022613Z",
     "iopub.status.busy": "2024-07-05T08:23:06.022048Z",
     "iopub.status.idle": "2024-07-05T08:23:06.026043Z",
     "shell.execute_reply": "2024-07-05T08:23:06.025226Z"
    },
    "papermill": {
     "duration": 0.088912,
     "end_time": "2024-07-05T08:23:06.028070",
     "exception": false,
     "start_time": "2024-07-05T08:23:05.939158",
     "status": "completed"
    },
    "tags": []
   },
   "outputs": [],
   "source": [
    "import math # Load the math module"
   ]
  },
  {
   "cell_type": "code",
   "execution_count": 3,
   "id": "ad90c7e8",
   "metadata": {
    "execution": {
     "iopub.execute_input": "2024-07-05T08:23:06.194658Z",
     "iopub.status.busy": "2024-07-05T08:23:06.194122Z",
     "iopub.status.idle": "2024-07-05T08:23:06.200235Z",
     "shell.execute_reply": "2024-07-05T08:23:06.199347Z"
    },
    "papermill": {
     "duration": 0.091831,
     "end_time": "2024-07-05T08:23:06.202231",
     "exception": false,
     "start_time": "2024-07-05T08:23:06.110400",
     "status": "completed"
    },
    "tags": []
   },
   "outputs": [
    {
     "data": {
      "text/plain": [
       "0.9999698965391098"
      ]
     },
     "execution_count": 3,
     "metadata": {},
     "output_type": "execute_result"
    }
   ],
   "source": [
    "# math.log() takes the natural logarithm og its argument:\n",
    "\n",
    "math.log(2.7182)"
   ]
  },
  {
   "cell_type": "code",
   "execution_count": 4,
   "id": "dd525600",
   "metadata": {
    "execution": {
     "iopub.execute_input": "2024-07-05T08:23:06.369011Z",
     "iopub.status.busy": "2024-07-05T08:23:06.368673Z",
     "iopub.status.idle": "2024-07-05T08:23:06.374308Z",
     "shell.execute_reply": "2024-07-05T08:23:06.373403Z"
    },
    "papermill": {
     "duration": 0.091435,
     "end_time": "2024-07-05T08:23:06.376361",
     "exception": false,
     "start_time": "2024-07-05T08:23:06.284926",
     "status": "completed"
    },
    "tags": []
   },
   "outputs": [
    {
     "data": {
      "text/plain": [
       "2.0"
      ]
     },
     "execution_count": 4,
     "metadata": {},
     "output_type": "execute_result"
    }
   ],
   "source": [
    "# Add a second argument to specify the log base:\n",
    "\n",
    "math.log(100, 10)     # Take the log base 10 of 100"
   ]
  },
  {
   "cell_type": "code",
   "execution_count": 5,
   "id": "5ceeff43",
   "metadata": {
    "execution": {
     "iopub.execute_input": "2024-07-05T08:23:06.544982Z",
     "iopub.status.busy": "2024-07-05T08:23:06.544367Z",
     "iopub.status.idle": "2024-07-05T08:23:06.550064Z",
     "shell.execute_reply": "2024-07-05T08:23:06.549285Z"
    },
    "papermill": {
     "duration": 0.09124,
     "end_time": "2024-07-05T08:23:06.551927",
     "exception": false,
     "start_time": "2024-07-05T08:23:06.460687",
     "status": "completed"
    },
    "tags": []
   },
   "outputs": [
    {
     "data": {
      "text/plain": [
       "22026.465794806718"
      ]
     },
     "execution_count": 5,
     "metadata": {},
     "output_type": "execute_result"
    }
   ],
   "source": [
    "# math.exp() raises e to the power of its argument:\n",
    "\n",
    "math.exp(10)"
   ]
  },
  {
   "cell_type": "code",
   "execution_count": 6,
   "id": "cf301adf",
   "metadata": {
    "execution": {
     "iopub.execute_input": "2024-07-05T08:23:06.719298Z",
     "iopub.status.busy": "2024-07-05T08:23:06.718422Z",
     "iopub.status.idle": "2024-07-05T08:23:06.724025Z",
     "shell.execute_reply": "2024-07-05T08:23:06.723239Z"
    },
    "papermill": {
     "duration": 0.090617,
     "end_time": "2024-07-05T08:23:06.725963",
     "exception": false,
     "start_time": "2024-07-05T08:23:06.635346",
     "status": "completed"
    },
    "tags": []
   },
   "outputs": [
    {
     "data": {
      "text/plain": [
       "8.0"
      ]
     },
     "execution_count": 6,
     "metadata": {},
     "output_type": "execute_result"
    }
   ],
   "source": [
    "# Use math.sqrt() to take the square root of a number:\n",
    "\n",
    "math.sqrt(64)"
   ]
  },
  {
   "cell_type": "code",
   "execution_count": 7,
   "id": "dee926e9",
   "metadata": {
    "execution": {
     "iopub.execute_input": "2024-07-05T08:23:06.892995Z",
     "iopub.status.busy": "2024-07-05T08:23:06.892181Z",
     "iopub.status.idle": "2024-07-05T08:23:06.897846Z",
     "shell.execute_reply": "2024-07-05T08:23:06.896957Z"
    },
    "papermill": {
     "duration": 0.09108,
     "end_time": "2024-07-05T08:23:06.899693",
     "exception": false,
     "start_time": "2024-07-05T08:23:06.808613",
     "status": "completed"
    },
    "tags": []
   },
   "outputs": [
    {
     "data": {
      "text/plain": [
       "30"
      ]
     },
     "execution_count": 7,
     "metadata": {},
     "output_type": "execute_result"
    }
   ],
   "source": [
    "# Use abs() to get the absolute value of a number. Note abs() is a base Python function\n",
    "\n",
    "abs(-30)"
   ]
  },
  {
   "cell_type": "code",
   "execution_count": 8,
   "id": "a8f95b60",
   "metadata": {
    "execution": {
     "iopub.execute_input": "2024-07-05T08:23:07.067702Z",
     "iopub.status.busy": "2024-07-05T08:23:07.066909Z",
     "iopub.status.idle": "2024-07-05T08:23:07.073539Z",
     "shell.execute_reply": "2024-07-05T08:23:07.072536Z"
    },
    "papermill": {
     "duration": 0.09372,
     "end_time": "2024-07-05T08:23:07.075819",
     "exception": false,
     "start_time": "2024-07-05T08:23:06.982099",
     "status": "completed"
    },
    "tags": []
   },
   "outputs": [
    {
     "data": {
      "text/plain": [
       "3.141592653589793"
      ]
     },
     "execution_count": 8,
     "metadata": {},
     "output_type": "execute_result"
    }
   ],
   "source": [
    "math.pi   # Get the constant pi"
   ]
  },
  {
   "cell_type": "markdown",
   "id": "3bcac055",
   "metadata": {
    "papermill": {
     "duration": 0.082208,
     "end_time": "2024-07-05T08:23:07.241005",
     "exception": false,
     "start_time": "2024-07-05T08:23:07.158797",
     "status": "completed"
    },
    "tags": []
   },
   "source": [
    "## Rounding Numbers"
   ]
  },
  {
   "cell_type": "code",
   "execution_count": 9,
   "id": "3bef4dda",
   "metadata": {
    "execution": {
     "iopub.execute_input": "2024-07-05T08:23:07.409200Z",
     "iopub.status.busy": "2024-07-05T08:23:07.408863Z",
     "iopub.status.idle": "2024-07-05T08:23:07.414233Z",
     "shell.execute_reply": "2024-07-05T08:23:07.413546Z"
    },
    "papermill": {
     "duration": 0.092998,
     "end_time": "2024-07-05T08:23:07.416396",
     "exception": false,
     "start_time": "2024-07-05T08:23:07.323398",
     "status": "completed"
    },
    "tags": []
   },
   "outputs": [
    {
     "data": {
      "text/plain": [
       "23"
      ]
     },
     "execution_count": 9,
     "metadata": {},
     "output_type": "execute_result"
    }
   ],
   "source": [
    "# Use round() to round a number to the nearest whole number:\n",
    "\n",
    "round(22.5483218)"
   ]
  },
  {
   "cell_type": "code",
   "execution_count": 10,
   "id": "1db342b2",
   "metadata": {
    "execution": {
     "iopub.execute_input": "2024-07-05T08:23:07.584088Z",
     "iopub.status.busy": "2024-07-05T08:23:07.583732Z",
     "iopub.status.idle": "2024-07-05T08:23:07.589398Z",
     "shell.execute_reply": "2024-07-05T08:23:07.588543Z"
    },
    "papermill": {
     "duration": 0.091446,
     "end_time": "2024-07-05T08:23:07.591278",
     "exception": false,
     "start_time": "2024-07-05T08:23:07.499832",
     "status": "completed"
    },
    "tags": []
   },
   "outputs": [
    {
     "data": {
      "text/plain": [
       "22.5"
      ]
     },
     "execution_count": 10,
     "metadata": {},
     "output_type": "execute_result"
    }
   ],
   "source": [
    "# Add a second argument to round to a specified decimal place\n",
    "\n",
    "round(22.5483218, 1) # round to 1 decimal number"
   ]
  },
  {
   "cell_type": "code",
   "execution_count": 11,
   "id": "a1124792",
   "metadata": {
    "execution": {
     "iopub.execute_input": "2024-07-05T08:23:07.758655Z",
     "iopub.status.busy": "2024-07-05T08:23:07.758303Z",
     "iopub.status.idle": "2024-07-05T08:23:07.763935Z",
     "shell.execute_reply": "2024-07-05T08:23:07.763165Z"
    },
    "papermill": {
     "duration": 0.091018,
     "end_time": "2024-07-05T08:23:07.765825",
     "exception": false,
     "start_time": "2024-07-05T08:23:07.674807",
     "status": "completed"
    },
    "tags": []
   },
   "outputs": [
    {
     "data": {
      "text/plain": [
       "20.0"
      ]
     },
     "execution_count": 11,
     "metadata": {},
     "output_type": "execute_result"
    }
   ],
   "source": [
    "# Enter a negative number to round to the left of the decimal\n",
    "\n",
    "round(22.5483218, -1) # round to the 10's place"
   ]
  },
  {
   "cell_type": "code",
   "execution_count": 12,
   "id": "bd442429",
   "metadata": {
    "execution": {
     "iopub.execute_input": "2024-07-05T08:23:07.935698Z",
     "iopub.status.busy": "2024-07-05T08:23:07.935110Z",
     "iopub.status.idle": "2024-07-05T08:23:07.940633Z",
     "shell.execute_reply": "2024-07-05T08:23:07.939793Z"
    },
    "papermill": {
     "duration": 0.091911,
     "end_time": "2024-07-05T08:23:07.942441",
     "exception": false,
     "start_time": "2024-07-05T08:23:07.850530",
     "status": "completed"
    },
    "tags": []
   },
   "outputs": [
    {
     "data": {
      "text/plain": [
       "22"
      ]
     },
     "execution_count": 12,
     "metadata": {},
     "output_type": "execute_result"
    }
   ],
   "source": [
    "# Round down to the nearest whole number with math.floor()\n",
    "\n",
    "math.floor(22.5)"
   ]
  },
  {
   "cell_type": "code",
   "execution_count": 13,
   "id": "dec19f32",
   "metadata": {
    "execution": {
     "iopub.execute_input": "2024-07-05T08:23:08.112419Z",
     "iopub.status.busy": "2024-07-05T08:23:08.111664Z",
     "iopub.status.idle": "2024-07-05T08:23:08.117419Z",
     "shell.execute_reply": "2024-07-05T08:23:08.116587Z"
    },
    "papermill": {
     "duration": 0.093276,
     "end_time": "2024-07-05T08:23:08.119304",
     "exception": false,
     "start_time": "2024-07-05T08:23:08.026028",
     "status": "completed"
    },
    "tags": []
   },
   "outputs": [
    {
     "data": {
      "text/plain": [
       "23"
      ]
     },
     "execution_count": 13,
     "metadata": {},
     "output_type": "execute_result"
    }
   ],
   "source": [
    "# Round up with math.ciel()\n",
    "\n",
    "math.ceil(22.2)"
   ]
  },
  {
   "cell_type": "markdown",
   "id": "e67dc74b",
   "metadata": {
    "papermill": {
     "duration": 0.084372,
     "end_time": "2024-07-05T08:23:08.288663",
     "exception": false,
     "start_time": "2024-07-05T08:23:08.204291",
     "status": "completed"
    },
    "tags": []
   },
   "source": [
    "# **Basic Data Types**"
   ]
  },
  {
   "cell_type": "markdown",
   "id": "4872bf81",
   "metadata": {
    "papermill": {
     "duration": 0.087699,
     "end_time": "2024-07-05T08:23:08.459973",
     "exception": false,
     "start_time": "2024-07-05T08:23:08.372274",
     "status": "completed"
    },
    "tags": []
   },
   "source": [
    "## Integers"
   ]
  },
  {
   "cell_type": "code",
   "execution_count": 14,
   "id": "7606cb94",
   "metadata": {
    "execution": {
     "iopub.execute_input": "2024-07-05T08:23:08.635047Z",
     "iopub.status.busy": "2024-07-05T08:23:08.634698Z",
     "iopub.status.idle": "2024-07-05T08:23:08.640450Z",
     "shell.execute_reply": "2024-07-05T08:23:08.639513Z"
    },
    "papermill": {
     "duration": 0.092903,
     "end_time": "2024-07-05T08:23:08.642337",
     "exception": false,
     "start_time": "2024-07-05T08:23:08.549434",
     "status": "completed"
    },
    "tags": []
   },
   "outputs": [
    {
     "data": {
      "text/plain": [
       "int"
      ]
     },
     "execution_count": 14,
     "metadata": {},
     "output_type": "execute_result"
    }
   ],
   "source": [
    "type(12)"
   ]
  },
  {
   "cell_type": "code",
   "execution_count": 15,
   "id": "801424e1",
   "metadata": {
    "execution": {
     "iopub.execute_input": "2024-07-05T08:23:08.811953Z",
     "iopub.status.busy": "2024-07-05T08:23:08.811605Z",
     "iopub.status.idle": "2024-07-05T08:23:08.817188Z",
     "shell.execute_reply": "2024-07-05T08:23:08.816406Z"
    },
    "papermill": {
     "duration": 0.093032,
     "end_time": "2024-07-05T08:23:08.819126",
     "exception": false,
     "start_time": "2024-07-05T08:23:08.726094",
     "status": "completed"
    },
    "tags": []
   },
   "outputs": [
    {
     "data": {
      "text/plain": [
       "True"
      ]
     },
     "execution_count": 15,
     "metadata": {},
     "output_type": "execute_result"
    }
   ],
   "source": [
    "# Check if 12 is an instance of type \"int\"\n",
    "\n",
    "isinstance(12, int)"
   ]
  },
  {
   "cell_type": "code",
   "execution_count": 16,
   "id": "169f3c61",
   "metadata": {
    "execution": {
     "iopub.execute_input": "2024-07-05T08:23:08.988890Z",
     "iopub.status.busy": "2024-07-05T08:23:08.988555Z",
     "iopub.status.idle": "2024-07-05T08:23:08.993996Z",
     "shell.execute_reply": "2024-07-05T08:23:08.993220Z"
    },
    "papermill": {
     "duration": 0.091939,
     "end_time": "2024-07-05T08:23:08.995886",
     "exception": false,
     "start_time": "2024-07-05T08:23:08.903947",
     "status": "completed"
    },
    "tags": []
   },
   "outputs": [
    {
     "data": {
      "text/plain": [
       "0.3333333333333333"
      ]
     },
     "execution_count": 16,
     "metadata": {},
     "output_type": "execute_result"
    }
   ],
   "source": [
    "1/3 # A third is not a whole number*"
   ]
  },
  {
   "cell_type": "code",
   "execution_count": 17,
   "id": "5a2ac255",
   "metadata": {
    "execution": {
     "iopub.execute_input": "2024-07-05T08:23:09.165272Z",
     "iopub.status.busy": "2024-07-05T08:23:09.164462Z",
     "iopub.status.idle": "2024-07-05T08:23:09.170237Z",
     "shell.execute_reply": "2024-07-05T08:23:09.169360Z"
    },
    "papermill": {
     "duration": 0.092125,
     "end_time": "2024-07-05T08:23:09.172166",
     "exception": false,
     "start_time": "2024-07-05T08:23:09.080041",
     "status": "completed"
    },
    "tags": []
   },
   "outputs": [
    {
     "data": {
      "text/plain": [
       "float"
      ]
     },
     "execution_count": 17,
     "metadata": {},
     "output_type": "execute_result"
    }
   ],
   "source": [
    "type (1/3) # The type of the result is not an int"
   ]
  },
  {
   "cell_type": "markdown",
   "id": "4d60043a",
   "metadata": {
    "papermill": {
     "duration": 0.083528,
     "end_time": "2024-07-05T08:23:09.339813",
     "exception": false,
     "start_time": "2024-07-05T08:23:09.256285",
     "status": "completed"
    },
    "tags": []
   },
   "source": [
    "# Float"
   ]
  },
  {
   "cell_type": "markdown",
   "id": "1f043fe5",
   "metadata": {
    "papermill": {
     "duration": 0.097297,
     "end_time": "2024-07-05T08:23:09.538463",
     "exception": false,
     "start_time": "2024-07-05T08:23:09.441166",
     "status": "completed"
    },
    "tags": []
   },
   "source": [
    "Floating point numbers (floats) are **numbers with decimal values**."
   ]
  },
  {
   "cell_type": "code",
   "execution_count": 18,
   "id": "853d44e5",
   "metadata": {
    "execution": {
     "iopub.execute_input": "2024-07-05T08:23:09.732048Z",
     "iopub.status.busy": "2024-07-05T08:23:09.731728Z",
     "iopub.status.idle": "2024-07-05T08:23:09.737285Z",
     "shell.execute_reply": "2024-07-05T08:23:09.736406Z"
    },
    "papermill": {
     "duration": 0.099939,
     "end_time": "2024-07-05T08:23:09.739180",
     "exception": false,
     "start_time": "2024-07-05T08:23:09.639241",
     "status": "completed"
    },
    "tags": []
   },
   "outputs": [
    {
     "data": {
      "text/plain": [
       "float"
      ]
     },
     "execution_count": 18,
     "metadata": {},
     "output_type": "execute_result"
    }
   ],
   "source": [
    "type(1.0)"
   ]
  },
  {
   "cell_type": "code",
   "execution_count": 19,
   "id": "5db24a95",
   "metadata": {
    "execution": {
     "iopub.execute_input": "2024-07-05T08:23:09.923424Z",
     "iopub.status.busy": "2024-07-05T08:23:09.922806Z",
     "iopub.status.idle": "2024-07-05T08:23:09.928713Z",
     "shell.execute_reply": "2024-07-05T08:23:09.927844Z"
    },
    "papermill": {
     "duration": 0.096308,
     "end_time": "2024-07-05T08:23:09.930806",
     "exception": false,
     "start_time": "2024-07-05T08:23:09.834498",
     "status": "completed"
    },
    "tags": []
   },
   "outputs": [
    {
     "data": {
      "text/plain": [
       "True"
      ]
     },
     "execution_count": 19,
     "metadata": {},
     "output_type": "execute_result"
    }
   ],
   "source": [
    "isinstance(0.333333, float)"
   ]
  },
  {
   "cell_type": "markdown",
   "id": "2d281d28",
   "metadata": {
    "papermill": {
     "duration": 0.084826,
     "end_time": "2024-07-05T08:23:10.101704",
     "exception": false,
     "start_time": "2024-07-05T08:23:10.016878",
     "status": "completed"
    },
    "tags": []
   },
   "source": [
    "# Arithmetic operations"
   ]
  },
  {
   "cell_type": "code",
   "execution_count": 20,
   "id": "d9e44d3a",
   "metadata": {
    "execution": {
     "iopub.execute_input": "2024-07-05T08:23:10.272778Z",
     "iopub.status.busy": "2024-07-05T08:23:10.271964Z",
     "iopub.status.idle": "2024-07-05T08:23:10.277351Z",
     "shell.execute_reply": "2024-07-05T08:23:10.276553Z"
    },
    "papermill": {
     "duration": 0.093413,
     "end_time": "2024-07-05T08:23:10.279336",
     "exception": false,
     "start_time": "2024-07-05T08:23:10.185923",
     "status": "completed"
    },
    "tags": []
   },
   "outputs": [
    {
     "data": {
      "text/plain": [
       "6.0"
      ]
     },
     "execution_count": 20,
     "metadata": {},
     "output_type": "execute_result"
    }
   ],
   "source": [
    "5 + 1.0"
   ]
  },
  {
   "cell_type": "code",
   "execution_count": 21,
   "id": "10e6d2c4",
   "metadata": {
    "execution": {
     "iopub.execute_input": "2024-07-05T08:23:10.494242Z",
     "iopub.status.busy": "2024-07-05T08:23:10.493640Z",
     "iopub.status.idle": "2024-07-05T08:23:10.499763Z",
     "shell.execute_reply": "2024-07-05T08:23:10.498764Z"
    },
    "papermill": {
     "duration": 0.095267,
     "end_time": "2024-07-05T08:23:10.501656",
     "exception": false,
     "start_time": "2024-07-05T08:23:10.406389",
     "status": "completed"
    },
    "tags": []
   },
   "outputs": [
    {
     "data": {
      "text/plain": [
       "6"
      ]
     },
     "execution_count": 21,
     "metadata": {},
     "output_type": "execute_result"
    }
   ],
   "source": [
    "int(6.0)"
   ]
  },
  {
   "cell_type": "code",
   "execution_count": 22,
   "id": "9b2125f1",
   "metadata": {
    "execution": {
     "iopub.execute_input": "2024-07-05T08:23:10.674157Z",
     "iopub.status.busy": "2024-07-05T08:23:10.673828Z",
     "iopub.status.idle": "2024-07-05T08:23:10.679301Z",
     "shell.execute_reply": "2024-07-05T08:23:10.678429Z"
    },
    "papermill": {
     "duration": 0.094272,
     "end_time": "2024-07-05T08:23:10.681392",
     "exception": false,
     "start_time": "2024-07-05T08:23:10.587120",
     "status": "completed"
    },
    "tags": []
   },
   "outputs": [
    {
     "data": {
      "text/plain": [
       "6.0"
      ]
     },
     "execution_count": 22,
     "metadata": {},
     "output_type": "execute_result"
    }
   ],
   "source": [
    "float(6)"
   ]
  },
  {
   "cell_type": "markdown",
   "id": "5ed6011b",
   "metadata": {
    "papermill": {
     "duration": 0.084413,
     "end_time": "2024-07-05T08:23:10.850886",
     "exception": false,
     "start_time": "2024-07-05T08:23:10.766473",
     "status": "completed"
    },
    "tags": []
   },
   "source": [
    "Float can also take on a few special values: **Inf**, **-Inf** and **NaN**.\n",
    "* Inf and -Inf stand for infinity and negative infinity respectively\n",
    "* NaN stands for \"not a number\"\n",
    "\n",
    "which is sometimes used to as a placeholder for missing or erroneous numerical values."
   ]
  },
  {
   "cell_type": "code",
   "execution_count": 23,
   "id": "23b5b3b5",
   "metadata": {
    "execution": {
     "iopub.execute_input": "2024-07-05T08:23:11.023086Z",
     "iopub.status.busy": "2024-07-05T08:23:11.022209Z",
     "iopub.status.idle": "2024-07-05T08:23:11.028190Z",
     "shell.execute_reply": "2024-07-05T08:23:11.027424Z"
    },
    "papermill": {
     "duration": 0.093809,
     "end_time": "2024-07-05T08:23:11.030100",
     "exception": false,
     "start_time": "2024-07-05T08:23:10.936291",
     "status": "completed"
    },
    "tags": []
   },
   "outputs": [
    {
     "data": {
      "text/plain": [
       "float"
      ]
     },
     "execution_count": 23,
     "metadata": {},
     "output_type": "execute_result"
    }
   ],
   "source": [
    "type(float(\"Inf\"))"
   ]
  },
  {
   "cell_type": "code",
   "execution_count": 24,
   "id": "24c839c1",
   "metadata": {
    "execution": {
     "iopub.execute_input": "2024-07-05T08:23:11.201277Z",
     "iopub.status.busy": "2024-07-05T08:23:11.200964Z",
     "iopub.status.idle": "2024-07-05T08:23:11.206767Z",
     "shell.execute_reply": "2024-07-05T08:23:11.205898Z"
    },
    "papermill": {
     "duration": 0.093643,
     "end_time": "2024-07-05T08:23:11.208682",
     "exception": false,
     "start_time": "2024-07-05T08:23:11.115039",
     "status": "completed"
    },
    "tags": []
   },
   "outputs": [
    {
     "data": {
      "text/plain": [
       "float"
      ]
     },
     "execution_count": 24,
     "metadata": {},
     "output_type": "execute_result"
    }
   ],
   "source": [
    "type(float(\"NaN\"))"
   ]
  },
  {
   "cell_type": "markdown",
   "id": "78e9e21d",
   "metadata": {
    "papermill": {
     "duration": 0.084833,
     "end_time": "2024-07-05T08:23:11.378966",
     "exception": false,
     "start_time": "2024-07-05T08:23:11.294133",
     "status": "completed"
    },
    "tags": []
   },
   "source": [
    "Note: Python contains a third, uncommon numeric data type \"complex\" which is used to store complex numbers."
   ]
  },
  {
   "cell_type": "markdown",
   "id": "1539bd9e",
   "metadata": {
    "papermill": {
     "duration": 0.085308,
     "end_time": "2024-07-05T08:23:11.550619",
     "exception": false,
     "start_time": "2024-07-05T08:23:11.465311",
     "status": "completed"
    },
    "tags": []
   },
   "source": [
    "# **Booleans**"
   ]
  },
  {
   "cell_type": "markdown",
   "id": "ab7fd79c",
   "metadata": {
    "papermill": {
     "duration": 0.085471,
     "end_time": "2024-07-05T08:23:11.721350",
     "exception": false,
     "start_time": "2024-07-05T08:23:11.635879",
     "status": "completed"
    },
    "tags": []
   },
   "source": [
    "Booleans or \"bools\" are **True/False** values that result from logical statements."
   ]
  },
  {
   "cell_type": "code",
   "execution_count": 25,
   "id": "1dc23126",
   "metadata": {
    "execution": {
     "iopub.execute_input": "2024-07-05T08:23:11.894060Z",
     "iopub.status.busy": "2024-07-05T08:23:11.893729Z",
     "iopub.status.idle": "2024-07-05T08:23:11.899147Z",
     "shell.execute_reply": "2024-07-05T08:23:11.898314Z"
    },
    "papermill": {
     "duration": 0.094466,
     "end_time": "2024-07-05T08:23:11.901233",
     "exception": false,
     "start_time": "2024-07-05T08:23:11.806767",
     "status": "completed"
    },
    "tags": []
   },
   "outputs": [
    {
     "data": {
      "text/plain": [
       "bool"
      ]
     },
     "execution_count": 25,
     "metadata": {},
     "output_type": "execute_result"
    }
   ],
   "source": [
    "type(True)"
   ]
  },
  {
   "cell_type": "code",
   "execution_count": 26,
   "id": "e887efbb",
   "metadata": {
    "execution": {
     "iopub.execute_input": "2024-07-05T08:23:12.074073Z",
     "iopub.status.busy": "2024-07-05T08:23:12.073758Z",
     "iopub.status.idle": "2024-07-05T08:23:12.079287Z",
     "shell.execute_reply": "2024-07-05T08:23:12.078363Z"
    },
    "papermill": {
     "duration": 0.093935,
     "end_time": "2024-07-05T08:23:12.081195",
     "exception": false,
     "start_time": "2024-07-05T08:23:11.987260",
     "status": "completed"
    },
    "tags": []
   },
   "outputs": [
    {
     "data": {
      "text/plain": [
       "bool"
      ]
     },
     "execution_count": 26,
     "metadata": {},
     "output_type": "execute_result"
    }
   ],
   "source": [
    "type(False)"
   ]
  },
  {
   "cell_type": "code",
   "execution_count": 27,
   "id": "7c700bca",
   "metadata": {
    "execution": {
     "iopub.execute_input": "2024-07-05T08:23:12.254515Z",
     "iopub.status.busy": "2024-07-05T08:23:12.254146Z",
     "iopub.status.idle": "2024-07-05T08:23:12.259774Z",
     "shell.execute_reply": "2024-07-05T08:23:12.258923Z"
    },
    "papermill": {
     "duration": 0.093889,
     "end_time": "2024-07-05T08:23:12.261975",
     "exception": false,
     "start_time": "2024-07-05T08:23:12.168086",
     "status": "completed"
    },
    "tags": []
   },
   "outputs": [
    {
     "data": {
      "text/plain": [
       "True"
      ]
     },
     "execution_count": 27,
     "metadata": {},
     "output_type": "execute_result"
    }
   ],
   "source": [
    "isinstance(False, bool)"
   ]
  },
  {
   "cell_type": "code",
   "execution_count": 28,
   "id": "c8b1597a",
   "metadata": {
    "execution": {
     "iopub.execute_input": "2024-07-05T08:23:12.437276Z",
     "iopub.status.busy": "2024-07-05T08:23:12.436468Z",
     "iopub.status.idle": "2024-07-05T08:23:12.442217Z",
     "shell.execute_reply": "2024-07-05T08:23:12.441388Z"
    },
    "papermill": {
     "duration": 0.095524,
     "end_time": "2024-07-05T08:23:12.444132",
     "exception": false,
     "start_time": "2024-07-05T08:23:12.348608",
     "status": "completed"
    },
    "tags": []
   },
   "outputs": [
    {
     "data": {
      "text/plain": [
       "True"
      ]
     },
     "execution_count": 28,
     "metadata": {},
     "output_type": "execute_result"
    }
   ],
   "source": [
    "# Use > and < for greater than and less than:\n",
    "\n",
    "20 > 10"
   ]
  },
  {
   "cell_type": "code",
   "execution_count": 29,
   "id": "b8eea471",
   "metadata": {
    "execution": {
     "iopub.execute_input": "2024-07-05T08:23:12.617526Z",
     "iopub.status.busy": "2024-07-05T08:23:12.617161Z",
     "iopub.status.idle": "2024-07-05T08:23:12.622881Z",
     "shell.execute_reply": "2024-07-05T08:23:12.622016Z"
    },
    "papermill": {
     "duration": 0.09492,
     "end_time": "2024-07-05T08:23:12.624828",
     "exception": false,
     "start_time": "2024-07-05T08:23:12.529908",
     "status": "completed"
    },
    "tags": []
   },
   "outputs": [
    {
     "data": {
      "text/plain": [
       "True"
      ]
     },
     "execution_count": 29,
     "metadata": {},
     "output_type": "execute_result"
    }
   ],
   "source": [
    "# Use >= and <= for greater than or equal and less than or equal:\n",
    "\n",
    "20 >= 20"
   ]
  },
  {
   "cell_type": "code",
   "execution_count": 30,
   "id": "2d8bf6c3",
   "metadata": {
    "execution": {
     "iopub.execute_input": "2024-07-05T08:23:12.800590Z",
     "iopub.status.busy": "2024-07-05T08:23:12.799427Z",
     "iopub.status.idle": "2024-07-05T08:23:12.805501Z",
     "shell.execute_reply": "2024-07-05T08:23:12.804663Z"
    },
    "papermill": {
     "duration": 0.096024,
     "end_time": "2024-07-05T08:23:12.807559",
     "exception": false,
     "start_time": "2024-07-05T08:23:12.711535",
     "status": "completed"
    },
    "tags": []
   },
   "outputs": [
    {
     "data": {
      "text/plain": [
       "True"
      ]
     },
     "execution_count": 30,
     "metadata": {},
     "output_type": "execute_result"
    }
   ],
   "source": [
    "# Use == (two equal signs in a row) to check equality:\n",
    "\n",
    "30 == 30"
   ]
  },
  {
   "cell_type": "code",
   "execution_count": 31,
   "id": "dee9da8e",
   "metadata": {
    "execution": {
     "iopub.execute_input": "2024-07-05T08:23:12.981825Z",
     "iopub.status.busy": "2024-07-05T08:23:12.981452Z",
     "iopub.status.idle": "2024-07-05T08:23:12.987034Z",
     "shell.execute_reply": "2024-07-05T08:23:12.986218Z"
    },
    "papermill": {
     "duration": 0.093972,
     "end_time": "2024-07-05T08:23:12.988877",
     "exception": false,
     "start_time": "2024-07-05T08:23:12.894905",
     "status": "completed"
    },
    "tags": []
   },
   "outputs": [
    {
     "data": {
      "text/plain": [
       "True"
      ]
     },
     "execution_count": 31,
     "metadata": {},
     "output_type": "execute_result"
    }
   ],
   "source": [
    "40 == 40.0  # Equivalent ints and floats are considered equal"
   ]
  },
  {
   "cell_type": "code",
   "execution_count": 32,
   "id": "2cc5ba09",
   "metadata": {
    "execution": {
     "iopub.execute_input": "2024-07-05T08:23:13.164261Z",
     "iopub.status.busy": "2024-07-05T08:23:13.163561Z",
     "iopub.status.idle": "2024-07-05T08:23:13.169272Z",
     "shell.execute_reply": "2024-07-05T08:23:13.168413Z"
    },
    "papermill": {
     "duration": 0.094418,
     "end_time": "2024-07-05T08:23:13.171142",
     "exception": false,
     "start_time": "2024-07-05T08:23:13.076724",
     "status": "completed"
    },
    "tags": []
   },
   "outputs": [
    {
     "data": {
      "text/plain": [
       "True"
      ]
     },
     "execution_count": 32,
     "metadata": {},
     "output_type": "execute_result"
    }
   ],
   "source": [
    "# Use != to check inequality (!= as \"not equal to\")\n",
    "\n",
    "15 != 20"
   ]
  },
  {
   "cell_type": "code",
   "execution_count": 33,
   "id": "beba6b2e",
   "metadata": {
    "execution": {
     "iopub.execute_input": "2024-07-05T08:23:13.386241Z",
     "iopub.status.busy": "2024-07-05T08:23:13.385884Z",
     "iopub.status.idle": "2024-07-05T08:23:13.391465Z",
     "shell.execute_reply": "2024-07-05T08:23:13.390669Z"
    },
    "papermill": {
     "duration": 0.136034,
     "end_time": "2024-07-05T08:23:13.393409",
     "exception": false,
     "start_time": "2024-07-05T08:23:13.257375",
     "status": "completed"
    },
    "tags": []
   },
   "outputs": [
    {
     "data": {
      "text/plain": [
       "True"
      ]
     },
     "execution_count": 33,
     "metadata": {},
     "output_type": "execute_result"
    }
   ],
   "source": [
    "# Use the keyword \"not\" for negation:\n",
    "\n",
    "not False"
   ]
  },
  {
   "cell_type": "code",
   "execution_count": 34,
   "id": "4d4c05c8",
   "metadata": {
    "execution": {
     "iopub.execute_input": "2024-07-05T08:23:13.570007Z",
     "iopub.status.busy": "2024-07-05T08:23:13.569653Z",
     "iopub.status.idle": "2024-07-05T08:23:13.575525Z",
     "shell.execute_reply": "2024-07-05T08:23:13.574663Z"
    },
    "papermill": {
     "duration": 0.096321,
     "end_time": "2024-07-05T08:23:13.577347",
     "exception": false,
     "start_time": "2024-07-05T08:23:13.481026",
     "status": "completed"
    },
    "tags": []
   },
   "outputs": [
    {
     "data": {
      "text/plain": [
       "False"
      ]
     },
     "execution_count": 34,
     "metadata": {},
     "output_type": "execute_result"
    }
   ],
   "source": [
    "# Use the keyword \"and\" for logical and:\n",
    "\n",
    "(20 > 15) and (10 > 14)"
   ]
  },
  {
   "cell_type": "code",
   "execution_count": 35,
   "id": "136757fd",
   "metadata": {
    "execution": {
     "iopub.execute_input": "2024-07-05T08:23:13.756343Z",
     "iopub.status.busy": "2024-07-05T08:23:13.755770Z",
     "iopub.status.idle": "2024-07-05T08:23:13.761690Z",
     "shell.execute_reply": "2024-07-05T08:23:13.760848Z"
    },
    "papermill": {
     "duration": 0.097872,
     "end_time": "2024-07-05T08:23:13.763501",
     "exception": false,
     "start_time": "2024-07-05T08:23:13.665629",
     "status": "completed"
    },
    "tags": []
   },
   "outputs": [
    {
     "data": {
      "text/plain": [
       "True"
      ]
     },
     "execution_count": 35,
     "metadata": {},
     "output_type": "execute_result"
    }
   ],
   "source": [
    "# Use the keyword \"or\" for logical or:\n",
    "\n",
    "(10 >14) or (20 > 15)"
   ]
  },
  {
   "cell_type": "code",
   "execution_count": 36,
   "id": "e7126ccf",
   "metadata": {
    "execution": {
     "iopub.execute_input": "2024-07-05T08:23:13.941609Z",
     "iopub.status.busy": "2024-07-05T08:23:13.940706Z",
     "iopub.status.idle": "2024-07-05T08:23:13.946743Z",
     "shell.execute_reply": "2024-07-05T08:23:13.945886Z"
    },
    "papermill": {
     "duration": 0.097359,
     "end_time": "2024-07-05T08:23:13.948556",
     "exception": false,
     "start_time": "2024-07-05T08:23:13.851197",
     "status": "completed"
    },
    "tags": []
   },
   "outputs": [
    {
     "data": {
      "text/plain": [
       "True"
      ]
     },
     "execution_count": 36,
     "metadata": {},
     "output_type": "execute_result"
    }
   ],
   "source": [
    "20 > 15 or 10 > 14 and not True"
   ]
  },
  {
   "cell_type": "code",
   "execution_count": 37,
   "id": "913f1704",
   "metadata": {
    "execution": {
     "iopub.execute_input": "2024-07-05T08:23:14.126740Z",
     "iopub.status.busy": "2024-07-05T08:23:14.126366Z",
     "iopub.status.idle": "2024-07-05T08:23:14.132503Z",
     "shell.execute_reply": "2024-07-05T08:23:14.131689Z"
    },
    "papermill": {
     "duration": 0.098494,
     "end_time": "2024-07-05T08:23:14.134512",
     "exception": false,
     "start_time": "2024-07-05T08:23:14.036018",
     "status": "completed"
    },
    "tags": []
   },
   "outputs": [
    {
     "data": {
      "text/plain": [
       "False"
      ]
     },
     "execution_count": 37,
     "metadata": {},
     "output_type": "execute_result"
    }
   ],
   "source": [
    "((20 > 15) or (10 > 14)) and (not True)"
   ]
  },
  {
   "cell_type": "markdown",
   "id": "5d671eef",
   "metadata": {
    "papermill": {
     "duration": 0.086975,
     "end_time": "2024-07-05T08:23:14.309591",
     "exception": false,
     "start_time": "2024-07-05T08:23:14.222616",
     "status": "completed"
    },
    "tags": []
   },
   "source": [
    "You can convert numbers into boolean values using the **bool()** function. All numbers other than 0 convert to True:"
   ]
  },
  {
   "cell_type": "code",
   "execution_count": 38,
   "id": "5b022c6a",
   "metadata": {
    "execution": {
     "iopub.execute_input": "2024-07-05T08:23:14.486737Z",
     "iopub.status.busy": "2024-07-05T08:23:14.485887Z",
     "iopub.status.idle": "2024-07-05T08:23:14.491622Z",
     "shell.execute_reply": "2024-07-05T08:23:14.490813Z"
    },
    "papermill": {
     "duration": 0.097324,
     "end_time": "2024-07-05T08:23:14.493757",
     "exception": false,
     "start_time": "2024-07-05T08:23:14.396433",
     "status": "completed"
    },
    "tags": []
   },
   "outputs": [
    {
     "data": {
      "text/plain": [
       "True"
      ]
     },
     "execution_count": 38,
     "metadata": {},
     "output_type": "execute_result"
    }
   ],
   "source": [
    "bool(1)"
   ]
  },
  {
   "cell_type": "code",
   "execution_count": 39,
   "id": "4257bfa2",
   "metadata": {
    "execution": {
     "iopub.execute_input": "2024-07-05T08:23:14.669341Z",
     "iopub.status.busy": "2024-07-05T08:23:14.668994Z",
     "iopub.status.idle": "2024-07-05T08:23:14.674581Z",
     "shell.execute_reply": "2024-07-05T08:23:14.673684Z"
    },
    "papermill": {
     "duration": 0.095593,
     "end_time": "2024-07-05T08:23:14.676575",
     "exception": false,
     "start_time": "2024-07-05T08:23:14.580982",
     "status": "completed"
    },
    "tags": []
   },
   "outputs": [
    {
     "data": {
      "text/plain": [
       "True"
      ]
     },
     "execution_count": 39,
     "metadata": {},
     "output_type": "execute_result"
    }
   ],
   "source": [
    "bool(3)"
   ]
  },
  {
   "cell_type": "code",
   "execution_count": 40,
   "id": "16baa7a5",
   "metadata": {
    "execution": {
     "iopub.execute_input": "2024-07-05T08:23:14.853090Z",
     "iopub.status.busy": "2024-07-05T08:23:14.852751Z",
     "iopub.status.idle": "2024-07-05T08:23:14.858385Z",
     "shell.execute_reply": "2024-07-05T08:23:14.857529Z"
    },
    "papermill": {
     "duration": 0.09674,
     "end_time": "2024-07-05T08:23:14.860305",
     "exception": false,
     "start_time": "2024-07-05T08:23:14.763565",
     "status": "completed"
    },
    "tags": []
   },
   "outputs": [
    {
     "data": {
      "text/plain": [
       "False"
      ]
     },
     "execution_count": 40,
     "metadata": {},
     "output_type": "execute_result"
    }
   ],
   "source": [
    "bool(0)"
   ]
  },
  {
   "cell_type": "markdown",
   "id": "709fa04a",
   "metadata": {
    "papermill": {
     "duration": 0.086573,
     "end_time": "2024-07-05T08:23:15.035523",
     "exception": false,
     "start_time": "2024-07-05T08:23:14.948950",
     "status": "completed"
    },
    "tags": []
   },
   "source": [
    "# **Strings**"
   ]
  },
  {
   "cell_type": "markdown",
   "id": "c25d4d6a",
   "metadata": {
    "papermill": {
     "duration": 0.086606,
     "end_time": "2024-07-05T08:23:15.209001",
     "exception": false,
     "start_time": "2024-07-05T08:23:15.122395",
     "status": "completed"
    },
    "tags": []
   },
   "source": [
    "Text data is known as a string or \"**str**\"."
   ]
  },
  {
   "cell_type": "code",
   "execution_count": 41,
   "id": "f23df615",
   "metadata": {
    "execution": {
     "iopub.execute_input": "2024-07-05T08:23:15.384376Z",
     "iopub.status.busy": "2024-07-05T08:23:15.384026Z",
     "iopub.status.idle": "2024-07-05T08:23:15.389552Z",
     "shell.execute_reply": "2024-07-05T08:23:15.388704Z"
    },
    "papermill": {
     "duration": 0.095925,
     "end_time": "2024-07-05T08:23:15.391539",
     "exception": false,
     "start_time": "2024-07-05T08:23:15.295614",
     "status": "completed"
    },
    "tags": []
   },
   "outputs": [
    {
     "data": {
      "text/plain": [
       "str"
      ]
     },
     "execution_count": 41,
     "metadata": {},
     "output_type": "execute_result"
    }
   ],
   "source": [
    "type(\"car\")"
   ]
  },
  {
   "cell_type": "code",
   "execution_count": 42,
   "id": "ef1e7d10",
   "metadata": {
    "execution": {
     "iopub.execute_input": "2024-07-05T08:23:15.568218Z",
     "iopub.status.busy": "2024-07-05T08:23:15.567382Z",
     "iopub.status.idle": "2024-07-05T08:23:15.573521Z",
     "shell.execute_reply": "2024-07-05T08:23:15.572632Z"
    },
    "papermill": {
     "duration": 0.096555,
     "end_time": "2024-07-05T08:23:15.575595",
     "exception": false,
     "start_time": "2024-07-05T08:23:15.479040",
     "status": "completed"
    },
    "tags": []
   },
   "outputs": [
    {
     "data": {
      "text/plain": [
       "str"
      ]
     },
     "execution_count": 42,
     "metadata": {},
     "output_type": "execute_result"
    }
   ],
   "source": [
    "type('car')"
   ]
  },
  {
   "cell_type": "markdown",
   "id": "c995eb0c",
   "metadata": {
    "papermill": {
     "duration": 0.086596,
     "end_time": "2024-07-05T08:23:15.749880",
     "exception": false,
     "start_time": "2024-07-05T08:23:15.663284",
     "status": "completed"
    },
    "tags": []
   },
   "source": [
    "# **None**"
   ]
  },
  {
   "cell_type": "markdown",
   "id": "8ac3c77b",
   "metadata": {
    "papermill": {
     "duration": 0.086994,
     "end_time": "2024-07-05T08:23:15.923989",
     "exception": false,
     "start_time": "2024-07-05T08:23:15.836995",
     "status": "completed"
    },
    "tags": []
   },
   "source": [
    "In Python, \"**None**\" is a special data types that is often used to represent a missing value.\n",
    "\n",
    "For example, if you define a function that does not return anything (does not give you back some resulting value), it will return \"None\" bu default."
   ]
  },
  {
   "cell_type": "code",
   "execution_count": 43,
   "id": "18363b8d",
   "metadata": {
    "execution": {
     "iopub.execute_input": "2024-07-05T08:23:16.099657Z",
     "iopub.status.busy": "2024-07-05T08:23:16.098999Z",
     "iopub.status.idle": "2024-07-05T08:23:16.104712Z",
     "shell.execute_reply": "2024-07-05T08:23:16.103850Z"
    },
    "papermill": {
     "duration": 0.09552,
     "end_time": "2024-07-05T08:23:16.106698",
     "exception": false,
     "start_time": "2024-07-05T08:23:16.011178",
     "status": "completed"
    },
    "tags": []
   },
   "outputs": [
    {
     "data": {
      "text/plain": [
       "NoneType"
      ]
     },
     "execution_count": 43,
     "metadata": {},
     "output_type": "execute_result"
    }
   ],
   "source": [
    "type(None)"
   ]
  },
  {
   "cell_type": "code",
   "execution_count": 44,
   "id": "d894dd8b",
   "metadata": {
    "execution": {
     "iopub.execute_input": "2024-07-05T08:23:16.284625Z",
     "iopub.status.busy": "2024-07-05T08:23:16.283828Z",
     "iopub.status.idle": "2024-07-05T08:23:16.291126Z",
     "shell.execute_reply": "2024-07-05T08:23:16.289760Z"
    },
    "papermill": {
     "duration": 0.098606,
     "end_time": "2024-07-05T08:23:16.293394",
     "exception": false,
     "start_time": "2024-07-05T08:23:16.194788",
     "status": "completed"
    },
    "tags": []
   },
   "outputs": [
    {
     "name": "stdout",
     "output_type": "stream",
     "text": [
      "hello\n"
     ]
    },
    {
     "data": {
      "text/plain": [
       "True"
      ]
     },
     "execution_count": 44,
     "metadata": {},
     "output_type": "execute_result"
    }
   ],
   "source": [
    "# Define a function that prints the input but returns nothing*\n",
    "\n",
    "def my_function(x):\n",
    "    print(x)\n",
    "    \n",
    "my_function(\"hello\") == None  # The output of my_function equals None"
   ]
  },
  {
   "cell_type": "markdown",
   "id": "e372c90a",
   "metadata": {
    "papermill": {
     "duration": 0.109346,
     "end_time": "2024-07-05T08:23:16.490886",
     "exception": false,
     "start_time": "2024-07-05T08:23:16.381540",
     "status": "completed"
    },
    "tags": []
   },
   "source": [
    "# **Variables**"
   ]
  },
  {
   "cell_type": "markdown",
   "id": "063c7034",
   "metadata": {
    "papermill": {
     "duration": 0.093534,
     "end_time": "2024-07-05T08:23:16.685553",
     "exception": false,
     "start_time": "2024-07-05T08:23:16.592019",
     "status": "completed"
    },
    "tags": []
   },
   "source": [
    "In Python, assign variables using \"**=**\"."
   ]
  },
  {
   "cell_type": "code",
   "execution_count": 45,
   "id": "d07aed84",
   "metadata": {
    "execution": {
     "iopub.execute_input": "2024-07-05T08:23:16.885769Z",
     "iopub.status.busy": "2024-07-05T08:23:16.885397Z",
     "iopub.status.idle": "2024-07-05T08:23:16.891196Z",
     "shell.execute_reply": "2024-07-05T08:23:16.890217Z"
    },
    "papermill": {
     "duration": 0.116535,
     "end_time": "2024-07-05T08:23:16.893274",
     "exception": false,
     "start_time": "2024-07-05T08:23:16.776739",
     "status": "completed"
    },
    "tags": []
   },
   "outputs": [
    {
     "name": "stdout",
     "output_type": "stream",
     "text": [
      "10\n",
      "This is a string\n",
      "True\n"
     ]
    }
   ],
   "source": [
    "x = 10\n",
    "y = \"This is a string\"\n",
    "z = 144**0.5 == 12\n",
    "\n",
    "print(x)\n",
    "print(y)\n",
    "print(z)"
   ]
  },
  {
   "cell_type": "code",
   "execution_count": 46,
   "id": "21607b63",
   "metadata": {
    "execution": {
     "iopub.execute_input": "2024-07-05T08:23:17.074380Z",
     "iopub.status.busy": "2024-07-05T08:23:17.074037Z",
     "iopub.status.idle": "2024-07-05T08:23:17.078933Z",
     "shell.execute_reply": "2024-07-05T08:23:17.078067Z"
    },
    "papermill": {
     "duration": 0.097227,
     "end_time": "2024-07-05T08:23:17.080952",
     "exception": false,
     "start_time": "2024-07-05T08:23:16.983725",
     "status": "completed"
    },
    "tags": []
   },
   "outputs": [
    {
     "name": "stdout",
     "output_type": "stream",
     "text": [
      "23\n"
     ]
    }
   ],
   "source": [
    "p = 23\n",
    "print(p)"
   ]
  },
  {
   "cell_type": "code",
   "execution_count": 47,
   "id": "957f598a",
   "metadata": {
    "execution": {
     "iopub.execute_input": "2024-07-05T08:23:17.264477Z",
     "iopub.status.busy": "2024-07-05T08:23:17.264093Z",
     "iopub.status.idle": "2024-07-05T08:23:17.270899Z",
     "shell.execute_reply": "2024-07-05T08:23:17.269876Z"
    },
    "papermill": {
     "duration": 0.104711,
     "end_time": "2024-07-05T08:23:17.273091",
     "exception": false,
     "start_time": "2024-07-05T08:23:17.168380",
     "status": "completed"
    },
    "tags": []
   },
   "outputs": [
    {
     "data": {
      "text/plain": [
       "34"
      ]
     },
     "execution_count": 47,
     "metadata": {},
     "output_type": "execute_result"
    }
   ],
   "source": [
    "x + z + p"
   ]
  },
  {
   "cell_type": "code",
   "execution_count": 48,
   "id": "f7482510",
   "metadata": {
    "execution": {
     "iopub.execute_input": "2024-07-05T08:23:17.458218Z",
     "iopub.status.busy": "2024-07-05T08:23:17.457390Z",
     "iopub.status.idle": "2024-07-05T08:23:17.462281Z",
     "shell.execute_reply": "2024-07-05T08:23:17.461423Z"
    },
    "papermill": {
     "duration": 0.09872,
     "end_time": "2024-07-05T08:23:17.464535",
     "exception": false,
     "start_time": "2024-07-05T08:23:17.365815",
     "status": "completed"
    },
    "tags": []
   },
   "outputs": [
    {
     "name": "stdout",
     "output_type": "stream",
     "text": [
      "4\n",
      "4\n"
     ]
    }
   ],
   "source": [
    "n = m = 4\n",
    "print(n)\n",
    "print(m)"
   ]
  },
  {
   "cell_type": "code",
   "execution_count": 49,
   "id": "eed76894",
   "metadata": {
    "execution": {
     "iopub.execute_input": "2024-07-05T08:23:17.643165Z",
     "iopub.status.busy": "2024-07-05T08:23:17.642570Z",
     "iopub.status.idle": "2024-07-05T08:23:17.647664Z",
     "shell.execute_reply": "2024-07-05T08:23:17.646847Z"
    },
    "papermill": {
     "duration": 0.096831,
     "end_time": "2024-07-05T08:23:17.649832",
     "exception": false,
     "start_time": "2024-07-05T08:23:17.553001",
     "status": "completed"
    },
    "tags": []
   },
   "outputs": [
    {
     "name": "stdout",
     "output_type": "stream",
     "text": [
      "10\n",
      "20\n",
      "30\n"
     ]
    }
   ],
   "source": [
    "# Below is a method of extracting variables from a comma separated sequence, also known as \"tuple unpacking\"\n",
    "\n",
    "x, y, z = (10, 20, 30)\n",
    "\n",
    "print(x)\n",
    "print(y)\n",
    "print(z)"
   ]
  },
  {
   "cell_type": "code",
   "execution_count": 50,
   "id": "4fcf0250",
   "metadata": {
    "execution": {
     "iopub.execute_input": "2024-07-05T08:23:17.826655Z",
     "iopub.status.busy": "2024-07-05T08:23:17.826298Z",
     "iopub.status.idle": "2024-07-05T08:23:17.831172Z",
     "shell.execute_reply": "2024-07-05T08:23:17.830336Z"
    },
    "papermill": {
     "duration": 0.095732,
     "end_time": "2024-07-05T08:23:17.833243",
     "exception": false,
     "start_time": "2024-07-05T08:23:17.737511",
     "status": "completed"
    },
    "tags": []
   },
   "outputs": [
    {
     "name": "stdout",
     "output_type": "stream",
     "text": [
      "20\n",
      "10\n"
     ]
    }
   ],
   "source": [
    "# You also can swap the values of two variables using a similar syntax:\n",
    "\n",
    "(x, y) = (y, x)\n",
    "\n",
    "print(x)\n",
    "print(y)"
   ]
  },
  {
   "cell_type": "code",
   "execution_count": 51,
   "id": "76223807",
   "metadata": {
    "execution": {
     "iopub.execute_input": "2024-07-05T08:23:18.011610Z",
     "iopub.status.busy": "2024-07-05T08:23:18.011265Z",
     "iopub.status.idle": "2024-07-05T08:23:18.016308Z",
     "shell.execute_reply": "2024-07-05T08:23:18.015446Z"
    },
    "papermill": {
     "duration": 0.096931,
     "end_time": "2024-07-05T08:23:18.018366",
     "exception": false,
     "start_time": "2024-07-05T08:23:17.921435",
     "status": "completed"
    },
    "tags": []
   },
   "outputs": [
    {
     "name": "stdout",
     "output_type": "stream",
     "text": [
      "HELLO\n",
      "hello\n"
     ]
    }
   ],
   "source": [
    "x = \"HELLO\"   # Create a new string\n",
    "y = x         # Assign y the same object as x\n",
    "y = y.lower() # Assign y the result of y.lower()\n",
    "\n",
    "print(x)\n",
    "print(y)"
   ]
  },
  {
   "cell_type": "code",
   "execution_count": 52,
   "id": "beb1c464",
   "metadata": {
    "execution": {
     "iopub.execute_input": "2024-07-05T08:23:18.197876Z",
     "iopub.status.busy": "2024-07-05T08:23:18.197521Z",
     "iopub.status.idle": "2024-07-05T08:23:18.202354Z",
     "shell.execute_reply": "2024-07-05T08:23:18.201527Z"
    },
    "papermill": {
     "duration": 0.09801,
     "end_time": "2024-07-05T08:23:18.204914",
     "exception": false,
     "start_time": "2024-07-05T08:23:18.106904",
     "status": "completed"
    },
    "tags": []
   },
   "outputs": [
    {
     "name": "stdout",
     "output_type": "stream",
     "text": [
      "[1, 2, 3, 4]\n",
      "[1, 2, 3, 4]\n"
     ]
    }
   ],
   "source": [
    "x = [1, 2, 3]    # Create a new list\n",
    "y = x            # Assign y the same object as x\n",
    "y.append(4)      # Add 4 to the end of list y\n",
    "\n",
    "print(x)\n",
    "print(y)"
   ]
  },
  {
   "cell_type": "markdown",
   "id": "7a24439a",
   "metadata": {
    "papermill": {
     "duration": 0.133934,
     "end_time": "2024-07-05T08:23:18.427601",
     "exception": false,
     "start_time": "2024-07-05T08:23:18.293667",
     "status": "completed"
    },
    "tags": []
   },
   "source": [
    "# **Lists**"
   ]
  },
  {
   "cell_type": "markdown",
   "id": "5a353a44",
   "metadata": {
    "papermill": {
     "duration": 0.088217,
     "end_time": "2024-07-05T08:23:18.605122",
     "exception": false,
     "start_time": "2024-07-05T08:23:18.516905",
     "status": "completed"
    },
    "tags": []
   },
   "source": [
    "To construct a list is with a comma separated sequence of objects within **square brackets** \"[ ]\":"
   ]
  },
  {
   "cell_type": "markdown",
   "id": "07ebe035",
   "metadata": {
    "papermill": {
     "duration": 0.088047,
     "end_time": "2024-07-05T08:23:18.781499",
     "exception": false,
     "start_time": "2024-07-05T08:23:18.693452",
     "status": "completed"
    },
    "tags": []
   },
   "source": [
    "# List Basics"
   ]
  },
  {
   "cell_type": "code",
   "execution_count": 53,
   "id": "cdc8b32a",
   "metadata": {
    "execution": {
     "iopub.execute_input": "2024-07-05T08:23:18.959608Z",
     "iopub.status.busy": "2024-07-05T08:23:18.958986Z",
     "iopub.status.idle": "2024-07-05T08:23:18.963289Z",
     "shell.execute_reply": "2024-07-05T08:23:18.962522Z"
    },
    "papermill": {
     "duration": 0.09615,
     "end_time": "2024-07-05T08:23:18.965948",
     "exception": false,
     "start_time": "2024-07-05T08:23:18.869798",
     "status": "completed"
    },
    "tags": []
   },
   "outputs": [
    {
     "name": "stdout",
     "output_type": "stream",
     "text": [
      "['Lesson', 5, 'Python', True]\n"
     ]
    }
   ],
   "source": [
    "my_list = [\"Lesson\", 5, \"Python\", True]\n",
    "\n",
    "print(my_list)"
   ]
  },
  {
   "cell_type": "markdown",
   "id": "184d9709",
   "metadata": {
    "papermill": {
     "duration": 0.088118,
     "end_time": "2024-07-05T08:23:19.142239",
     "exception": false,
     "start_time": "2024-07-05T08:23:19.054121",
     "status": "completed"
    },
    "tags": []
   },
   "source": [
    "Alternatively, you can construct a list by passing some other iterable into the list() function."
   ]
  },
  {
   "cell_type": "code",
   "execution_count": 54,
   "id": "6cec2aa6",
   "metadata": {
    "execution": {
     "iopub.execute_input": "2024-07-05T08:23:19.320381Z",
     "iopub.status.busy": "2024-07-05T08:23:19.319552Z",
     "iopub.status.idle": "2024-07-05T08:23:19.324419Z",
     "shell.execute_reply": "2024-07-05T08:23:19.323459Z"
    },
    "papermill": {
     "duration": 0.095829,
     "end_time": "2024-07-05T08:23:19.326440",
     "exception": false,
     "start_time": "2024-07-05T08:23:19.230611",
     "status": "completed"
    },
    "tags": []
   },
   "outputs": [
    {
     "name": "stdout",
     "output_type": "stream",
     "text": [
      "['L', 'i', 's', 't', 's', ' ', 'o', 'f', ' ', 'P', 'y', 't', 'h', 'o', 'n']\n"
     ]
    }
   ],
   "source": [
    "second_list = list(\"Lists of Python\")  # Create a list from a string\n",
    "\n",
    "print(second_list)"
   ]
  },
  {
   "cell_type": "code",
   "execution_count": 55,
   "id": "c9c0e3c0",
   "metadata": {
    "execution": {
     "iopub.execute_input": "2024-07-05T08:23:19.509368Z",
     "iopub.status.busy": "2024-07-05T08:23:19.508766Z",
     "iopub.status.idle": "2024-07-05T08:23:19.513156Z",
     "shell.execute_reply": "2024-07-05T08:23:19.512352Z"
    },
    "papermill": {
     "duration": 0.097225,
     "end_time": "2024-07-05T08:23:19.515735",
     "exception": false,
     "start_time": "2024-07-05T08:23:19.418510",
     "status": "completed"
    },
    "tags": []
   },
   "outputs": [
    {
     "name": "stdout",
     "output_type": "stream",
     "text": [
      "[]\n"
     ]
    }
   ],
   "source": [
    "# A list with no content is known as the empty list:\n",
    "\n",
    "empty_list = []\n",
    "\n",
    "print(empty_list)"
   ]
  },
  {
   "cell_type": "markdown",
   "id": "9db61861",
   "metadata": {
    "papermill": {
     "duration": 0.088467,
     "end_time": "2024-07-05T08:23:19.708747",
     "exception": false,
     "start_time": "2024-07-05T08:23:19.620280",
     "status": "completed"
    },
    "tags": []
   },
   "source": [
    "You can add new an item to an existing list with the **list.append()** function:"
   ]
  },
  {
   "cell_type": "code",
   "execution_count": 56,
   "id": "a35ac463",
   "metadata": {
    "execution": {
     "iopub.execute_input": "2024-07-05T08:23:19.887339Z",
     "iopub.status.busy": "2024-07-05T08:23:19.886630Z",
     "iopub.status.idle": "2024-07-05T08:23:19.891332Z",
     "shell.execute_reply": "2024-07-05T08:23:19.890493Z"
    },
    "papermill": {
     "duration": 0.09619,
     "end_time": "2024-07-05T08:23:19.893508",
     "exception": false,
     "start_time": "2024-07-05T08:23:19.797318",
     "status": "completed"
    },
    "tags": []
   },
   "outputs": [
    {
     "name": "stdout",
     "output_type": "stream",
     "text": [
      "['It is now not empty']\n"
     ]
    }
   ],
   "source": [
    "empty_list.append(\"It is now not empty\")\n",
    "\n",
    "print(empty_list)"
   ]
  },
  {
   "cell_type": "markdown",
   "id": "668e947d",
   "metadata": {
    "papermill": {
     "duration": 0.088937,
     "end_time": "2024-07-05T08:23:20.071210",
     "exception": false,
     "start_time": "2024-07-05T08:23:19.982273",
     "status": "completed"
    },
    "tags": []
   },
   "source": [
    "Remove a matching item from a list with **list.remove()** function:"
   ]
  },
  {
   "cell_type": "code",
   "execution_count": 57,
   "id": "26950e7d",
   "metadata": {
    "execution": {
     "iopub.execute_input": "2024-07-05T08:23:20.251561Z",
     "iopub.status.busy": "2024-07-05T08:23:20.250826Z",
     "iopub.status.idle": "2024-07-05T08:23:20.255673Z",
     "shell.execute_reply": "2024-07-05T08:23:20.254765Z"
    },
    "papermill": {
     "duration": 0.097686,
     "end_time": "2024-07-05T08:23:20.257700",
     "exception": false,
     "start_time": "2024-07-05T08:23:20.160014",
     "status": "completed"
    },
    "tags": []
   },
   "outputs": [
    {
     "name": "stdout",
     "output_type": "stream",
     "text": [
      "['Lesson', 'Python', True]\n"
     ]
    }
   ],
   "source": [
    "my_list.remove(5)\n",
    "\n",
    "print(my_list)"
   ]
  },
  {
   "cell_type": "markdown",
   "id": "2ddaf874",
   "metadata": {
    "papermill": {
     "duration": 0.089422,
     "end_time": "2024-07-05T08:23:20.435272",
     "exception": false,
     "start_time": "2024-07-05T08:23:20.345850",
     "status": "completed"
    },
    "tags": []
   },
   "source": [
    "Join two lists together with the **+** operator:"
   ]
  },
  {
   "cell_type": "code",
   "execution_count": 58,
   "id": "d2a71822",
   "metadata": {
    "execution": {
     "iopub.execute_input": "2024-07-05T08:23:20.615374Z",
     "iopub.status.busy": "2024-07-05T08:23:20.614549Z",
     "iopub.status.idle": "2024-07-05T08:23:20.619900Z",
     "shell.execute_reply": "2024-07-05T08:23:20.619062Z"
    },
    "papermill": {
     "duration": 0.097682,
     "end_time": "2024-07-05T08:23:20.622037",
     "exception": false,
     "start_time": "2024-07-05T08:23:20.524355",
     "status": "completed"
    },
    "tags": []
   },
   "outputs": [
    {
     "name": "stdout",
     "output_type": "stream",
     "text": [
      "['Lesson', 'Python', True, 'It is now not empty']\n"
     ]
    }
   ],
   "source": [
    "combined_list = my_list + empty_list\n",
    "\n",
    "print(combined_list)"
   ]
  },
  {
   "cell_type": "markdown",
   "id": "dfff1427",
   "metadata": {
    "papermill": {
     "duration": 0.089283,
     "end_time": "2024-07-05T08:23:20.800582",
     "exception": false,
     "start_time": "2024-07-05T08:23:20.711299",
     "status": "completed"
    },
    "tags": []
   },
   "source": [
    "You can also add a sequence to the end of an existing list eith the **list.extend()** function:"
   ]
  },
  {
   "cell_type": "code",
   "execution_count": 59,
   "id": "d108d7d6",
   "metadata": {
    "execution": {
     "iopub.execute_input": "2024-07-05T08:23:20.979864Z",
     "iopub.status.busy": "2024-07-05T08:23:20.979230Z",
     "iopub.status.idle": "2024-07-05T08:23:20.984154Z",
     "shell.execute_reply": "2024-07-05T08:23:20.983253Z"
    },
    "papermill": {
     "duration": 0.096675,
     "end_time": "2024-07-05T08:23:20.986143",
     "exception": false,
     "start_time": "2024-07-05T08:23:20.889468",
     "status": "completed"
    },
    "tags": []
   },
   "outputs": [
    {
     "name": "stdout",
     "output_type": "stream",
     "text": [
      "['Lesson', 'Python', True, 'It is now not empty']\n"
     ]
    }
   ],
   "source": [
    "combined_list = my_list\n",
    "combined_list.extend(empty_list)\n",
    "\n",
    "print(combined_list)"
   ]
  },
  {
   "cell_type": "markdown",
   "id": "bc0234a9",
   "metadata": {
    "papermill": {
     "duration": 0.088259,
     "end_time": "2024-07-05T08:23:21.163259",
     "exception": false,
     "start_time": "2024-07-05T08:23:21.075000",
     "status": "completed"
    },
    "tags": []
   },
   "source": [
    "Check the length, maximum, minimum and sum of a list with the **len(), max(), min(), sum()** functions, respectively:"
   ]
  },
  {
   "cell_type": "code",
   "execution_count": 60,
   "id": "fae001a9",
   "metadata": {
    "execution": {
     "iopub.execute_input": "2024-07-05T08:23:21.342564Z",
     "iopub.status.busy": "2024-07-05T08:23:21.342213Z",
     "iopub.status.idle": "2024-07-05T08:23:21.348246Z",
     "shell.execute_reply": "2024-07-05T08:23:21.347322Z"
    },
    "papermill": {
     "duration": 0.098092,
     "end_time": "2024-07-05T08:23:21.350201",
     "exception": false,
     "start_time": "2024-07-05T08:23:21.252109",
     "status": "completed"
    },
    "tags": []
   },
   "outputs": [
    {
     "name": "stdout",
     "output_type": "stream",
     "text": [
      "8\n",
      "9\n",
      "1\n",
      "38\n",
      "4.75\n"
     ]
    }
   ],
   "source": [
    "num_list = [1, 3, 3, 5, 5, 5, 7, 9]\n",
    "print(len(num_list))                 # Check the length\n",
    "print(max(num_list))                 # Check the max\n",
    "print(min(num_list))                 # Check the min\n",
    "print(sum(num_list))                 # Check the sum\n",
    "print(sum(num_list)/len(num_list))   # Check the mean*"
   ]
  },
  {
   "cell_type": "markdown",
   "id": "4b681d88",
   "metadata": {
    "papermill": {
     "duration": 0.089582,
     "end_time": "2024-07-05T08:23:21.528168",
     "exception": false,
     "start_time": "2024-07-05T08:23:21.438586",
     "status": "completed"
    },
    "tags": []
   },
   "source": [
    "Note: Python does not have a built in function to calculate the mean, but the **NumPy** library it can.\n",
    "\n",
    "You can check whether a list contains a certain object with the \"**in**\" keyword:"
   ]
  },
  {
   "cell_type": "code",
   "execution_count": 61,
   "id": "c72c41b6",
   "metadata": {
    "execution": {
     "iopub.execute_input": "2024-07-05T08:23:21.707846Z",
     "iopub.status.busy": "2024-07-05T08:23:21.707058Z",
     "iopub.status.idle": "2024-07-05T08:23:21.712915Z",
     "shell.execute_reply": "2024-07-05T08:23:21.712062Z"
    },
    "papermill": {
     "duration": 0.097461,
     "end_time": "2024-07-05T08:23:21.714797",
     "exception": false,
     "start_time": "2024-07-05T08:23:21.617336",
     "status": "completed"
    },
    "tags": []
   },
   "outputs": [
    {
     "data": {
      "text/plain": [
       "True"
      ]
     },
     "execution_count": 61,
     "metadata": {},
     "output_type": "execute_result"
    }
   ],
   "source": [
    "1 in num_list"
   ]
  },
  {
   "cell_type": "markdown",
   "id": "b1101e37",
   "metadata": {
    "papermill": {
     "duration": 0.088624,
     "end_time": "2024-07-05T08:23:21.892718",
     "exception": false,
     "start_time": "2024-07-05T08:23:21.804094",
     "status": "completed"
    },
    "tags": []
   },
   "source": [
    "Add the keyword \"**not**\" to test whether a list does not contain an object:"
   ]
  },
  {
   "cell_type": "code",
   "execution_count": 62,
   "id": "d6ffb74d",
   "metadata": {
    "execution": {
     "iopub.execute_input": "2024-07-05T08:23:22.072580Z",
     "iopub.status.busy": "2024-07-05T08:23:22.071983Z",
     "iopub.status.idle": "2024-07-05T08:23:22.077389Z",
     "shell.execute_reply": "2024-07-05T08:23:22.076547Z"
    },
    "papermill": {
     "duration": 0.09813,
     "end_time": "2024-07-05T08:23:22.079515",
     "exception": false,
     "start_time": "2024-07-05T08:23:21.981385",
     "status": "completed"
    },
    "tags": []
   },
   "outputs": [
    {
     "data": {
      "text/plain": [
       "False"
      ]
     },
     "execution_count": 62,
     "metadata": {},
     "output_type": "execute_result"
    }
   ],
   "source": [
    "1 not in num_list"
   ]
  },
  {
   "cell_type": "markdown",
   "id": "b4a688a0",
   "metadata": {
    "papermill": {
     "duration": 0.089806,
     "end_time": "2024-07-05T08:23:22.304449",
     "exception": false,
     "start_time": "2024-07-05T08:23:22.214643",
     "status": "completed"
    },
    "tags": []
   },
   "source": [
    "Count the occurrences of an object within a list using the **list.count()** function:"
   ]
  },
  {
   "cell_type": "code",
   "execution_count": 63,
   "id": "6b971c8e",
   "metadata": {
    "execution": {
     "iopub.execute_input": "2024-07-05T08:23:22.485847Z",
     "iopub.status.busy": "2024-07-05T08:23:22.485029Z",
     "iopub.status.idle": "2024-07-05T08:23:22.490746Z",
     "shell.execute_reply": "2024-07-05T08:23:22.489877Z"
    },
    "papermill": {
     "duration": 0.09961,
     "end_time": "2024-07-05T08:23:22.492766",
     "exception": false,
     "start_time": "2024-07-05T08:23:22.393156",
     "status": "completed"
    },
    "tags": []
   },
   "outputs": [
    {
     "data": {
      "text/plain": [
       "2"
      ]
     },
     "execution_count": 63,
     "metadata": {},
     "output_type": "execute_result"
    }
   ],
   "source": [
    "num_list.count(3)"
   ]
  },
  {
   "cell_type": "markdown",
   "id": "e52401b2",
   "metadata": {
    "papermill": {
     "duration": 0.089542,
     "end_time": "2024-07-05T08:23:22.672452",
     "exception": false,
     "start_time": "2024-07-05T08:23:22.582910",
     "status": "completed"
    },
    "tags": []
   },
   "source": [
    "Other common list functions include **list.sort()** and **list.reverse()**:"
   ]
  },
  {
   "cell_type": "code",
   "execution_count": 64,
   "id": "cdbfc73d",
   "metadata": {
    "execution": {
     "iopub.execute_input": "2024-07-05T08:23:22.852594Z",
     "iopub.status.busy": "2024-07-05T08:23:22.851974Z",
     "iopub.status.idle": "2024-07-05T08:23:22.857464Z",
     "shell.execute_reply": "2024-07-05T08:23:22.856629Z"
    },
    "papermill": {
     "duration": 0.098194,
     "end_time": "2024-07-05T08:23:22.859455",
     "exception": false,
     "start_time": "2024-07-05T08:23:22.761261",
     "status": "completed"
    },
    "tags": []
   },
   "outputs": [
    {
     "name": "stdout",
     "output_type": "stream",
     "text": [
      "Reversed list: [6, 8, 4, 2, 8, 5, 1]\n",
      "Sorted list: [1, 2, 4, 5, 6, 8, 8]\n"
     ]
    }
   ],
   "source": [
    "new_list = [1, 5, 8, 2, 4, 8, 6]     # Make a new list\n",
    "\n",
    "new_list.reverse()                   # Reverse the list\n",
    "print(\"Reversed list:\", new_list)\n",
    "\n",
    "new_list.sort()                      # Sort the list\n",
    "print(\"Sorted list:\", new_list)"
   ]
  },
  {
   "cell_type": "markdown",
   "id": "312ba686",
   "metadata": {
    "papermill": {
     "duration": 0.090644,
     "end_time": "2024-07-05T08:23:23.039873",
     "exception": false,
     "start_time": "2024-07-05T08:23:22.949229",
     "status": "completed"
    },
    "tags": []
   },
   "source": [
    "# **Lists Indexing and Slicing**"
   ]
  },
  {
   "cell_type": "code",
   "execution_count": 65,
   "id": "e6091b77",
   "metadata": {
    "execution": {
     "iopub.execute_input": "2024-07-05T08:23:23.220165Z",
     "iopub.status.busy": "2024-07-05T08:23:23.219526Z",
     "iopub.status.idle": "2024-07-05T08:23:23.224739Z",
     "shell.execute_reply": "2024-07-05T08:23:23.223827Z"
    },
    "papermill": {
     "duration": 0.097321,
     "end_time": "2024-07-05T08:23:23.226781",
     "exception": false,
     "start_time": "2024-07-05T08:23:23.129460",
     "status": "completed"
    },
    "tags": []
   },
   "outputs": [
    {
     "name": "stdout",
     "output_type": "stream",
     "text": [
      "Hello\n",
      "practice\n"
     ]
    }
   ],
   "source": [
    "another_list = [\"Hello\", \"this\", \"is\", \"a\", \"practice\"]\n",
    "\n",
    "print(another_list[0])\n",
    "print(another_list[4])"
   ]
  },
  {
   "cell_type": "code",
   "execution_count": 66,
   "id": "3479951b",
   "metadata": {
    "execution": {
     "iopub.execute_input": "2024-07-05T08:23:23.407460Z",
     "iopub.status.busy": "2024-07-05T08:23:23.406682Z",
     "iopub.status.idle": "2024-07-05T08:23:23.411962Z",
     "shell.execute_reply": "2024-07-05T08:23:23.410782Z"
    },
    "papermill": {
     "duration": 0.097976,
     "end_time": "2024-07-05T08:23:23.413979",
     "exception": false,
     "start_time": "2024-07-05T08:23:23.316003",
     "status": "completed"
    },
    "tags": []
   },
   "outputs": [
    {
     "name": "stdout",
     "output_type": "stream",
     "text": [
      "practice\n",
      "is\n"
     ]
    }
   ],
   "source": [
    "print(another_list[-1])\n",
    "print(another_list[-3])"
   ]
  },
  {
   "cell_type": "markdown",
   "id": "764e6078",
   "metadata": {
    "papermill": {
     "duration": 0.089022,
     "end_time": "2024-07-05T08:23:23.593134",
     "exception": false,
     "start_time": "2024-07-05T08:23:23.504112",
     "status": "completed"
    },
    "tags": []
   },
   "source": [
    "Supplying an index outside of a lists range will result in an **IndexError**:"
   ]
  },
  {
   "cell_type": "code",
   "execution_count": 67,
   "id": "30bcb704",
   "metadata": {
    "execution": {
     "iopub.execute_input": "2024-07-05T08:23:23.773099Z",
     "iopub.status.busy": "2024-07-05T08:23:23.772318Z",
     "iopub.status.idle": "2024-07-05T08:23:24.092818Z",
     "shell.execute_reply": "2024-07-05T08:23:24.091701Z"
    },
    "papermill": {
     "duration": 0.411955,
     "end_time": "2024-07-05T08:23:24.094325",
     "exception": true,
     "start_time": "2024-07-05T08:23:23.682370",
     "status": "failed"
    },
    "tags": []
   },
   "outputs": [
    {
     "ename": "IndexError",
     "evalue": "list index out of range",
     "output_type": "error",
     "traceback": [
      "\u001b[0;31m---------------------------------------------------------------------------\u001b[0m",
      "\u001b[0;31mIndexError\u001b[0m                                Traceback (most recent call last)",
      "Cell \u001b[0;32mIn[67], line 1\u001b[0m\n\u001b[0;32m----> 1\u001b[0m \u001b[38;5;28mprint\u001b[39m(\u001b[43manother_list\u001b[49m\u001b[43m[\u001b[49m\u001b[38;5;241;43m6\u001b[39;49m\u001b[43m]\u001b[49m)\n",
      "\u001b[0;31mIndexError\u001b[0m: list index out of range"
     ]
    }
   ],
   "source": [
    "print(another_list[6])"
   ]
  },
  {
   "cell_type": "markdown",
   "id": "f2dfb7c9",
   "metadata": {
    "papermill": {
     "duration": null,
     "end_time": null,
     "exception": null,
     "start_time": null,
     "status": "pending"
    },
    "tags": []
   },
   "source": [
    "If your list contains other indexed objects, you can supply additional indexes to get items contained within the nested objects:"
   ]
  },
  {
   "cell_type": "code",
   "execution_count": null,
   "id": "dd6b886e",
   "metadata": {
    "execution": {
     "iopub.execute_input": "2024-07-02T13:12:08.418757Z",
     "iopub.status.busy": "2024-07-02T13:12:08.418342Z",
     "iopub.status.idle": "2024-07-02T13:12:08.424863Z",
     "shell.execute_reply": "2024-07-02T13:12:08.423904Z",
     "shell.execute_reply.started": "2024-07-02T13:12:08.418723Z"
    },
    "papermill": {
     "duration": null,
     "end_time": null,
     "exception": null,
     "start_time": null,
     "status": "pending"
    },
    "tags": []
   },
   "outputs": [],
   "source": [
    "nested_list = [[1, 2, 3], [4, 5, 6], [7, 8, 9]]\n",
    "\n",
    "print(nested_list[0][2])\n",
    "print(nested_list[1][1])\n",
    "print(nested_list[2][1])"
   ]
  },
  {
   "cell_type": "markdown",
   "id": "9a342795",
   "metadata": {
    "papermill": {
     "duration": null,
     "end_time": null,
     "exception": null,
     "start_time": null,
     "status": "pending"
    },
    "tags": []
   },
   "source": [
    "You can take a slice (sequential subset) of a list using the syntax **[start:stop:step]** where:\n",
    "* **start** and **stop** are the starting and ending indexes for the slice\n",
    "* **step** controls how frequently you sample values along the slice (default = 1; meaning you take all values in the range provided, starting from the list, up to but not including the last)"
   ]
  },
  {
   "cell_type": "code",
   "execution_count": null,
   "id": "cb5b4ec2",
   "metadata": {
    "execution": {
     "iopub.execute_input": "2024-07-02T13:15:48.633273Z",
     "iopub.status.busy": "2024-07-02T13:15:48.632890Z",
     "iopub.status.idle": "2024-07-02T13:15:48.638964Z",
     "shell.execute_reply": "2024-07-02T13:15:48.637707Z",
     "shell.execute_reply.started": "2024-07-02T13:15:48.633241Z"
    },
    "papermill": {
     "duration": null,
     "end_time": null,
     "exception": null,
     "start_time": null,
     "status": "pending"
    },
    "tags": []
   },
   "outputs": [],
   "source": [
    "my_slice = another_list[1:3]    # Slice index 1 and 2\n",
    "print(my_slice)"
   ]
  },
  {
   "cell_type": "code",
   "execution_count": null,
   "id": "27a93d1d",
   "metadata": {
    "execution": {
     "iopub.execute_input": "2024-07-02T13:18:23.062628Z",
     "iopub.status.busy": "2024-07-02T13:18:23.062257Z",
     "iopub.status.idle": "2024-07-02T13:18:23.068368Z",
     "shell.execute_reply": "2024-07-02T13:18:23.067246Z",
     "shell.execute_reply.started": "2024-07-02T13:18:23.062596Z"
    },
    "papermill": {
     "duration": null,
     "end_time": null,
     "exception": null,
     "start_time": null,
     "status": "pending"
    },
    "tags": []
   },
   "outputs": [],
   "source": [
    "# Slice the entire list  but use step size 2 to get every other item:\n",
    "\n",
    "my_slice = another_list[0:6:2]\n",
    "print(my_slice)"
   ]
  },
  {
   "cell_type": "markdown",
   "id": "ef143fac",
   "metadata": {
    "papermill": {
     "duration": null,
     "end_time": null,
     "exception": null,
     "start_time": null,
     "status": "pending"
    },
    "tags": []
   },
   "source": [
    "You can leave the starting or ending index blank to slice from the beginning or up to the end of the list respectively:"
   ]
  },
  {
   "cell_type": "code",
   "execution_count": null,
   "id": "a76434c3",
   "metadata": {
    "execution": {
     "iopub.execute_input": "2024-07-02T13:19:45.232574Z",
     "iopub.status.busy": "2024-07-02T13:19:45.231730Z",
     "iopub.status.idle": "2024-07-02T13:19:45.237795Z",
     "shell.execute_reply": "2024-07-02T13:19:45.236535Z",
     "shell.execute_reply.started": "2024-07-02T13:19:45.232535Z"
    },
    "papermill": {
     "duration": null,
     "end_time": null,
     "exception": null,
     "start_time": null,
     "status": "pending"
    },
    "tags": []
   },
   "outputs": [],
   "source": [
    "slice1 = another_list[:3]    # Slice everything up to index 4\n",
    "print(slice1)"
   ]
  },
  {
   "cell_type": "code",
   "execution_count": null,
   "id": "0b0818b3",
   "metadata": {
    "execution": {
     "iopub.execute_input": "2024-07-02T13:20:30.288103Z",
     "iopub.status.busy": "2024-07-02T13:20:30.287719Z",
     "iopub.status.idle": "2024-07-02T13:20:30.293974Z",
     "shell.execute_reply": "2024-07-02T13:20:30.292744Z",
     "shell.execute_reply.started": "2024-07-02T13:20:30.288072Z"
    },
    "papermill": {
     "duration": null,
     "end_time": null,
     "exception": null,
     "start_time": null,
     "status": "pending"
    },
    "tags": []
   },
   "outputs": [],
   "source": [
    "slice2 = another_list[3:]    # Slice everything from index 3 to the end\n",
    "print(slice2)"
   ]
  },
  {
   "cell_type": "markdown",
   "id": "4c330f5f",
   "metadata": {
    "papermill": {
     "duration": null,
     "end_time": null,
     "exception": null,
     "start_time": null,
     "status": "pending"
    },
    "tags": []
   },
   "source": [
    "If you provide a negative number as the step, the slice steps backward:"
   ]
  },
  {
   "cell_type": "code",
   "execution_count": null,
   "id": "d4d225bf",
   "metadata": {
    "execution": {
     "iopub.execute_input": "2024-07-02T13:21:48.170348Z",
     "iopub.status.busy": "2024-07-02T13:21:48.169532Z",
     "iopub.status.idle": "2024-07-02T13:21:48.175995Z",
     "shell.execute_reply": "2024-07-02T13:21:48.174997Z",
     "shell.execute_reply.started": "2024-07-02T13:21:48.170312Z"
    },
    "papermill": {
     "duration": null,
     "end_time": null,
     "exception": null,
     "start_time": null,
     "status": "pending"
    },
    "tags": []
   },
   "outputs": [],
   "source": [
    "# Take a slice starting at index 4, backward to index 2\n",
    "\n",
    "my_slice = another_list[4:2:-1]\n",
    "print(my_slice)"
   ]
  },
  {
   "cell_type": "markdown",
   "id": "ac1c7b8d",
   "metadata": {
    "papermill": {
     "duration": null,
     "end_time": null,
     "exception": null,
     "start_time": null,
     "status": "pending"
    },
    "tags": []
   },
   "source": [
    "If you do not provide a start or ending index, you slice of the entire list:"
   ]
  },
  {
   "cell_type": "code",
   "execution_count": null,
   "id": "96758e13",
   "metadata": {
    "execution": {
     "iopub.execute_input": "2024-07-02T13:22:57.917857Z",
     "iopub.status.busy": "2024-07-02T13:22:57.917484Z",
     "iopub.status.idle": "2024-07-02T13:22:57.923034Z",
     "shell.execute_reply": "2024-07-02T13:22:57.922122Z",
     "shell.execute_reply.started": "2024-07-02T13:22:57.917825Z"
    },
    "papermill": {
     "duration": null,
     "end_time": null,
     "exception": null,
     "start_time": null,
     "status": "pending"
    },
    "tags": []
   },
   "outputs": [],
   "source": [
    "my_slice = another_list[:]   # This slice operation copies the list\n",
    "print(my_slice)"
   ]
  },
  {
   "cell_type": "markdown",
   "id": "06dbae68",
   "metadata": {
    "papermill": {
     "duration": null,
     "end_time": null,
     "exception": null,
     "start_time": null,
     "status": "pending"
    },
    "tags": []
   },
   "source": [
    "Using a step of -1 without a starting or ending index slices the list in reverse, providing a shorthand to reverse a list:"
   ]
  },
  {
   "cell_type": "code",
   "execution_count": null,
   "id": "f2b1de55",
   "metadata": {
    "execution": {
     "iopub.execute_input": "2024-07-02T13:24:33.965198Z",
     "iopub.status.busy": "2024-07-02T13:24:33.964822Z",
     "iopub.status.idle": "2024-07-02T13:24:33.970848Z",
     "shell.execute_reply": "2024-07-02T13:24:33.969618Z",
     "shell.execute_reply.started": "2024-07-02T13:24:33.965167Z"
    },
    "papermill": {
     "duration": null,
     "end_time": null,
     "exception": null,
     "start_time": null,
     "status": "pending"
    },
    "tags": []
   },
   "outputs": [],
   "source": [
    "my_slice = another_list[::-1]  # This slice operation reverses the list\n",
    "print(my_slice)"
   ]
  },
  {
   "cell_type": "markdown",
   "id": "178e793d",
   "metadata": {
    "papermill": {
     "duration": null,
     "end_time": null,
     "exception": null,
     "start_time": null,
     "status": "pending"
    },
    "tags": []
   },
   "source": [
    "You can use indexing to **change the values within a list** or **delete items in a list**:"
   ]
  },
  {
   "cell_type": "code",
   "execution_count": null,
   "id": "e0da61ef",
   "metadata": {
    "execution": {
     "iopub.execute_input": "2024-07-02T13:26:52.611617Z",
     "iopub.status.busy": "2024-07-02T13:26:52.611238Z",
     "iopub.status.idle": "2024-07-02T13:26:52.617345Z",
     "shell.execute_reply": "2024-07-02T13:26:52.616334Z",
     "shell.execute_reply.started": "2024-07-02T13:26:52.611583Z"
    },
    "papermill": {
     "duration": null,
     "end_time": null,
     "exception": null,
     "start_time": null,
     "status": "pending"
    },
    "tags": []
   },
   "outputs": [],
   "source": [
    "another_list[3] = \"basic\"   # Set the value at index 3 to \"new\"\n",
    "print(another_list)\n",
    "\n",
    "del(another_list[3])        # Delete the item at index 3\n",
    "print(another_list)"
   ]
  },
  {
   "cell_type": "markdown",
   "id": "f3f098a1",
   "metadata": {
    "papermill": {
     "duration": null,
     "end_time": null,
     "exception": null,
     "start_time": null,
     "status": "pending"
    },
    "tags": []
   },
   "source": [
    "You can also remove items from a list using **list.pop()** function.\n",
    "\n",
    "pop() removes the final item in a list and returns it:"
   ]
  },
  {
   "cell_type": "code",
   "execution_count": null,
   "id": "8a9be326",
   "metadata": {
    "execution": {
     "iopub.execute_input": "2024-07-02T13:28:19.843783Z",
     "iopub.status.busy": "2024-07-02T13:28:19.843405Z",
     "iopub.status.idle": "2024-07-02T13:28:19.849011Z",
     "shell.execute_reply": "2024-07-02T13:28:19.847949Z",
     "shell.execute_reply.started": "2024-07-02T13:28:19.843753Z"
    },
    "papermill": {
     "duration": null,
     "end_time": null,
     "exception": null,
     "start_time": null,
     "status": "pending"
    },
    "tags": []
   },
   "outputs": [],
   "source": [
    "next_item = another_list.pop()\n",
    "\n",
    "print(next_item)\n",
    "print(another_list)"
   ]
  },
  {
   "cell_type": "markdown",
   "id": "7743be65",
   "metadata": {
    "papermill": {
     "duration": null,
     "end_time": null,
     "exception": null,
     "start_time": null,
     "status": "pending"
    },
    "tags": []
   },
   "source": [
    "Notices that the list resizes itself dynamically as you **delete** or **add** items to it. Appending items to lists and removing items from the end of list with **list.pop()** are very fast operations. Deleting or inserting items at the front of a list or within the body of a list is much slower."
   ]
  },
  {
   "cell_type": "markdown",
   "id": "2c56b127",
   "metadata": {
    "papermill": {
     "duration": null,
     "end_time": null,
     "exception": null,
     "start_time": null,
     "status": "pending"
    },
    "tags": []
   },
   "source": [
    "# Copying Lists"
   ]
  },
  {
   "cell_type": "markdown",
   "id": "ffd485b8",
   "metadata": {
    "papermill": {
     "duration": null,
     "end_time": null,
     "exception": null,
     "start_time": null,
     "status": "pending"
    },
    "tags": []
   },
   "source": [
    "We can slice an entire list using the [:] indexing operation.\n",
    "\n",
    "You can also copy a list using the **list.copy()** function:"
   ]
  },
  {
   "cell_type": "code",
   "execution_count": null,
   "id": "5c739d35",
   "metadata": {
    "execution": {
     "iopub.execute_input": "2024-07-02T13:35:09.353068Z",
     "iopub.status.busy": "2024-07-02T13:35:09.352311Z",
     "iopub.status.idle": "2024-07-02T13:35:09.358887Z",
     "shell.execute_reply": "2024-07-02T13:35:09.357733Z",
     "shell.execute_reply.started": "2024-07-02T13:35:09.353031Z"
    },
    "papermill": {
     "duration": null,
     "end_time": null,
     "exception": null,
     "start_time": null,
     "status": "pending"
    },
    "tags": []
   },
   "outputs": [],
   "source": [
    "list1 = [1, 2, 3]        # Make a list\n",
    "list2 = list1.copy()     # Copy the list\n",
    "list1.append(4)          # Add an item to list 1\n",
    "\n",
    "print(\"List1:\", list1)\n",
    "print(\"List2:\", list2)"
   ]
  },
  {
   "cell_type": "markdown",
   "id": "5277f6ca",
   "metadata": {
    "papermill": {
     "duration": null,
     "end_time": null,
     "exception": null,
     "start_time": null,
     "status": "pending"
    },
    "tags": []
   },
   "source": [
    "The copy was not affected by the append operation we performed on the original list.\n",
    "\n",
    "The copy function (and slicing an entire list with [:]) creates what is known as **a shallow copy**, which makes a new list where each list element refers to the object at the same position (index) in the original list."
   ]
  },
  {
   "cell_type": "code",
   "execution_count": null,
   "id": "23699183",
   "metadata": {
    "execution": {
     "iopub.execute_input": "2024-07-02T13:42:35.902936Z",
     "iopub.status.busy": "2024-07-02T13:42:35.902556Z",
     "iopub.status.idle": "2024-07-02T13:42:35.909948Z",
     "shell.execute_reply": "2024-07-02T13:42:35.908833Z",
     "shell.execute_reply.started": "2024-07-02T13:42:35.902903Z"
    },
    "papermill": {
     "duration": null,
     "end_time": null,
     "exception": null,
     "start_time": null,
     "status": "pending"
    },
    "tags": []
   },
   "outputs": [],
   "source": [
    "list1 = [1, 2, 3]                      # Make a new list\n",
    "list2 = [\"List within a list\", list1]  # Nest it in another list\n",
    "list3 = list2.copy()                   # Shallow copy list2\n",
    "\n",
    "print(\"Before appending to list1:\")\n",
    "print(\"List2:\", list2)\n",
    "print(\"List3:\", list3, \"\\n\")\n",
    "\n",
    "list1.append(4)                        # Add an item to list1\n",
    "print(\"After appending to list1:\")\n",
    "print(\"List2:\", list2)\n",
    "print(\"List3:\", list3)"
   ]
  },
  {
   "cell_type": "markdown",
   "id": "3801c683",
   "metadata": {
    "papermill": {
     "duration": null,
     "end_time": null,
     "exception": null,
     "start_time": null,
     "status": "pending"
    },
    "tags": []
   },
   "source": [
    "We use a shallow copy on list2, the second element of list2 and its copy both refer to list1. Thus, when we append a new value into list1, the second element of list2 and the copy, list3, both change.\n",
    "\n",
    "When you are working with nested lists, you have to make a **deepcopy** if you want to truly copy nested objects in the original to avoid this behavior of shallow copies.\n",
    "\n",
    "You can make a deep copy using the **deepcopy()** function in the copy library:"
   ]
  },
  {
   "cell_type": "code",
   "execution_count": null,
   "id": "24fd5633",
   "metadata": {
    "execution": {
     "iopub.execute_input": "2024-07-02T13:50:54.491793Z",
     "iopub.status.busy": "2024-07-02T13:50:54.491388Z",
     "iopub.status.idle": "2024-07-02T13:50:54.499083Z",
     "shell.execute_reply": "2024-07-02T13:50:54.497945Z",
     "shell.execute_reply.started": "2024-07-02T13:50:54.491762Z"
    },
    "papermill": {
     "duration": null,
     "end_time": null,
     "exception": null,
     "start_time": null,
     "status": "pending"
    },
    "tags": []
   },
   "outputs": [],
   "source": [
    "import copy                            # Load the copy module\n",
    "\n",
    "list1 = [1, 2, 3]                      # Make a new list\n",
    "list2 = [\"List within a list\", list1]  # Nest it in another list\n",
    "list3 = copy.deepcopy(list2)           # Deep copy list2\n",
    "\n",
    "print(\"Before appending to list1:\")\n",
    "print(list1)\n",
    "print(\"List2:\", list2)\n",
    "print(\"List3:\", list3, \"\\n\")\n",
    "\n",
    "list1.append(4)                        # Add an item to list1\n",
    "print(\"After appending to list1:\")\n",
    "print(list1)\n",
    "print(\"List2:\", list2)\n",
    "print(\"List3:\", list3)"
   ]
  },
  {
   "cell_type": "markdown",
   "id": "bc59c253",
   "metadata": {
    "papermill": {
     "duration": null,
     "end_time": null,
     "exception": null,
     "start_time": null,
     "status": "pending"
    },
    "tags": []
   },
   "source": [
    "# **Tuples and Strings**"
   ]
  },
  {
   "cell_type": "markdown",
   "id": "2bf4b1bf",
   "metadata": {
    "papermill": {
     "duration": null,
     "end_time": null,
     "exception": null,
     "start_time": null,
     "status": "pending"
    },
    "tags": []
   },
   "source": [
    "# Tuples"
   ]
  },
  {
   "cell_type": "markdown",
   "id": "c811197a",
   "metadata": {
    "papermill": {
     "duration": null,
     "end_time": null,
     "exception": null,
     "start_time": null,
     "status": "pending"
    },
    "tags": []
   },
   "source": [
    "Tuples are an immutable sequence data type that are commonly used to hold short collections of related data.\n",
    "\n",
    "For instance, if you are wanted to store latitude and longitude coordinates for cities, tuples might be a good choice due to its values are related and not likely to change.\n",
    "\n",
    "Same as lists, tuples can store objects of different types.\n",
    "\n",
    "Construct a tuple with a comma separated sequence of objects within **parenthess** \"( )\":"
   ]
  },
  {
   "cell_type": "code",
   "execution_count": null,
   "id": "7d8d709a",
   "metadata": {
    "execution": {
     "iopub.execute_input": "2024-07-02T14:00:12.144663Z",
     "iopub.status.busy": "2024-07-02T14:00:12.144305Z",
     "iopub.status.idle": "2024-07-02T14:00:12.149952Z",
     "shell.execute_reply": "2024-07-02T14:00:12.148745Z",
     "shell.execute_reply.started": "2024-07-02T14:00:12.144635Z"
    },
    "papermill": {
     "duration": null,
     "end_time": null,
     "exception": null,
     "start_time": null,
     "status": "pending"
    },
    "tags": []
   },
   "outputs": [],
   "source": [
    "my_tuple = (1, 3, 5)\n",
    "print(my_tuple)"
   ]
  },
  {
   "cell_type": "markdown",
   "id": "8c201853",
   "metadata": {
    "papermill": {
     "duration": null,
     "end_time": null,
     "exception": null,
     "start_time": null,
     "status": "pending"
    },
    "tags": []
   },
   "source": [
    "Alternatively, you can construct a tuple by passing an iterable into the **tuple()** function:"
   ]
  },
  {
   "cell_type": "code",
   "execution_count": null,
   "id": "584f060d",
   "metadata": {
    "execution": {
     "iopub.execute_input": "2024-07-02T14:02:09.552499Z",
     "iopub.status.busy": "2024-07-02T14:02:09.552129Z",
     "iopub.status.idle": "2024-07-02T14:02:09.559833Z",
     "shell.execute_reply": "2024-07-02T14:02:09.558570Z",
     "shell.execute_reply.started": "2024-07-02T14:02:09.552471Z"
    },
    "papermill": {
     "duration": null,
     "end_time": null,
     "exception": null,
     "start_time": null,
     "status": "pending"
    },
    "tags": []
   },
   "outputs": [],
   "source": [
    "my_list = [2, 3, 1, 5, 4]\n",
    "\n",
    "another_tuple = tuple(my_list)\n",
    "another_tuple"
   ]
  },
  {
   "cell_type": "markdown",
   "id": "9f3bf229",
   "metadata": {
    "papermill": {
     "duration": null,
     "end_time": null,
     "exception": null,
     "start_time": null,
     "status": "pending"
    },
    "tags": []
   },
   "source": [
    "Tuples generally support the same indexing and slicing operations as lists and they also support some of the same functions, with the caveat that **tuples cannot be changed after they created**.\n",
    "\n",
    "This means we can do things like find the length, max or min of a tuple, but **we cannot append new values to them** or **remove values from them**:"
   ]
  },
  {
   "cell_type": "code",
   "execution_count": null,
   "id": "b2d38672",
   "metadata": {
    "execution": {
     "iopub.execute_input": "2024-07-02T14:05:27.262019Z",
     "iopub.status.busy": "2024-07-02T14:05:27.261599Z",
     "iopub.status.idle": "2024-07-02T14:05:27.268503Z",
     "shell.execute_reply": "2024-07-02T14:05:27.267417Z",
     "shell.execute_reply.started": "2024-07-02T14:05:27.261988Z"
    },
    "papermill": {
     "duration": null,
     "end_time": null,
     "exception": null,
     "start_time": null,
     "status": "pending"
    },
    "tags": []
   },
   "outputs": [],
   "source": [
    "another_tuple[2]    # You can index into tuples"
   ]
  },
  {
   "cell_type": "code",
   "execution_count": null,
   "id": "714faf28",
   "metadata": {
    "execution": {
     "iopub.execute_input": "2024-07-02T14:06:11.486101Z",
     "iopub.status.busy": "2024-07-02T14:06:11.485701Z",
     "iopub.status.idle": "2024-07-02T14:06:11.492061Z",
     "shell.execute_reply": "2024-07-02T14:06:11.491175Z",
     "shell.execute_reply.started": "2024-07-02T14:06:11.486069Z"
    },
    "papermill": {
     "duration": null,
     "end_time": null,
     "exception": null,
     "start_time": null,
     "status": "pending"
    },
    "tags": []
   },
   "outputs": [],
   "source": [
    "another_tuple[2:4]   # You can slice tuples"
   ]
  },
  {
   "cell_type": "code",
   "execution_count": null,
   "id": "c42b877b",
   "metadata": {
    "execution": {
     "iopub.execute_input": "2024-07-02T14:07:12.727753Z",
     "iopub.status.busy": "2024-07-02T14:07:12.727359Z",
     "iopub.status.idle": "2024-07-02T14:07:12.733956Z",
     "shell.execute_reply": "2024-07-02T14:07:12.732771Z",
     "shell.execute_reply.started": "2024-07-02T14:07:12.727722Z"
    },
    "papermill": {
     "duration": null,
     "end_time": null,
     "exception": null,
     "start_time": null,
     "status": "pending"
    },
    "tags": []
   },
   "outputs": [],
   "source": [
    "# You can use common sequence functions on tuples:\n",
    "\n",
    "print(len(another_tuple))\n",
    "print(min(another_tuple))\n",
    "print(max(another_tuple))\n",
    "print(sum(another_tuple))\n",
    "print(sum(another_tuple)/len(another_tuple))"
   ]
  },
  {
   "cell_type": "code",
   "execution_count": null,
   "id": "4e48d301",
   "metadata": {
    "execution": {
     "iopub.execute_input": "2024-07-02T14:08:00.575664Z",
     "iopub.status.busy": "2024-07-02T14:08:00.575210Z",
     "iopub.status.idle": "2024-07-02T14:08:00.599534Z",
     "shell.execute_reply": "2024-07-02T14:08:00.598021Z",
     "shell.execute_reply.started": "2024-07-02T14:08:00.575631Z"
    },
    "papermill": {
     "duration": null,
     "end_time": null,
     "exception": null,
     "start_time": null,
     "status": "pending"
    },
    "tags": []
   },
   "outputs": [],
   "source": [
    "another_tuple.append(2)   # You cannot append to a tuple"
   ]
  },
  {
   "cell_type": "code",
   "execution_count": null,
   "id": "3a3ff21f",
   "metadata": {
    "execution": {
     "iopub.execute_input": "2024-07-02T14:08:39.134795Z",
     "iopub.status.busy": "2024-07-02T14:08:39.134423Z",
     "iopub.status.idle": "2024-07-02T14:08:39.158718Z",
     "shell.execute_reply": "2024-07-02T14:08:39.157038Z",
     "shell.execute_reply.started": "2024-07-02T14:08:39.134765Z"
    },
    "papermill": {
     "duration": null,
     "end_time": null,
     "exception": null,
     "start_time": null,
     "status": "pending"
    },
    "tags": []
   },
   "outputs": [],
   "source": [
    "del another_tuple[1]   # You cannot delete from a tuple"
   ]
  },
  {
   "cell_type": "markdown",
   "id": "e08a5716",
   "metadata": {
    "papermill": {
     "duration": null,
     "end_time": null,
     "exception": null,
     "start_time": null,
     "status": "pending"
    },
    "tags": []
   },
   "source": [
    "# String"
   ]
  },
  {
   "cell_type": "markdown",
   "id": "89986181",
   "metadata": {
    "papermill": {
     "duration": null,
     "end_time": null,
     "exception": null,
     "start_time": null,
     "status": "pending"
    },
    "tags": []
   },
   "source": [
    "Strings are technically sequences: immutable sequences of text characters.\n",
    "\n",
    "As sequences, they support indexing operations where the first character of a string is index 0. This means we can get individual letters or slices of letters with indexing:"
   ]
  },
  {
   "cell_type": "code",
   "execution_count": null,
   "id": "b372698b",
   "metadata": {
    "execution": {
     "iopub.execute_input": "2024-07-02T14:11:09.723590Z",
     "iopub.status.busy": "2024-07-02T14:11:09.723163Z",
     "iopub.status.idle": "2024-07-02T14:11:09.730512Z",
     "shell.execute_reply": "2024-07-02T14:11:09.729396Z",
     "shell.execute_reply.started": "2024-07-02T14:11:09.723551Z"
    },
    "papermill": {
     "duration": null,
     "end_time": null,
     "exception": null,
     "start_time": null,
     "status": "pending"
    },
    "tags": []
   },
   "outputs": [],
   "source": [
    "my_string = \"Basics Python for Data Analysis\"\n",
    "my_string[5]   # Get the character at index 5"
   ]
  },
  {
   "cell_type": "code",
   "execution_count": null,
   "id": "bff6230e",
   "metadata": {
    "execution": {
     "iopub.execute_input": "2024-07-02T14:11:38.780150Z",
     "iopub.status.busy": "2024-07-02T14:11:38.779766Z",
     "iopub.status.idle": "2024-07-02T14:11:38.786937Z",
     "shell.execute_reply": "2024-07-02T14:11:38.785776Z",
     "shell.execute_reply.started": "2024-07-02T14:11:38.780121Z"
    },
    "papermill": {
     "duration": null,
     "end_time": null,
     "exception": null,
     "start_time": null,
     "status": "pending"
    },
    "tags": []
   },
   "outputs": [],
   "source": [
    "my_string[4::]   # Slice from the forth index to the end"
   ]
  },
  {
   "cell_type": "code",
   "execution_count": null,
   "id": "d1be498d",
   "metadata": {
    "execution": {
     "iopub.execute_input": "2024-07-02T14:12:20.418669Z",
     "iopub.status.busy": "2024-07-02T14:12:20.418294Z",
     "iopub.status.idle": "2024-07-02T14:12:20.425192Z",
     "shell.execute_reply": "2024-07-02T14:12:20.424033Z",
     "shell.execute_reply.started": "2024-07-02T14:12:20.418638Z"
    },
    "papermill": {
     "duration": null,
     "end_time": null,
     "exception": null,
     "start_time": null,
     "status": "pending"
    },
    "tags": []
   },
   "outputs": [],
   "source": [
    "my_string[::-1]   # Reverse the string"
   ]
  },
  {
   "cell_type": "code",
   "execution_count": null,
   "id": "7fd3f82e",
   "metadata": {
    "execution": {
     "iopub.execute_input": "2024-07-02T14:12:29.979019Z",
     "iopub.status.busy": "2024-07-02T14:12:29.978580Z",
     "iopub.status.idle": "2024-07-02T14:12:29.985748Z",
     "shell.execute_reply": "2024-07-02T14:12:29.984551Z",
     "shell.execute_reply.started": "2024-07-02T14:12:29.978983Z"
    },
    "papermill": {
     "duration": null,
     "end_time": null,
     "exception": null,
     "start_time": null,
     "status": "pending"
    },
    "tags": []
   },
   "outputs": [],
   "source": [
    "len(my_string)"
   ]
  },
  {
   "cell_type": "code",
   "execution_count": null,
   "id": "257030d9",
   "metadata": {
    "execution": {
     "iopub.execute_input": "2024-07-02T14:13:02.425671Z",
     "iopub.status.busy": "2024-07-02T14:13:02.425320Z",
     "iopub.status.idle": "2024-07-02T14:13:02.432421Z",
     "shell.execute_reply": "2024-07-02T14:13:02.431413Z",
     "shell.execute_reply.started": "2024-07-02T14:13:02.425642Z"
    },
    "papermill": {
     "duration": null,
     "end_time": null,
     "exception": null,
     "start_time": null,
     "status": "pending"
    },
    "tags": []
   },
   "outputs": [],
   "source": [
    "my_string.count(\"a\")   # Count the a's in the string"
   ]
  },
  {
   "cell_type": "markdown",
   "id": "406b25c0",
   "metadata": {
    "papermill": {
     "duration": null,
     "end_time": null,
     "exception": null,
     "start_time": null,
     "status": "pending"
    },
    "tags": []
   },
   "source": [
    "As immutable objects, **you cannot change a string itself**:\n",
    "\n",
    "Every time you transform a string with a function, Python makes a new string object, rather than actually altering the original string that exists in yout computer's memory.\n",
    "\n",
    "Strings have many associated functions. Some basic string functions include:"
   ]
  },
  {
   "cell_type": "code",
   "execution_count": null,
   "id": "dc36594a",
   "metadata": {
    "execution": {
     "iopub.execute_input": "2024-07-02T14:16:11.153604Z",
     "iopub.status.busy": "2024-07-02T14:16:11.153234Z",
     "iopub.status.idle": "2024-07-02T14:16:11.159997Z",
     "shell.execute_reply": "2024-07-02T14:16:11.158997Z",
     "shell.execute_reply.started": "2024-07-02T14:16:11.153570Z"
    },
    "papermill": {
     "duration": null,
     "end_time": null,
     "exception": null,
     "start_time": null,
     "status": "pending"
    },
    "tags": []
   },
   "outputs": [],
   "source": [
    "# str.lower()\n",
    "\n",
    "my_string.lower()   # Make all characters lowercase"
   ]
  },
  {
   "cell_type": "code",
   "execution_count": null,
   "id": "367032cc",
   "metadata": {
    "execution": {
     "iopub.execute_input": "2024-07-02T14:16:43.594506Z",
     "iopub.status.busy": "2024-07-02T14:16:43.594135Z",
     "iopub.status.idle": "2024-07-02T14:16:43.601207Z",
     "shell.execute_reply": "2024-07-02T14:16:43.600091Z",
     "shell.execute_reply.started": "2024-07-02T14:16:43.594473Z"
    },
    "papermill": {
     "duration": null,
     "end_time": null,
     "exception": null,
     "start_time": null,
     "status": "pending"
    },
    "tags": []
   },
   "outputs": [],
   "source": [
    "# str.upper()\n",
    "\n",
    "my_string.upper()   # Make all characters uppercase"
   ]
  },
  {
   "cell_type": "code",
   "execution_count": null,
   "id": "a868844a",
   "metadata": {
    "execution": {
     "iopub.execute_input": "2024-07-02T14:17:39.844054Z",
     "iopub.status.busy": "2024-07-02T14:17:39.843632Z",
     "iopub.status.idle": "2024-07-02T14:17:39.850703Z",
     "shell.execute_reply": "2024-07-02T14:17:39.849447Z",
     "shell.execute_reply.started": "2024-07-02T14:17:39.844020Z"
    },
    "papermill": {
     "duration": null,
     "end_time": null,
     "exception": null,
     "start_time": null,
     "status": "pending"
    },
    "tags": []
   },
   "outputs": [],
   "source": [
    "# str.title()\n",
    "\n",
    "my_string.title()   # Make the first letter of each word capitalize"
   ]
  },
  {
   "cell_type": "markdown",
   "id": "922c4e66",
   "metadata": {
    "papermill": {
     "duration": null,
     "end_time": null,
     "exception": null,
     "start_time": null,
     "status": "pending"
    },
    "tags": []
   },
   "source": [
    "Find the index of the first appearing substring within a string using **str.find()**.\n",
    "\n",
    "If the substring does not appear, find() returns -1:"
   ]
  },
  {
   "cell_type": "code",
   "execution_count": null,
   "id": "553684eb",
   "metadata": {
    "execution": {
     "iopub.execute_input": "2024-07-02T14:20:12.498846Z",
     "iopub.status.busy": "2024-07-02T14:20:12.498445Z",
     "iopub.status.idle": "2024-07-02T14:20:12.505240Z",
     "shell.execute_reply": "2024-07-02T14:20:12.504183Z",
     "shell.execute_reply.started": "2024-07-02T14:20:12.498812Z"
    },
    "papermill": {
     "duration": null,
     "end_time": null,
     "exception": null,
     "start_time": null,
     "status": "pending"
    },
    "tags": []
   },
   "outputs": [],
   "source": [
    "my_string.find(\"C\")"
   ]
  },
  {
   "cell_type": "code",
   "execution_count": null,
   "id": "6eec6486",
   "metadata": {
    "execution": {
     "iopub.execute_input": "2024-07-02T14:19:28.406643Z",
     "iopub.status.busy": "2024-07-02T14:19:28.406262Z",
     "iopub.status.idle": "2024-07-02T14:19:28.413069Z",
     "shell.execute_reply": "2024-07-02T14:19:28.412042Z",
     "shell.execute_reply.started": "2024-07-02T14:19:28.406610Z"
    },
    "papermill": {
     "duration": null,
     "end_time": null,
     "exception": null,
     "start_time": null,
     "status": "pending"
    },
    "tags": []
   },
   "outputs": [],
   "source": [
    "my_string.find(\"c\")"
   ]
  },
  {
   "cell_type": "markdown",
   "id": "f9c1063d",
   "metadata": {
    "papermill": {
     "duration": null,
     "end_time": null,
     "exception": null,
     "start_time": null,
     "status": "pending"
    },
    "tags": []
   },
   "source": [
    "Find and replace a target substring within a string using **str.replace()**:"
   ]
  },
  {
   "cell_type": "code",
   "execution_count": null,
   "id": "b8c89219",
   "metadata": {
    "execution": {
     "iopub.execute_input": "2024-07-02T14:21:48.028213Z",
     "iopub.status.busy": "2024-07-02T14:21:48.027841Z",
     "iopub.status.idle": "2024-07-02T14:21:48.035082Z",
     "shell.execute_reply": "2024-07-02T14:21:48.033875Z",
     "shell.execute_reply.started": "2024-07-02T14:21:48.028176Z"
    },
    "papermill": {
     "duration": null,
     "end_time": null,
     "exception": null,
     "start_time": null,
     "status": "pending"
    },
    "tags": []
   },
   "outputs": [],
   "source": [
    "my_string.replace(\"for\", \"4\")   # Substring \"for\" is replaced by \"4\""
   ]
  },
  {
   "cell_type": "markdown",
   "id": "be617a7b",
   "metadata": {
    "papermill": {
     "duration": null,
     "end_time": null,
     "exception": null,
     "start_time": null,
     "status": "pending"
    },
    "tags": []
   },
   "source": [
    "Split a string into a list of substrings based on a given separating character with **str.split()**:"
   ]
  },
  {
   "cell_type": "code",
   "execution_count": null,
   "id": "7dd47bbe",
   "metadata": {
    "execution": {
     "iopub.execute_input": "2024-07-02T14:23:28.770644Z",
     "iopub.status.busy": "2024-07-02T14:23:28.769748Z",
     "iopub.status.idle": "2024-07-02T14:23:28.776845Z",
     "shell.execute_reply": "2024-07-02T14:23:28.775828Z",
     "shell.execute_reply.started": "2024-07-02T14:23:28.770602Z"
    },
    "papermill": {
     "duration": null,
     "end_time": null,
     "exception": null,
     "start_time": null,
     "status": "pending"
    },
    "tags": []
   },
   "outputs": [],
   "source": [
    "my_string.split()   # str.split() splits on spaces by default"
   ]
  },
  {
   "cell_type": "code",
   "execution_count": null,
   "id": "cff090ae",
   "metadata": {
    "execution": {
     "iopub.execute_input": "2024-07-02T14:24:10.723760Z",
     "iopub.status.busy": "2024-07-02T14:24:10.723365Z",
     "iopub.status.idle": "2024-07-02T14:24:10.730677Z",
     "shell.execute_reply": "2024-07-02T14:24:10.729604Z",
     "shell.execute_reply.started": "2024-07-02T14:24:10.723723Z"
    },
    "papermill": {
     "duration": null,
     "end_time": null,
     "exception": null,
     "start_time": null,
     "status": "pending"
    },
    "tags": []
   },
   "outputs": [],
   "source": [
    "my_string.split(\"a\")   # Supply a substring to split"
   ]
  },
  {
   "cell_type": "markdown",
   "id": "d7817ec5",
   "metadata": {
    "papermill": {
     "duration": null,
     "end_time": null,
     "exception": null,
     "start_time": null,
     "status": "pending"
    },
    "tags": []
   },
   "source": [
    "Split a multi-line string into a list of lines using **str.splitlines()**:"
   ]
  },
  {
   "cell_type": "code",
   "execution_count": null,
   "id": "43618afe",
   "metadata": {
    "execution": {
     "iopub.execute_input": "2024-07-02T14:25:41.291834Z",
     "iopub.status.busy": "2024-07-02T14:25:41.291123Z",
     "iopub.status.idle": "2024-07-02T14:25:41.298739Z",
     "shell.execute_reply": "2024-07-02T14:25:41.297694Z",
     "shell.execute_reply.started": "2024-07-02T14:25:41.291796Z"
    },
    "papermill": {
     "duration": null,
     "end_time": null,
     "exception": null,
     "start_time": null,
     "status": "pending"
    },
    "tags": []
   },
   "outputs": [],
   "source": [
    "multiline_string = \"\"\"Basics Python\n",
    "for\n",
    "Data Analysis\"\"\"\n",
    "\n",
    "multiline_string.splitlines()"
   ]
  },
  {
   "cell_type": "markdown",
   "id": "f3f55b80",
   "metadata": {
    "papermill": {
     "duration": null,
     "end_time": null,
     "exception": null,
     "start_time": null,
     "status": "pending"
    },
    "tags": []
   },
   "source": [
    "Strip leading and trailing characters from both ends of a string with **str.strip()**:"
   ]
  },
  {
   "cell_type": "code",
   "execution_count": null,
   "id": "7ab54168",
   "metadata": {
    "execution": {
     "iopub.execute_input": "2024-07-02T14:27:24.801125Z",
     "iopub.status.busy": "2024-07-02T14:27:24.800210Z",
     "iopub.status.idle": "2024-07-02T14:27:24.807277Z",
     "shell.execute_reply": "2024-07-02T14:27:24.806287Z",
     "shell.execute_reply.started": "2024-07-02T14:27:24.801086Z"
    },
    "papermill": {
     "duration": null,
     "end_time": null,
     "exception": null,
     "start_time": null,
     "status": "pending"
    },
    "tags": []
   },
   "outputs": [],
   "source": [
    "# str.strip() removes whitespace by default\n",
    "\n",
    "\"            strip white space!         \".strip()"
   ]
  },
  {
   "cell_type": "markdown",
   "id": "1893980e",
   "metadata": {
    "papermill": {
     "duration": null,
     "end_time": null,
     "exception": null,
     "start_time": null,
     "status": "pending"
    },
    "tags": []
   },
   "source": [
    "Override the default by supplying a string containing all characters you would like to strip as an argument to the function:"
   ]
  },
  {
   "cell_type": "code",
   "execution_count": null,
   "id": "bb7d7b3d",
   "metadata": {
    "execution": {
     "iopub.execute_input": "2024-07-02T14:28:58.415333Z",
     "iopub.status.busy": "2024-07-02T14:28:58.414986Z",
     "iopub.status.idle": "2024-07-02T14:28:58.421781Z",
     "shell.execute_reply": "2024-07-02T14:28:58.420646Z",
     "shell.execute_reply.started": "2024-07-02T14:28:58.415306Z"
    },
    "papermill": {
     "duration": null,
     "end_time": null,
     "exception": null,
     "start_time": null,
     "status": "pending"
    },
    "tags": []
   },
   "outputs": [],
   "source": [
    "\"xXxBuyNOWxxXXxXxXXXXx\".strip(\"xX\")"
   ]
  },
  {
   "cell_type": "markdown",
   "id": "84e6ad0f",
   "metadata": {
    "papermill": {
     "duration": null,
     "end_time": null,
     "exception": null,
     "start_time": null,
     "status": "pending"
    },
    "tags": []
   },
   "source": [
    "You can strip characters from the left or right sides only with **str.lstrip()** and **str.rstrip()** respectively.\n",
    "\n",
    "To join or concatenate two strings together, you can use the **plus** (+) operator:"
   ]
  },
  {
   "cell_type": "code",
   "execution_count": null,
   "id": "6c67e12c",
   "metadata": {
    "execution": {
     "iopub.execute_input": "2024-07-02T14:31:10.640595Z",
     "iopub.status.busy": "2024-07-02T14:31:10.640127Z",
     "iopub.status.idle": "2024-07-02T14:31:10.648224Z",
     "shell.execute_reply": "2024-07-02T14:31:10.647008Z",
     "shell.execute_reply.started": "2024-07-02T14:31:10.640553Z"
    },
    "papermill": {
     "duration": null,
     "end_time": null,
     "exception": null,
     "start_time": null,
     "status": "pending"
    },
    "tags": []
   },
   "outputs": [],
   "source": [
    "\"Basics \" + \"Python \" + \"for \" + \"Data \" + \"Analysis\""
   ]
  },
  {
   "cell_type": "markdown",
   "id": "88561a22",
   "metadata": {
    "papermill": {
     "duration": null,
     "end_time": null,
     "exception": null,
     "start_time": null,
     "status": "pending"
    },
    "tags": []
   },
   "source": [
    "Convert a list of strings into a single string separated by a given delimiter with **str.join()**:"
   ]
  },
  {
   "cell_type": "code",
   "execution_count": null,
   "id": "f0b5a99f",
   "metadata": {
    "execution": {
     "iopub.execute_input": "2024-07-02T14:33:06.558869Z",
     "iopub.status.busy": "2024-07-02T14:33:06.558447Z",
     "iopub.status.idle": "2024-07-02T14:33:06.566280Z",
     "shell.execute_reply": "2024-07-02T14:33:06.565092Z",
     "shell.execute_reply.started": "2024-07-02T14:33:06.558832Z"
    },
    "papermill": {
     "duration": null,
     "end_time": null,
     "exception": null,
     "start_time": null,
     "status": "pending"
    },
    "tags": []
   },
   "outputs": [],
   "source": [
    "\" \".join([\"Basics\", \"Python\", \"for\", \"Data\", \"Analysis\"])"
   ]
  },
  {
   "cell_type": "code",
   "execution_count": null,
   "id": "db04388f",
   "metadata": {
    "execution": {
     "iopub.execute_input": "2024-07-02T14:36:00.607452Z",
     "iopub.status.busy": "2024-07-02T14:36:00.606543Z",
     "iopub.status.idle": "2024-07-02T14:36:00.611723Z",
     "shell.execute_reply": "2024-07-02T14:36:00.610614Z",
     "shell.execute_reply.started": "2024-07-02T14:36:00.607411Z"
    },
    "papermill": {
     "duration": null,
     "end_time": null,
     "exception": null,
     "start_time": null,
     "status": "pending"
    },
    "tags": []
   },
   "outputs": [],
   "source": [
    "name = \"Jim\"\n",
    "age = 20\n",
    "city = \"Tokyo\""
   ]
  },
  {
   "cell_type": "markdown",
   "id": "a8998226",
   "metadata": {
    "papermill": {
     "duration": null,
     "end_time": null,
     "exception": null,
     "start_time": null,
     "status": "pending"
    },
    "tags": []
   },
   "source": [
    "For complex string operations of this sort is preferable to use the **str.format()** function or formatted strings.\n",
    "\n",
    "str.format() takes in a template string with **curly braces** \"{ }\" as placeholders for values you provide to the function as the arguments. The arguments are then filled into the appropriate placeholders in the string:"
   ]
  },
  {
   "cell_type": "code",
   "execution_count": null,
   "id": "4835eeef",
   "metadata": {
    "execution": {
     "iopub.execute_input": "2024-07-02T14:38:15.306077Z",
     "iopub.status.busy": "2024-07-02T14:38:15.305664Z",
     "iopub.status.idle": "2024-07-02T14:38:15.312873Z",
     "shell.execute_reply": "2024-07-02T14:38:15.311853Z",
     "shell.execute_reply.started": "2024-07-02T14:38:15.306042Z"
    },
    "papermill": {
     "duration": null,
     "end_time": null,
     "exception": null,
     "start_time": null,
     "status": "pending"
    },
    "tags": []
   },
   "outputs": [],
   "source": [
    "template_string = \"My name is {}, I am {} years old and live in {}\"\n",
    "\n",
    "template_string.format(name, age, city)"
   ]
  },
  {
   "cell_type": "markdown",
   "id": "c67e9e7f",
   "metadata": {
    "papermill": {
     "duration": null,
     "end_time": null,
     "exception": null,
     "start_time": null,
     "status": "pending"
    },
    "tags": []
   },
   "source": [
    "Formatted strings or **f-string** for short are an alternative, relatively new (as of Python version 3.6) method for string formatting.\n",
    "\n",
    "F-strings are strings prefixed with \"f\" (or \"F\") that allow you to insert existing variables into string by name by placing them within curly braces:"
   ]
  },
  {
   "cell_type": "code",
   "execution_count": null,
   "id": "e98552c2",
   "metadata": {
    "execution": {
     "iopub.execute_input": "2024-07-02T14:42:38.607351Z",
     "iopub.status.busy": "2024-07-02T14:42:38.606981Z",
     "iopub.status.idle": "2024-07-02T14:42:38.612860Z",
     "shell.execute_reply": "2024-07-02T14:42:38.611887Z",
     "shell.execute_reply.started": "2024-07-02T14:42:38.607318Z"
    },
    "papermill": {
     "duration": null,
     "end_time": null,
     "exception": null,
     "start_time": null,
     "status": "pending"
    },
    "tags": []
   },
   "outputs": [],
   "source": [
    "# Remaking template_string using an f-string\n",
    "\n",
    "template_string = (f\"My name is {name}, I am {age} years old and live in {city}\")\n",
    "print(template_string)"
   ]
  },
  {
   "cell_type": "markdown",
   "id": "2242c051",
   "metadata": {
    "papermill": {
     "duration": null,
     "end_time": null,
     "exception": null,
     "start_time": null,
     "status": "pending"
    },
    "tags": []
   },
   "source": [
    "*Notes: **lists, tuples and strings appear everywhere in Python code**, so it is essential to understand tha basics of how they work before we can start using Python for data analysis.*"
   ]
  },
  {
   "cell_type": "markdown",
   "id": "4894eaa9",
   "metadata": {
    "papermill": {
     "duration": null,
     "end_time": null,
     "exception": null,
     "start_time": null,
     "status": "pending"
    },
    "tags": []
   },
   "source": [
    "# **Dictionaries and Sets**"
   ]
  },
  {
   "cell_type": "markdown",
   "id": "a49170e7",
   "metadata": {
    "papermill": {
     "duration": null,
     "end_time": null,
     "exception": null,
     "start_time": null,
     "status": "pending"
    },
    "tags": []
   },
   "source": [
    "# Dictionaries"
   ]
  },
  {
   "cell_type": "markdown",
   "id": "aa4e9041",
   "metadata": {
    "papermill": {
     "duration": null,
     "end_time": null,
     "exception": null,
     "start_time": null,
     "status": "pending"
    },
    "tags": []
   },
   "source": [
    "A dictionary (dict) is an object that maps a set of named indexes called **keys** to a set of corresponding values.\n",
    "\n",
    "Dict are mutable, so you can add and remove keys and their associated values. **A dictionary's keys must be immutable objects, such as ints, strigs or tuples**, but the values can be anything.\n",
    "\n",
    "Create a dictionary with a comma-separated list of **key: value pairs** within **curly braces** \"{ }\":"
   ]
  },
  {
   "cell_type": "code",
   "execution_count": null,
   "id": "a1863589",
   "metadata": {
    "execution": {
     "iopub.execute_input": "2024-07-02T14:52:48.528777Z",
     "iopub.status.busy": "2024-07-02T14:52:48.528397Z",
     "iopub.status.idle": "2024-07-02T14:52:48.534427Z",
     "shell.execute_reply": "2024-07-02T14:52:48.533347Z",
     "shell.execute_reply.started": "2024-07-02T14:52:48.528746Z"
    },
    "papermill": {
     "duration": null,
     "end_time": null,
     "exception": null,
     "start_time": null,
     "status": "pending"
    },
    "tags": []
   },
   "outputs": [],
   "source": [
    "my_dict = {\"name\": \"Jim\",\n",
    "          \"age\": 20,\n",
    "          \"city\": \"Tokyo\"}\n",
    "\n",
    "print(my_dict)"
   ]
  },
  {
   "cell_type": "markdown",
   "id": "ddffaed8",
   "metadata": {
    "papermill": {
     "duration": null,
     "end_time": null,
     "exception": null,
     "start_time": null,
     "status": "pending"
    },
    "tags": []
   },
   "source": [
    "Notices that in the printed dictionary, the items do not appear in the same order as when we defined it, since dictionaries are unordered. Index into a dictionary using keys rather than numeric indexes:"
   ]
  },
  {
   "cell_type": "code",
   "execution_count": null,
   "id": "31ffa6c5",
   "metadata": {
    "execution": {
     "iopub.execute_input": "2024-07-02T14:55:35.154458Z",
     "iopub.status.busy": "2024-07-02T14:55:35.154086Z",
     "iopub.status.idle": "2024-07-02T14:55:35.160858Z",
     "shell.execute_reply": "2024-07-02T14:55:35.159777Z",
     "shell.execute_reply.started": "2024-07-02T14:55:35.154429Z"
    },
    "papermill": {
     "duration": null,
     "end_time": null,
     "exception": null,
     "start_time": null,
     "status": "pending"
    },
    "tags": []
   },
   "outputs": [],
   "source": [
    "my_dict[\"name\"]"
   ]
  },
  {
   "cell_type": "markdown",
   "id": "3c8c4184",
   "metadata": {
    "papermill": {
     "duration": null,
     "end_time": null,
     "exception": null,
     "start_time": null,
     "status": "pending"
    },
    "tags": []
   },
   "source": [
    "Add new items to an existing dictionary with the following syntax:"
   ]
  },
  {
   "cell_type": "code",
   "execution_count": null,
   "id": "c2c63d79",
   "metadata": {
    "execution": {
     "iopub.execute_input": "2024-07-02T14:56:56.301506Z",
     "iopub.status.busy": "2024-07-02T14:56:56.301136Z",
     "iopub.status.idle": "2024-07-02T14:56:56.307384Z",
     "shell.execute_reply": "2024-07-02T14:56:56.306171Z",
     "shell.execute_reply.started": "2024-07-02T14:56:56.301473Z"
    },
    "papermill": {
     "duration": null,
     "end_time": null,
     "exception": null,
     "start_time": null,
     "status": "pending"
    },
    "tags": []
   },
   "outputs": [],
   "source": [
    "my_dict[\"new_key\"] = \"new_value\"\n",
    "\n",
    "print(my_dict)"
   ]
  },
  {
   "cell_type": "code",
   "execution_count": null,
   "id": "13dfa630",
   "metadata": {
    "execution": {
     "iopub.execute_input": "2024-07-02T14:57:17.897090Z",
     "iopub.status.busy": "2024-07-02T14:57:17.896733Z",
     "iopub.status.idle": "2024-07-02T14:57:17.902349Z",
     "shell.execute_reply": "2024-07-02T14:57:17.901173Z",
     "shell.execute_reply.started": "2024-07-02T14:57:17.897062Z"
    },
    "papermill": {
     "duration": null,
     "end_time": null,
     "exception": null,
     "start_time": null,
     "status": "pending"
    },
    "tags": []
   },
   "outputs": [],
   "source": [
    "del my_dict[\"new_key\"]\n",
    "\n",
    "print(my_dict)"
   ]
  },
  {
   "cell_type": "markdown",
   "id": "db13ad82",
   "metadata": {
    "papermill": {
     "duration": null,
     "end_time": null,
     "exception": null,
     "start_time": null,
     "status": "pending"
    },
    "tags": []
   },
   "source": [
    "Check the number of items in a dictionary with **len()**:"
   ]
  },
  {
   "cell_type": "code",
   "execution_count": null,
   "id": "c47a9952",
   "metadata": {
    "execution": {
     "iopub.execute_input": "2024-07-02T14:57:59.877524Z",
     "iopub.status.busy": "2024-07-02T14:57:59.876566Z",
     "iopub.status.idle": "2024-07-02T14:57:59.883489Z",
     "shell.execute_reply": "2024-07-02T14:57:59.882397Z",
     "shell.execute_reply.started": "2024-07-02T14:57:59.877483Z"
    },
    "papermill": {
     "duration": null,
     "end_time": null,
     "exception": null,
     "start_time": null,
     "status": "pending"
    },
    "tags": []
   },
   "outputs": [],
   "source": [
    "len(my_dict)"
   ]
  },
  {
   "cell_type": "markdown",
   "id": "9ff1d2ea",
   "metadata": {
    "papermill": {
     "duration": null,
     "end_time": null,
     "exception": null,
     "start_time": null,
     "status": "pending"
    },
    "tags": []
   },
   "source": [
    "Check whether a certain key exists with \"**in**\":"
   ]
  },
  {
   "cell_type": "code",
   "execution_count": null,
   "id": "48d63bb0",
   "metadata": {
    "execution": {
     "iopub.execute_input": "2024-07-02T14:58:38.147783Z",
     "iopub.status.busy": "2024-07-02T14:58:38.147395Z",
     "iopub.status.idle": "2024-07-02T14:58:38.154079Z",
     "shell.execute_reply": "2024-07-02T14:58:38.153072Z",
     "shell.execute_reply.started": "2024-07-02T14:58:38.147749Z"
    },
    "papermill": {
     "duration": null,
     "end_time": null,
     "exception": null,
     "start_time": null,
     "status": "pending"
    },
    "tags": []
   },
   "outputs": [],
   "source": [
    "\"name\" in my_dict"
   ]
  },
  {
   "cell_type": "markdown",
   "id": "8f64c44d",
   "metadata": {
    "papermill": {
     "duration": null,
     "end_time": null,
     "exception": null,
     "start_time": null,
     "status": "pending"
    },
    "tags": []
   },
   "source": [
    "You can access\n",
    "* *all the keys* with the **.keys()**\n",
    "* *all the values* with the **.values()**\n",
    "* *all the key: value pairs of a dictionary* with the **.items()**"
   ]
  },
  {
   "cell_type": "code",
   "execution_count": null,
   "id": "5afc9623",
   "metadata": {
    "execution": {
     "iopub.execute_input": "2024-07-02T15:00:42.422642Z",
     "iopub.status.busy": "2024-07-02T15:00:42.422288Z",
     "iopub.status.idle": "2024-07-02T15:00:42.429874Z",
     "shell.execute_reply": "2024-07-02T15:00:42.428698Z",
     "shell.execute_reply.started": "2024-07-02T15:00:42.422613Z"
    },
    "papermill": {
     "duration": null,
     "end_time": null,
     "exception": null,
     "start_time": null,
     "status": "pending"
    },
    "tags": []
   },
   "outputs": [],
   "source": [
    "my_dict.keys()"
   ]
  },
  {
   "cell_type": "code",
   "execution_count": null,
   "id": "3ea206a4",
   "metadata": {
    "execution": {
     "iopub.execute_input": "2024-07-02T15:01:03.038789Z",
     "iopub.status.busy": "2024-07-02T15:01:03.038406Z",
     "iopub.status.idle": "2024-07-02T15:01:03.045552Z",
     "shell.execute_reply": "2024-07-02T15:01:03.044560Z",
     "shell.execute_reply.started": "2024-07-02T15:01:03.038757Z"
    },
    "papermill": {
     "duration": null,
     "end_time": null,
     "exception": null,
     "start_time": null,
     "status": "pending"
    },
    "tags": []
   },
   "outputs": [],
   "source": [
    "my_dict.values()"
   ]
  },
  {
   "cell_type": "code",
   "execution_count": null,
   "id": "d48c98f8",
   "metadata": {
    "execution": {
     "iopub.execute_input": "2024-07-02T15:01:10.373682Z",
     "iopub.status.busy": "2024-07-02T15:01:10.373313Z",
     "iopub.status.idle": "2024-07-02T15:01:10.380197Z",
     "shell.execute_reply": "2024-07-02T15:01:10.379172Z",
     "shell.execute_reply.started": "2024-07-02T15:01:10.373653Z"
    },
    "papermill": {
     "duration": null,
     "end_time": null,
     "exception": null,
     "start_time": null,
     "status": "pending"
    },
    "tags": []
   },
   "outputs": [],
   "source": [
    "my_dict.items()"
   ]
  },
  {
   "cell_type": "markdown",
   "id": "3a5177c9",
   "metadata": {
    "papermill": {
     "duration": null,
     "end_time": null,
     "exception": null,
     "start_time": null,
     "status": "pending"
    },
    "tags": []
   },
   "source": [
    "Real world data often comes in the form tables of rows and columns, where each column specifies a different data feature like name or age and each row represents an individual record.\n",
    "\n",
    "We can encode this sort of tabular data in a dictionary by **assigning each column label a key and then storing the column values as a list**.\n",
    "\n",
    "Consider the following data:\n",
    "\n",
    "| name    | age  | city   |\n",
    "| :---    | :--- | :---   |\n",
    "| Jim     | 20   | Tokyo  |\n",
    "| Shindi  | 24   | Berlin |\n",
    "| Thomas  | 28   | London |\n",
    "\n",
    "\n",
    "We can store this data in a dictionary like so:"
   ]
  },
  {
   "cell_type": "code",
   "execution_count": null,
   "id": "b7be406f",
   "metadata": {
    "execution": {
     "iopub.execute_input": "2024-07-02T15:13:44.912150Z",
     "iopub.status.busy": "2024-07-02T15:13:44.911787Z",
     "iopub.status.idle": "2024-07-02T15:13:44.917159Z",
     "shell.execute_reply": "2024-07-02T15:13:44.916122Z",
     "shell.execute_reply.started": "2024-07-02T15:13:44.912119Z"
    },
    "papermill": {
     "duration": null,
     "end_time": null,
     "exception": null,
     "start_time": null,
     "status": "pending"
    },
    "tags": []
   },
   "outputs": [],
   "source": [
    "my_table_dict = {\"name\": [\"Jim\", \"Shindi\", \"Thomas\"],\n",
    "                \"age\": [20, 24, 28],\n",
    "                \"city\": [\"Tokyo\", \"Berlin\", \"London\"]}"
   ]
  },
  {
   "cell_type": "markdown",
   "id": "d7eda260",
   "metadata": {
    "papermill": {
     "duration": null,
     "end_time": null,
     "exception": null,
     "start_time": null,
     "status": "pending"
    },
    "tags": []
   },
   "source": [
    "Certain data formats like XML and JSON have a **non-tabular, nested structure**.\n",
    "\n",
    "Python dictionaries can contain other dictionaries, so they can mirror this sort of nested structure, providing a convenient interface for working with these sorts of data formats in Python."
   ]
  },
  {
   "cell_type": "markdown",
   "id": "a5587b8c",
   "metadata": {
    "papermill": {
     "duration": null,
     "end_time": null,
     "exception": null,
     "start_time": null,
     "status": "pending"
    },
    "tags": []
   },
   "source": [
    "# Sets"
   ]
  },
  {
   "cell_type": "markdown",
   "id": "72c30c6c",
   "metadata": {
    "papermill": {
     "duration": null,
     "end_time": null,
     "exception": null,
     "start_time": null,
     "status": "pending"
    },
    "tags": []
   },
   "source": [
    "Sets are **unordered, mutable collections of immutable objects that cannot contain duplicates**.\n",
    "\n",
    "Sets are useful for **storing and performing operations on data** where **each value is unique**.\n",
    "\n",
    "Create a set within a comma-separated sequence of values within **curly braces** \"{ }\":"
   ]
  },
  {
   "cell_type": "code",
   "execution_count": null,
   "id": "fa25f0d7",
   "metadata": {
    "execution": {
     "iopub.execute_input": "2024-07-02T15:19:18.029885Z",
     "iopub.status.busy": "2024-07-02T15:19:18.029479Z",
     "iopub.status.idle": "2024-07-02T15:19:18.036512Z",
     "shell.execute_reply": "2024-07-02T15:19:18.035388Z",
     "shell.execute_reply.started": "2024-07-02T15:19:18.029845Z"
    },
    "papermill": {
     "duration": null,
     "end_time": null,
     "exception": null,
     "start_time": null,
     "status": "pending"
    },
    "tags": []
   },
   "outputs": [],
   "source": [
    "my_set = {1, 2, 3, 4, 5, 6, 7}\n",
    "\n",
    "type(my_set)"
   ]
  },
  {
   "cell_type": "markdown",
   "id": "ef74ae1d",
   "metadata": {
    "papermill": {
     "duration": null,
     "end_time": null,
     "exception": null,
     "start_time": null,
     "status": "pending"
    },
    "tags": []
   },
   "source": [
    "Add and remove items from a set with **.add()** and **.remove()** respectively:"
   ]
  },
  {
   "cell_type": "code",
   "execution_count": null,
   "id": "113f55aa",
   "metadata": {
    "execution": {
     "iopub.execute_input": "2024-07-02T15:19:20.109219Z",
     "iopub.status.busy": "2024-07-02T15:19:20.108857Z",
     "iopub.status.idle": "2024-07-02T15:19:20.114973Z",
     "shell.execute_reply": "2024-07-02T15:19:20.113832Z",
     "shell.execute_reply.started": "2024-07-02T15:19:20.109191Z"
    },
    "papermill": {
     "duration": null,
     "end_time": null,
     "exception": null,
     "start_time": null,
     "status": "pending"
    },
    "tags": []
   },
   "outputs": [],
   "source": [
    "my_set.add(8)\n",
    "\n",
    "print(my_set)"
   ]
  },
  {
   "cell_type": "code",
   "execution_count": null,
   "id": "88e7daa9",
   "metadata": {
    "execution": {
     "iopub.execute_input": "2024-07-02T15:19:35.121673Z",
     "iopub.status.busy": "2024-07-02T15:19:35.121291Z",
     "iopub.status.idle": "2024-07-02T15:19:35.126960Z",
     "shell.execute_reply": "2024-07-02T15:19:35.125828Z",
     "shell.execute_reply.started": "2024-07-02T15:19:35.121637Z"
    },
    "papermill": {
     "duration": null,
     "end_time": null,
     "exception": null,
     "start_time": null,
     "status": "pending"
    },
    "tags": []
   },
   "outputs": [],
   "source": [
    "my_set.remove(4)\n",
    "\n",
    "print(my_set)"
   ]
  },
  {
   "cell_type": "markdown",
   "id": "a08d49f9",
   "metadata": {
    "papermill": {
     "duration": null,
     "end_time": null,
     "exception": null,
     "start_time": null,
     "status": "pending"
    },
    "tags": []
   },
   "source": [
    "Set do not support indexing, but they do support basic sequence functions like **len(), min(), max() and sum()**.\n",
    "\n",
    "You can also check membership and non-membership as usual:"
   ]
  },
  {
   "cell_type": "code",
   "execution_count": null,
   "id": "128b6e4e",
   "metadata": {
    "execution": {
     "iopub.execute_input": "2024-07-02T15:21:02.258460Z",
     "iopub.status.busy": "2024-07-02T15:21:02.257780Z",
     "iopub.status.idle": "2024-07-02T15:21:02.264610Z",
     "shell.execute_reply": "2024-07-02T15:21:02.263466Z",
     "shell.execute_reply.started": "2024-07-02T15:21:02.258422Z"
    },
    "papermill": {
     "duration": null,
     "end_time": null,
     "exception": null,
     "start_time": null,
     "status": "pending"
    },
    "tags": []
   },
   "outputs": [],
   "source": [
    "6 in my_set"
   ]
  },
  {
   "cell_type": "code",
   "execution_count": null,
   "id": "e8bbde73",
   "metadata": {
    "execution": {
     "iopub.execute_input": "2024-07-02T15:21:07.107204Z",
     "iopub.status.busy": "2024-07-02T15:21:07.106818Z",
     "iopub.status.idle": "2024-07-02T15:21:07.113895Z",
     "shell.execute_reply": "2024-07-02T15:21:07.112951Z",
     "shell.execute_reply.started": "2024-07-02T15:21:07.107173Z"
    },
    "papermill": {
     "duration": null,
     "end_time": null,
     "exception": null,
     "start_time": null,
     "status": "pending"
    },
    "tags": []
   },
   "outputs": [],
   "source": [
    "4 in my_set"
   ]
  },
  {
   "cell_type": "markdown",
   "id": "a409491b",
   "metadata": {
    "papermill": {
     "duration": null,
     "end_time": null,
     "exception": null,
     "start_time": null,
     "status": "pending"
    },
    "tags": []
   },
   "source": [
    "One of the main purposes of sets is to perform set operations that compare or combine different sets. Python sets support many common mathematical set operations like union, intersection, difference and checking whether one set is a subset of another:\n",
    "\n",
    "It means that sets do not have duplicate data."
   ]
  },
  {
   "cell_type": "code",
   "execution_count": null,
   "id": "804f896e",
   "metadata": {
    "execution": {
     "iopub.execute_input": "2024-07-02T15:23:45.815724Z",
     "iopub.status.busy": "2024-07-02T15:23:45.814762Z",
     "iopub.status.idle": "2024-07-02T15:23:45.822654Z",
     "shell.execute_reply": "2024-07-02T15:23:45.821515Z",
     "shell.execute_reply.started": "2024-07-02T15:23:45.815655Z"
    },
    "papermill": {
     "duration": null,
     "end_time": null,
     "exception": null,
     "start_time": null,
     "status": "pending"
    },
    "tags": []
   },
   "outputs": [],
   "source": [
    "set1 = {1, 3, 5, 7}\n",
    "set2 = {1, 2, 3, 4}\n",
    "\n",
    "set1.union(set2)    # Get the union of two sets"
   ]
  },
  {
   "cell_type": "code",
   "execution_count": null,
   "id": "6de6bbb6",
   "metadata": {
    "execution": {
     "iopub.execute_input": "2024-07-02T15:23:54.790022Z",
     "iopub.status.busy": "2024-07-02T15:23:54.789605Z",
     "iopub.status.idle": "2024-07-02T15:23:54.796346Z",
     "shell.execute_reply": "2024-07-02T15:23:54.795359Z",
     "shell.execute_reply.started": "2024-07-02T15:23:54.789990Z"
    },
    "papermill": {
     "duration": null,
     "end_time": null,
     "exception": null,
     "start_time": null,
     "status": "pending"
    },
    "tags": []
   },
   "outputs": [],
   "source": [
    "set1.intersection(set2)"
   ]
  },
  {
   "cell_type": "code",
   "execution_count": null,
   "id": "6545b92d",
   "metadata": {
    "execution": {
     "iopub.execute_input": "2024-07-02T15:26:25.810727Z",
     "iopub.status.busy": "2024-07-02T15:26:25.809819Z",
     "iopub.status.idle": "2024-07-02T15:26:25.817118Z",
     "shell.execute_reply": "2024-07-02T15:26:25.815941Z",
     "shell.execute_reply.started": "2024-07-02T15:26:25.810677Z"
    },
    "papermill": {
     "duration": null,
     "end_time": null,
     "exception": null,
     "start_time": null,
     "status": "pending"
    },
    "tags": []
   },
   "outputs": [],
   "source": [
    "set2.difference(set1)"
   ]
  },
  {
   "cell_type": "code",
   "execution_count": null,
   "id": "4a239cd4",
   "metadata": {
    "execution": {
     "iopub.execute_input": "2024-07-02T15:26:37.964724Z",
     "iopub.status.busy": "2024-07-02T15:26:37.963337Z",
     "iopub.status.idle": "2024-07-02T15:26:37.970479Z",
     "shell.execute_reply": "2024-07-02T15:26:37.969518Z",
     "shell.execute_reply.started": "2024-07-02T15:26:37.964668Z"
    },
    "papermill": {
     "duration": null,
     "end_time": null,
     "exception": null,
     "start_time": null,
     "status": "pending"
    },
    "tags": []
   },
   "outputs": [],
   "source": [
    "{2, 4}.issubset(set2)   # Check whether set1 is a subset of set2"
   ]
  },
  {
   "cell_type": "markdown",
   "id": "c152961b",
   "metadata": {
    "papermill": {
     "duration": null,
     "end_time": null,
     "exception": null,
     "start_time": null,
     "status": "pending"
    },
    "tags": []
   },
   "source": [
    "You can convert a list into a set using the **set()** function.\n",
    "\n",
    "Converting a list to a set drops any duplicate elements in the list. This can be a useful way to strip unwanted duplicate items or count the number of unique elements in a list. It can also be useful to convert a list to a set if you plan to lookup items repeatedly, since membership lookups are faster with sets than lists."
   ]
  },
  {
   "cell_type": "code",
   "execution_count": null,
   "id": "ff00e1b0",
   "metadata": {
    "execution": {
     "iopub.execute_input": "2024-07-02T15:30:51.763004Z",
     "iopub.status.busy": "2024-07-02T15:30:51.762610Z",
     "iopub.status.idle": "2024-07-02T15:30:51.769930Z",
     "shell.execute_reply": "2024-07-02T15:30:51.768978Z",
     "shell.execute_reply.started": "2024-07-02T15:30:51.762969Z"
    },
    "papermill": {
     "duration": null,
     "end_time": null,
     "exception": null,
     "start_time": null,
     "status": "pending"
    },
    "tags": []
   },
   "outputs": [],
   "source": [
    "my_list = [1, 1, 2, 2, 2, 2, 2, 3, 4, 4, 4, 5, 5, 5, 5, 6, 6]\n",
    "\n",
    "set(my_list)"
   ]
  },
  {
   "cell_type": "code",
   "execution_count": null,
   "id": "93638377",
   "metadata": {
    "execution": {
     "iopub.execute_input": "2024-07-02T15:31:00.064527Z",
     "iopub.status.busy": "2024-07-02T15:31:00.063630Z",
     "iopub.status.idle": "2024-07-02T15:31:00.071163Z",
     "shell.execute_reply": "2024-07-02T15:31:00.070175Z",
     "shell.execute_reply.started": "2024-07-02T15:31:00.064490Z"
    },
    "papermill": {
     "duration": null,
     "end_time": null,
     "exception": null,
     "start_time": null,
     "status": "pending"
    },
    "tags": []
   },
   "outputs": [],
   "source": [
    "my_list = [1, 1, 2, 2, 2, 2, 2, 3, 4, 4, 4, 5, 5, 5, 5, 6, 6]\n",
    "\n",
    "list(set(my_list))"
   ]
  },
  {
   "cell_type": "markdown",
   "id": "ce09f864",
   "metadata": {
    "papermill": {
     "duration": null,
     "end_time": null,
     "exception": null,
     "start_time": null,
     "status": "pending"
    },
    "tags": []
   },
   "source": [
    "# **Numpy Arrays**"
   ]
  },
  {
   "cell_type": "markdown",
   "id": "1e2f39bd",
   "metadata": {
    "papermill": {
     "duration": null,
     "end_time": null,
     "exception": null,
     "start_time": null,
     "status": "pending"
    },
    "tags": []
   },
   "source": [
    "# Numpy and Array Basics"
   ]
  },
  {
   "cell_type": "markdown",
   "id": "e197665c",
   "metadata": {
    "papermill": {
     "duration": null,
     "end_time": null,
     "exception": null,
     "start_time": null,
     "status": "pending"
    },
    "tags": []
   },
   "source": [
    "The numpy library is one of the core packages in Python's data science software stack. Many other Python data analysis libraries require numpy as a prerequisite because they use its array data structure as a building block.\n",
    "\n",
    "Numpy implements a data structure called the **N-dimensional array (ndarray)**.\n",
    "ndarrays are similar to lists in that they contain a collection of items that can be accessed via indexes.\n",
    "ndarrays are homogeneous (can only contain objects of the samy type and they can be multi-dimensional, making it easy to store 2-dimensional tables or matrices).\n",
    "\n",
    "To work with ndarrays, we need to load the numpy library. It is standard practice to load numpy with the alias \"**np**\" like so:"
   ]
  },
  {
   "cell_type": "code",
   "execution_count": null,
   "id": "ee526c3d",
   "metadata": {
    "execution": {
     "iopub.execute_input": "2024-07-03T00:43:43.325869Z",
     "iopub.status.busy": "2024-07-03T00:43:43.324936Z",
     "iopub.status.idle": "2024-07-03T00:43:43.336367Z",
     "shell.execute_reply": "2024-07-03T00:43:43.335492Z",
     "shell.execute_reply.started": "2024-07-03T00:43:43.325832Z"
    },
    "papermill": {
     "duration": null,
     "end_time": null,
     "exception": null,
     "start_time": null,
     "status": "pending"
    },
    "tags": []
   },
   "outputs": [],
   "source": [
    "import numpy as np"
   ]
  },
  {
   "cell_type": "markdown",
   "id": "ad206f1a",
   "metadata": {
    "papermill": {
     "duration": null,
     "end_time": null,
     "exception": null,
     "start_time": null,
     "status": "pending"
    },
    "tags": []
   },
   "source": [
    "Create an ndarray by passing a list to **np.array()** function:"
   ]
  },
  {
   "cell_type": "code",
   "execution_count": null,
   "id": "0bbc8f3a",
   "metadata": {
    "execution": {
     "iopub.execute_input": "2024-07-03T00:45:34.807700Z",
     "iopub.status.busy": "2024-07-03T00:45:34.806891Z",
     "iopub.status.idle": "2024-07-03T00:45:34.814106Z",
     "shell.execute_reply": "2024-07-03T00:45:34.813234Z",
     "shell.execute_reply.started": "2024-07-03T00:45:34.807669Z"
    },
    "papermill": {
     "duration": null,
     "end_time": null,
     "exception": null,
     "start_time": null,
     "status": "pending"
    },
    "tags": []
   },
   "outputs": [],
   "source": [
    "my_list = [1, 2, 3, 4]          # Define a list\n",
    "my_array = np.array(my_list)    # Pass the list to np.array()\n",
    "type(my_array)                  # Check the object's type"
   ]
  },
  {
   "cell_type": "markdown",
   "id": "e38c8cd8",
   "metadata": {
    "papermill": {
     "duration": null,
     "end_time": null,
     "exception": null,
     "start_time": null,
     "status": "pending"
    },
    "tags": []
   },
   "source": [
    "To create an array with more than one dimension, pass a nested list to **np.array()**:"
   ]
  },
  {
   "cell_type": "code",
   "execution_count": null,
   "id": "3427d63f",
   "metadata": {
    "execution": {
     "iopub.execute_input": "2024-07-03T00:47:12.282820Z",
     "iopub.status.busy": "2024-07-03T00:47:12.282464Z",
     "iopub.status.idle": "2024-07-03T00:47:12.288679Z",
     "shell.execute_reply": "2024-07-03T00:47:12.287555Z",
     "shell.execute_reply.started": "2024-07-03T00:47:12.282791Z"
    },
    "papermill": {
     "duration": null,
     "end_time": null,
     "exception": null,
     "start_time": null,
     "status": "pending"
    },
    "tags": []
   },
   "outputs": [],
   "source": [
    "second_list = [5, 6, 7, 8]\n",
    "two_d_array = np.array([my_list, second_list])\n",
    "print(two_d_array)"
   ]
  },
  {
   "cell_type": "markdown",
   "id": "2a1ef64b",
   "metadata": {
    "papermill": {
     "duration": null,
     "end_time": null,
     "exception": null,
     "start_time": null,
     "status": "pending"
    },
    "tags": []
   },
   "source": [
    "An array is defined by the number of dimensions it has, the size of each dimension and the type of data it holds.\n",
    "\n",
    "Check the number and size of dimensions of an ndarray with the **shape** attribute:"
   ]
  },
  {
   "cell_type": "code",
   "execution_count": null,
   "id": "56c51962",
   "metadata": {
    "execution": {
     "iopub.execute_input": "2024-07-03T00:49:42.261018Z",
     "iopub.status.busy": "2024-07-03T00:49:42.260700Z",
     "iopub.status.idle": "2024-07-03T00:49:42.266568Z",
     "shell.execute_reply": "2024-07-03T00:49:42.265600Z",
     "shell.execute_reply.started": "2024-07-03T00:49:42.260994Z"
    },
    "papermill": {
     "duration": null,
     "end_time": null,
     "exception": null,
     "start_time": null,
     "status": "pending"
    },
    "tags": []
   },
   "outputs": [],
   "source": [
    "# Use .shape\n",
    "\n",
    "two_d_array.shape      # 2 rows, 4 columns"
   ]
  },
  {
   "cell_type": "markdown",
   "id": "4c7a8002",
   "metadata": {
    "papermill": {
     "duration": null,
     "end_time": null,
     "exception": null,
     "start_time": null,
     "status": "pending"
    },
    "tags": []
   },
   "source": [
    "Check the total size (total number of items) in an array with the **size** attribute:"
   ]
  },
  {
   "cell_type": "code",
   "execution_count": null,
   "id": "f0ce0ed0",
   "metadata": {
    "execution": {
     "iopub.execute_input": "2024-07-03T00:50:32.587928Z",
     "iopub.status.busy": "2024-07-03T00:50:32.587188Z",
     "iopub.status.idle": "2024-07-03T00:50:32.593630Z",
     "shell.execute_reply": "2024-07-03T00:50:32.592640Z",
     "shell.execute_reply.started": "2024-07-03T00:50:32.587894Z"
    },
    "papermill": {
     "duration": null,
     "end_time": null,
     "exception": null,
     "start_time": null,
     "status": "pending"
    },
    "tags": []
   },
   "outputs": [],
   "source": [
    "# Use .size\n",
    "\n",
    "two_d_array.size"
   ]
  },
  {
   "cell_type": "markdown",
   "id": "eb076d2b",
   "metadata": {
    "papermill": {
     "duration": null,
     "end_time": null,
     "exception": null,
     "start_time": null,
     "status": "pending"
    },
    "tags": []
   },
   "source": [
    "Check the type of the data in an ndarray with the **dtype** attribute:"
   ]
  },
  {
   "cell_type": "code",
   "execution_count": null,
   "id": "08642c6f",
   "metadata": {
    "execution": {
     "iopub.execute_input": "2024-07-03T00:52:02.856678Z",
     "iopub.status.busy": "2024-07-03T00:52:02.856289Z",
     "iopub.status.idle": "2024-07-03T00:52:02.862766Z",
     "shell.execute_reply": "2024-07-03T00:52:02.861804Z",
     "shell.execute_reply.started": "2024-07-03T00:52:02.856648Z"
    },
    "papermill": {
     "duration": null,
     "end_time": null,
     "exception": null,
     "start_time": null,
     "status": "pending"
    },
    "tags": []
   },
   "outputs": [],
   "source": [
    "# Use .dtype\n",
    "\n",
    "two_d_array.dtype   #the result \"int64\" means 64-bit integer"
   ]
  },
  {
   "cell_type": "markdown",
   "id": "2f036d9a",
   "metadata": {
    "papermill": {
     "duration": null,
     "end_time": null,
     "exception": null,
     "start_time": null,
     "status": "pending"
    },
    "tags": []
   },
   "source": [
    "Numpy has a variety of special array creation functions. Some handy array creation functions include:\n",
    "\n",
    "1. **np.identity()** to create a square 2d array with 1's across diagonal\n",
    "2. **np.eye()** to create a 2d array with 1's across a specified diagonal\n",
    "3. **np.ones()** to create an array filled with ones\n",
    "4. **np.zeros()** to create an array filled with zeros"
   ]
  },
  {
   "cell_type": "code",
   "execution_count": null,
   "id": "f4ca6806",
   "metadata": {
    "execution": {
     "iopub.execute_input": "2024-07-03T00:59:51.840216Z",
     "iopub.status.busy": "2024-07-03T00:59:51.839496Z",
     "iopub.status.idle": "2024-07-03T00:59:51.846413Z",
     "shell.execute_reply": "2024-07-03T00:59:51.845461Z",
     "shell.execute_reply.started": "2024-07-03T00:59:51.840187Z"
    },
    "papermill": {
     "duration": null,
     "end_time": null,
     "exception": null,
     "start_time": null,
     "status": "pending"
    },
    "tags": []
   },
   "outputs": [],
   "source": [
    "# np.identity()\n",
    "\n",
    "np.identity(n = 5)    # Size of the array"
   ]
  },
  {
   "cell_type": "code",
   "execution_count": null,
   "id": "8bfcfea1",
   "metadata": {
    "execution": {
     "iopub.execute_input": "2024-07-03T01:00:20.107629Z",
     "iopub.status.busy": "2024-07-03T01:00:20.106793Z",
     "iopub.status.idle": "2024-07-03T01:00:20.114079Z",
     "shell.execute_reply": "2024-07-03T01:00:20.113156Z",
     "shell.execute_reply.started": "2024-07-03T01:00:20.107595Z"
    },
    "papermill": {
     "duration": null,
     "end_time": null,
     "exception": null,
     "start_time": null,
     "status": "pending"
    },
    "tags": []
   },
   "outputs": [],
   "source": [
    "# np.eye()\n",
    "\n",
    "np.eye(N = 5,   # Number of rows\n",
    "       M = 7,   # Number of columns\n",
    "       k = 1)   # Index of the diagonal (main diagonal (0) is default)"
   ]
  },
  {
   "cell_type": "code",
   "execution_count": null,
   "id": "8ba48090",
   "metadata": {
    "execution": {
     "iopub.execute_input": "2024-07-03T00:59:02.849164Z",
     "iopub.status.busy": "2024-07-03T00:59:02.848517Z",
     "iopub.status.idle": "2024-07-03T00:59:02.857002Z",
     "shell.execute_reply": "2024-07-03T00:59:02.856194Z",
     "shell.execute_reply.started": "2024-07-03T00:59:02.849131Z"
    },
    "papermill": {
     "duration": null,
     "end_time": null,
     "exception": null,
     "start_time": null,
     "status": "pending"
    },
    "tags": []
   },
   "outputs": [],
   "source": [
    "# np.ones()\n",
    "\n",
    "np.ones(shape = [6, 4])"
   ]
  },
  {
   "cell_type": "code",
   "execution_count": null,
   "id": "f92b1380",
   "metadata": {
    "execution": {
     "iopub.execute_input": "2024-07-03T00:59:05.002348Z",
     "iopub.status.busy": "2024-07-03T00:59:05.001669Z",
     "iopub.status.idle": "2024-07-03T00:59:05.008638Z",
     "shell.execute_reply": "2024-07-03T00:59:05.007650Z",
     "shell.execute_reply.started": "2024-07-03T00:59:05.002317Z"
    },
    "papermill": {
     "duration": null,
     "end_time": null,
     "exception": null,
     "start_time": null,
     "status": "pending"
    },
    "tags": []
   },
   "outputs": [],
   "source": [
    "# np.zeros()\n",
    "\n",
    "np.zeros(shape = [4, 6])"
   ]
  },
  {
   "cell_type": "markdown",
   "id": "f7726ea9",
   "metadata": {
    "papermill": {
     "duration": null,
     "end_time": null,
     "exception": null,
     "start_time": null,
     "status": "pending"
    },
    "tags": []
   },
   "source": [
    "# Array Indexing and Slicing"
   ]
  },
  {
   "cell_type": "markdown",
   "id": "933e322e",
   "metadata": {
    "papermill": {
     "duration": null,
     "end_time": null,
     "exception": null,
     "start_time": null,
     "status": "pending"
    },
    "tags": []
   },
   "source": [
    "Numpy ndarrays offer numbered indexing and slicing syntax that mirrors the syntax for Python lists:"
   ]
  },
  {
   "cell_type": "code",
   "execution_count": null,
   "id": "8af99cf8",
   "metadata": {
    "execution": {
     "iopub.execute_input": "2024-07-03T01:01:46.244648Z",
     "iopub.status.busy": "2024-07-03T01:01:46.243972Z",
     "iopub.status.idle": "2024-07-03T01:01:46.250759Z",
     "shell.execute_reply": "2024-07-03T01:01:46.249908Z",
     "shell.execute_reply.started": "2024-07-03T01:01:46.244618Z"
    },
    "papermill": {
     "duration": null,
     "end_time": null,
     "exception": null,
     "start_time": null,
     "status": "pending"
    },
    "tags": []
   },
   "outputs": [],
   "source": [
    "one_d_array = np.array([1, 2, 3, 4, 5, 6])\n",
    "\n",
    "one_d_array[3]    # Get the item at index 3"
   ]
  },
  {
   "cell_type": "code",
   "execution_count": null,
   "id": "ccd37c1a",
   "metadata": {
    "execution": {
     "iopub.execute_input": "2024-07-03T01:02:14.850228Z",
     "iopub.status.busy": "2024-07-03T01:02:14.849614Z",
     "iopub.status.idle": "2024-07-03T01:02:14.856356Z",
     "shell.execute_reply": "2024-07-03T01:02:14.855249Z",
     "shell.execute_reply.started": "2024-07-03T01:02:14.850198Z"
    },
    "papermill": {
     "duration": null,
     "end_time": null,
     "exception": null,
     "start_time": null,
     "status": "pending"
    },
    "tags": []
   },
   "outputs": [],
   "source": [
    "one_d_array[3:]    # Get a slice from index 3 to the end"
   ]
  },
  {
   "cell_type": "code",
   "execution_count": null,
   "id": "a9a5e97b",
   "metadata": {
    "execution": {
     "iopub.execute_input": "2024-07-03T01:02:35.877171Z",
     "iopub.status.busy": "2024-07-03T01:02:35.876316Z",
     "iopub.status.idle": "2024-07-03T01:02:35.882851Z",
     "shell.execute_reply": "2024-07-03T01:02:35.881960Z",
     "shell.execute_reply.started": "2024-07-03T01:02:35.877139Z"
    },
    "papermill": {
     "duration": null,
     "end_time": null,
     "exception": null,
     "start_time": null,
     "status": "pending"
    },
    "tags": []
   },
   "outputs": [],
   "source": [
    "one_d_array[::-1]   # Slice backwards to reverse the array"
   ]
  },
  {
   "cell_type": "code",
   "execution_count": null,
   "id": "07ab1f36",
   "metadata": {
    "execution": {
     "iopub.execute_input": "2024-07-03T01:04:21.787437Z",
     "iopub.status.busy": "2024-07-03T01:04:21.786573Z",
     "iopub.status.idle": "2024-07-03T01:04:21.792768Z",
     "shell.execute_reply": "2024-07-03T01:04:21.791639Z",
     "shell.execute_reply.started": "2024-07-03T01:04:21.787397Z"
    },
    "papermill": {
     "duration": null,
     "end_time": null,
     "exception": null,
     "start_time": null,
     "status": "pending"
    },
    "tags": []
   },
   "outputs": [],
   "source": [
    "# Create a new 2d array\n",
    "\n",
    "two_d_array = np.array([one_d_array, one_d_array + 6, one_d_array + 12])\n",
    "print(two_d_array)"
   ]
  },
  {
   "cell_type": "code",
   "execution_count": null,
   "id": "bf97a706",
   "metadata": {
    "execution": {
     "iopub.execute_input": "2024-07-03T01:04:31.891240Z",
     "iopub.status.busy": "2024-07-03T01:04:31.890584Z",
     "iopub.status.idle": "2024-07-03T01:04:31.897364Z",
     "shell.execute_reply": "2024-07-03T01:04:31.896409Z",
     "shell.execute_reply.started": "2024-07-03T01:04:31.891209Z"
    },
    "papermill": {
     "duration": null,
     "end_time": null,
     "exception": null,
     "start_time": null,
     "status": "pending"
    },
    "tags": []
   },
   "outputs": [],
   "source": [
    "# Get the element at row index 1, column index 4\n",
    "\n",
    "two_d_array[1,4]"
   ]
  },
  {
   "cell_type": "code",
   "execution_count": null,
   "id": "8785f403",
   "metadata": {
    "execution": {
     "iopub.execute_input": "2024-07-03T01:05:28.701736Z",
     "iopub.status.busy": "2024-07-03T01:05:28.701040Z",
     "iopub.status.idle": "2024-07-03T01:05:28.707573Z",
     "shell.execute_reply": "2024-07-03T01:05:28.706592Z",
     "shell.execute_reply.started": "2024-07-03T01:05:28.701705Z"
    },
    "papermill": {
     "duration": null,
     "end_time": null,
     "exception": null,
     "start_time": null,
     "status": "pending"
    },
    "tags": []
   },
   "outputs": [],
   "source": [
    "# Slice elements starting at row 2 and column 5\n",
    "\n",
    "two_d_array[1:, 4:]"
   ]
  },
  {
   "cell_type": "code",
   "execution_count": null,
   "id": "766ca835",
   "metadata": {
    "execution": {
     "iopub.execute_input": "2024-07-03T01:06:32.174067Z",
     "iopub.status.busy": "2024-07-03T01:06:32.173295Z",
     "iopub.status.idle": "2024-07-03T01:06:32.180075Z",
     "shell.execute_reply": "2024-07-03T01:06:32.179169Z",
     "shell.execute_reply.started": "2024-07-03T01:06:32.174037Z"
    },
    "papermill": {
     "duration": null,
     "end_time": null,
     "exception": null,
     "start_time": null,
     "status": "pending"
    },
    "tags": []
   },
   "outputs": [],
   "source": [
    "# Reverse both dimensions (180 degree rotation)\n",
    "\n",
    "two_d_array[::-1, ::-1]"
   ]
  },
  {
   "cell_type": "markdown",
   "id": "a401a99f",
   "metadata": {
    "papermill": {
     "duration": null,
     "end_time": null,
     "exception": null,
     "start_time": null,
     "status": "pending"
    },
    "tags": []
   },
   "source": [
    "# Reshaping Arrays"
   ]
  },
  {
   "cell_type": "markdown",
   "id": "7216e16a",
   "metadata": {
    "papermill": {
     "duration": null,
     "end_time": null,
     "exception": null,
     "start_time": null,
     "status": "pending"
    },
    "tags": []
   },
   "source": [
    "Numpy has a variety of built in functions to help you manipulate arrays quickly without having to use complicated indexing operations.\n",
    "\n",
    "Reshape an array into a new array with the same data but different structure with **np.reshape()**:"
   ]
  },
  {
   "cell_type": "code",
   "execution_count": null,
   "id": "037aa870",
   "metadata": {
    "execution": {
     "iopub.execute_input": "2024-07-03T01:09:56.686497Z",
     "iopub.status.busy": "2024-07-03T01:09:56.686120Z",
     "iopub.status.idle": "2024-07-03T01:09:56.692906Z",
     "shell.execute_reply": "2024-07-03T01:09:56.691995Z",
     "shell.execute_reply.started": "2024-07-03T01:09:56.686463Z"
    },
    "papermill": {
     "duration": null,
     "end_time": null,
     "exception": null,
     "start_time": null,
     "status": "pending"
    },
    "tags": []
   },
   "outputs": [],
   "source": [
    "np.reshape(two_d_array,      # Array to reshape\n",
    "           newshape=(6,3))   # Dimensions of the new array"
   ]
  },
  {
   "cell_type": "markdown",
   "id": "cadc6c77",
   "metadata": {
    "papermill": {
     "duration": null,
     "end_time": null,
     "exception": null,
     "start_time": null,
     "status": "pending"
    },
    "tags": []
   },
   "source": [
    "Unravel a multi-dimensional into 1 dimension with **np.ravel()** method:\n",
    "\n",
    "* C-style (by rows)\n",
    "* F-style (by columns, Fortran)\n",
    "* A-style (by Fortran-like index)\n",
    "* K-style (by order)"
   ]
  },
  {
   "cell_type": "code",
   "execution_count": null,
   "id": "de74e14a",
   "metadata": {
    "execution": {
     "iopub.execute_input": "2024-07-03T01:15:57.393864Z",
     "iopub.status.busy": "2024-07-03T01:15:57.393483Z",
     "iopub.status.idle": "2024-07-03T01:15:57.400379Z",
     "shell.execute_reply": "2024-07-03T01:15:57.399484Z",
     "shell.execute_reply.started": "2024-07-03T01:15:57.393835Z"
    },
    "papermill": {
     "duration": null,
     "end_time": null,
     "exception": null,
     "start_time": null,
     "status": "pending"
    },
    "tags": []
   },
   "outputs": [],
   "source": [
    "np.ravel(two_d_array,\n",
    "         order='C')     # Use C-style unraveling (by rows)"
   ]
  },
  {
   "cell_type": "code",
   "execution_count": null,
   "id": "0420fd91",
   "metadata": {
    "execution": {
     "iopub.execute_input": "2024-07-03T01:16:32.694259Z",
     "iopub.status.busy": "2024-07-03T01:16:32.693883Z",
     "iopub.status.idle": "2024-07-03T01:16:32.700403Z",
     "shell.execute_reply": "2024-07-03T01:16:32.699488Z",
     "shell.execute_reply.started": "2024-07-03T01:16:32.694230Z"
    },
    "papermill": {
     "duration": null,
     "end_time": null,
     "exception": null,
     "start_time": null,
     "status": "pending"
    },
    "tags": []
   },
   "outputs": [],
   "source": [
    "np.ravel(two_d_array,\n",
    "         order='F')     # Use Fortran-style unraveling (by columns)"
   ]
  },
  {
   "cell_type": "markdown",
   "id": "9b34c210",
   "metadata": {
    "papermill": {
     "duration": null,
     "end_time": null,
     "exception": null,
     "start_time": null,
     "status": "pending"
    },
    "tags": []
   },
   "source": [
    "Alternatively, use **ndarray.flatten()** to flatten a multi-dimensional into 1 dimension and return a copy of the result:"
   ]
  },
  {
   "cell_type": "code",
   "execution_count": null,
   "id": "16c3949c",
   "metadata": {
    "execution": {
     "iopub.execute_input": "2024-07-03T01:18:24.606828Z",
     "iopub.status.busy": "2024-07-03T01:18:24.606449Z",
     "iopub.status.idle": "2024-07-03T01:18:24.613056Z",
     "shell.execute_reply": "2024-07-03T01:18:24.612130Z",
     "shell.execute_reply.started": "2024-07-03T01:18:24.606798Z"
    },
    "papermill": {
     "duration": null,
     "end_time": null,
     "exception": null,
     "start_time": null,
     "status": "pending"
    },
    "tags": []
   },
   "outputs": [],
   "source": [
    "two_d_array.flatten()"
   ]
  },
  {
   "cell_type": "markdown",
   "id": "a559bfa2",
   "metadata": {
    "papermill": {
     "duration": null,
     "end_time": null,
     "exception": null,
     "start_time": null,
     "status": "pending"
    },
    "tags": []
   },
   "source": [
    "Get the transpose of an array with **ndarray.T**:"
   ]
  },
  {
   "cell_type": "code",
   "execution_count": null,
   "id": "3502063a",
   "metadata": {
    "execution": {
     "iopub.execute_input": "2024-07-03T01:20:10.983122Z",
     "iopub.status.busy": "2024-07-03T01:20:10.982513Z",
     "iopub.status.idle": "2024-07-03T01:20:10.988910Z",
     "shell.execute_reply": "2024-07-03T01:20:10.988102Z",
     "shell.execute_reply.started": "2024-07-03T01:20:10.983091Z"
    },
    "papermill": {
     "duration": null,
     "end_time": null,
     "exception": null,
     "start_time": null,
     "status": "pending"
    },
    "tags": []
   },
   "outputs": [],
   "source": [
    "two_d_array.T"
   ]
  },
  {
   "cell_type": "markdown",
   "id": "89eab3e6",
   "metadata": {
    "papermill": {
     "duration": null,
     "end_time": null,
     "exception": null,
     "start_time": null,
     "status": "pending"
    },
    "tags": []
   },
   "source": [
    "Flip an array:\n",
    "* Vertical use **np.flipud()** (notices that ud means up-down)\n",
    "* Horizontal use **np.fliplr()** (notices that lr means left-right)"
   ]
  },
  {
   "cell_type": "code",
   "execution_count": null,
   "id": "27df3767",
   "metadata": {
    "execution": {
     "iopub.execute_input": "2024-07-03T01:21:15.479451Z",
     "iopub.status.busy": "2024-07-03T01:21:15.478816Z",
     "iopub.status.idle": "2024-07-03T01:21:15.485272Z",
     "shell.execute_reply": "2024-07-03T01:21:15.484414Z",
     "shell.execute_reply.started": "2024-07-03T01:21:15.479409Z"
    },
    "papermill": {
     "duration": null,
     "end_time": null,
     "exception": null,
     "start_time": null,
     "status": "pending"
    },
    "tags": []
   },
   "outputs": [],
   "source": [
    "np.flipud(two_d_array)"
   ]
  },
  {
   "cell_type": "code",
   "execution_count": null,
   "id": "bb26d9ba",
   "metadata": {
    "execution": {
     "iopub.execute_input": "2024-07-03T01:21:25.639850Z",
     "iopub.status.busy": "2024-07-03T01:21:25.639051Z",
     "iopub.status.idle": "2024-07-03T01:21:25.645457Z",
     "shell.execute_reply": "2024-07-03T01:21:25.644497Z",
     "shell.execute_reply.started": "2024-07-03T01:21:25.639820Z"
    },
    "papermill": {
     "duration": null,
     "end_time": null,
     "exception": null,
     "start_time": null,
     "status": "pending"
    },
    "tags": []
   },
   "outputs": [],
   "source": [
    "np.fliplr(two_d_array)"
   ]
  },
  {
   "cell_type": "markdown",
   "id": "4b68c97e",
   "metadata": {
    "papermill": {
     "duration": null,
     "end_time": null,
     "exception": null,
     "start_time": null,
     "status": "pending"
    },
    "tags": []
   },
   "source": [
    "Rotate ar array 90 degrees counter-clockwise with **np.rot90()**:"
   ]
  },
  {
   "cell_type": "code",
   "execution_count": null,
   "id": "34f43cd2",
   "metadata": {
    "execution": {
     "iopub.execute_input": "2024-07-03T01:23:07.953169Z",
     "iopub.status.busy": "2024-07-03T01:23:07.952797Z",
     "iopub.status.idle": "2024-07-03T01:23:07.961313Z",
     "shell.execute_reply": "2024-07-03T01:23:07.960297Z",
     "shell.execute_reply.started": "2024-07-03T01:23:07.953139Z"
    },
    "papermill": {
     "duration": null,
     "end_time": null,
     "exception": null,
     "start_time": null,
     "status": "pending"
    },
    "tags": []
   },
   "outputs": [],
   "source": [
    "np.rot90(two_d_array)"
   ]
  },
  {
   "cell_type": "markdown",
   "id": "ecaf9344",
   "metadata": {
    "papermill": {
     "duration": null,
     "end_time": null,
     "exception": null,
     "start_time": null,
     "status": "pending"
    },
    "tags": []
   },
   "source": [
    "Shift elements in an array along a given dimension with **np.roll()**:"
   ]
  },
  {
   "cell_type": "code",
   "execution_count": null,
   "id": "46bbca5e",
   "metadata": {
    "execution": {
     "iopub.execute_input": "2024-07-03T01:26:06.301731Z",
     "iopub.status.busy": "2024-07-03T01:26:06.301366Z",
     "iopub.status.idle": "2024-07-03T01:26:06.310783Z",
     "shell.execute_reply": "2024-07-03T01:26:06.309767Z",
     "shell.execute_reply.started": "2024-07-03T01:26:06.301702Z"
    },
    "papermill": {
     "duration": null,
     "end_time": null,
     "exception": null,
     "start_time": null,
     "status": "pending"
    },
    "tags": []
   },
   "outputs": [],
   "source": [
    "np.roll(a= two_d_array,\n",
    "        shift = 2,        # Shift elements 2 positions\n",
    "        axis = 1)         # In each row"
   ]
  },
  {
   "cell_type": "markdown",
   "id": "cefee57f",
   "metadata": {
    "papermill": {
     "duration": null,
     "end_time": null,
     "exception": null,
     "start_time": null,
     "status": "pending"
    },
    "tags": []
   },
   "source": [
    "Leave the axis argument empty to shift on a flattened version of the array (shift across all dimensions):"
   ]
  },
  {
   "cell_type": "code",
   "execution_count": null,
   "id": "f3ec2d4b",
   "metadata": {
    "execution": {
     "iopub.execute_input": "2024-07-03T01:27:00.818710Z",
     "iopub.status.busy": "2024-07-03T01:27:00.818328Z",
     "iopub.status.idle": "2024-07-03T01:27:00.825608Z",
     "shell.execute_reply": "2024-07-03T01:27:00.824692Z",
     "shell.execute_reply.started": "2024-07-03T01:27:00.818680Z"
    },
    "papermill": {
     "duration": null,
     "end_time": null,
     "exception": null,
     "start_time": null,
     "status": "pending"
    },
    "tags": []
   },
   "outputs": [],
   "source": [
    "np.roll(a= two_d_array,\n",
    "       shift = 2)"
   ]
  },
  {
   "cell_type": "markdown",
   "id": "fe8575c9",
   "metadata": {
    "papermill": {
     "duration": null,
     "end_time": null,
     "exception": null,
     "start_time": null,
     "status": "pending"
    },
    "tags": []
   },
   "source": [
    "Join arrays along an axis with **np.concatenate()**:"
   ]
  },
  {
   "cell_type": "code",
   "execution_count": null,
   "id": "4f7cf596",
   "metadata": {
    "execution": {
     "iopub.execute_input": "2024-07-03T01:29:26.958092Z",
     "iopub.status.busy": "2024-07-03T01:29:26.957737Z",
     "iopub.status.idle": "2024-07-03T01:29:26.965476Z",
     "shell.execute_reply": "2024-07-03T01:29:26.964579Z",
     "shell.execute_reply.started": "2024-07-03T01:29:26.958064Z"
    },
    "papermill": {
     "duration": null,
     "end_time": null,
     "exception": null,
     "start_time": null,
     "status": "pending"
    },
    "tags": []
   },
   "outputs": [],
   "source": [
    "array_to_join = np.array([[10,20,30],[40,50,60],[70,80,90]])\n",
    "\n",
    "np.concatenate((two_d_array, array_to_join),   # Arrays to join\n",
    "               axis = 1)                       # Axis to join upon"
   ]
  },
  {
   "cell_type": "markdown",
   "id": "76632bd0",
   "metadata": {
    "papermill": {
     "duration": null,
     "end_time": null,
     "exception": null,
     "start_time": null,
     "status": "pending"
    },
    "tags": []
   },
   "source": [
    "# Array Math Operations"
   ]
  },
  {
   "cell_type": "code",
   "execution_count": null,
   "id": "78dc97eb",
   "metadata": {
    "execution": {
     "iopub.execute_input": "2024-07-03T01:33:12.407006Z",
     "iopub.status.busy": "2024-07-03T01:33:12.406649Z",
     "iopub.status.idle": "2024-07-03T01:33:12.413074Z",
     "shell.execute_reply": "2024-07-03T01:33:12.412190Z",
     "shell.execute_reply.started": "2024-07-03T01:33:12.406979Z"
    },
    "papermill": {
     "duration": null,
     "end_time": null,
     "exception": null,
     "start_time": null,
     "status": "pending"
    },
    "tags": []
   },
   "outputs": [],
   "source": [
    "two_d_array + 100"
   ]
  },
  {
   "cell_type": "code",
   "execution_count": null,
   "id": "cce45949",
   "metadata": {
    "execution": {
     "iopub.execute_input": "2024-07-03T01:33:26.440905Z",
     "iopub.status.busy": "2024-07-03T01:33:26.440532Z",
     "iopub.status.idle": "2024-07-03T01:33:26.447363Z",
     "shell.execute_reply": "2024-07-03T01:33:26.446476Z",
     "shell.execute_reply.started": "2024-07-03T01:33:26.440873Z"
    },
    "papermill": {
     "duration": null,
     "end_time": null,
     "exception": null,
     "start_time": null,
     "status": "pending"
    },
    "tags": []
   },
   "outputs": [],
   "source": [
    "two_d_array - 100"
   ]
  },
  {
   "cell_type": "code",
   "execution_count": null,
   "id": "f6f99349",
   "metadata": {
    "execution": {
     "iopub.execute_input": "2024-07-03T01:33:49.699777Z",
     "iopub.status.busy": "2024-07-03T01:33:49.699416Z",
     "iopub.status.idle": "2024-07-03T01:33:49.706247Z",
     "shell.execute_reply": "2024-07-03T01:33:49.705247Z",
     "shell.execute_reply.started": "2024-07-03T01:33:49.699752Z"
    },
    "papermill": {
     "duration": null,
     "end_time": null,
     "exception": null,
     "start_time": null,
     "status": "pending"
    },
    "tags": []
   },
   "outputs": [],
   "source": [
    "two_d_array * 2"
   ]
  },
  {
   "cell_type": "code",
   "execution_count": null,
   "id": "46d3b534",
   "metadata": {
    "execution": {
     "iopub.execute_input": "2024-07-03T01:34:01.825315Z",
     "iopub.status.busy": "2024-07-03T01:34:01.824957Z",
     "iopub.status.idle": "2024-07-03T01:34:01.831268Z",
     "shell.execute_reply": "2024-07-03T01:34:01.830319Z",
     "shell.execute_reply.started": "2024-07-03T01:34:01.825287Z"
    },
    "papermill": {
     "duration": null,
     "end_time": null,
     "exception": null,
     "start_time": null,
     "status": "pending"
    },
    "tags": []
   },
   "outputs": [],
   "source": [
    "two_d_array ** 2"
   ]
  },
  {
   "cell_type": "code",
   "execution_count": null,
   "id": "a34c7a04",
   "metadata": {
    "execution": {
     "iopub.execute_input": "2024-07-03T01:34:07.040391Z",
     "iopub.status.busy": "2024-07-03T01:34:07.040064Z",
     "iopub.status.idle": "2024-07-03T01:34:07.048093Z",
     "shell.execute_reply": "2024-07-03T01:34:07.047068Z",
     "shell.execute_reply.started": "2024-07-03T01:34:07.040366Z"
    },
    "papermill": {
     "duration": null,
     "end_time": null,
     "exception": null,
     "start_time": null,
     "status": "pending"
    },
    "tags": []
   },
   "outputs": [],
   "source": [
    "two_d_array % 2"
   ]
  },
  {
   "cell_type": "code",
   "execution_count": null,
   "id": "b54a47f9",
   "metadata": {
    "execution": {
     "iopub.execute_input": "2024-07-03T01:34:15.471850Z",
     "iopub.status.busy": "2024-07-03T01:34:15.471496Z",
     "iopub.status.idle": "2024-07-03T01:34:15.478490Z",
     "shell.execute_reply": "2024-07-03T01:34:15.477559Z",
     "shell.execute_reply.started": "2024-07-03T01:34:15.471824Z"
    },
    "papermill": {
     "duration": null,
     "end_time": null,
     "exception": null,
     "start_time": null,
     "status": "pending"
    },
    "tags": []
   },
   "outputs": [],
   "source": [
    "two_d_array / 2"
   ]
  },
  {
   "cell_type": "markdown",
   "id": "e23eadfa",
   "metadata": {
    "papermill": {
     "duration": null,
     "end_time": null,
     "exception": null,
     "start_time": null,
     "status": "pending"
    },
    "tags": []
   },
   "source": [
    "Beyond operating on each element of an array with a single scalar value, you can also use the basic math operations on two arrays with the same shape.\n",
    "\n",
    "When operating on two arrays, the basic math operations function in an element-wise fashion, returning an array with the same shape as the original:"
   ]
  },
  {
   "cell_type": "code",
   "execution_count": null,
   "id": "2db5e6be",
   "metadata": {
    "execution": {
     "iopub.execute_input": "2024-07-03T01:36:53.013951Z",
     "iopub.status.busy": "2024-07-03T01:36:53.013138Z",
     "iopub.status.idle": "2024-07-03T01:36:53.020316Z",
     "shell.execute_reply": "2024-07-03T01:36:53.019361Z",
     "shell.execute_reply.started": "2024-07-03T01:36:53.013917Z"
    },
    "papermill": {
     "duration": null,
     "end_time": null,
     "exception": null,
     "start_time": null,
     "status": "pending"
    },
    "tags": []
   },
   "outputs": [],
   "source": [
    "small_array1 = np.array([[1,2],[3,4]])\n",
    "small_array1 + small_array1"
   ]
  },
  {
   "cell_type": "code",
   "execution_count": null,
   "id": "68aacf70",
   "metadata": {
    "execution": {
     "iopub.execute_input": "2024-07-03T01:37:07.887544Z",
     "iopub.status.busy": "2024-07-03T01:37:07.886849Z",
     "iopub.status.idle": "2024-07-03T01:37:07.893235Z",
     "shell.execute_reply": "2024-07-03T01:37:07.892323Z",
     "shell.execute_reply.started": "2024-07-03T01:37:07.887506Z"
    },
    "papermill": {
     "duration": null,
     "end_time": null,
     "exception": null,
     "start_time": null,
     "status": "pending"
    },
    "tags": []
   },
   "outputs": [],
   "source": [
    "small_array1 - small_array1"
   ]
  },
  {
   "cell_type": "code",
   "execution_count": null,
   "id": "9c4318a2",
   "metadata": {
    "execution": {
     "iopub.execute_input": "2024-07-03T01:37:15.971382Z",
     "iopub.status.busy": "2024-07-03T01:37:15.971037Z",
     "iopub.status.idle": "2024-07-03T01:37:15.977467Z",
     "shell.execute_reply": "2024-07-03T01:37:15.976510Z",
     "shell.execute_reply.started": "2024-07-03T01:37:15.971354Z"
    },
    "papermill": {
     "duration": null,
     "end_time": null,
     "exception": null,
     "start_time": null,
     "status": "pending"
    },
    "tags": []
   },
   "outputs": [],
   "source": [
    "small_array1 * small_array1"
   ]
  },
  {
   "cell_type": "code",
   "execution_count": null,
   "id": "886b81cb",
   "metadata": {
    "execution": {
     "iopub.execute_input": "2024-07-03T01:37:20.078417Z",
     "iopub.status.busy": "2024-07-03T01:37:20.077728Z",
     "iopub.status.idle": "2024-07-03T01:37:20.084160Z",
     "shell.execute_reply": "2024-07-03T01:37:20.083284Z",
     "shell.execute_reply.started": "2024-07-03T01:37:20.078389Z"
    },
    "papermill": {
     "duration": null,
     "end_time": null,
     "exception": null,
     "start_time": null,
     "status": "pending"
    },
    "tags": []
   },
   "outputs": [],
   "source": [
    "small_array1 ** small_array1"
   ]
  },
  {
   "cell_type": "code",
   "execution_count": null,
   "id": "008f3594",
   "metadata": {
    "execution": {
     "iopub.execute_input": "2024-07-03T01:37:26.875576Z",
     "iopub.status.busy": "2024-07-03T01:37:26.874863Z",
     "iopub.status.idle": "2024-07-03T01:37:26.881481Z",
     "shell.execute_reply": "2024-07-03T01:37:26.880441Z",
     "shell.execute_reply.started": "2024-07-03T01:37:26.875548Z"
    },
    "papermill": {
     "duration": null,
     "end_time": null,
     "exception": null,
     "start_time": null,
     "status": "pending"
    },
    "tags": []
   },
   "outputs": [],
   "source": [
    "small_array1 / small_array1"
   ]
  },
  {
   "cell_type": "code",
   "execution_count": null,
   "id": "ecaecbe7",
   "metadata": {
    "execution": {
     "iopub.execute_input": "2024-07-03T01:37:31.629845Z",
     "iopub.status.busy": "2024-07-03T01:37:31.629217Z",
     "iopub.status.idle": "2024-07-03T01:37:31.635650Z",
     "shell.execute_reply": "2024-07-03T01:37:31.634738Z",
     "shell.execute_reply.started": "2024-07-03T01:37:31.629814Z"
    },
    "papermill": {
     "duration": null,
     "end_time": null,
     "exception": null,
     "start_time": null,
     "status": "pending"
    },
    "tags": []
   },
   "outputs": [],
   "source": [
    "small_array1 % small_array1"
   ]
  },
  {
   "cell_type": "markdown",
   "id": "69f3b38b",
   "metadata": {
    "papermill": {
     "duration": null,
     "end_time": null,
     "exception": null,
     "start_time": null,
     "status": "pending"
    },
    "tags": []
   },
   "source": [
    "Numpy also offers a variety of **named math functions** for ndarrays, such as:\n",
    "1. **np.mean()** to get the mean of all the elements in an array\n",
    "2. **np.std()** to get the standard deviation all the elements in an array\n",
    "3. **np.sum()** to sum the elements of an array across an axis\n",
    "4. **np.log()** to take the log of each element in an array\n",
    "5. **np.sqrt()** to take the square root of each element\n",
    "6. **np.dot()** to take the vector dot product of row 0 and row 1"
   ]
  },
  {
   "cell_type": "code",
   "execution_count": null,
   "id": "b5fb0d53",
   "metadata": {
    "execution": {
     "iopub.execute_input": "2024-07-03T01:39:46.274569Z",
     "iopub.status.busy": "2024-07-03T01:39:46.273587Z",
     "iopub.status.idle": "2024-07-03T01:39:46.280242Z",
     "shell.execute_reply": "2024-07-03T01:39:46.279394Z",
     "shell.execute_reply.started": "2024-07-03T01:39:46.274535Z"
    },
    "papermill": {
     "duration": null,
     "end_time": null,
     "exception": null,
     "start_time": null,
     "status": "pending"
    },
    "tags": []
   },
   "outputs": [],
   "source": [
    "# np.mean()\n",
    "\n",
    "np.mean(two_d_array)"
   ]
  },
  {
   "cell_type": "code",
   "execution_count": null,
   "id": "1723d77b",
   "metadata": {
    "execution": {
     "iopub.execute_input": "2024-07-03T01:41:01.780300Z",
     "iopub.status.busy": "2024-07-03T01:41:01.779623Z",
     "iopub.status.idle": "2024-07-03T01:41:01.787053Z",
     "shell.execute_reply": "2024-07-03T01:41:01.786084Z",
     "shell.execute_reply.started": "2024-07-03T01:41:01.780267Z"
    },
    "papermill": {
     "duration": null,
     "end_time": null,
     "exception": null,
     "start_time": null,
     "status": "pending"
    },
    "tags": []
   },
   "outputs": [],
   "source": [
    "# Provide an axis argument to get means across a dimension\n",
    "\n",
    "np.mean(two_d_array,\n",
    "        axis = 1)     # Get means of each row"
   ]
  },
  {
   "cell_type": "code",
   "execution_count": null,
   "id": "c65f1265",
   "metadata": {
    "execution": {
     "iopub.execute_input": "2024-07-03T01:43:12.338837Z",
     "iopub.status.busy": "2024-07-03T01:43:12.337995Z",
     "iopub.status.idle": "2024-07-03T01:43:12.349161Z",
     "shell.execute_reply": "2024-07-03T01:43:12.348182Z",
     "shell.execute_reply.started": "2024-07-03T01:43:12.338797Z"
    },
    "papermill": {
     "duration": null,
     "end_time": null,
     "exception": null,
     "start_time": null,
     "status": "pending"
    },
    "tags": []
   },
   "outputs": [],
   "source": [
    "# np.std()\n",
    "\n",
    "np.std(two_d_array)"
   ]
  },
  {
   "cell_type": "code",
   "execution_count": null,
   "id": "2f52fb3b",
   "metadata": {
    "execution": {
     "iopub.execute_input": "2024-07-03T01:43:44.253201Z",
     "iopub.status.busy": "2024-07-03T01:43:44.252816Z",
     "iopub.status.idle": "2024-07-03T01:43:44.260159Z",
     "shell.execute_reply": "2024-07-03T01:43:44.259150Z",
     "shell.execute_reply.started": "2024-07-03T01:43:44.253173Z"
    },
    "papermill": {
     "duration": null,
     "end_time": null,
     "exception": null,
     "start_time": null,
     "status": "pending"
    },
    "tags": []
   },
   "outputs": [],
   "source": [
    "# Provide an axis argument to get standard deviations across a dimension\n",
    "\n",
    "np.std(two_d_array,\n",
    "       axis = 1)      # Get stdev for each column"
   ]
  },
  {
   "cell_type": "code",
   "execution_count": null,
   "id": "c1fa9618",
   "metadata": {
    "execution": {
     "iopub.execute_input": "2024-07-03T01:44:47.635778Z",
     "iopub.status.busy": "2024-07-03T01:44:47.635403Z",
     "iopub.status.idle": "2024-07-03T01:44:47.641986Z",
     "shell.execute_reply": "2024-07-03T01:44:47.641143Z",
     "shell.execute_reply.started": "2024-07-03T01:44:47.635747Z"
    },
    "papermill": {
     "duration": null,
     "end_time": null,
     "exception": null,
     "start_time": null,
     "status": "pending"
    },
    "tags": []
   },
   "outputs": [],
   "source": [
    "# np.sum()\n",
    "\n",
    "np.sum(two_d_array,\n",
    "       axis = 1)      # Get the row sums"
   ]
  },
  {
   "cell_type": "code",
   "execution_count": null,
   "id": "6a0d6e68",
   "metadata": {
    "execution": {
     "iopub.execute_input": "2024-07-03T01:45:07.603296Z",
     "iopub.status.busy": "2024-07-03T01:45:07.602955Z",
     "iopub.status.idle": "2024-07-03T01:45:07.609601Z",
     "shell.execute_reply": "2024-07-03T01:45:07.608496Z",
     "shell.execute_reply.started": "2024-07-03T01:45:07.603268Z"
    },
    "papermill": {
     "duration": null,
     "end_time": null,
     "exception": null,
     "start_time": null,
     "status": "pending"
    },
    "tags": []
   },
   "outputs": [],
   "source": [
    "# np.sum()\n",
    "\n",
    "np.sum(two_d_array,\n",
    "       axis = 0)      # Get the column sums"
   ]
  },
  {
   "cell_type": "code",
   "execution_count": null,
   "id": "13a2dbed",
   "metadata": {
    "execution": {
     "iopub.execute_input": "2024-07-03T01:45:52.948580Z",
     "iopub.status.busy": "2024-07-03T01:45:52.947916Z",
     "iopub.status.idle": "2024-07-03T01:45:52.954928Z",
     "shell.execute_reply": "2024-07-03T01:45:52.953927Z",
     "shell.execute_reply.started": "2024-07-03T01:45:52.948549Z"
    },
    "papermill": {
     "duration": null,
     "end_time": null,
     "exception": null,
     "start_time": null,
     "status": "pending"
    },
    "tags": []
   },
   "outputs": [],
   "source": [
    "# np.log()\n",
    "\n",
    "np.log(two_d_array)"
   ]
  },
  {
   "cell_type": "code",
   "execution_count": null,
   "id": "72bbfa26",
   "metadata": {
    "execution": {
     "iopub.execute_input": "2024-07-03T01:46:44.947285Z",
     "iopub.status.busy": "2024-07-03T01:46:44.946577Z",
     "iopub.status.idle": "2024-07-03T01:46:44.953247Z",
     "shell.execute_reply": "2024-07-03T01:46:44.952398Z",
     "shell.execute_reply.started": "2024-07-03T01:46:44.947253Z"
    },
    "papermill": {
     "duration": null,
     "end_time": null,
     "exception": null,
     "start_time": null,
     "status": "pending"
    },
    "tags": []
   },
   "outputs": [],
   "source": [
    "# np.sqrt()\n",
    "\n",
    "np.sqrt(two_d_array)"
   ]
  },
  {
   "cell_type": "markdown",
   "id": "1808af99",
   "metadata": {
    "papermill": {
     "duration": null,
     "end_time": null,
     "exception": null,
     "start_time": null,
     "status": "pending"
    },
    "tags": []
   },
   "source": [
    "**np.dot()** performs an element-wise multiply and then a sum for 1-dimensional arrays (vectors) and matrix multiplication for 2-dimensional arrays."
   ]
  },
  {
   "cell_type": "code",
   "execution_count": null,
   "id": "f6abe00c",
   "metadata": {
    "execution": {
     "iopub.execute_input": "2024-07-03T01:49:33.196474Z",
     "iopub.status.busy": "2024-07-03T01:49:33.195850Z",
     "iopub.status.idle": "2024-07-03T01:49:33.202575Z",
     "shell.execute_reply": "2024-07-03T01:49:33.201660Z",
     "shell.execute_reply.started": "2024-07-03T01:49:33.196421Z"
    },
    "papermill": {
     "duration": null,
     "end_time": null,
     "exception": null,
     "start_time": null,
     "status": "pending"
    },
    "tags": []
   },
   "outputs": [],
   "source": [
    "# np.dot()\n",
    "\n",
    "np.dot(two_d_array[0,0:],   # Slice row 0\n",
    "       two_d_array[1,0:])   # Slice row 1"
   ]
  },
  {
   "cell_type": "code",
   "execution_count": null,
   "id": "1b31a317",
   "metadata": {
    "execution": {
     "iopub.execute_input": "2024-07-03T01:50:28.932275Z",
     "iopub.status.busy": "2024-07-03T01:50:28.931415Z",
     "iopub.status.idle": "2024-07-03T01:50:28.938147Z",
     "shell.execute_reply": "2024-07-03T01:50:28.937179Z",
     "shell.execute_reply.started": "2024-07-03T01:50:28.932241Z"
    },
    "papermill": {
     "duration": null,
     "end_time": null,
     "exception": null,
     "start_time": null,
     "status": "pending"
    },
    "tags": []
   },
   "outputs": [],
   "source": [
    "# Do a matrix multiply\n",
    "\n",
    "np.dot(small_array1, small_array1)"
   ]
  },
  {
   "cell_type": "markdown",
   "id": "3865d0c7",
   "metadata": {
    "papermill": {
     "duration": null,
     "end_time": null,
     "exception": null,
     "start_time": null,
     "status": "pending"
    },
    "tags": []
   },
   "source": [
    "The package includes a variety of more advanced **linear algebra functions** should you need them."
   ]
  },
  {
   "cell_type": "markdown",
   "id": "9ae75169",
   "metadata": {
    "papermill": {
     "duration": null,
     "end_time": null,
     "exception": null,
     "start_time": null,
     "status": "pending"
    },
    "tags": []
   },
   "source": [
    "# Numpy #2"
   ]
  },
  {
   "cell_type": "code",
   "execution_count": null,
   "id": "e9b046bc",
   "metadata": {
    "execution": {
     "iopub.execute_input": "2024-07-05T06:20:23.462332Z",
     "iopub.status.busy": "2024-07-05T06:20:23.461627Z",
     "iopub.status.idle": "2024-07-05T06:20:23.472597Z",
     "shell.execute_reply": "2024-07-05T06:20:23.471659Z",
     "shell.execute_reply.started": "2024-07-05T06:20:23.462300Z"
    },
    "papermill": {
     "duration": null,
     "end_time": null,
     "exception": null,
     "start_time": null,
     "status": "pending"
    },
    "tags": []
   },
   "outputs": [],
   "source": [
    "import numpy as np"
   ]
  },
  {
   "cell_type": "code",
   "execution_count": null,
   "id": "c97d0e24",
   "metadata": {
    "execution": {
     "iopub.execute_input": "2024-07-05T06:20:29.136646Z",
     "iopub.status.busy": "2024-07-05T06:20:29.136254Z",
     "iopub.status.idle": "2024-07-05T06:20:29.143222Z",
     "shell.execute_reply": "2024-07-05T06:20:29.142267Z",
     "shell.execute_reply.started": "2024-07-05T06:20:29.136614Z"
    },
    "papermill": {
     "duration": null,
     "end_time": null,
     "exception": null,
     "start_time": null,
     "status": "pending"
    },
    "tags": []
   },
   "outputs": [],
   "source": [
    "a = [1, 2, 3, 4, 5]\n",
    "print(a)"
   ]
  },
  {
   "cell_type": "code",
   "execution_count": null,
   "id": "ce5895ab",
   "metadata": {
    "execution": {
     "iopub.execute_input": "2024-07-05T06:20:39.055692Z",
     "iopub.status.busy": "2024-07-05T06:20:39.054986Z",
     "iopub.status.idle": "2024-07-05T06:20:39.060175Z",
     "shell.execute_reply": "2024-07-05T06:20:39.059171Z",
     "shell.execute_reply.started": "2024-07-05T06:20:39.055651Z"
    },
    "papermill": {
     "duration": null,
     "end_time": null,
     "exception": null,
     "start_time": null,
     "status": "pending"
    },
    "tags": []
   },
   "outputs": [],
   "source": [
    "print(a[1])"
   ]
  },
  {
   "cell_type": "code",
   "execution_count": null,
   "id": "e6890c09",
   "metadata": {
    "execution": {
     "iopub.execute_input": "2024-07-05T06:20:50.257215Z",
     "iopub.status.busy": "2024-07-05T06:20:50.256588Z",
     "iopub.status.idle": "2024-07-05T06:20:50.261946Z",
     "shell.execute_reply": "2024-07-05T06:20:50.260973Z",
     "shell.execute_reply.started": "2024-07-05T06:20:50.257185Z"
    },
    "papermill": {
     "duration": null,
     "end_time": null,
     "exception": null,
     "start_time": null,
     "status": "pending"
    },
    "tags": []
   },
   "outputs": [],
   "source": [
    "print(a[1:4])"
   ]
  },
  {
   "cell_type": "code",
   "execution_count": null,
   "id": "8433cf44",
   "metadata": {
    "execution": {
     "iopub.execute_input": "2024-07-05T06:21:22.350333Z",
     "iopub.status.busy": "2024-07-05T06:21:22.349988Z",
     "iopub.status.idle": "2024-07-05T06:21:22.355691Z",
     "shell.execute_reply": "2024-07-05T06:21:22.354822Z",
     "shell.execute_reply.started": "2024-07-05T06:21:22.350304Z"
    },
    "papermill": {
     "duration": null,
     "end_time": null,
     "exception": null,
     "start_time": null,
     "status": "pending"
    },
    "tags": []
   },
   "outputs": [],
   "source": [
    "a = np.array([1,2,3,4,5])\n",
    "print(a)"
   ]
  },
  {
   "cell_type": "code",
   "execution_count": null,
   "id": "594b61a2",
   "metadata": {
    "execution": {
     "iopub.execute_input": "2024-07-05T06:21:37.315186Z",
     "iopub.status.busy": "2024-07-05T06:21:37.314584Z",
     "iopub.status.idle": "2024-07-05T06:21:37.322573Z",
     "shell.execute_reply": "2024-07-05T06:21:37.321722Z",
     "shell.execute_reply.started": "2024-07-05T06:21:37.315155Z"
    },
    "papermill": {
     "duration": null,
     "end_time": null,
     "exception": null,
     "start_time": null,
     "status": "pending"
    },
    "tags": []
   },
   "outputs": [],
   "source": [
    "type(a)"
   ]
  },
  {
   "cell_type": "code",
   "execution_count": null,
   "id": "872d3c15",
   "metadata": {
    "execution": {
     "iopub.execute_input": "2024-07-05T06:28:49.965494Z",
     "iopub.status.busy": "2024-07-05T06:28:49.964762Z",
     "iopub.status.idle": "2024-07-05T06:28:49.972463Z",
     "shell.execute_reply": "2024-07-05T06:28:49.971529Z",
     "shell.execute_reply.started": "2024-07-05T06:28:49.965451Z"
    },
    "papermill": {
     "duration": null,
     "end_time": null,
     "exception": null,
     "start_time": null,
     "status": "pending"
    },
    "tags": []
   },
   "outputs": [],
   "source": [
    "a_mul = np.array([[[1,2,3, 1],\n",
    "                   [4,5,6, 1],\n",
    "                   [7,8,9, 1]],\n",
    "                  [[1,1,1,1],\n",
    "                   [1,1,1,1],\n",
    "                   [1,1,1,1]]])\n",
    "a_mul.shape"
   ]
  },
  {
   "cell_type": "code",
   "execution_count": null,
   "id": "34c91dac",
   "metadata": {
    "execution": {
     "iopub.execute_input": "2024-07-05T06:30:03.623982Z",
     "iopub.status.busy": "2024-07-05T06:30:03.622990Z",
     "iopub.status.idle": "2024-07-05T06:30:03.629364Z",
     "shell.execute_reply": "2024-07-05T06:30:03.628468Z",
     "shell.execute_reply.started": "2024-07-05T06:30:03.623946Z"
    },
    "papermill": {
     "duration": null,
     "end_time": null,
     "exception": null,
     "start_time": null,
     "status": "pending"
    },
    "tags": []
   },
   "outputs": [],
   "source": [
    "a_mul.ndim   # ndim consists to number of dimensions"
   ]
  },
  {
   "cell_type": "code",
   "execution_count": null,
   "id": "a0780dc6",
   "metadata": {
    "execution": {
     "iopub.execute_input": "2024-07-05T06:30:30.935703Z",
     "iopub.status.busy": "2024-07-05T06:30:30.935224Z",
     "iopub.status.idle": "2024-07-05T06:30:30.941619Z",
     "shell.execute_reply": "2024-07-05T06:30:30.940721Z",
     "shell.execute_reply.started": "2024-07-05T06:30:30.935664Z"
    },
    "papermill": {
     "duration": null,
     "end_time": null,
     "exception": null,
     "start_time": null,
     "status": "pending"
    },
    "tags": []
   },
   "outputs": [],
   "source": [
    "a_mul.size   # multiply of all elements"
   ]
  },
  {
   "cell_type": "code",
   "execution_count": null,
   "id": "01a29234",
   "metadata": {
    "execution": {
     "iopub.execute_input": "2024-07-05T06:30:49.122971Z",
     "iopub.status.busy": "2024-07-05T06:30:49.122603Z",
     "iopub.status.idle": "2024-07-05T06:30:49.128824Z",
     "shell.execute_reply": "2024-07-05T06:30:49.127950Z",
     "shell.execute_reply.started": "2024-07-05T06:30:49.122941Z"
    },
    "papermill": {
     "duration": null,
     "end_time": null,
     "exception": null,
     "start_time": null,
     "status": "pending"
    },
    "tags": []
   },
   "outputs": [],
   "source": [
    "a_mul.dtype"
   ]
  },
  {
   "cell_type": "markdown",
   "id": "6b218d4a",
   "metadata": {
    "papermill": {
     "duration": null,
     "end_time": null,
     "exception": null,
     "start_time": null,
     "status": "pending"
    },
    "tags": []
   },
   "source": [
    "# Numpy data types"
   ]
  },
  {
   "cell_type": "code",
   "execution_count": null,
   "id": "b3f53403",
   "metadata": {
    "execution": {
     "iopub.execute_input": "2024-07-05T06:35:11.012574Z",
     "iopub.status.busy": "2024-07-05T06:35:11.012179Z",
     "iopub.status.idle": "2024-07-05T06:35:11.017929Z",
     "shell.execute_reply": "2024-07-05T06:35:11.017052Z",
     "shell.execute_reply.started": "2024-07-05T06:35:11.012542Z"
    },
    "papermill": {
     "duration": null,
     "end_time": null,
     "exception": null,
     "start_time": null,
     "status": "pending"
    },
    "tags": []
   },
   "outputs": [],
   "source": [
    "a = np.array([[1,2,3],\n",
    "              [4,\"hello\",6],\n",
    "              [7,8,9]])\n",
    "print(a)"
   ]
  },
  {
   "cell_type": "code",
   "execution_count": null,
   "id": "49f0c875",
   "metadata": {
    "execution": {
     "iopub.execute_input": "2024-07-05T06:35:12.521131Z",
     "iopub.status.busy": "2024-07-05T06:35:12.520349Z",
     "iopub.status.idle": "2024-07-05T06:35:12.525662Z",
     "shell.execute_reply": "2024-07-05T06:35:12.524755Z",
     "shell.execute_reply.started": "2024-07-05T06:35:12.521097Z"
    },
    "papermill": {
     "duration": null,
     "end_time": null,
     "exception": null,
     "start_time": null,
     "status": "pending"
    },
    "tags": []
   },
   "outputs": [],
   "source": [
    "print(a.dtype)   # Stands for a string with less than 21 characters"
   ]
  },
  {
   "cell_type": "code",
   "execution_count": null,
   "id": "ba799827",
   "metadata": {
    "execution": {
     "iopub.execute_input": "2024-07-05T06:35:13.945057Z",
     "iopub.status.busy": "2024-07-05T06:35:13.944360Z",
     "iopub.status.idle": "2024-07-05T06:35:13.949934Z",
     "shell.execute_reply": "2024-07-05T06:35:13.948996Z",
     "shell.execute_reply.started": "2024-07-05T06:35:13.945023Z"
    },
    "papermill": {
     "duration": null,
     "end_time": null,
     "exception": null,
     "start_time": null,
     "status": "pending"
    },
    "tags": []
   },
   "outputs": [],
   "source": [
    "print(type(a[0][0]))"
   ]
  },
  {
   "cell_type": "code",
   "execution_count": null,
   "id": "f7255618",
   "metadata": {
    "execution": {
     "iopub.execute_input": "2024-07-05T06:35:58.931137Z",
     "iopub.status.busy": "2024-07-05T06:35:58.930449Z",
     "iopub.status.idle": "2024-07-05T06:35:58.936522Z",
     "shell.execute_reply": "2024-07-05T06:35:58.935277Z",
     "shell.execute_reply.started": "2024-07-05T06:35:58.931105Z"
    },
    "papermill": {
     "duration": null,
     "end_time": null,
     "exception": null,
     "start_time": null,
     "status": "pending"
    },
    "tags": []
   },
   "outputs": [],
   "source": [
    "print(a[0][0].dtype)"
   ]
  },
  {
   "cell_type": "code",
   "execution_count": null,
   "id": "e4d1181f",
   "metadata": {
    "execution": {
     "iopub.execute_input": "2024-07-05T06:39:19.284499Z",
     "iopub.status.busy": "2024-07-05T06:39:19.283654Z",
     "iopub.status.idle": "2024-07-05T06:39:19.288880Z",
     "shell.execute_reply": "2024-07-05T06:39:19.287815Z",
     "shell.execute_reply.started": "2024-07-05T06:39:19.284444Z"
    },
    "papermill": {
     "duration": null,
     "end_time": null,
     "exception": null,
     "start_time": null,
     "status": "pending"
    },
    "tags": []
   },
   "outputs": [],
   "source": [
    "d = {'1': 'A'}"
   ]
  },
  {
   "cell_type": "code",
   "execution_count": null,
   "id": "a362fffa",
   "metadata": {
    "execution": {
     "iopub.execute_input": "2024-07-05T06:39:58.845650Z",
     "iopub.status.busy": "2024-07-05T06:39:58.845271Z",
     "iopub.status.idle": "2024-07-05T06:39:58.851892Z",
     "shell.execute_reply": "2024-07-05T06:39:58.850980Z",
     "shell.execute_reply.started": "2024-07-05T06:39:58.845619Z"
    },
    "papermill": {
     "duration": null,
     "end_time": null,
     "exception": null,
     "start_time": null,
     "status": "pending"
    },
    "tags": []
   },
   "outputs": [],
   "source": [
    "a = np.array([[1,2,3],\n",
    "              [4,\"5\",6],\n",
    "              [7,8,9]], dtype=np.float32)\n",
    "print(a.dtype)\n",
    "print(a[1][1].dtype)\n",
    "print(a[1,1])"
   ]
  },
  {
   "cell_type": "code",
   "execution_count": null,
   "id": "1fdd9db3",
   "metadata": {
    "execution": {
     "iopub.execute_input": "2024-07-05T06:40:45.014320Z",
     "iopub.status.busy": "2024-07-05T06:40:45.013604Z",
     "iopub.status.idle": "2024-07-05T06:40:45.019669Z",
     "shell.execute_reply": "2024-07-05T06:40:45.018747Z",
     "shell.execute_reply.started": "2024-07-05T06:40:45.014289Z"
    },
    "papermill": {
     "duration": null,
     "end_time": null,
     "exception": null,
     "start_time": null,
     "status": "pending"
    },
    "tags": []
   },
   "outputs": [],
   "source": [
    "a = np.array([[1,2,3],\n",
    "              [4,d,6],\n",
    "              [7,8,\"hello\"]])\n",
    "print(a.dtype)\n",
    "print(type(a[1][0]))"
   ]
  },
  {
   "cell_type": "markdown",
   "id": "c3cca6b0",
   "metadata": {
    "papermill": {
     "duration": null,
     "end_time": null,
     "exception": null,
     "start_time": null,
     "status": "pending"
    },
    "tags": []
   },
   "source": [
    "# Filling arrays"
   ]
  },
  {
   "cell_type": "code",
   "execution_count": null,
   "id": "1179fa83",
   "metadata": {
    "execution": {
     "iopub.execute_input": "2024-07-05T06:46:32.583325Z",
     "iopub.status.busy": "2024-07-05T06:46:32.582637Z",
     "iopub.status.idle": "2024-07-05T06:46:32.588252Z",
     "shell.execute_reply": "2024-07-05T06:46:32.587256Z",
     "shell.execute_reply.started": "2024-07-05T06:46:32.583295Z"
    },
    "papermill": {
     "duration": null,
     "end_time": null,
     "exception": null,
     "start_time": null,
     "status": "pending"
    },
    "tags": []
   },
   "outputs": [],
   "source": [
    "# np.full()\n",
    "\n",
    "a = np.full((2,3,4), 7)\n",
    "print(a)"
   ]
  },
  {
   "cell_type": "code",
   "execution_count": null,
   "id": "28658333",
   "metadata": {
    "execution": {
     "iopub.execute_input": "2024-07-05T06:47:13.044302Z",
     "iopub.status.busy": "2024-07-05T06:47:13.043605Z",
     "iopub.status.idle": "2024-07-05T06:47:13.048630Z",
     "shell.execute_reply": "2024-07-05T06:47:13.047917Z",
     "shell.execute_reply.started": "2024-07-05T06:47:13.044271Z"
    },
    "papermill": {
     "duration": null,
     "end_time": null,
     "exception": null,
     "start_time": null,
     "status": "pending"
    },
    "tags": []
   },
   "outputs": [],
   "source": [
    "a = np.full((2,2,2,2), 7)\n",
    "print(a)"
   ]
  },
  {
   "cell_type": "code",
   "execution_count": null,
   "id": "eeda6fff",
   "metadata": {
    "execution": {
     "iopub.execute_input": "2024-07-05T06:46:52.437259Z",
     "iopub.status.busy": "2024-07-05T06:46:52.436923Z",
     "iopub.status.idle": "2024-07-05T06:46:52.442679Z",
     "shell.execute_reply": "2024-07-05T06:46:52.441719Z",
     "shell.execute_reply.started": "2024-07-05T06:46:52.437234Z"
    },
    "papermill": {
     "duration": null,
     "end_time": null,
     "exception": null,
     "start_time": null,
     "status": "pending"
    },
    "tags": []
   },
   "outputs": [],
   "source": [
    "# np.zeros()\n",
    "\n",
    "a = np.zeros((4,3,2))\n",
    "print(a)"
   ]
  },
  {
   "cell_type": "code",
   "execution_count": null,
   "id": "9be312d8",
   "metadata": {
    "execution": {
     "iopub.execute_input": "2024-07-05T06:47:19.691165Z",
     "iopub.status.busy": "2024-07-05T06:47:19.690832Z",
     "iopub.status.idle": "2024-07-05T06:47:19.697013Z",
     "shell.execute_reply": "2024-07-05T06:47:19.695780Z",
     "shell.execute_reply.started": "2024-07-05T06:47:19.691139Z"
    },
    "papermill": {
     "duration": null,
     "end_time": null,
     "exception": null,
     "start_time": null,
     "status": "pending"
    },
    "tags": []
   },
   "outputs": [],
   "source": [
    "# np.ones()\n",
    "\n",
    "a = np.ones((4,3,2))\n",
    "print(a)"
   ]
  },
  {
   "cell_type": "code",
   "execution_count": null,
   "id": "854bd591",
   "metadata": {
    "execution": {
     "iopub.execute_input": "2024-07-05T06:47:27.826966Z",
     "iopub.status.busy": "2024-07-05T06:47:27.826325Z",
     "iopub.status.idle": "2024-07-05T06:47:27.832383Z",
     "shell.execute_reply": "2024-07-05T06:47:27.831460Z",
     "shell.execute_reply.started": "2024-07-05T06:47:27.826932Z"
    },
    "papermill": {
     "duration": null,
     "end_time": null,
     "exception": null,
     "start_time": null,
     "status": "pending"
    },
    "tags": []
   },
   "outputs": [],
   "source": [
    "# np.empty()\n",
    "\n",
    "a = np.empty((3,3,3))\n",
    "print(a)"
   ]
  },
  {
   "cell_type": "code",
   "execution_count": null,
   "id": "9c808a63",
   "metadata": {
    "execution": {
     "iopub.execute_input": "2024-07-05T06:49:05.564730Z",
     "iopub.status.busy": "2024-07-05T06:49:05.563756Z",
     "iopub.status.idle": "2024-07-05T06:49:05.570524Z",
     "shell.execute_reply": "2024-07-05T06:49:05.569530Z",
     "shell.execute_reply.started": "2024-07-05T06:49:05.564689Z"
    },
    "papermill": {
     "duration": null,
     "end_time": null,
     "exception": null,
     "start_time": null,
     "status": "pending"
    },
    "tags": []
   },
   "outputs": [],
   "source": [
    "# np.arange()\n",
    "\n",
    "x_values = np.arange(0, 500, 5)   # (the beginning, the end, step size)\n",
    "print(x_values)"
   ]
  },
  {
   "cell_type": "code",
   "execution_count": null,
   "id": "7857e1f6",
   "metadata": {
    "execution": {
     "iopub.execute_input": "2024-07-05T06:50:51.081710Z",
     "iopub.status.busy": "2024-07-05T06:50:51.080985Z",
     "iopub.status.idle": "2024-07-05T06:50:51.087387Z",
     "shell.execute_reply": "2024-07-05T06:50:51.086381Z",
     "shell.execute_reply.started": "2024-07-05T06:50:51.081676Z"
    },
    "papermill": {
     "duration": null,
     "end_time": null,
     "exception": null,
     "start_time": null,
     "status": "pending"
    },
    "tags": []
   },
   "outputs": [],
   "source": [
    "# np.linspace()\n",
    "\n",
    "x_values = np.linspace(0, 50, 51)   # (the beginning, the end, how many values want to generate)\n",
    "print(x_values)"
   ]
  },
  {
   "cell_type": "markdown",
   "id": "4983a0a7",
   "metadata": {
    "papermill": {
     "duration": null,
     "end_time": null,
     "exception": null,
     "start_time": null,
     "status": "pending"
    },
    "tags": []
   },
   "source": [
    "# NaN & Inf"
   ]
  },
  {
   "cell_type": "markdown",
   "id": "e68a310e",
   "metadata": {
    "papermill": {
     "duration": null,
     "end_time": null,
     "exception": null,
     "start_time": null,
     "status": "pending"
    },
    "tags": []
   },
   "source": [
    "1. NaN stands for **Not a Number**\n",
    "\n",
    "   It can be used for datasets if you load a huge datasets in some columns/values are missing you fill it up with NaN, then you can drop or change the NaN. \n",
    "\n",
    "\n",
    "2. Inf stands for **Infinity**\n",
    "\n",
    "   It can be useful for when you get results like a division by zero, instead of just throwing an exception, you can just return an infinity value and check for values."
   ]
  },
  {
   "cell_type": "code",
   "execution_count": null,
   "id": "18410914",
   "metadata": {
    "execution": {
     "iopub.execute_input": "2024-07-05T06:52:07.620338Z",
     "iopub.status.busy": "2024-07-05T06:52:07.619980Z",
     "iopub.status.idle": "2024-07-05T06:52:07.624875Z",
     "shell.execute_reply": "2024-07-05T06:52:07.624010Z",
     "shell.execute_reply.started": "2024-07-05T06:52:07.620308Z"
    },
    "papermill": {
     "duration": null,
     "end_time": null,
     "exception": null,
     "start_time": null,
     "status": "pending"
    },
    "tags": []
   },
   "outputs": [],
   "source": [
    "print(np.nan)\n",
    "print(np.inf)"
   ]
  },
  {
   "cell_type": "code",
   "execution_count": null,
   "id": "dca35695",
   "metadata": {
    "execution": {
     "iopub.execute_input": "2024-07-05T06:59:28.399949Z",
     "iopub.status.busy": "2024-07-05T06:59:28.399030Z",
     "iopub.status.idle": "2024-07-05T06:59:28.404828Z",
     "shell.execute_reply": "2024-07-05T06:59:28.403751Z",
     "shell.execute_reply.started": "2024-07-05T06:59:28.399913Z"
    },
    "papermill": {
     "duration": null,
     "end_time": null,
     "exception": null,
     "start_time": null,
     "status": "pending"
    },
    "tags": []
   },
   "outputs": [],
   "source": [
    "print(np.isnan(np.nan))"
   ]
  },
  {
   "cell_type": "code",
   "execution_count": null,
   "id": "92ffe80d",
   "metadata": {
    "execution": {
     "iopub.execute_input": "2024-07-05T06:58:56.644078Z",
     "iopub.status.busy": "2024-07-05T06:58:56.643701Z",
     "iopub.status.idle": "2024-07-05T06:58:56.649284Z",
     "shell.execute_reply": "2024-07-05T06:58:56.648271Z",
     "shell.execute_reply.started": "2024-07-05T06:58:56.644035Z"
    },
    "papermill": {
     "duration": null,
     "end_time": null,
     "exception": null,
     "start_time": null,
     "status": "pending"
    },
    "tags": []
   },
   "outputs": [],
   "source": [
    "print(np.isinf(np.inf))"
   ]
  },
  {
   "cell_type": "code",
   "execution_count": null,
   "id": "03ff6b31",
   "metadata": {
    "execution": {
     "iopub.execute_input": "2024-07-05T07:00:54.505788Z",
     "iopub.status.busy": "2024-07-05T07:00:54.505328Z",
     "iopub.status.idle": "2024-07-05T07:00:54.512601Z",
     "shell.execute_reply": "2024-07-05T07:00:54.510864Z",
     "shell.execute_reply.started": "2024-07-05T07:00:54.505747Z"
    },
    "papermill": {
     "duration": null,
     "end_time": null,
     "exception": null,
     "start_time": null,
     "status": "pending"
    },
    "tags": []
   },
   "outputs": [],
   "source": [
    "print(np.isnan(np.sqrt(-1)))   # Ignore the warning"
   ]
  },
  {
   "cell_type": "code",
   "execution_count": null,
   "id": "b7b9b82e",
   "metadata": {
    "execution": {
     "iopub.execute_input": "2024-07-05T07:00:47.724273Z",
     "iopub.status.busy": "2024-07-05T07:00:47.723865Z",
     "iopub.status.idle": "2024-07-05T07:00:47.729971Z",
     "shell.execute_reply": "2024-07-05T07:00:47.728893Z",
     "shell.execute_reply.started": "2024-07-05T07:00:47.724241Z"
    },
    "papermill": {
     "duration": null,
     "end_time": null,
     "exception": null,
     "start_time": null,
     "status": "pending"
    },
    "tags": []
   },
   "outputs": [],
   "source": [
    "print(np.isinf(np.array([10]) / 0))   # Ignore the warning"
   ]
  },
  {
   "cell_type": "markdown",
   "id": "d9b4bd3d",
   "metadata": {
    "papermill": {
     "duration": null,
     "end_time": null,
     "exception": null,
     "start_time": null,
     "status": "pending"
    },
    "tags": []
   },
   "source": [
    "# Mathematical operations"
   ]
  },
  {
   "cell_type": "code",
   "execution_count": null,
   "id": "456c9c37",
   "metadata": {
    "execution": {
     "iopub.execute_input": "2024-07-05T07:01:53.288040Z",
     "iopub.status.busy": "2024-07-05T07:01:53.287673Z",
     "iopub.status.idle": "2024-07-05T07:01:53.293103Z",
     "shell.execute_reply": "2024-07-05T07:01:53.291975Z",
     "shell.execute_reply.started": "2024-07-05T07:01:53.288010Z"
    },
    "papermill": {
     "duration": null,
     "end_time": null,
     "exception": null,
     "start_time": null,
     "status": "pending"
    },
    "tags": []
   },
   "outputs": [],
   "source": [
    "l1 = [1,2,3,4,5]\n",
    "l2 = [6,7,8,9,0]\n",
    "\n",
    "a1 = np.array(l1)\n",
    "a2 = np.array(l2)"
   ]
  },
  {
   "cell_type": "code",
   "execution_count": null,
   "id": "21a793e0",
   "metadata": {
    "execution": {
     "iopub.execute_input": "2024-07-05T07:02:26.556997Z",
     "iopub.status.busy": "2024-07-05T07:02:26.556160Z",
     "iopub.status.idle": "2024-07-05T07:02:26.561342Z",
     "shell.execute_reply": "2024-07-05T07:02:26.560443Z",
     "shell.execute_reply.started": "2024-07-05T07:02:26.556966Z"
    },
    "papermill": {
     "duration": null,
     "end_time": null,
     "exception": null,
     "start_time": null,
     "status": "pending"
    },
    "tags": []
   },
   "outputs": [],
   "source": [
    "print(l1 * 5)   # Repeat the numpy arrays 5 times"
   ]
  },
  {
   "cell_type": "code",
   "execution_count": null,
   "id": "9168e522",
   "metadata": {
    "execution": {
     "iopub.execute_input": "2024-07-05T07:03:16.226224Z",
     "iopub.status.busy": "2024-07-05T07:03:16.225355Z",
     "iopub.status.idle": "2024-07-05T07:03:16.230950Z",
     "shell.execute_reply": "2024-07-05T07:03:16.230032Z",
     "shell.execute_reply.started": "2024-07-05T07:03:16.226189Z"
    },
    "papermill": {
     "duration": null,
     "end_time": null,
     "exception": null,
     "start_time": null,
     "status": "pending"
    },
    "tags": []
   },
   "outputs": [],
   "source": [
    "print(a1 * 5)   # Take the 5 and multiply each elements of the array with that number"
   ]
  },
  {
   "cell_type": "code",
   "execution_count": null,
   "id": "e6598877",
   "metadata": {
    "execution": {
     "iopub.execute_input": "2024-07-05T07:05:12.061383Z",
     "iopub.status.busy": "2024-07-05T07:05:12.060674Z",
     "iopub.status.idle": "2024-07-05T07:05:12.065619Z",
     "shell.execute_reply": "2024-07-05T07:05:12.064554Z",
     "shell.execute_reply.started": "2024-07-05T07:05:12.061353Z"
    },
    "papermill": {
     "duration": null,
     "end_time": null,
     "exception": null,
     "start_time": null,
     "status": "pending"
    },
    "tags": []
   },
   "outputs": [],
   "source": [
    "print(l1 + l2)"
   ]
  },
  {
   "cell_type": "code",
   "execution_count": null,
   "id": "873d9e0a",
   "metadata": {
    "execution": {
     "iopub.execute_input": "2024-07-05T07:04:47.064866Z",
     "iopub.status.busy": "2024-07-05T07:04:47.064140Z",
     "iopub.status.idle": "2024-07-05T07:04:47.069833Z",
     "shell.execute_reply": "2024-07-05T07:04:47.068815Z",
     "shell.execute_reply.started": "2024-07-05T07:04:47.064833Z"
    },
    "papermill": {
     "duration": null,
     "end_time": null,
     "exception": null,
     "start_time": null,
     "status": "pending"
    },
    "tags": []
   },
   "outputs": [],
   "source": [
    "print(a1 - a2)"
   ]
  },
  {
   "cell_type": "code",
   "execution_count": null,
   "id": "4cdba421",
   "metadata": {
    "execution": {
     "iopub.execute_input": "2024-07-05T07:09:17.352945Z",
     "iopub.status.busy": "2024-07-05T07:09:17.352602Z",
     "iopub.status.idle": "2024-07-05T07:09:17.358470Z",
     "shell.execute_reply": "2024-07-05T07:09:17.357532Z",
     "shell.execute_reply.started": "2024-07-05T07:09:17.352919Z"
    },
    "papermill": {
     "duration": null,
     "end_time": null,
     "exception": null,
     "start_time": null,
     "status": "pending"
    },
    "tags": []
   },
   "outputs": [],
   "source": [
    "a1 = np.array([1,2,3])\n",
    "a2 = np.array([[1],\n",
    "               [2]])\n",
    "\n",
    "print(a1 * a2)"
   ]
  },
  {
   "cell_type": "code",
   "execution_count": null,
   "id": "7f442dab",
   "metadata": {
    "execution": {
     "iopub.execute_input": "2024-07-05T07:09:52.811248Z",
     "iopub.status.busy": "2024-07-05T07:09:52.810294Z",
     "iopub.status.idle": "2024-07-05T07:09:52.816572Z",
     "shell.execute_reply": "2024-07-05T07:09:52.815710Z",
     "shell.execute_reply.started": "2024-07-05T07:09:52.811215Z"
    },
    "papermill": {
     "duration": null,
     "end_time": null,
     "exception": null,
     "start_time": null,
     "status": "pending"
    },
    "tags": []
   },
   "outputs": [],
   "source": [
    "a = np.array([[1,2,3],\n",
    "              [4,5,6]])\n",
    "\n",
    "print(np.sqrt(a))"
   ]
  },
  {
   "cell_type": "code",
   "execution_count": null,
   "id": "53c56a7a",
   "metadata": {
    "execution": {
     "iopub.execute_input": "2024-07-05T07:10:01.066506Z",
     "iopub.status.busy": "2024-07-05T07:10:01.065664Z",
     "iopub.status.idle": "2024-07-05T07:10:01.074252Z",
     "shell.execute_reply": "2024-07-05T07:10:01.073238Z",
     "shell.execute_reply.started": "2024-07-05T07:10:01.066452Z"
    },
    "papermill": {
     "duration": null,
     "end_time": null,
     "exception": null,
     "start_time": null,
     "status": "pending"
    },
    "tags": []
   },
   "outputs": [],
   "source": [
    "print(np.sin(a))"
   ]
  },
  {
   "cell_type": "code",
   "execution_count": null,
   "id": "effe7839",
   "metadata": {
    "execution": {
     "iopub.execute_input": "2024-07-05T07:10:06.650228Z",
     "iopub.status.busy": "2024-07-05T07:10:06.649595Z",
     "iopub.status.idle": "2024-07-05T07:10:06.655342Z",
     "shell.execute_reply": "2024-07-05T07:10:06.654409Z",
     "shell.execute_reply.started": "2024-07-05T07:10:06.650194Z"
    },
    "papermill": {
     "duration": null,
     "end_time": null,
     "exception": null,
     "start_time": null,
     "status": "pending"
    },
    "tags": []
   },
   "outputs": [],
   "source": [
    "print(np.cos(a))"
   ]
  },
  {
   "cell_type": "code",
   "execution_count": null,
   "id": "a2062fa0",
   "metadata": {
    "execution": {
     "iopub.execute_input": "2024-07-05T07:10:11.282710Z",
     "iopub.status.busy": "2024-07-05T07:10:11.281885Z",
     "iopub.status.idle": "2024-07-05T07:10:11.288841Z",
     "shell.execute_reply": "2024-07-05T07:10:11.287762Z",
     "shell.execute_reply.started": "2024-07-05T07:10:11.282672Z"
    },
    "papermill": {
     "duration": null,
     "end_time": null,
     "exception": null,
     "start_time": null,
     "status": "pending"
    },
    "tags": []
   },
   "outputs": [],
   "source": [
    "print(np.tan(a))"
   ]
  },
  {
   "cell_type": "code",
   "execution_count": null,
   "id": "6e415281",
   "metadata": {
    "execution": {
     "iopub.execute_input": "2024-07-05T07:10:27.478137Z",
     "iopub.status.busy": "2024-07-05T07:10:27.477526Z",
     "iopub.status.idle": "2024-07-05T07:10:27.484584Z",
     "shell.execute_reply": "2024-07-05T07:10:27.483535Z",
     "shell.execute_reply.started": "2024-07-05T07:10:27.478108Z"
    },
    "papermill": {
     "duration": null,
     "end_time": null,
     "exception": null,
     "start_time": null,
     "status": "pending"
    },
    "tags": []
   },
   "outputs": [],
   "source": [
    "print(np.arctan(a))"
   ]
  },
  {
   "cell_type": "code",
   "execution_count": null,
   "id": "dfed8186",
   "metadata": {
    "execution": {
     "iopub.execute_input": "2024-07-05T07:10:36.705807Z",
     "iopub.status.busy": "2024-07-05T07:10:36.705074Z",
     "iopub.status.idle": "2024-07-05T07:10:36.711710Z",
     "shell.execute_reply": "2024-07-05T07:10:36.710774Z",
     "shell.execute_reply.started": "2024-07-05T07:10:36.705774Z"
    },
    "papermill": {
     "duration": null,
     "end_time": null,
     "exception": null,
     "start_time": null,
     "status": "pending"
    },
    "tags": []
   },
   "outputs": [],
   "source": [
    "print(np.exp(a))"
   ]
  },
  {
   "cell_type": "code",
   "execution_count": null,
   "id": "a0b1cd7c",
   "metadata": {
    "execution": {
     "iopub.execute_input": "2024-07-05T07:10:40.311427Z",
     "iopub.status.busy": "2024-07-05T07:10:40.310730Z",
     "iopub.status.idle": "2024-07-05T07:10:40.315881Z",
     "shell.execute_reply": "2024-07-05T07:10:40.315014Z",
     "shell.execute_reply.started": "2024-07-05T07:10:40.311396Z"
    },
    "papermill": {
     "duration": null,
     "end_time": null,
     "exception": null,
     "start_time": null,
     "status": "pending"
    },
    "tags": []
   },
   "outputs": [],
   "source": [
    "print(np.log(a))"
   ]
  },
  {
   "cell_type": "code",
   "execution_count": null,
   "id": "e56b8b02",
   "metadata": {
    "execution": {
     "iopub.execute_input": "2024-07-05T07:10:45.081032Z",
     "iopub.status.busy": "2024-07-05T07:10:45.080191Z",
     "iopub.status.idle": "2024-07-05T07:10:45.085917Z",
     "shell.execute_reply": "2024-07-05T07:10:45.084995Z",
     "shell.execute_reply.started": "2024-07-05T07:10:45.080999Z"
    },
    "papermill": {
     "duration": null,
     "end_time": null,
     "exception": null,
     "start_time": null,
     "status": "pending"
    },
    "tags": []
   },
   "outputs": [],
   "source": [
    "print(np.log10(a))"
   ]
  },
  {
   "cell_type": "markdown",
   "id": "a1fe9ee8",
   "metadata": {
    "papermill": {
     "duration": null,
     "end_time": null,
     "exception": null,
     "start_time": null,
     "status": "pending"
    },
    "tags": []
   },
   "source": [
    "# Array methods/functions"
   ]
  },
  {
   "cell_type": "code",
   "execution_count": null,
   "id": "cb032fbe",
   "metadata": {
    "execution": {
     "iopub.execute_input": "2024-07-05T07:14:32.098768Z",
     "iopub.status.busy": "2024-07-05T07:14:32.098106Z",
     "iopub.status.idle": "2024-07-05T07:14:32.103002Z",
     "shell.execute_reply": "2024-07-05T07:14:32.102085Z",
     "shell.execute_reply.started": "2024-07-05T07:14:32.098733Z"
    },
    "papermill": {
     "duration": null,
     "end_time": null,
     "exception": null,
     "start_time": null,
     "status": "pending"
    },
    "tags": []
   },
   "outputs": [],
   "source": [
    "a = np.array([1,2,3])"
   ]
  },
  {
   "cell_type": "code",
   "execution_count": null,
   "id": "0818d39f",
   "metadata": {
    "execution": {
     "iopub.execute_input": "2024-07-05T07:14:34.869448Z",
     "iopub.status.busy": "2024-07-05T07:14:34.868746Z",
     "iopub.status.idle": "2024-07-05T07:14:34.875793Z",
     "shell.execute_reply": "2024-07-05T07:14:34.874718Z",
     "shell.execute_reply.started": "2024-07-05T07:14:34.869403Z"
    },
    "papermill": {
     "duration": null,
     "end_time": null,
     "exception": null,
     "start_time": null,
     "status": "pending"
    },
    "tags": []
   },
   "outputs": [],
   "source": [
    "np.append(a, [6,6,6])"
   ]
  },
  {
   "cell_type": "code",
   "execution_count": null,
   "id": "03ba6ad9",
   "metadata": {
    "execution": {
     "iopub.execute_input": "2024-07-05T07:16:18.811385Z",
     "iopub.status.busy": "2024-07-05T07:16:18.811031Z",
     "iopub.status.idle": "2024-07-05T07:16:18.816836Z",
     "shell.execute_reply": "2024-07-05T07:16:18.815885Z",
     "shell.execute_reply.started": "2024-07-05T07:16:18.811359Z"
    },
    "papermill": {
     "duration": null,
     "end_time": null,
     "exception": null,
     "start_time": null,
     "status": "pending"
    },
    "tags": []
   },
   "outputs": [],
   "source": [
    "# np.append()\n",
    "\n",
    "a = np.append(a, [6,6,6])\n",
    "\n",
    "print(a)"
   ]
  },
  {
   "cell_type": "code",
   "execution_count": null,
   "id": "e0f3c44e",
   "metadata": {
    "execution": {
     "iopub.execute_input": "2024-07-05T07:16:03.197890Z",
     "iopub.status.busy": "2024-07-05T07:16:03.197222Z",
     "iopub.status.idle": "2024-07-05T07:16:03.204715Z",
     "shell.execute_reply": "2024-07-05T07:16:03.203849Z",
     "shell.execute_reply.started": "2024-07-05T07:16:03.197853Z"
    },
    "papermill": {
     "duration": null,
     "end_time": null,
     "exception": null,
     "start_time": null,
     "status": "pending"
    },
    "tags": []
   },
   "outputs": [],
   "source": [
    "# np.insert()\n",
    "\n",
    "np.insert(a, 3, [7,7,7])"
   ]
  },
  {
   "cell_type": "code",
   "execution_count": null,
   "id": "3ab7325f",
   "metadata": {
    "execution": {
     "iopub.execute_input": "2024-07-05T07:33:40.951966Z",
     "iopub.status.busy": "2024-07-05T07:33:40.951617Z",
     "iopub.status.idle": "2024-07-05T07:33:40.957866Z",
     "shell.execute_reply": "2024-07-05T07:33:40.956959Z",
     "shell.execute_reply.started": "2024-07-05T07:33:40.951938Z"
    },
    "papermill": {
     "duration": null,
     "end_time": null,
     "exception": null,
     "start_time": null,
     "status": "pending"
    },
    "tags": []
   },
   "outputs": [],
   "source": [
    "# np.delete()\n",
    "\n",
    "a = np.array([[1,2,3],\n",
    "              [4,5,6]])\n",
    "\n",
    "print(np.delete(a, 1))      # (array, index)\n",
    "print(np.delete(a, 2))"
   ]
  },
  {
   "cell_type": "code",
   "execution_count": null,
   "id": "b0c650f1",
   "metadata": {
    "execution": {
     "iopub.execute_input": "2024-07-05T07:21:48.595721Z",
     "iopub.status.busy": "2024-07-05T07:21:48.595342Z",
     "iopub.status.idle": "2024-07-05T07:21:48.601938Z",
     "shell.execute_reply": "2024-07-05T07:21:48.600919Z",
     "shell.execute_reply.started": "2024-07-05T07:21:48.595688Z"
    },
    "papermill": {
     "duration": null,
     "end_time": null,
     "exception": null,
     "start_time": null,
     "status": "pending"
    },
    "tags": []
   },
   "outputs": [],
   "source": [
    "print(np.delete(a, 1, 0))   # (array, index, row)\n",
    "print(np.delete(a, 0, 0))"
   ]
  },
  {
   "cell_type": "code",
   "execution_count": null,
   "id": "7bc2fcb0",
   "metadata": {
    "execution": {
     "iopub.execute_input": "2024-07-05T07:21:37.919115Z",
     "iopub.status.busy": "2024-07-05T07:21:37.918301Z",
     "iopub.status.idle": "2024-07-05T07:21:37.924468Z",
     "shell.execute_reply": "2024-07-05T07:21:37.923508Z",
     "shell.execute_reply.started": "2024-07-05T07:21:37.919082Z"
    },
    "papermill": {
     "duration": null,
     "end_time": null,
     "exception": null,
     "start_time": null,
     "status": "pending"
    },
    "tags": []
   },
   "outputs": [],
   "source": [
    "print(np.delete(a, 1, 1))   # (array, index, column)\n",
    "print(np.delete(a, 2, 1))"
   ]
  },
  {
   "cell_type": "markdown",
   "id": "519377ee",
   "metadata": {
    "papermill": {
     "duration": null,
     "end_time": null,
     "exception": null,
     "start_time": null,
     "status": "pending"
    },
    "tags": []
   },
   "source": [
    "# Structuring methods"
   ]
  },
  {
   "cell_type": "code",
   "execution_count": null,
   "id": "cc25e215",
   "metadata": {
    "execution": {
     "iopub.execute_input": "2024-07-05T07:56:27.105782Z",
     "iopub.status.busy": "2024-07-05T07:56:27.105366Z",
     "iopub.status.idle": "2024-07-05T07:56:27.113340Z",
     "shell.execute_reply": "2024-07-05T07:56:27.111762Z",
     "shell.execute_reply.started": "2024-07-05T07:56:27.105750Z"
    },
    "papermill": {
     "duration": null,
     "end_time": null,
     "exception": null,
     "start_time": null,
     "status": "pending"
    },
    "tags": []
   },
   "outputs": [],
   "source": [
    "import numpy as np"
   ]
  },
  {
   "cell_type": "code",
   "execution_count": null,
   "id": "41c3d322",
   "metadata": {
    "execution": {
     "iopub.execute_input": "2024-07-05T07:56:29.065341Z",
     "iopub.status.busy": "2024-07-05T07:56:29.064919Z",
     "iopub.status.idle": "2024-07-05T07:56:29.072334Z",
     "shell.execute_reply": "2024-07-05T07:56:29.070916Z",
     "shell.execute_reply.started": "2024-07-05T07:56:29.065308Z"
    },
    "papermill": {
     "duration": null,
     "end_time": null,
     "exception": null,
     "start_time": null,
     "status": "pending"
    },
    "tags": []
   },
   "outputs": [],
   "source": [
    "a = np.array([[1,2,3,4],\n",
    "              [5,6,7,8],\n",
    "              [9,10,11,12],\n",
    "              [13,14,15,16],\n",
    "              [17,18,19,20]])"
   ]
  },
  {
   "cell_type": "code",
   "execution_count": null,
   "id": "8b57c17b",
   "metadata": {
    "execution": {
     "iopub.execute_input": "2024-07-05T07:56:31.036737Z",
     "iopub.status.busy": "2024-07-05T07:56:31.036332Z",
     "iopub.status.idle": "2024-07-05T07:56:31.042724Z",
     "shell.execute_reply": "2024-07-05T07:56:31.041231Z",
     "shell.execute_reply.started": "2024-07-05T07:56:31.036705Z"
    },
    "papermill": {
     "duration": null,
     "end_time": null,
     "exception": null,
     "start_time": null,
     "status": "pending"
    },
    "tags": []
   },
   "outputs": [],
   "source": [
    "# np.shape\n",
    "\n",
    "print(a.shape)"
   ]
  },
  {
   "cell_type": "code",
   "execution_count": null,
   "id": "f6bd707b",
   "metadata": {
    "execution": {
     "iopub.execute_input": "2024-07-05T07:56:32.371381Z",
     "iopub.status.busy": "2024-07-05T07:56:32.370954Z",
     "iopub.status.idle": "2024-07-05T07:56:32.378094Z",
     "shell.execute_reply": "2024-07-05T07:56:32.376800Z",
     "shell.execute_reply.started": "2024-07-05T07:56:32.371351Z"
    },
    "papermill": {
     "duration": null,
     "end_time": null,
     "exception": null,
     "start_time": null,
     "status": "pending"
    },
    "tags": []
   },
   "outputs": [],
   "source": [
    "# np.reshape()\n",
    "\n",
    "print(a.reshape((4,5)))   # (row, column)"
   ]
  },
  {
   "cell_type": "code",
   "execution_count": null,
   "id": "1ac47110",
   "metadata": {
    "execution": {
     "iopub.execute_input": "2024-07-05T07:56:34.558502Z",
     "iopub.status.busy": "2024-07-05T07:56:34.558113Z",
     "iopub.status.idle": "2024-07-05T07:56:34.565010Z",
     "shell.execute_reply": "2024-07-05T07:56:34.563705Z",
     "shell.execute_reply.started": "2024-07-05T07:56:34.558474Z"
    },
    "papermill": {
     "duration": null,
     "end_time": null,
     "exception": null,
     "start_time": null,
     "status": "pending"
    },
    "tags": []
   },
   "outputs": [],
   "source": [
    "print(a.reshape(20,1))"
   ]
  },
  {
   "cell_type": "code",
   "execution_count": null,
   "id": "fa11414c",
   "metadata": {
    "execution": {
     "iopub.execute_input": "2024-07-05T07:44:30.790501Z",
     "iopub.status.busy": "2024-07-05T07:44:30.789845Z",
     "iopub.status.idle": "2024-07-05T07:44:30.795502Z",
     "shell.execute_reply": "2024-07-05T07:44:30.794605Z",
     "shell.execute_reply.started": "2024-07-05T07:44:30.790457Z"
    },
    "papermill": {
     "duration": null,
     "end_time": null,
     "exception": null,
     "start_time": null,
     "status": "pending"
    },
    "tags": []
   },
   "outputs": [],
   "source": [
    "print(a.reshape(2,10))"
   ]
  },
  {
   "cell_type": "code",
   "execution_count": null,
   "id": "121c0cc9",
   "metadata": {
    "execution": {
     "iopub.execute_input": "2024-07-05T07:44:33.218215Z",
     "iopub.status.busy": "2024-07-05T07:44:33.217890Z",
     "iopub.status.idle": "2024-07-05T07:44:33.223676Z",
     "shell.execute_reply": "2024-07-05T07:44:33.222812Z",
     "shell.execute_reply.started": "2024-07-05T07:44:33.218191Z"
    },
    "papermill": {
     "duration": null,
     "end_time": null,
     "exception": null,
     "start_time": null,
     "status": "pending"
    },
    "tags": []
   },
   "outputs": [],
   "source": [
    "print(a.reshape(2,5,2))   # 3 dimensional array (collections, lists, elements)"
   ]
  },
  {
   "cell_type": "code",
   "execution_count": null,
   "id": "f6dc79af",
   "metadata": {
    "execution": {
     "iopub.execute_input": "2024-07-05T07:44:35.300771Z",
     "iopub.status.busy": "2024-07-05T07:44:35.300398Z",
     "iopub.status.idle": "2024-07-05T07:44:35.305886Z",
     "shell.execute_reply": "2024-07-05T07:44:35.304841Z",
     "shell.execute_reply.started": "2024-07-05T07:44:35.300740Z"
    },
    "papermill": {
     "duration": null,
     "end_time": null,
     "exception": null,
     "start_time": null,
     "status": "pending"
    },
    "tags": []
   },
   "outputs": [],
   "source": [
    "print(a.reshape(2,2,5))   # 3 dimensional array (collections, lists, elements)"
   ]
  },
  {
   "cell_type": "code",
   "execution_count": null,
   "id": "299459e3",
   "metadata": {
    "execution": {
     "iopub.execute_input": "2024-07-05T07:44:37.267130Z",
     "iopub.status.busy": "2024-07-05T07:44:37.266776Z",
     "iopub.status.idle": "2024-07-05T07:44:37.272323Z",
     "shell.execute_reply": "2024-07-05T07:44:37.271440Z",
     "shell.execute_reply.started": "2024-07-05T07:44:37.267100Z"
    },
    "papermill": {
     "duration": null,
     "end_time": null,
     "exception": null,
     "start_time": null,
     "status": "pending"
    },
    "tags": []
   },
   "outputs": [],
   "source": [
    "# np.resize()\n",
    "\n",
    "a.resize((10,2))\n",
    "print(a)"
   ]
  },
  {
   "cell_type": "code",
   "execution_count": null,
   "id": "9f36f522",
   "metadata": {
    "execution": {
     "iopub.execute_input": "2024-07-05T07:44:39.253903Z",
     "iopub.status.busy": "2024-07-05T07:44:39.253545Z",
     "iopub.status.idle": "2024-07-05T07:44:39.259448Z",
     "shell.execute_reply": "2024-07-05T07:44:39.258431Z",
     "shell.execute_reply.started": "2024-07-05T07:44:39.253873Z"
    },
    "papermill": {
     "duration": null,
     "end_time": null,
     "exception": null,
     "start_time": null,
     "status": "pending"
    },
    "tags": []
   },
   "outputs": [],
   "source": [
    "# np.flatten()\n",
    "\n",
    "print(a.flatten())   # Returns a flattened copy of the array"
   ]
  },
  {
   "cell_type": "code",
   "execution_count": null,
   "id": "724929b3",
   "metadata": {
    "execution": {
     "iopub.execute_input": "2024-07-05T07:44:41.567089Z",
     "iopub.status.busy": "2024-07-05T07:44:41.566738Z",
     "iopub.status.idle": "2024-07-05T07:44:41.572012Z",
     "shell.execute_reply": "2024-07-05T07:44:41.571087Z",
     "shell.execute_reply.started": "2024-07-05T07:44:41.567059Z"
    },
    "papermill": {
     "duration": null,
     "end_time": null,
     "exception": null,
     "start_time": null,
     "status": "pending"
    },
    "tags": []
   },
   "outputs": [],
   "source": [
    "# np.ravel()\n",
    "\n",
    "print(a.ravel())   # Only returns a view a flattened view onto the array"
   ]
  },
  {
   "cell_type": "code",
   "execution_count": null,
   "id": "5a3199bb",
   "metadata": {
    "execution": {
     "iopub.execute_input": "2024-07-05T07:44:43.230653Z",
     "iopub.status.busy": "2024-07-05T07:44:43.229811Z",
     "iopub.status.idle": "2024-07-05T07:44:43.235803Z",
     "shell.execute_reply": "2024-07-05T07:44:43.234896Z",
     "shell.execute_reply.started": "2024-07-05T07:44:43.230620Z"
    },
    "papermill": {
     "duration": null,
     "end_time": null,
     "exception": null,
     "start_time": null,
     "status": "pending"
    },
    "tags": []
   },
   "outputs": [],
   "source": [
    "var1 = a.flatten()   # The original array is unchanged in any way\n",
    "var1[2] = 50\n",
    "print(var1)\n",
    "print(a)"
   ]
  },
  {
   "cell_type": "code",
   "execution_count": null,
   "id": "bad36536",
   "metadata": {
    "execution": {
     "iopub.execute_input": "2024-07-05T07:44:45.396822Z",
     "iopub.status.busy": "2024-07-05T07:44:45.395978Z",
     "iopub.status.idle": "2024-07-05T07:44:45.401501Z",
     "shell.execute_reply": "2024-07-05T07:44:45.400518Z",
     "shell.execute_reply.started": "2024-07-05T07:44:45.396789Z"
    },
    "papermill": {
     "duration": null,
     "end_time": null,
     "exception": null,
     "start_time": null,
     "status": "pending"
    },
    "tags": []
   },
   "outputs": [],
   "source": [
    "var = [v for v in a.flat]\n",
    "print(var)"
   ]
  },
  {
   "cell_type": "code",
   "execution_count": null,
   "id": "e277fe90",
   "metadata": {
    "execution": {
     "iopub.execute_input": "2024-07-05T07:45:51.526742Z",
     "iopub.status.busy": "2024-07-05T07:45:51.525979Z",
     "iopub.status.idle": "2024-07-05T07:45:51.532149Z",
     "shell.execute_reply": "2024-07-05T07:45:51.531218Z",
     "shell.execute_reply.started": "2024-07-05T07:45:51.526693Z"
    },
    "papermill": {
     "duration": null,
     "end_time": null,
     "exception": null,
     "start_time": null,
     "status": "pending"
    },
    "tags": []
   },
   "outputs": [],
   "source": [
    "var1 = a.ravel()   # It changes the original array\n",
    "var1[2] = 50\n",
    "print(var1)\n",
    "print(a)"
   ]
  },
  {
   "cell_type": "code",
   "execution_count": null,
   "id": "629ddd73",
   "metadata": {
    "execution": {
     "iopub.execute_input": "2024-07-05T07:45:53.442828Z",
     "iopub.status.busy": "2024-07-05T07:45:53.442449Z",
     "iopub.status.idle": "2024-07-05T07:45:53.448000Z",
     "shell.execute_reply": "2024-07-05T07:45:53.447050Z",
     "shell.execute_reply.started": "2024-07-05T07:45:53.442798Z"
    },
    "papermill": {
     "duration": null,
     "end_time": null,
     "exception": null,
     "start_time": null,
     "status": "pending"
    },
    "tags": []
   },
   "outputs": [],
   "source": [
    "# np.transpose()\n",
    "\n",
    "print(a.transpose())"
   ]
  },
  {
   "cell_type": "code",
   "execution_count": null,
   "id": "0114d140",
   "metadata": {
    "execution": {
     "iopub.execute_input": "2024-07-05T07:46:17.939993Z",
     "iopub.status.busy": "2024-07-05T07:46:17.939041Z",
     "iopub.status.idle": "2024-07-05T07:46:17.944816Z",
     "shell.execute_reply": "2024-07-05T07:46:17.943705Z",
     "shell.execute_reply.started": "2024-07-05T07:46:17.939958Z"
    },
    "papermill": {
     "duration": null,
     "end_time": null,
     "exception": null,
     "start_time": null,
     "status": "pending"
    },
    "tags": []
   },
   "outputs": [],
   "source": [
    "print(a.T)"
   ]
  },
  {
   "cell_type": "code",
   "execution_count": null,
   "id": "57aa483f",
   "metadata": {
    "execution": {
     "iopub.execute_input": "2024-07-05T07:56:38.250794Z",
     "iopub.status.busy": "2024-07-05T07:56:38.250389Z",
     "iopub.status.idle": "2024-07-05T07:56:38.257625Z",
     "shell.execute_reply": "2024-07-05T07:56:38.256230Z",
     "shell.execute_reply.started": "2024-07-05T07:56:38.250761Z"
    },
    "papermill": {
     "duration": null,
     "end_time": null,
     "exception": null,
     "start_time": null,
     "status": "pending"
    },
    "tags": []
   },
   "outputs": [],
   "source": [
    "# np.swapaxes()\n",
    "\n",
    "print(a.swapaxes(0,0))"
   ]
  },
  {
   "cell_type": "markdown",
   "id": "8632c952",
   "metadata": {
    "papermill": {
     "duration": null,
     "end_time": null,
     "exception": null,
     "start_time": null,
     "status": "pending"
    },
    "tags": []
   },
   "source": [
    "# Concatenating, stacking, splitting"
   ]
  },
  {
   "cell_type": "markdown",
   "id": "c49ba671",
   "metadata": {
    "papermill": {
     "duration": null,
     "end_time": null,
     "exception": null,
     "start_time": null,
     "status": "pending"
    },
    "tags": []
   },
   "source": [
    "# Concatenate"
   ]
  },
  {
   "cell_type": "code",
   "execution_count": null,
   "id": "c31e61bc",
   "metadata": {
    "execution": {
     "iopub.execute_input": "2024-07-05T07:57:56.829645Z",
     "iopub.status.busy": "2024-07-05T07:57:56.829220Z",
     "iopub.status.idle": "2024-07-05T07:57:56.838898Z",
     "shell.execute_reply": "2024-07-05T07:57:56.837720Z",
     "shell.execute_reply.started": "2024-07-05T07:57:56.829609Z"
    },
    "papermill": {
     "duration": null,
     "end_time": null,
     "exception": null,
     "start_time": null,
     "status": "pending"
    },
    "tags": []
   },
   "outputs": [],
   "source": [
    "a1 = np.array([[1,2,3,4],\n",
    "               [5,6,7,8]])\n",
    "a2 = np.array([[9,10,11,12],\n",
    "               [13,14,15,16]])\n",
    "a3 = np.array([[17,18,19,20],\n",
    "               [21,22,23,24]])\n",
    "\n",
    "a = np.concatenate((a1, a2, a3), axis=0)\n",
    "print(a)"
   ]
  },
  {
   "cell_type": "markdown",
   "id": "253d7661",
   "metadata": {
    "papermill": {
     "duration": null,
     "end_time": null,
     "exception": null,
     "start_time": null,
     "status": "pending"
    },
    "tags": []
   },
   "source": [
    "# Split"
   ]
  },
  {
   "cell_type": "code",
   "execution_count": null,
   "id": "1ac3e773",
   "metadata": {
    "execution": {
     "iopub.execute_input": "2024-07-05T08:01:27.342593Z",
     "iopub.status.busy": "2024-07-05T08:01:27.342181Z",
     "iopub.status.idle": "2024-07-05T08:01:27.351578Z",
     "shell.execute_reply": "2024-07-05T08:01:27.350223Z",
     "shell.execute_reply.started": "2024-07-05T08:01:27.342560Z"
    },
    "papermill": {
     "duration": null,
     "end_time": null,
     "exception": null,
     "start_time": null,
     "status": "pending"
    },
    "tags": []
   },
   "outputs": [],
   "source": [
    "a = np.array([[1,2,3,4],\n",
    "              [5,6,7,8],\n",
    "              [9,10,11,12],\n",
    "              [13,14,15,16],\n",
    "              [17,18,19,20],\n",
    "              [21,22,23,24]])\n",
    "\n",
    "print(np.split(a, 2, axis=0))"
   ]
  },
  {
   "cell_type": "code",
   "execution_count": null,
   "id": "2d71a27a",
   "metadata": {
    "execution": {
     "iopub.execute_input": "2024-07-05T08:01:16.436020Z",
     "iopub.status.busy": "2024-07-05T08:01:16.435609Z",
     "iopub.status.idle": "2024-07-05T08:01:16.444455Z",
     "shell.execute_reply": "2024-07-05T08:01:16.443140Z",
     "shell.execute_reply.started": "2024-07-05T08:01:16.435987Z"
    },
    "papermill": {
     "duration": null,
     "end_time": null,
     "exception": null,
     "start_time": null,
     "status": "pending"
    },
    "tags": []
   },
   "outputs": [],
   "source": [
    "a = np.array([[1,2,3,4],\n",
    "              [5,6,7,8],\n",
    "              [9,10,11,12],\n",
    "              [13,14,15,16],\n",
    "              [17,18,19,20],\n",
    "              [21,22,23,24]])\n",
    "\n",
    "print(np.split(a, 2, axis=1))"
   ]
  },
  {
   "cell_type": "markdown",
   "id": "e9cfa1cb",
   "metadata": {
    "papermill": {
     "duration": null,
     "end_time": null,
     "exception": null,
     "start_time": null,
     "status": "pending"
    },
    "tags": []
   },
   "source": [
    "# **Aggregate functions**"
   ]
  },
  {
   "cell_type": "code",
   "execution_count": null,
   "id": "299adc25",
   "metadata": {
    "execution": {
     "iopub.execute_input": "2024-07-05T08:02:03.902033Z",
     "iopub.status.busy": "2024-07-05T08:02:03.901596Z",
     "iopub.status.idle": "2024-07-05T08:02:03.908727Z",
     "shell.execute_reply": "2024-07-05T08:02:03.906875Z",
     "shell.execute_reply.started": "2024-07-05T08:02:03.902000Z"
    },
    "papermill": {
     "duration": null,
     "end_time": null,
     "exception": null,
     "start_time": null,
     "status": "pending"
    },
    "tags": []
   },
   "outputs": [],
   "source": [
    "print(a.min())"
   ]
  },
  {
   "cell_type": "code",
   "execution_count": null,
   "id": "db6209cc",
   "metadata": {
    "execution": {
     "iopub.execute_input": "2024-07-05T08:02:11.485099Z",
     "iopub.status.busy": "2024-07-05T08:02:11.484668Z",
     "iopub.status.idle": "2024-07-05T08:02:11.492774Z",
     "shell.execute_reply": "2024-07-05T08:02:11.491142Z",
     "shell.execute_reply.started": "2024-07-05T08:02:11.485065Z"
    },
    "papermill": {
     "duration": null,
     "end_time": null,
     "exception": null,
     "start_time": null,
     "status": "pending"
    },
    "tags": []
   },
   "outputs": [],
   "source": [
    "print(a.max())"
   ]
  },
  {
   "cell_type": "code",
   "execution_count": null,
   "id": "c7117f1f",
   "metadata": {
    "execution": {
     "iopub.execute_input": "2024-07-05T08:02:19.420782Z",
     "iopub.status.busy": "2024-07-05T08:02:19.420411Z",
     "iopub.status.idle": "2024-07-05T08:02:19.426869Z",
     "shell.execute_reply": "2024-07-05T08:02:19.425642Z",
     "shell.execute_reply.started": "2024-07-05T08:02:19.420752Z"
    },
    "papermill": {
     "duration": null,
     "end_time": null,
     "exception": null,
     "start_time": null,
     "status": "pending"
    },
    "tags": []
   },
   "outputs": [],
   "source": [
    "print(a.mean())"
   ]
  },
  {
   "cell_type": "code",
   "execution_count": null,
   "id": "47f5c3ba",
   "metadata": {
    "execution": {
     "iopub.execute_input": "2024-07-05T08:02:26.096603Z",
     "iopub.status.busy": "2024-07-05T08:02:26.096208Z",
     "iopub.status.idle": "2024-07-05T08:02:26.103358Z",
     "shell.execute_reply": "2024-07-05T08:02:26.102088Z",
     "shell.execute_reply.started": "2024-07-05T08:02:26.096572Z"
    },
    "papermill": {
     "duration": null,
     "end_time": null,
     "exception": null,
     "start_time": null,
     "status": "pending"
    },
    "tags": []
   },
   "outputs": [],
   "source": [
    "print(a.std())"
   ]
  },
  {
   "cell_type": "code",
   "execution_count": null,
   "id": "9486c550",
   "metadata": {
    "execution": {
     "iopub.execute_input": "2024-07-05T08:02:33.440100Z",
     "iopub.status.busy": "2024-07-05T08:02:33.439699Z",
     "iopub.status.idle": "2024-07-05T08:02:33.448826Z",
     "shell.execute_reply": "2024-07-05T08:02:33.446862Z",
     "shell.execute_reply.started": "2024-07-05T08:02:33.440070Z"
    },
    "papermill": {
     "duration": null,
     "end_time": null,
     "exception": null,
     "start_time": null,
     "status": "pending"
    },
    "tags": []
   },
   "outputs": [],
   "source": [
    "print(a.sum())"
   ]
  },
  {
   "cell_type": "code",
   "execution_count": null,
   "id": "7d8b1ad3",
   "metadata": {
    "execution": {
     "iopub.execute_input": "2024-07-05T08:03:08.138764Z",
     "iopub.status.busy": "2024-07-05T08:03:08.138348Z",
     "iopub.status.idle": "2024-07-05T08:03:08.145351Z",
     "shell.execute_reply": "2024-07-05T08:03:08.143928Z",
     "shell.execute_reply.started": "2024-07-05T08:03:08.138734Z"
    },
    "papermill": {
     "duration": null,
     "end_time": null,
     "exception": null,
     "start_time": null,
     "status": "pending"
    },
    "tags": []
   },
   "outputs": [],
   "source": [
    "print(np.median(a))"
   ]
  },
  {
   "cell_type": "markdown",
   "id": "909c3372",
   "metadata": {
    "papermill": {
     "duration": null,
     "end_time": null,
     "exception": null,
     "start_time": null,
     "status": "pending"
    },
    "tags": []
   },
   "source": [
    "# **Numpy random**"
   ]
  },
  {
   "cell_type": "markdown",
   "id": "e3f20e3a",
   "metadata": {
    "papermill": {
     "duration": null,
     "end_time": null,
     "exception": null,
     "start_time": null,
     "status": "pending"
    },
    "tags": []
   },
   "source": [
    "# Randint"
   ]
  },
  {
   "cell_type": "code",
   "execution_count": null,
   "id": "f59336cb",
   "metadata": {
    "execution": {
     "iopub.execute_input": "2024-07-05T08:05:28.887022Z",
     "iopub.status.busy": "2024-07-05T08:05:28.886594Z",
     "iopub.status.idle": "2024-07-05T08:05:28.894508Z",
     "shell.execute_reply": "2024-07-05T08:05:28.893395Z",
     "shell.execute_reply.started": "2024-07-05T08:05:28.886989Z"
    },
    "papermill": {
     "duration": null,
     "end_time": null,
     "exception": null,
     "start_time": null,
     "status": "pending"
    },
    "tags": []
   },
   "outputs": [],
   "source": [
    "number = np.random.randint(100)\n",
    "number"
   ]
  },
  {
   "cell_type": "code",
   "execution_count": null,
   "id": "22b37952",
   "metadata": {
    "execution": {
     "iopub.execute_input": "2024-07-05T08:07:06.167852Z",
     "iopub.status.busy": "2024-07-05T08:07:06.167019Z",
     "iopub.status.idle": "2024-07-05T08:07:06.176725Z",
     "shell.execute_reply": "2024-07-05T08:07:06.175403Z",
     "shell.execute_reply.started": "2024-07-05T08:07:06.167793Z"
    },
    "papermill": {
     "duration": null,
     "end_time": null,
     "exception": null,
     "start_time": null,
     "status": "pending"
    },
    "tags": []
   },
   "outputs": [],
   "source": [
    "numbers = np.random.randint(50, 55, size=(2,3,4))   # size = (shape)\n",
    "numbers"
   ]
  },
  {
   "cell_type": "markdown",
   "id": "aeeba8d9",
   "metadata": {
    "papermill": {
     "duration": null,
     "end_time": null,
     "exception": null,
     "start_time": null,
     "status": "pending"
    },
    "tags": []
   },
   "source": [
    "# Binomial"
   ]
  },
  {
   "cell_type": "markdown",
   "id": "a90bef8d",
   "metadata": {
    "papermill": {
     "duration": null,
     "end_time": null,
     "exception": null,
     "start_time": null,
     "status": "pending"
    },
    "tags": []
   },
   "source": [
    "Binomial (tries, probability, size/shape)"
   ]
  },
  {
   "cell_type": "code",
   "execution_count": null,
   "id": "785e5ed4",
   "metadata": {
    "execution": {
     "iopub.execute_input": "2024-07-05T08:11:26.381627Z",
     "iopub.status.busy": "2024-07-05T08:11:26.381227Z",
     "iopub.status.idle": "2024-07-05T08:11:26.391560Z",
     "shell.execute_reply": "2024-07-05T08:11:26.390245Z",
     "shell.execute_reply.started": "2024-07-05T08:11:26.381594Z"
    },
    "papermill": {
     "duration": null,
     "end_time": null,
     "exception": null,
     "start_time": null,
     "status": "pending"
    },
    "tags": []
   },
   "outputs": [],
   "source": [
    "numbers = np.random.binomial(50, p=0.5, size=(5,7))\n",
    "numbers"
   ]
  },
  {
   "cell_type": "markdown",
   "id": "8fea600d",
   "metadata": {
    "papermill": {
     "duration": null,
     "end_time": null,
     "exception": null,
     "start_time": null,
     "status": "pending"
    },
    "tags": []
   },
   "source": [
    "# Normal"
   ]
  },
  {
   "cell_type": "markdown",
   "id": "bbcab76c",
   "metadata": {
    "papermill": {
     "duration": null,
     "end_time": null,
     "exception": null,
     "start_time": null,
     "status": "pending"
    },
    "tags": []
   },
   "source": [
    "Normal\n",
    "* loc = mean\n",
    "* scale = standard deviation\n",
    "* size = shape"
   ]
  },
  {
   "cell_type": "code",
   "execution_count": null,
   "id": "356cc196",
   "metadata": {
    "execution": {
     "iopub.execute_input": "2024-07-05T08:13:11.774961Z",
     "iopub.status.busy": "2024-07-05T08:13:11.774540Z",
     "iopub.status.idle": "2024-07-05T08:13:11.784122Z",
     "shell.execute_reply": "2024-07-05T08:13:11.782520Z",
     "shell.execute_reply.started": "2024-07-05T08:13:11.774928Z"
    },
    "papermill": {
     "duration": null,
     "end_time": null,
     "exception": null,
     "start_time": null,
     "status": "pending"
    },
    "tags": []
   },
   "outputs": [],
   "source": [
    "numbers = np.random.normal(loc=170, scale=20, size=(5,10))\n",
    "numbers"
   ]
  },
  {
   "cell_type": "markdown",
   "id": "0bbde186",
   "metadata": {
    "papermill": {
     "duration": null,
     "end_time": null,
     "exception": null,
     "start_time": null,
     "status": "pending"
    },
    "tags": []
   },
   "source": [
    "# Choice"
   ]
  },
  {
   "cell_type": "code",
   "execution_count": null,
   "id": "0c0e2a4b",
   "metadata": {
    "execution": {
     "iopub.execute_input": "2024-07-05T08:14:29.129711Z",
     "iopub.status.busy": "2024-07-05T08:14:29.129283Z",
     "iopub.status.idle": "2024-07-05T08:14:29.138909Z",
     "shell.execute_reply": "2024-07-05T08:14:29.137218Z",
     "shell.execute_reply.started": "2024-07-05T08:14:29.129678Z"
    },
    "papermill": {
     "duration": null,
     "end_time": null,
     "exception": null,
     "start_time": null,
     "status": "pending"
    },
    "tags": []
   },
   "outputs": [],
   "source": [
    "numbers = np.random.choice([10,20,30,40,50], size=(5,7))\n",
    "numbers"
   ]
  },
  {
   "cell_type": "markdown",
   "id": "abe0db3f",
   "metadata": {
    "papermill": {
     "duration": null,
     "end_time": null,
     "exception": null,
     "start_time": null,
     "status": "pending"
    },
    "tags": []
   },
   "source": [
    "# **Exporting & Importing**"
   ]
  },
  {
   "cell_type": "markdown",
   "id": "37c8f0c9",
   "metadata": {
    "papermill": {
     "duration": null,
     "end_time": null,
     "exception": null,
     "start_time": null,
     "status": "pending"
    },
    "tags": []
   },
   "source": [
    "If you want to do with a **numpy file**:"
   ]
  },
  {
   "cell_type": "code",
   "execution_count": null,
   "id": "4b90c8a6",
   "metadata": {
    "execution": {
     "iopub.execute_input": "2024-07-05T08:17:51.520872Z",
     "iopub.status.busy": "2024-07-05T08:17:51.519817Z",
     "iopub.status.idle": "2024-07-05T08:17:51.529849Z",
     "shell.execute_reply": "2024-07-05T08:17:51.528047Z",
     "shell.execute_reply.started": "2024-07-05T08:17:51.520800Z"
    },
    "papermill": {
     "duration": null,
     "end_time": null,
     "exception": null,
     "start_time": null,
     "status": "pending"
    },
    "tags": []
   },
   "outputs": [],
   "source": [
    "np.save(\"myarray.npy\", a)"
   ]
  },
  {
   "cell_type": "code",
   "execution_count": null,
   "id": "9d805d81",
   "metadata": {
    "execution": {
     "iopub.execute_input": "2024-07-05T08:18:22.077976Z",
     "iopub.status.busy": "2024-07-05T08:18:22.077559Z",
     "iopub.status.idle": "2024-07-05T08:18:22.085525Z",
     "shell.execute_reply": "2024-07-05T08:18:22.084232Z",
     "shell.execute_reply.started": "2024-07-05T08:18:22.077944Z"
    },
    "papermill": {
     "duration": null,
     "end_time": null,
     "exception": null,
     "start_time": null,
     "status": "pending"
    },
    "tags": []
   },
   "outputs": [],
   "source": [
    "a = np.load(\"myarray.npy\")\n",
    "print(a)"
   ]
  },
  {
   "cell_type": "markdown",
   "id": "8edeecfa",
   "metadata": {
    "papermill": {
     "duration": null,
     "end_time": null,
     "exception": null,
     "start_time": null,
     "status": "pending"
    },
    "tags": []
   },
   "source": [
    "If you want to do with **csv file**:"
   ]
  },
  {
   "cell_type": "code",
   "execution_count": null,
   "id": "90ee3269",
   "metadata": {
    "execution": {
     "iopub.execute_input": "2024-07-05T08:20:19.718534Z",
     "iopub.status.busy": "2024-07-05T08:20:19.717969Z",
     "iopub.status.idle": "2024-07-05T08:20:19.725428Z",
     "shell.execute_reply": "2024-07-05T08:20:19.724091Z",
     "shell.execute_reply.started": "2024-07-05T08:20:19.718495Z"
    },
    "papermill": {
     "duration": null,
     "end_time": null,
     "exception": null,
     "start_time": null,
     "status": "pending"
    },
    "tags": []
   },
   "outputs": [],
   "source": [
    "np.savetxt(\"myarray.csv\", a, delimiter=\",\")"
   ]
  },
  {
   "cell_type": "code",
   "execution_count": null,
   "id": "f9c7f137",
   "metadata": {
    "execution": {
     "iopub.execute_input": "2024-07-05T08:22:40.596859Z",
     "iopub.status.busy": "2024-07-05T08:22:40.596439Z",
     "iopub.status.idle": "2024-07-05T08:22:40.604942Z",
     "shell.execute_reply": "2024-07-05T08:22:40.603705Z",
     "shell.execute_reply.started": "2024-07-05T08:22:40.596812Z"
    },
    "papermill": {
     "duration": null,
     "end_time": null,
     "exception": null,
     "start_time": null,
     "status": "pending"
    },
    "tags": []
   },
   "outputs": [],
   "source": [
    "a = np.loadtxt(\"myarray.csv\", delimiter=\",\")\n",
    "print(a)"
   ]
  }
 ],
 "metadata": {
  "kaggle": {
   "accelerator": "none",
   "dataSources": [],
   "dockerImageVersionId": 30732,
   "isGpuEnabled": false,
   "isInternetEnabled": true,
   "language": "python",
   "sourceType": "notebook"
  },
  "kernelspec": {
   "display_name": "Python 3",
   "language": "python",
   "name": "python3"
  },
  "language_info": {
   "codemirror_mode": {
    "name": "ipython",
    "version": 3
   },
   "file_extension": ".py",
   "mimetype": "text/x-python",
   "name": "python",
   "nbconvert_exporter": "python",
   "pygments_lexer": "ipython3",
   "version": "3.10.13"
  },
  "papermill": {
   "default_parameters": {},
   "duration": 21.958483,
   "end_time": "2024-07-05T08:23:24.503196",
   "environment_variables": {},
   "exception": true,
   "input_path": "__notebook__.ipynb",
   "output_path": "__notebook__.ipynb",
   "parameters": {},
   "start_time": "2024-07-05T08:23:02.544713",
   "version": "2.5.0"
  }
 },
 "nbformat": 4,
 "nbformat_minor": 5
}
