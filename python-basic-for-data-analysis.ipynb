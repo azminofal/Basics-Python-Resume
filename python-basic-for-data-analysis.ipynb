{
 "cells": [
  {
   "cell_type": "markdown",
   "id": "e23f0868",
   "metadata": {
    "papermill": {
     "duration": 0.045968,
     "end_time": "2024-07-02T15:52:04.378470",
     "exception": false,
     "start_time": "2024-07-02T15:52:04.332502",
     "status": "completed"
    },
    "tags": []
   },
   "source": [
    "Reference: [DataDaft](https://www.youtube.com/watch?v=2_6O39UdFi0&list=PLiC1doDIe9rCYWmH9wIEYEXXaJ4KAi3jc)"
   ]
  },
  {
   "cell_type": "markdown",
   "id": "8e50e76f",
   "metadata": {
    "_cell_guid": "b1076dfc-b9ad-4769-8c92-a6c4dae69d19",
    "_uuid": "8f2839f25d086af736a60e9eeb907d3b93b6e0e5",
    "execution": {
     "iopub.execute_input": "2024-07-02T11:45:55.968640Z",
     "iopub.status.busy": "2024-07-02T11:45:55.968255Z",
     "iopub.status.idle": "2024-07-02T11:45:57.136551Z",
     "shell.execute_reply": "2024-07-02T11:45:57.135447Z",
     "shell.execute_reply.started": "2024-07-02T11:45:55.968606Z"
    },
    "papermill": {
     "duration": 0.047683,
     "end_time": "2024-07-02T15:52:04.471871",
     "exception": false,
     "start_time": "2024-07-02T15:52:04.424188",
     "status": "completed"
    },
    "tags": []
   },
   "source": [
    "# **Basic math operations**"
   ]
  },
  {
   "cell_type": "code",
   "execution_count": 1,
   "id": "c3565b32",
   "metadata": {
    "execution": {
     "iopub.execute_input": "2024-07-02T15:52:04.581661Z",
     "iopub.status.busy": "2024-07-02T15:52:04.581246Z",
     "iopub.status.idle": "2024-07-02T15:52:04.597007Z",
     "shell.execute_reply": "2024-07-02T15:52:04.596015Z"
    },
    "papermill": {
     "duration": 0.07092,
     "end_time": "2024-07-02T15:52:04.599296",
     "exception": false,
     "start_time": "2024-07-02T15:52:04.528376",
     "status": "completed"
    },
    "tags": []
   },
   "outputs": [
    {
     "data": {
      "text/plain": [
       "25"
      ]
     },
     "execution_count": 1,
     "metadata": {},
     "output_type": "execute_result"
    }
   ],
   "source": [
    "1 + 2 # 3\n",
    "5 - 3 # 2\n",
    "3 + 4 * 5 # 23\n",
    "((2 + 3) * 3) **2 # 225\n",
    "100 % 75 # 25"
   ]
  },
  {
   "cell_type": "code",
   "execution_count": 2,
   "id": "3fee7a46",
   "metadata": {
    "execution": {
     "iopub.execute_input": "2024-07-02T15:52:04.698225Z",
     "iopub.status.busy": "2024-07-02T15:52:04.697866Z",
     "iopub.status.idle": "2024-07-02T15:52:04.702086Z",
     "shell.execute_reply": "2024-07-02T15:52:04.701288Z"
    },
    "papermill": {
     "duration": 0.053896,
     "end_time": "2024-07-02T15:52:04.703961",
     "exception": false,
     "start_time": "2024-07-02T15:52:04.650065",
     "status": "completed"
    },
    "tags": []
   },
   "outputs": [],
   "source": [
    "import math # Load the math module"
   ]
  },
  {
   "cell_type": "code",
   "execution_count": 3,
   "id": "94ae629c",
   "metadata": {
    "execution": {
     "iopub.execute_input": "2024-07-02T15:52:04.842761Z",
     "iopub.status.busy": "2024-07-02T15:52:04.842387Z",
     "iopub.status.idle": "2024-07-02T15:52:04.847911Z",
     "shell.execute_reply": "2024-07-02T15:52:04.847073Z"
    },
    "papermill": {
     "duration": 0.101405,
     "end_time": "2024-07-02T15:52:04.850039",
     "exception": false,
     "start_time": "2024-07-02T15:52:04.748634",
     "status": "completed"
    },
    "tags": []
   },
   "outputs": [
    {
     "data": {
      "text/plain": [
       "0.9999698965391098"
      ]
     },
     "execution_count": 3,
     "metadata": {},
     "output_type": "execute_result"
    }
   ],
   "source": [
    "# math.log() takes the natural logarithm og its argument:\n",
    "\n",
    "math.log(2.7182)"
   ]
  },
  {
   "cell_type": "code",
   "execution_count": 4,
   "id": "00b146b5",
   "metadata": {
    "execution": {
     "iopub.execute_input": "2024-07-02T15:52:04.941177Z",
     "iopub.status.busy": "2024-07-02T15:52:04.940577Z",
     "iopub.status.idle": "2024-07-02T15:52:04.946255Z",
     "shell.execute_reply": "2024-07-02T15:52:04.945401Z"
    },
    "papermill": {
     "duration": 0.053355,
     "end_time": "2024-07-02T15:52:04.948387",
     "exception": false,
     "start_time": "2024-07-02T15:52:04.895032",
     "status": "completed"
    },
    "tags": []
   },
   "outputs": [
    {
     "data": {
      "text/plain": [
       "2.0"
      ]
     },
     "execution_count": 4,
     "metadata": {},
     "output_type": "execute_result"
    }
   ],
   "source": [
    "# Add a second argument to specify the log base:\n",
    "\n",
    "math.log(100, 10)     # Take the log base 10 of 100"
   ]
  },
  {
   "cell_type": "code",
   "execution_count": 5,
   "id": "78e393fb",
   "metadata": {
    "execution": {
     "iopub.execute_input": "2024-07-02T15:52:05.041029Z",
     "iopub.status.busy": "2024-07-02T15:52:05.040691Z",
     "iopub.status.idle": "2024-07-02T15:52:05.046362Z",
     "shell.execute_reply": "2024-07-02T15:52:05.045480Z"
    },
    "papermill": {
     "duration": 0.054971,
     "end_time": "2024-07-02T15:52:05.048319",
     "exception": false,
     "start_time": "2024-07-02T15:52:04.993348",
     "status": "completed"
    },
    "tags": []
   },
   "outputs": [
    {
     "data": {
      "text/plain": [
       "22026.465794806718"
      ]
     },
     "execution_count": 5,
     "metadata": {},
     "output_type": "execute_result"
    }
   ],
   "source": [
    "# math.exp() raises e to the power of its argument:\n",
    "\n",
    "math.exp(10)"
   ]
  },
  {
   "cell_type": "code",
   "execution_count": 6,
   "id": "0d88542a",
   "metadata": {
    "execution": {
     "iopub.execute_input": "2024-07-02T15:52:05.140201Z",
     "iopub.status.busy": "2024-07-02T15:52:05.139387Z",
     "iopub.status.idle": "2024-07-02T15:52:05.145238Z",
     "shell.execute_reply": "2024-07-02T15:52:05.144381Z"
    },
    "papermill": {
     "duration": 0.053558,
     "end_time": "2024-07-02T15:52:05.147273",
     "exception": false,
     "start_time": "2024-07-02T15:52:05.093715",
     "status": "completed"
    },
    "tags": []
   },
   "outputs": [
    {
     "data": {
      "text/plain": [
       "8.0"
      ]
     },
     "execution_count": 6,
     "metadata": {},
     "output_type": "execute_result"
    }
   ],
   "source": [
    "# Use math.sqrt() to take the square root of a number:\n",
    "\n",
    "math.sqrt(64)"
   ]
  },
  {
   "cell_type": "code",
   "execution_count": 7,
   "id": "7a3485d0",
   "metadata": {
    "execution": {
     "iopub.execute_input": "2024-07-02T15:52:05.240267Z",
     "iopub.status.busy": "2024-07-02T15:52:05.239458Z",
     "iopub.status.idle": "2024-07-02T15:52:05.245079Z",
     "shell.execute_reply": "2024-07-02T15:52:05.244243Z"
    },
    "papermill": {
     "duration": 0.053445,
     "end_time": "2024-07-02T15:52:05.246946",
     "exception": false,
     "start_time": "2024-07-02T15:52:05.193501",
     "status": "completed"
    },
    "tags": []
   },
   "outputs": [
    {
     "data": {
      "text/plain": [
       "30"
      ]
     },
     "execution_count": 7,
     "metadata": {},
     "output_type": "execute_result"
    }
   ],
   "source": [
    "# Use abs() to get the absolute value of a number. Note abs() is a base Python function\n",
    "\n",
    "abs(-30)"
   ]
  },
  {
   "cell_type": "code",
   "execution_count": 8,
   "id": "2b5e3271",
   "metadata": {
    "execution": {
     "iopub.execute_input": "2024-07-02T15:52:05.339966Z",
     "iopub.status.busy": "2024-07-02T15:52:05.339179Z",
     "iopub.status.idle": "2024-07-02T15:52:05.344855Z",
     "shell.execute_reply": "2024-07-02T15:52:05.344037Z"
    },
    "papermill": {
     "duration": 0.054695,
     "end_time": "2024-07-02T15:52:05.346804",
     "exception": false,
     "start_time": "2024-07-02T15:52:05.292109",
     "status": "completed"
    },
    "tags": []
   },
   "outputs": [
    {
     "data": {
      "text/plain": [
       "3.141592653589793"
      ]
     },
     "execution_count": 8,
     "metadata": {},
     "output_type": "execute_result"
    }
   ],
   "source": [
    "math.pi   # Get the constant pi"
   ]
  },
  {
   "cell_type": "markdown",
   "id": "1e4b8fe3",
   "metadata": {
    "papermill": {
     "duration": 0.044804,
     "end_time": "2024-07-02T15:52:05.437151",
     "exception": false,
     "start_time": "2024-07-02T15:52:05.392347",
     "status": "completed"
    },
    "tags": []
   },
   "source": [
    "## Rounding Numbers"
   ]
  },
  {
   "cell_type": "code",
   "execution_count": 9,
   "id": "2bc6ca16",
   "metadata": {
    "execution": {
     "iopub.execute_input": "2024-07-02T15:52:05.528788Z",
     "iopub.status.busy": "2024-07-02T15:52:05.528442Z",
     "iopub.status.idle": "2024-07-02T15:52:05.533766Z",
     "shell.execute_reply": "2024-07-02T15:52:05.532904Z"
    },
    "papermill": {
     "duration": 0.053567,
     "end_time": "2024-07-02T15:52:05.535943",
     "exception": false,
     "start_time": "2024-07-02T15:52:05.482376",
     "status": "completed"
    },
    "tags": []
   },
   "outputs": [
    {
     "data": {
      "text/plain": [
       "23"
      ]
     },
     "execution_count": 9,
     "metadata": {},
     "output_type": "execute_result"
    }
   ],
   "source": [
    "# Use round() to round a number to the nearest whole number:\n",
    "\n",
    "round(22.5483218)"
   ]
  },
  {
   "cell_type": "code",
   "execution_count": 10,
   "id": "e7076604",
   "metadata": {
    "execution": {
     "iopub.execute_input": "2024-07-02T15:52:05.628407Z",
     "iopub.status.busy": "2024-07-02T15:52:05.628059Z",
     "iopub.status.idle": "2024-07-02T15:52:05.633937Z",
     "shell.execute_reply": "2024-07-02T15:52:05.633062Z"
    },
    "papermill": {
     "duration": 0.054764,
     "end_time": "2024-07-02T15:52:05.635875",
     "exception": false,
     "start_time": "2024-07-02T15:52:05.581111",
     "status": "completed"
    },
    "tags": []
   },
   "outputs": [
    {
     "data": {
      "text/plain": [
       "22.5"
      ]
     },
     "execution_count": 10,
     "metadata": {},
     "output_type": "execute_result"
    }
   ],
   "source": [
    "# Add a second argument to round to a specified decimal place\n",
    "\n",
    "round(22.5483218, 1) # round to 1 decimal number"
   ]
  },
  {
   "cell_type": "code",
   "execution_count": 11,
   "id": "a55464b3",
   "metadata": {
    "execution": {
     "iopub.execute_input": "2024-07-02T15:52:05.729223Z",
     "iopub.status.busy": "2024-07-02T15:52:05.728882Z",
     "iopub.status.idle": "2024-07-02T15:52:05.734654Z",
     "shell.execute_reply": "2024-07-02T15:52:05.733805Z"
    },
    "papermill": {
     "duration": 0.054988,
     "end_time": "2024-07-02T15:52:05.736735",
     "exception": false,
     "start_time": "2024-07-02T15:52:05.681747",
     "status": "completed"
    },
    "tags": []
   },
   "outputs": [
    {
     "data": {
      "text/plain": [
       "20.0"
      ]
     },
     "execution_count": 11,
     "metadata": {},
     "output_type": "execute_result"
    }
   ],
   "source": [
    "# Enter a negative number to round to the left of the decimal\n",
    "\n",
    "round(22.5483218, -1) # round to the 10's place"
   ]
  },
  {
   "cell_type": "code",
   "execution_count": 12,
   "id": "7ded6f10",
   "metadata": {
    "execution": {
     "iopub.execute_input": "2024-07-02T15:52:05.830328Z",
     "iopub.status.busy": "2024-07-02T15:52:05.829552Z",
     "iopub.status.idle": "2024-07-02T15:52:05.835313Z",
     "shell.execute_reply": "2024-07-02T15:52:05.834527Z"
    },
    "papermill": {
     "duration": 0.054684,
     "end_time": "2024-07-02T15:52:05.837208",
     "exception": false,
     "start_time": "2024-07-02T15:52:05.782524",
     "status": "completed"
    },
    "tags": []
   },
   "outputs": [
    {
     "data": {
      "text/plain": [
       "22"
      ]
     },
     "execution_count": 12,
     "metadata": {},
     "output_type": "execute_result"
    }
   ],
   "source": [
    "# Round down to the nearest whole number with math.floor()\n",
    "\n",
    "math.floor(22.5)"
   ]
  },
  {
   "cell_type": "code",
   "execution_count": 13,
   "id": "8475b73a",
   "metadata": {
    "execution": {
     "iopub.execute_input": "2024-07-02T15:52:05.930614Z",
     "iopub.status.busy": "2024-07-02T15:52:05.930247Z",
     "iopub.status.idle": "2024-07-02T15:52:05.935863Z",
     "shell.execute_reply": "2024-07-02T15:52:05.935063Z"
    },
    "papermill": {
     "duration": 0.054752,
     "end_time": "2024-07-02T15:52:05.937969",
     "exception": false,
     "start_time": "2024-07-02T15:52:05.883217",
     "status": "completed"
    },
    "tags": []
   },
   "outputs": [
    {
     "data": {
      "text/plain": [
       "23"
      ]
     },
     "execution_count": 13,
     "metadata": {},
     "output_type": "execute_result"
    }
   ],
   "source": [
    "# Round up with math.ciel()\n",
    "\n",
    "math.ceil(22.2)"
   ]
  },
  {
   "cell_type": "markdown",
   "id": "36b56448",
   "metadata": {
    "papermill": {
     "duration": 0.045483,
     "end_time": "2024-07-02T15:52:06.029605",
     "exception": false,
     "start_time": "2024-07-02T15:52:05.984122",
     "status": "completed"
    },
    "tags": []
   },
   "source": [
    "# **Basic Data Types**"
   ]
  },
  {
   "cell_type": "markdown",
   "id": "313ffa5e",
   "metadata": {
    "papermill": {
     "duration": 0.045645,
     "end_time": "2024-07-02T15:52:06.121194",
     "exception": false,
     "start_time": "2024-07-02T15:52:06.075549",
     "status": "completed"
    },
    "tags": []
   },
   "source": [
    "## Integers"
   ]
  },
  {
   "cell_type": "code",
   "execution_count": 14,
   "id": "63867e0b",
   "metadata": {
    "execution": {
     "iopub.execute_input": "2024-07-02T15:52:06.215644Z",
     "iopub.status.busy": "2024-07-02T15:52:06.215290Z",
     "iopub.status.idle": "2024-07-02T15:52:06.220892Z",
     "shell.execute_reply": "2024-07-02T15:52:06.220041Z"
    },
    "papermill": {
     "duration": 0.054287,
     "end_time": "2024-07-02T15:52:06.222764",
     "exception": false,
     "start_time": "2024-07-02T15:52:06.168477",
     "status": "completed"
    },
    "tags": []
   },
   "outputs": [
    {
     "data": {
      "text/plain": [
       "int"
      ]
     },
     "execution_count": 14,
     "metadata": {},
     "output_type": "execute_result"
    }
   ],
   "source": [
    "type(12)"
   ]
  },
  {
   "cell_type": "code",
   "execution_count": 15,
   "id": "f29ae120",
   "metadata": {
    "execution": {
     "iopub.execute_input": "2024-07-02T15:52:06.317404Z",
     "iopub.status.busy": "2024-07-02T15:52:06.317061Z",
     "iopub.status.idle": "2024-07-02T15:52:06.322869Z",
     "shell.execute_reply": "2024-07-02T15:52:06.322064Z"
    },
    "papermill": {
     "duration": 0.055544,
     "end_time": "2024-07-02T15:52:06.324737",
     "exception": false,
     "start_time": "2024-07-02T15:52:06.269193",
     "status": "completed"
    },
    "tags": []
   },
   "outputs": [
    {
     "data": {
      "text/plain": [
       "True"
      ]
     },
     "execution_count": 15,
     "metadata": {},
     "output_type": "execute_result"
    }
   ],
   "source": [
    "# Check if 12 is an instance of type \"int\"\n",
    "\n",
    "isinstance(12, int)"
   ]
  },
  {
   "cell_type": "code",
   "execution_count": 16,
   "id": "7e710283",
   "metadata": {
    "execution": {
     "iopub.execute_input": "2024-07-02T15:52:06.418603Z",
     "iopub.status.busy": "2024-07-02T15:52:06.418255Z",
     "iopub.status.idle": "2024-07-02T15:52:06.423804Z",
     "shell.execute_reply": "2024-07-02T15:52:06.422966Z"
    },
    "papermill": {
     "duration": 0.054976,
     "end_time": "2024-07-02T15:52:06.425910",
     "exception": false,
     "start_time": "2024-07-02T15:52:06.370934",
     "status": "completed"
    },
    "tags": []
   },
   "outputs": [
    {
     "data": {
      "text/plain": [
       "0.3333333333333333"
      ]
     },
     "execution_count": 16,
     "metadata": {},
     "output_type": "execute_result"
    }
   ],
   "source": [
    "1/3 # A third is not a whole number*"
   ]
  },
  {
   "cell_type": "code",
   "execution_count": 17,
   "id": "80decb05",
   "metadata": {
    "execution": {
     "iopub.execute_input": "2024-07-02T15:52:06.521013Z",
     "iopub.status.busy": "2024-07-02T15:52:06.520232Z",
     "iopub.status.idle": "2024-07-02T15:52:06.526002Z",
     "shell.execute_reply": "2024-07-02T15:52:06.525081Z"
    },
    "papermill": {
     "duration": 0.055286,
     "end_time": "2024-07-02T15:52:06.527933",
     "exception": false,
     "start_time": "2024-07-02T15:52:06.472647",
     "status": "completed"
    },
    "tags": []
   },
   "outputs": [
    {
     "data": {
      "text/plain": [
       "float"
      ]
     },
     "execution_count": 17,
     "metadata": {},
     "output_type": "execute_result"
    }
   ],
   "source": [
    "type (1/3) # The type of the result is not an int"
   ]
  },
  {
   "cell_type": "markdown",
   "id": "dab9945d",
   "metadata": {
    "papermill": {
     "duration": 0.046538,
     "end_time": "2024-07-02T15:52:06.621153",
     "exception": false,
     "start_time": "2024-07-02T15:52:06.574615",
     "status": "completed"
    },
    "tags": []
   },
   "source": [
    "# Float"
   ]
  },
  {
   "cell_type": "markdown",
   "id": "481d882a",
   "metadata": {
    "papermill": {
     "duration": 0.046807,
     "end_time": "2024-07-02T15:52:06.714656",
     "exception": false,
     "start_time": "2024-07-02T15:52:06.667849",
     "status": "completed"
    },
    "tags": []
   },
   "source": [
    "Floating point numbers (floats) are **numbers with decimal values**."
   ]
  },
  {
   "cell_type": "code",
   "execution_count": 18,
   "id": "3c36b783",
   "metadata": {
    "execution": {
     "iopub.execute_input": "2024-07-02T15:52:06.808959Z",
     "iopub.status.busy": "2024-07-02T15:52:06.808225Z",
     "iopub.status.idle": "2024-07-02T15:52:06.814103Z",
     "shell.execute_reply": "2024-07-02T15:52:06.813322Z"
    },
    "papermill": {
     "duration": 0.055293,
     "end_time": "2024-07-02T15:52:06.816136",
     "exception": false,
     "start_time": "2024-07-02T15:52:06.760843",
     "status": "completed"
    },
    "tags": []
   },
   "outputs": [
    {
     "data": {
      "text/plain": [
       "float"
      ]
     },
     "execution_count": 18,
     "metadata": {},
     "output_type": "execute_result"
    }
   ],
   "source": [
    "type(1.0)"
   ]
  },
  {
   "cell_type": "code",
   "execution_count": 19,
   "id": "33059133",
   "metadata": {
    "execution": {
     "iopub.execute_input": "2024-07-02T15:52:06.911134Z",
     "iopub.status.busy": "2024-07-02T15:52:06.910426Z",
     "iopub.status.idle": "2024-07-02T15:52:06.915976Z",
     "shell.execute_reply": "2024-07-02T15:52:06.915108Z"
    },
    "papermill": {
     "duration": 0.05546,
     "end_time": "2024-07-02T15:52:06.918146",
     "exception": false,
     "start_time": "2024-07-02T15:52:06.862686",
     "status": "completed"
    },
    "tags": []
   },
   "outputs": [
    {
     "data": {
      "text/plain": [
       "True"
      ]
     },
     "execution_count": 19,
     "metadata": {},
     "output_type": "execute_result"
    }
   ],
   "source": [
    "isinstance(0.333333, float)"
   ]
  },
  {
   "cell_type": "markdown",
   "id": "4538741a",
   "metadata": {
    "papermill": {
     "duration": 0.047194,
     "end_time": "2024-07-02T15:52:07.012088",
     "exception": false,
     "start_time": "2024-07-02T15:52:06.964894",
     "status": "completed"
    },
    "tags": []
   },
   "source": [
    "# Arithmetic operations"
   ]
  },
  {
   "cell_type": "code",
   "execution_count": 20,
   "id": "591b01e2",
   "metadata": {
    "execution": {
     "iopub.execute_input": "2024-07-02T15:52:07.106898Z",
     "iopub.status.busy": "2024-07-02T15:52:07.106256Z",
     "iopub.status.idle": "2024-07-02T15:52:07.112165Z",
     "shell.execute_reply": "2024-07-02T15:52:07.111292Z"
    },
    "papermill": {
     "duration": 0.055438,
     "end_time": "2024-07-02T15:52:07.114055",
     "exception": false,
     "start_time": "2024-07-02T15:52:07.058617",
     "status": "completed"
    },
    "tags": []
   },
   "outputs": [
    {
     "data": {
      "text/plain": [
       "6.0"
      ]
     },
     "execution_count": 20,
     "metadata": {},
     "output_type": "execute_result"
    }
   ],
   "source": [
    "5 + 1.0"
   ]
  },
  {
   "cell_type": "code",
   "execution_count": 21,
   "id": "f40a8b77",
   "metadata": {
    "execution": {
     "iopub.execute_input": "2024-07-02T15:52:07.211121Z",
     "iopub.status.busy": "2024-07-02T15:52:07.210798Z",
     "iopub.status.idle": "2024-07-02T15:52:07.216411Z",
     "shell.execute_reply": "2024-07-02T15:52:07.215574Z"
    },
    "papermill": {
     "duration": 0.05643,
     "end_time": "2024-07-02T15:52:07.218345",
     "exception": false,
     "start_time": "2024-07-02T15:52:07.161915",
     "status": "completed"
    },
    "tags": []
   },
   "outputs": [
    {
     "data": {
      "text/plain": [
       "6"
      ]
     },
     "execution_count": 21,
     "metadata": {},
     "output_type": "execute_result"
    }
   ],
   "source": [
    "int(6.0)"
   ]
  },
  {
   "cell_type": "code",
   "execution_count": 22,
   "id": "f69dc7ad",
   "metadata": {
    "execution": {
     "iopub.execute_input": "2024-07-02T15:52:07.313202Z",
     "iopub.status.busy": "2024-07-02T15:52:07.312863Z",
     "iopub.status.idle": "2024-07-02T15:52:07.318918Z",
     "shell.execute_reply": "2024-07-02T15:52:07.318053Z"
    },
    "papermill": {
     "duration": 0.055481,
     "end_time": "2024-07-02T15:52:07.320814",
     "exception": false,
     "start_time": "2024-07-02T15:52:07.265333",
     "status": "completed"
    },
    "tags": []
   },
   "outputs": [
    {
     "data": {
      "text/plain": [
       "6.0"
      ]
     },
     "execution_count": 22,
     "metadata": {},
     "output_type": "execute_result"
    }
   ],
   "source": [
    "float(6)"
   ]
  },
  {
   "cell_type": "markdown",
   "id": "6ffd3bc2",
   "metadata": {
    "papermill": {
     "duration": 0.046522,
     "end_time": "2024-07-02T15:52:07.414471",
     "exception": false,
     "start_time": "2024-07-02T15:52:07.367949",
     "status": "completed"
    },
    "tags": []
   },
   "source": [
    "Float can also take on a few special values: **Inf**, **-Inf** and **NaN**.\n",
    "* Inf and -Inf stand for infinity and negative infinity respectively\n",
    "* NaN stands for \"not a number\"\n",
    "\n",
    "which is sometimes used to as a placeholder for missing or erroneous numerical values."
   ]
  },
  {
   "cell_type": "code",
   "execution_count": 23,
   "id": "9ea35172",
   "metadata": {
    "execution": {
     "iopub.execute_input": "2024-07-02T15:52:07.509848Z",
     "iopub.status.busy": "2024-07-02T15:52:07.509493Z",
     "iopub.status.idle": "2024-07-02T15:52:07.515045Z",
     "shell.execute_reply": "2024-07-02T15:52:07.514200Z"
    },
    "papermill": {
     "duration": 0.055638,
     "end_time": "2024-07-02T15:52:07.517004",
     "exception": false,
     "start_time": "2024-07-02T15:52:07.461366",
     "status": "completed"
    },
    "tags": []
   },
   "outputs": [
    {
     "data": {
      "text/plain": [
       "float"
      ]
     },
     "execution_count": 23,
     "metadata": {},
     "output_type": "execute_result"
    }
   ],
   "source": [
    "type(float(\"Inf\"))"
   ]
  },
  {
   "cell_type": "code",
   "execution_count": 24,
   "id": "902aab68",
   "metadata": {
    "execution": {
     "iopub.execute_input": "2024-07-02T15:52:07.613294Z",
     "iopub.status.busy": "2024-07-02T15:52:07.612466Z",
     "iopub.status.idle": "2024-07-02T15:52:07.618428Z",
     "shell.execute_reply": "2024-07-02T15:52:07.617333Z"
    },
    "papermill": {
     "duration": 0.055853,
     "end_time": "2024-07-02T15:52:07.620391",
     "exception": false,
     "start_time": "2024-07-02T15:52:07.564538",
     "status": "completed"
    },
    "tags": []
   },
   "outputs": [
    {
     "data": {
      "text/plain": [
       "float"
      ]
     },
     "execution_count": 24,
     "metadata": {},
     "output_type": "execute_result"
    }
   ],
   "source": [
    "type(float(\"NaN\"))"
   ]
  },
  {
   "cell_type": "markdown",
   "id": "62dd094a",
   "metadata": {
    "papermill": {
     "duration": 0.047138,
     "end_time": "2024-07-02T15:52:07.715077",
     "exception": false,
     "start_time": "2024-07-02T15:52:07.667939",
     "status": "completed"
    },
    "tags": []
   },
   "source": [
    "Note: Python contains a third, uncommon numeric data type \"complex\" which is used to store complex numbers."
   ]
  },
  {
   "cell_type": "markdown",
   "id": "dabd4633",
   "metadata": {
    "papermill": {
     "duration": 0.046911,
     "end_time": "2024-07-02T15:52:07.809487",
     "exception": false,
     "start_time": "2024-07-02T15:52:07.762576",
     "status": "completed"
    },
    "tags": []
   },
   "source": [
    "# **Booleans**"
   ]
  },
  {
   "cell_type": "markdown",
   "id": "bd407cb8",
   "metadata": {
    "papermill": {
     "duration": 0.046698,
     "end_time": "2024-07-02T15:52:07.903744",
     "exception": false,
     "start_time": "2024-07-02T15:52:07.857046",
     "status": "completed"
    },
    "tags": []
   },
   "source": [
    "Booleans or \"bools\" are **True/False** values that result from logical statements."
   ]
  },
  {
   "cell_type": "code",
   "execution_count": 25,
   "id": "420ab04b",
   "metadata": {
    "execution": {
     "iopub.execute_input": "2024-07-02T15:52:07.999687Z",
     "iopub.status.busy": "2024-07-02T15:52:07.999102Z",
     "iopub.status.idle": "2024-07-02T15:52:08.004915Z",
     "shell.execute_reply": "2024-07-02T15:52:08.004093Z"
    },
    "papermill": {
     "duration": 0.055824,
     "end_time": "2024-07-02T15:52:08.006854",
     "exception": false,
     "start_time": "2024-07-02T15:52:07.951030",
     "status": "completed"
    },
    "tags": []
   },
   "outputs": [
    {
     "data": {
      "text/plain": [
       "bool"
      ]
     },
     "execution_count": 25,
     "metadata": {},
     "output_type": "execute_result"
    }
   ],
   "source": [
    "type(True)"
   ]
  },
  {
   "cell_type": "code",
   "execution_count": 26,
   "id": "8d1717d4",
   "metadata": {
    "execution": {
     "iopub.execute_input": "2024-07-02T15:52:08.105091Z",
     "iopub.status.busy": "2024-07-02T15:52:08.104329Z",
     "iopub.status.idle": "2024-07-02T15:52:08.110216Z",
     "shell.execute_reply": "2024-07-02T15:52:08.109386Z"
    },
    "papermill": {
     "duration": 0.058136,
     "end_time": "2024-07-02T15:52:08.112222",
     "exception": false,
     "start_time": "2024-07-02T15:52:08.054086",
     "status": "completed"
    },
    "tags": []
   },
   "outputs": [
    {
     "data": {
      "text/plain": [
       "bool"
      ]
     },
     "execution_count": 26,
     "metadata": {},
     "output_type": "execute_result"
    }
   ],
   "source": [
    "type(False)"
   ]
  },
  {
   "cell_type": "code",
   "execution_count": 27,
   "id": "4f48e257",
   "metadata": {
    "execution": {
     "iopub.execute_input": "2024-07-02T15:52:08.210124Z",
     "iopub.status.busy": "2024-07-02T15:52:08.209782Z",
     "iopub.status.idle": "2024-07-02T15:52:08.215410Z",
     "shell.execute_reply": "2024-07-02T15:52:08.214631Z"
    },
    "papermill": {
     "duration": 0.0575,
     "end_time": "2024-07-02T15:52:08.217382",
     "exception": false,
     "start_time": "2024-07-02T15:52:08.159882",
     "status": "completed"
    },
    "tags": []
   },
   "outputs": [
    {
     "data": {
      "text/plain": [
       "True"
      ]
     },
     "execution_count": 27,
     "metadata": {},
     "output_type": "execute_result"
    }
   ],
   "source": [
    "isinstance(False, bool)"
   ]
  },
  {
   "cell_type": "code",
   "execution_count": 28,
   "id": "ca7d476b",
   "metadata": {
    "execution": {
     "iopub.execute_input": "2024-07-02T15:52:08.314706Z",
     "iopub.status.busy": "2024-07-02T15:52:08.314355Z",
     "iopub.status.idle": "2024-07-02T15:52:08.320047Z",
     "shell.execute_reply": "2024-07-02T15:52:08.319194Z"
    },
    "papermill": {
     "duration": 0.056828,
     "end_time": "2024-07-02T15:52:08.322074",
     "exception": false,
     "start_time": "2024-07-02T15:52:08.265246",
     "status": "completed"
    },
    "tags": []
   },
   "outputs": [
    {
     "data": {
      "text/plain": [
       "True"
      ]
     },
     "execution_count": 28,
     "metadata": {},
     "output_type": "execute_result"
    }
   ],
   "source": [
    "# Use > and < for greater than and less than:\n",
    "\n",
    "20 > 10"
   ]
  },
  {
   "cell_type": "code",
   "execution_count": 29,
   "id": "22087057",
   "metadata": {
    "execution": {
     "iopub.execute_input": "2024-07-02T15:52:08.418516Z",
     "iopub.status.busy": "2024-07-02T15:52:08.418178Z",
     "iopub.status.idle": "2024-07-02T15:52:08.423856Z",
     "shell.execute_reply": "2024-07-02T15:52:08.423006Z"
    },
    "papermill": {
     "duration": 0.056147,
     "end_time": "2024-07-02T15:52:08.425926",
     "exception": false,
     "start_time": "2024-07-02T15:52:08.369779",
     "status": "completed"
    },
    "tags": []
   },
   "outputs": [
    {
     "data": {
      "text/plain": [
       "True"
      ]
     },
     "execution_count": 29,
     "metadata": {},
     "output_type": "execute_result"
    }
   ],
   "source": [
    "# Use >= and <= for greater than or equal and less than or equal:\n",
    "\n",
    "20 >= 20"
   ]
  },
  {
   "cell_type": "code",
   "execution_count": 30,
   "id": "3959e907",
   "metadata": {
    "execution": {
     "iopub.execute_input": "2024-07-02T15:52:08.523298Z",
     "iopub.status.busy": "2024-07-02T15:52:08.522481Z",
     "iopub.status.idle": "2024-07-02T15:52:08.527983Z",
     "shell.execute_reply": "2024-07-02T15:52:08.527195Z"
    },
    "papermill": {
     "duration": 0.05605,
     "end_time": "2024-07-02T15:52:08.529937",
     "exception": false,
     "start_time": "2024-07-02T15:52:08.473887",
     "status": "completed"
    },
    "tags": []
   },
   "outputs": [
    {
     "data": {
      "text/plain": [
       "True"
      ]
     },
     "execution_count": 30,
     "metadata": {},
     "output_type": "execute_result"
    }
   ],
   "source": [
    "# Use == (two equal signs in a row) to check equality:\n",
    "\n",
    "30 == 30"
   ]
  },
  {
   "cell_type": "code",
   "execution_count": 31,
   "id": "2218154e",
   "metadata": {
    "execution": {
     "iopub.execute_input": "2024-07-02T15:52:08.627787Z",
     "iopub.status.busy": "2024-07-02T15:52:08.627090Z",
     "iopub.status.idle": "2024-07-02T15:52:08.632447Z",
     "shell.execute_reply": "2024-07-02T15:52:08.631654Z"
    },
    "papermill": {
     "duration": 0.056712,
     "end_time": "2024-07-02T15:52:08.634711",
     "exception": false,
     "start_time": "2024-07-02T15:52:08.577999",
     "status": "completed"
    },
    "tags": []
   },
   "outputs": [
    {
     "data": {
      "text/plain": [
       "True"
      ]
     },
     "execution_count": 31,
     "metadata": {},
     "output_type": "execute_result"
    }
   ],
   "source": [
    "40 == 40.0  # Equivalent ints and floats are considered equal"
   ]
  },
  {
   "cell_type": "code",
   "execution_count": 32,
   "id": "5ad6475c",
   "metadata": {
    "execution": {
     "iopub.execute_input": "2024-07-02T15:52:08.733787Z",
     "iopub.status.busy": "2024-07-02T15:52:08.733434Z",
     "iopub.status.idle": "2024-07-02T15:52:08.739163Z",
     "shell.execute_reply": "2024-07-02T15:52:08.738345Z"
    },
    "papermill": {
     "duration": 0.057782,
     "end_time": "2024-07-02T15:52:08.741025",
     "exception": false,
     "start_time": "2024-07-02T15:52:08.683243",
     "status": "completed"
    },
    "tags": []
   },
   "outputs": [
    {
     "data": {
      "text/plain": [
       "True"
      ]
     },
     "execution_count": 32,
     "metadata": {},
     "output_type": "execute_result"
    }
   ],
   "source": [
    "# Use != to check inequality (!= as \"not equal to\")\n",
    "\n",
    "15 != 20"
   ]
  },
  {
   "cell_type": "code",
   "execution_count": 33,
   "id": "14e98c0c",
   "metadata": {
    "execution": {
     "iopub.execute_input": "2024-07-02T15:52:08.839261Z",
     "iopub.status.busy": "2024-07-02T15:52:08.838507Z",
     "iopub.status.idle": "2024-07-02T15:52:08.844105Z",
     "shell.execute_reply": "2024-07-02T15:52:08.843239Z"
    },
    "papermill": {
     "duration": 0.056656,
     "end_time": "2024-07-02T15:52:08.846077",
     "exception": false,
     "start_time": "2024-07-02T15:52:08.789421",
     "status": "completed"
    },
    "tags": []
   },
   "outputs": [
    {
     "data": {
      "text/plain": [
       "True"
      ]
     },
     "execution_count": 33,
     "metadata": {},
     "output_type": "execute_result"
    }
   ],
   "source": [
    "# Use the keyword \"not\" for negation:\n",
    "\n",
    "not False"
   ]
  },
  {
   "cell_type": "code",
   "execution_count": 34,
   "id": "fd20bc86",
   "metadata": {
    "execution": {
     "iopub.execute_input": "2024-07-02T15:52:08.944419Z",
     "iopub.status.busy": "2024-07-02T15:52:08.944089Z",
     "iopub.status.idle": "2024-07-02T15:52:08.950049Z",
     "shell.execute_reply": "2024-07-02T15:52:08.949187Z"
    },
    "papermill": {
     "duration": 0.057458,
     "end_time": "2024-07-02T15:52:08.951991",
     "exception": false,
     "start_time": "2024-07-02T15:52:08.894533",
     "status": "completed"
    },
    "tags": []
   },
   "outputs": [
    {
     "data": {
      "text/plain": [
       "False"
      ]
     },
     "execution_count": 34,
     "metadata": {},
     "output_type": "execute_result"
    }
   ],
   "source": [
    "# Use the keyword \"and\" for logical and:\n",
    "\n",
    "(20 > 15) and (10 > 14)"
   ]
  },
  {
   "cell_type": "code",
   "execution_count": 35,
   "id": "57299ff4",
   "metadata": {
    "execution": {
     "iopub.execute_input": "2024-07-02T15:52:09.051160Z",
     "iopub.status.busy": "2024-07-02T15:52:09.050355Z",
     "iopub.status.idle": "2024-07-02T15:52:09.056257Z",
     "shell.execute_reply": "2024-07-02T15:52:09.055452Z"
    },
    "papermill": {
     "duration": 0.057438,
     "end_time": "2024-07-02T15:52:09.058322",
     "exception": false,
     "start_time": "2024-07-02T15:52:09.000884",
     "status": "completed"
    },
    "tags": []
   },
   "outputs": [
    {
     "data": {
      "text/plain": [
       "True"
      ]
     },
     "execution_count": 35,
     "metadata": {},
     "output_type": "execute_result"
    }
   ],
   "source": [
    "# Use the keyword \"or\" for logical or:\n",
    "\n",
    "(10 >14) or (20 > 15)"
   ]
  },
  {
   "cell_type": "code",
   "execution_count": 36,
   "id": "51446699",
   "metadata": {
    "execution": {
     "iopub.execute_input": "2024-07-02T15:52:09.162893Z",
     "iopub.status.busy": "2024-07-02T15:52:09.162511Z",
     "iopub.status.idle": "2024-07-02T15:52:09.168994Z",
     "shell.execute_reply": "2024-07-02T15:52:09.167912Z"
    },
    "papermill": {
     "duration": 0.06669,
     "end_time": "2024-07-02T15:52:09.173714",
     "exception": false,
     "start_time": "2024-07-02T15:52:09.107024",
     "status": "completed"
    },
    "tags": []
   },
   "outputs": [
    {
     "data": {
      "text/plain": [
       "True"
      ]
     },
     "execution_count": 36,
     "metadata": {},
     "output_type": "execute_result"
    }
   ],
   "source": [
    "20 > 15 or 10 > 14 and not True"
   ]
  },
  {
   "cell_type": "code",
   "execution_count": 37,
   "id": "767a83f5",
   "metadata": {
    "execution": {
     "iopub.execute_input": "2024-07-02T15:52:09.287939Z",
     "iopub.status.busy": "2024-07-02T15:52:09.287458Z",
     "iopub.status.idle": "2024-07-02T15:52:09.294725Z",
     "shell.execute_reply": "2024-07-02T15:52:09.293847Z"
    },
    "papermill": {
     "duration": 0.070433,
     "end_time": "2024-07-02T15:52:09.296744",
     "exception": false,
     "start_time": "2024-07-02T15:52:09.226311",
     "status": "completed"
    },
    "tags": []
   },
   "outputs": [
    {
     "data": {
      "text/plain": [
       "False"
      ]
     },
     "execution_count": 37,
     "metadata": {},
     "output_type": "execute_result"
    }
   ],
   "source": [
    "((20 > 15) or (10 > 14)) and (not True)"
   ]
  },
  {
   "cell_type": "markdown",
   "id": "8a8eef3a",
   "metadata": {
    "papermill": {
     "duration": 0.048447,
     "end_time": "2024-07-02T15:52:09.397806",
     "exception": false,
     "start_time": "2024-07-02T15:52:09.349359",
     "status": "completed"
    },
    "tags": []
   },
   "source": [
    "You can convert numbers into boolean values using the **bool()** function. All numbers other than 0 convert to True:"
   ]
  },
  {
   "cell_type": "code",
   "execution_count": 38,
   "id": "cd8f49c2",
   "metadata": {
    "execution": {
     "iopub.execute_input": "2024-07-02T15:52:09.502743Z",
     "iopub.status.busy": "2024-07-02T15:52:09.502381Z",
     "iopub.status.idle": "2024-07-02T15:52:09.508874Z",
     "shell.execute_reply": "2024-07-02T15:52:09.507814Z"
    },
    "papermill": {
     "duration": 0.060655,
     "end_time": "2024-07-02T15:52:09.511713",
     "exception": false,
     "start_time": "2024-07-02T15:52:09.451058",
     "status": "completed"
    },
    "tags": []
   },
   "outputs": [
    {
     "data": {
      "text/plain": [
       "True"
      ]
     },
     "execution_count": 38,
     "metadata": {},
     "output_type": "execute_result"
    }
   ],
   "source": [
    "bool(1)"
   ]
  },
  {
   "cell_type": "code",
   "execution_count": 39,
   "id": "7ef3a333",
   "metadata": {
    "execution": {
     "iopub.execute_input": "2024-07-02T15:52:09.610756Z",
     "iopub.status.busy": "2024-07-02T15:52:09.610421Z",
     "iopub.status.idle": "2024-07-02T15:52:09.615910Z",
     "shell.execute_reply": "2024-07-02T15:52:09.615082Z"
    },
    "papermill": {
     "duration": 0.057004,
     "end_time": "2024-07-02T15:52:09.617750",
     "exception": false,
     "start_time": "2024-07-02T15:52:09.560746",
     "status": "completed"
    },
    "tags": []
   },
   "outputs": [
    {
     "data": {
      "text/plain": [
       "True"
      ]
     },
     "execution_count": 39,
     "metadata": {},
     "output_type": "execute_result"
    }
   ],
   "source": [
    "bool(3)"
   ]
  },
  {
   "cell_type": "code",
   "execution_count": 40,
   "id": "3ea4b690",
   "metadata": {
    "execution": {
     "iopub.execute_input": "2024-07-02T15:52:09.718301Z",
     "iopub.status.busy": "2024-07-02T15:52:09.717490Z",
     "iopub.status.idle": "2024-07-02T15:52:09.723129Z",
     "shell.execute_reply": "2024-07-02T15:52:09.722325Z"
    },
    "papermill": {
     "duration": 0.058216,
     "end_time": "2024-07-02T15:52:09.725135",
     "exception": false,
     "start_time": "2024-07-02T15:52:09.666919",
     "status": "completed"
    },
    "tags": []
   },
   "outputs": [
    {
     "data": {
      "text/plain": [
       "False"
      ]
     },
     "execution_count": 40,
     "metadata": {},
     "output_type": "execute_result"
    }
   ],
   "source": [
    "bool(0)"
   ]
  },
  {
   "cell_type": "markdown",
   "id": "c0499565",
   "metadata": {
    "papermill": {
     "duration": 0.053204,
     "end_time": "2024-07-02T15:52:09.831718",
     "exception": false,
     "start_time": "2024-07-02T15:52:09.778514",
     "status": "completed"
    },
    "tags": []
   },
   "source": [
    "# **Strings**"
   ]
  },
  {
   "cell_type": "markdown",
   "id": "048cc9eb",
   "metadata": {
    "papermill": {
     "duration": 0.048694,
     "end_time": "2024-07-02T15:52:09.929497",
     "exception": false,
     "start_time": "2024-07-02T15:52:09.880803",
     "status": "completed"
    },
    "tags": []
   },
   "source": [
    "Text data is known as a string or \"**str**\"."
   ]
  },
  {
   "cell_type": "code",
   "execution_count": 41,
   "id": "cead14f5",
   "metadata": {
    "execution": {
     "iopub.execute_input": "2024-07-02T15:52:10.029437Z",
     "iopub.status.busy": "2024-07-02T15:52:10.028793Z",
     "iopub.status.idle": "2024-07-02T15:52:10.034446Z",
     "shell.execute_reply": "2024-07-02T15:52:10.033645Z"
    },
    "papermill": {
     "duration": 0.05793,
     "end_time": "2024-07-02T15:52:10.036437",
     "exception": false,
     "start_time": "2024-07-02T15:52:09.978507",
     "status": "completed"
    },
    "tags": []
   },
   "outputs": [
    {
     "data": {
      "text/plain": [
       "str"
      ]
     },
     "execution_count": 41,
     "metadata": {},
     "output_type": "execute_result"
    }
   ],
   "source": [
    "type(\"car\")"
   ]
  },
  {
   "cell_type": "code",
   "execution_count": 42,
   "id": "a0fb10e4",
   "metadata": {
    "execution": {
     "iopub.execute_input": "2024-07-02T15:52:10.143948Z",
     "iopub.status.busy": "2024-07-02T15:52:10.143063Z",
     "iopub.status.idle": "2024-07-02T15:52:10.150302Z",
     "shell.execute_reply": "2024-07-02T15:52:10.149354Z"
    },
    "papermill": {
     "duration": 0.065707,
     "end_time": "2024-07-02T15:52:10.152469",
     "exception": false,
     "start_time": "2024-07-02T15:52:10.086762",
     "status": "completed"
    },
    "tags": []
   },
   "outputs": [
    {
     "data": {
      "text/plain": [
       "str"
      ]
     },
     "execution_count": 42,
     "metadata": {},
     "output_type": "execute_result"
    }
   ],
   "source": [
    "type('car')"
   ]
  },
  {
   "cell_type": "markdown",
   "id": "c46fc2ae",
   "metadata": {
    "papermill": {
     "duration": 0.049494,
     "end_time": "2024-07-02T15:52:10.253450",
     "exception": false,
     "start_time": "2024-07-02T15:52:10.203956",
     "status": "completed"
    },
    "tags": []
   },
   "source": [
    "# **None**"
   ]
  },
  {
   "cell_type": "markdown",
   "id": "bfda0155",
   "metadata": {
    "papermill": {
     "duration": 0.05053,
     "end_time": "2024-07-02T15:52:10.354382",
     "exception": false,
     "start_time": "2024-07-02T15:52:10.303852",
     "status": "completed"
    },
    "tags": []
   },
   "source": [
    "In Python, \"**None**\" is a special data types that is often used to represent a missing value.\n",
    "\n",
    "For example, if you define a function that does not return anything (does not give you back some resulting value), it will return \"None\" bu default."
   ]
  },
  {
   "cell_type": "code",
   "execution_count": 43,
   "id": "18d9d637",
   "metadata": {
    "execution": {
     "iopub.execute_input": "2024-07-02T15:52:10.455257Z",
     "iopub.status.busy": "2024-07-02T15:52:10.454371Z",
     "iopub.status.idle": "2024-07-02T15:52:10.460277Z",
     "shell.execute_reply": "2024-07-02T15:52:10.459427Z"
    },
    "papermill": {
     "duration": 0.058336,
     "end_time": "2024-07-02T15:52:10.462173",
     "exception": false,
     "start_time": "2024-07-02T15:52:10.403837",
     "status": "completed"
    },
    "tags": []
   },
   "outputs": [
    {
     "data": {
      "text/plain": [
       "NoneType"
      ]
     },
     "execution_count": 43,
     "metadata": {},
     "output_type": "execute_result"
    }
   ],
   "source": [
    "type(None)"
   ]
  },
  {
   "cell_type": "code",
   "execution_count": 44,
   "id": "b22ca59b",
   "metadata": {
    "execution": {
     "iopub.execute_input": "2024-07-02T15:52:10.563035Z",
     "iopub.status.busy": "2024-07-02T15:52:10.562342Z",
     "iopub.status.idle": "2024-07-02T15:52:10.569522Z",
     "shell.execute_reply": "2024-07-02T15:52:10.568316Z"
    },
    "papermill": {
     "duration": 0.059821,
     "end_time": "2024-07-02T15:52:10.571777",
     "exception": false,
     "start_time": "2024-07-02T15:52:10.511956",
     "status": "completed"
    },
    "tags": []
   },
   "outputs": [
    {
     "name": "stdout",
     "output_type": "stream",
     "text": [
      "hello\n"
     ]
    },
    {
     "data": {
      "text/plain": [
       "True"
      ]
     },
     "execution_count": 44,
     "metadata": {},
     "output_type": "execute_result"
    }
   ],
   "source": [
    "# Define a function that prints the input but returns nothing*\n",
    "\n",
    "def my_function(x):\n",
    "    print(x)\n",
    "    \n",
    "my_function(\"hello\") == None  # The output of my_function equals None"
   ]
  },
  {
   "cell_type": "markdown",
   "id": "9060b3a7",
   "metadata": {
    "papermill": {
     "duration": 0.049484,
     "end_time": "2024-07-02T15:52:10.671009",
     "exception": false,
     "start_time": "2024-07-02T15:52:10.621525",
     "status": "completed"
    },
    "tags": []
   },
   "source": [
    "# **Variables**"
   ]
  },
  {
   "cell_type": "markdown",
   "id": "d5c51137",
   "metadata": {
    "papermill": {
     "duration": 0.050611,
     "end_time": "2024-07-02T15:52:10.771430",
     "exception": false,
     "start_time": "2024-07-02T15:52:10.720819",
     "status": "completed"
    },
    "tags": []
   },
   "source": [
    "In Python, assign variables using \"**=**\"."
   ]
  },
  {
   "cell_type": "code",
   "execution_count": 45,
   "id": "553c06b4",
   "metadata": {
    "execution": {
     "iopub.execute_input": "2024-07-02T15:52:10.873774Z",
     "iopub.status.busy": "2024-07-02T15:52:10.873195Z",
     "iopub.status.idle": "2024-07-02T15:52:10.878193Z",
     "shell.execute_reply": "2024-07-02T15:52:10.877359Z"
    },
    "papermill": {
     "duration": 0.058793,
     "end_time": "2024-07-02T15:52:10.880725",
     "exception": false,
     "start_time": "2024-07-02T15:52:10.821932",
     "status": "completed"
    },
    "tags": []
   },
   "outputs": [
    {
     "name": "stdout",
     "output_type": "stream",
     "text": [
      "10\n",
      "This is a string\n",
      "True\n"
     ]
    }
   ],
   "source": [
    "x = 10\n",
    "y = \"This is a string\"\n",
    "z = 144**0.5 == 12\n",
    "\n",
    "print(x)\n",
    "print(y)\n",
    "print(z)"
   ]
  },
  {
   "cell_type": "code",
   "execution_count": 46,
   "id": "7bace234",
   "metadata": {
    "execution": {
     "iopub.execute_input": "2024-07-02T15:52:10.983351Z",
     "iopub.status.busy": "2024-07-02T15:52:10.982397Z",
     "iopub.status.idle": "2024-07-02T15:52:10.987337Z",
     "shell.execute_reply": "2024-07-02T15:52:10.986459Z"
    },
    "papermill": {
     "duration": 0.058515,
     "end_time": "2024-07-02T15:52:10.989345",
     "exception": false,
     "start_time": "2024-07-02T15:52:10.930830",
     "status": "completed"
    },
    "tags": []
   },
   "outputs": [
    {
     "name": "stdout",
     "output_type": "stream",
     "text": [
      "23\n"
     ]
    }
   ],
   "source": [
    "p = 23\n",
    "print(p)"
   ]
  },
  {
   "cell_type": "code",
   "execution_count": 47,
   "id": "b5f19c55",
   "metadata": {
    "execution": {
     "iopub.execute_input": "2024-07-02T15:52:11.091688Z",
     "iopub.status.busy": "2024-07-02T15:52:11.090869Z",
     "iopub.status.idle": "2024-07-02T15:52:11.096711Z",
     "shell.execute_reply": "2024-07-02T15:52:11.095873Z"
    },
    "papermill": {
     "duration": 0.059173,
     "end_time": "2024-07-02T15:52:11.098751",
     "exception": false,
     "start_time": "2024-07-02T15:52:11.039578",
     "status": "completed"
    },
    "tags": []
   },
   "outputs": [
    {
     "data": {
      "text/plain": [
       "34"
      ]
     },
     "execution_count": 47,
     "metadata": {},
     "output_type": "execute_result"
    }
   ],
   "source": [
    "x + z + p"
   ]
  },
  {
   "cell_type": "code",
   "execution_count": 48,
   "id": "c8ac7861",
   "metadata": {
    "execution": {
     "iopub.execute_input": "2024-07-02T15:52:11.203097Z",
     "iopub.status.busy": "2024-07-02T15:52:11.202721Z",
     "iopub.status.idle": "2024-07-02T15:52:11.207536Z",
     "shell.execute_reply": "2024-07-02T15:52:11.206655Z"
    },
    "papermill": {
     "duration": 0.060216,
     "end_time": "2024-07-02T15:52:11.209676",
     "exception": false,
     "start_time": "2024-07-02T15:52:11.149460",
     "status": "completed"
    },
    "tags": []
   },
   "outputs": [
    {
     "name": "stdout",
     "output_type": "stream",
     "text": [
      "4\n",
      "4\n"
     ]
    }
   ],
   "source": [
    "n = m = 4\n",
    "print(n)\n",
    "print(m)"
   ]
  },
  {
   "cell_type": "code",
   "execution_count": 49,
   "id": "8f976c74",
   "metadata": {
    "execution": {
     "iopub.execute_input": "2024-07-02T15:52:11.313288Z",
     "iopub.status.busy": "2024-07-02T15:52:11.312644Z",
     "iopub.status.idle": "2024-07-02T15:52:11.317807Z",
     "shell.execute_reply": "2024-07-02T15:52:11.316944Z"
    },
    "papermill": {
     "duration": 0.059832,
     "end_time": "2024-07-02T15:52:11.320352",
     "exception": false,
     "start_time": "2024-07-02T15:52:11.260520",
     "status": "completed"
    },
    "tags": []
   },
   "outputs": [
    {
     "name": "stdout",
     "output_type": "stream",
     "text": [
      "10\n",
      "20\n",
      "30\n"
     ]
    }
   ],
   "source": [
    "# Below is a method of extracting variables from a comma separated sequence, also known as \"tuple unpacking\"\n",
    "\n",
    "x, y, z = (10, 20, 30)\n",
    "\n",
    "print(x)\n",
    "print(y)\n",
    "print(z)"
   ]
  },
  {
   "cell_type": "code",
   "execution_count": 50,
   "id": "c4dba8d5",
   "metadata": {
    "execution": {
     "iopub.execute_input": "2024-07-02T15:52:11.424115Z",
     "iopub.status.busy": "2024-07-02T15:52:11.423403Z",
     "iopub.status.idle": "2024-07-02T15:52:11.428216Z",
     "shell.execute_reply": "2024-07-02T15:52:11.427403Z"
    },
    "papermill": {
     "duration": 0.059753,
     "end_time": "2024-07-02T15:52:11.430690",
     "exception": false,
     "start_time": "2024-07-02T15:52:11.370937",
     "status": "completed"
    },
    "tags": []
   },
   "outputs": [
    {
     "name": "stdout",
     "output_type": "stream",
     "text": [
      "20\n",
      "10\n"
     ]
    }
   ],
   "source": [
    "# You also can swap the values of two variables using a similar syntax:\n",
    "\n",
    "(x, y) = (y, x)\n",
    "\n",
    "print(x)\n",
    "print(y)"
   ]
  },
  {
   "cell_type": "code",
   "execution_count": 51,
   "id": "8cae4500",
   "metadata": {
    "execution": {
     "iopub.execute_input": "2024-07-02T15:52:11.532965Z",
     "iopub.status.busy": "2024-07-02T15:52:11.532558Z",
     "iopub.status.idle": "2024-07-02T15:52:11.537630Z",
     "shell.execute_reply": "2024-07-02T15:52:11.536774Z"
    },
    "papermill": {
     "duration": 0.058492,
     "end_time": "2024-07-02T15:52:11.539783",
     "exception": false,
     "start_time": "2024-07-02T15:52:11.481291",
     "status": "completed"
    },
    "tags": []
   },
   "outputs": [
    {
     "name": "stdout",
     "output_type": "stream",
     "text": [
      "HELLO\n",
      "hello\n"
     ]
    }
   ],
   "source": [
    "x = \"HELLO\"   # Create a new string\n",
    "y = x         # Assign y the same object as x\n",
    "y = y.lower() # Assign y the result of y.lower()\n",
    "\n",
    "print(x)\n",
    "print(y)"
   ]
  },
  {
   "cell_type": "code",
   "execution_count": 52,
   "id": "bcb3a155",
   "metadata": {
    "execution": {
     "iopub.execute_input": "2024-07-02T15:52:11.642345Z",
     "iopub.status.busy": "2024-07-02T15:52:11.641508Z",
     "iopub.status.idle": "2024-07-02T15:52:11.646605Z",
     "shell.execute_reply": "2024-07-02T15:52:11.645763Z"
    },
    "papermill": {
     "duration": 0.058971,
     "end_time": "2024-07-02T15:52:11.649171",
     "exception": false,
     "start_time": "2024-07-02T15:52:11.590200",
     "status": "completed"
    },
    "tags": []
   },
   "outputs": [
    {
     "name": "stdout",
     "output_type": "stream",
     "text": [
      "[1, 2, 3, 4]\n",
      "[1, 2, 3, 4]\n"
     ]
    }
   ],
   "source": [
    "x = [1, 2, 3]    # Create a new list\n",
    "y = x            # Assign y the same object as x\n",
    "y.append(4)      # Add 4 to the end of list y\n",
    "\n",
    "print(x)\n",
    "print(y)"
   ]
  },
  {
   "cell_type": "markdown",
   "id": "51fe19c2",
   "metadata": {
    "papermill": {
     "duration": 0.050466,
     "end_time": "2024-07-02T15:52:11.750500",
     "exception": false,
     "start_time": "2024-07-02T15:52:11.700034",
     "status": "completed"
    },
    "tags": []
   },
   "source": [
    "# **Lists**"
   ]
  },
  {
   "cell_type": "markdown",
   "id": "c9597a44",
   "metadata": {
    "papermill": {
     "duration": 0.050488,
     "end_time": "2024-07-02T15:52:11.852401",
     "exception": false,
     "start_time": "2024-07-02T15:52:11.801913",
     "status": "completed"
    },
    "tags": []
   },
   "source": [
    "To construct a list is with a comma separated sequence of objects within **square brackets** \"[ ]\":"
   ]
  },
  {
   "cell_type": "markdown",
   "id": "1dcc93fc",
   "metadata": {
    "papermill": {
     "duration": 0.050171,
     "end_time": "2024-07-02T15:52:11.953326",
     "exception": false,
     "start_time": "2024-07-02T15:52:11.903155",
     "status": "completed"
    },
    "tags": []
   },
   "source": [
    "# List Basics"
   ]
  },
  {
   "cell_type": "code",
   "execution_count": 53,
   "id": "65179e83",
   "metadata": {
    "execution": {
     "iopub.execute_input": "2024-07-02T15:52:12.055444Z",
     "iopub.status.busy": "2024-07-02T15:52:12.055135Z",
     "iopub.status.idle": "2024-07-02T15:52:12.059842Z",
     "shell.execute_reply": "2024-07-02T15:52:12.058991Z"
    },
    "papermill": {
     "duration": 0.058048,
     "end_time": "2024-07-02T15:52:12.061886",
     "exception": false,
     "start_time": "2024-07-02T15:52:12.003838",
     "status": "completed"
    },
    "tags": []
   },
   "outputs": [
    {
     "name": "stdout",
     "output_type": "stream",
     "text": [
      "['Lesson', 5, 'Python', True]\n"
     ]
    }
   ],
   "source": [
    "my_list = [\"Lesson\", 5, \"Python\", True]\n",
    "\n",
    "print(my_list)"
   ]
  },
  {
   "cell_type": "markdown",
   "id": "901a5e64",
   "metadata": {
    "papermill": {
     "duration": 0.05072,
     "end_time": "2024-07-02T15:52:12.163460",
     "exception": false,
     "start_time": "2024-07-02T15:52:12.112740",
     "status": "completed"
    },
    "tags": []
   },
   "source": [
    "Alternatively, you can construct a list by passing some other iterable into the list() function."
   ]
  },
  {
   "cell_type": "code",
   "execution_count": 54,
   "id": "e4a737f2",
   "metadata": {
    "execution": {
     "iopub.execute_input": "2024-07-02T15:52:12.268488Z",
     "iopub.status.busy": "2024-07-02T15:52:12.268167Z",
     "iopub.status.idle": "2024-07-02T15:52:12.272756Z",
     "shell.execute_reply": "2024-07-02T15:52:12.271956Z"
    },
    "papermill": {
     "duration": 0.059466,
     "end_time": "2024-07-02T15:52:12.275204",
     "exception": false,
     "start_time": "2024-07-02T15:52:12.215738",
     "status": "completed"
    },
    "tags": []
   },
   "outputs": [
    {
     "name": "stdout",
     "output_type": "stream",
     "text": [
      "['L', 'i', 's', 't', 's', ' ', 'o', 'f', ' ', 'P', 'y', 't', 'h', 'o', 'n']\n"
     ]
    }
   ],
   "source": [
    "second_list = list(\"Lists of Python\")  # Create a list from a string\n",
    "\n",
    "print(second_list)"
   ]
  },
  {
   "cell_type": "code",
   "execution_count": 55,
   "id": "9c190c8f",
   "metadata": {
    "execution": {
     "iopub.execute_input": "2024-07-02T15:52:12.378792Z",
     "iopub.status.busy": "2024-07-02T15:52:12.378426Z",
     "iopub.status.idle": "2024-07-02T15:52:12.383345Z",
     "shell.execute_reply": "2024-07-02T15:52:12.382540Z"
    },
    "papermill": {
     "duration": 0.059541,
     "end_time": "2024-07-02T15:52:12.385484",
     "exception": false,
     "start_time": "2024-07-02T15:52:12.325943",
     "status": "completed"
    },
    "tags": []
   },
   "outputs": [
    {
     "name": "stdout",
     "output_type": "stream",
     "text": [
      "[]\n"
     ]
    }
   ],
   "source": [
    "# A list with no content is known as the empty list:\n",
    "\n",
    "empty_list = []\n",
    "\n",
    "print(empty_list)"
   ]
  },
  {
   "cell_type": "markdown",
   "id": "ccef5c3e",
   "metadata": {
    "papermill": {
     "duration": 0.050584,
     "end_time": "2024-07-02T15:52:12.486969",
     "exception": false,
     "start_time": "2024-07-02T15:52:12.436385",
     "status": "completed"
    },
    "tags": []
   },
   "source": [
    "You can add new an item to an existing list with the **list.append()** function:"
   ]
  },
  {
   "cell_type": "code",
   "execution_count": 56,
   "id": "384f09db",
   "metadata": {
    "execution": {
     "iopub.execute_input": "2024-07-02T15:52:12.590085Z",
     "iopub.status.busy": "2024-07-02T15:52:12.589754Z",
     "iopub.status.idle": "2024-07-02T15:52:12.594780Z",
     "shell.execute_reply": "2024-07-02T15:52:12.593758Z"
    },
    "papermill": {
     "duration": 0.058693,
     "end_time": "2024-07-02T15:52:12.596717",
     "exception": false,
     "start_time": "2024-07-02T15:52:12.538024",
     "status": "completed"
    },
    "tags": []
   },
   "outputs": [
    {
     "name": "stdout",
     "output_type": "stream",
     "text": [
      "['It is now not empty']\n"
     ]
    }
   ],
   "source": [
    "empty_list.append(\"It is now not empty\")\n",
    "\n",
    "print(empty_list)"
   ]
  },
  {
   "cell_type": "markdown",
   "id": "3e3018cc",
   "metadata": {
    "papermill": {
     "duration": 0.050413,
     "end_time": "2024-07-02T15:52:12.698119",
     "exception": false,
     "start_time": "2024-07-02T15:52:12.647706",
     "status": "completed"
    },
    "tags": []
   },
   "source": [
    "Remove a matching item from a list with **list.remove()** function:"
   ]
  },
  {
   "cell_type": "code",
   "execution_count": 57,
   "id": "553eacdd",
   "metadata": {
    "execution": {
     "iopub.execute_input": "2024-07-02T15:52:12.801791Z",
     "iopub.status.busy": "2024-07-02T15:52:12.801125Z",
     "iopub.status.idle": "2024-07-02T15:52:12.805776Z",
     "shell.execute_reply": "2024-07-02T15:52:12.804937Z"
    },
    "papermill": {
     "duration": 0.058928,
     "end_time": "2024-07-02T15:52:12.807775",
     "exception": false,
     "start_time": "2024-07-02T15:52:12.748847",
     "status": "completed"
    },
    "tags": []
   },
   "outputs": [
    {
     "name": "stdout",
     "output_type": "stream",
     "text": [
      "['Lesson', 'Python', True]\n"
     ]
    }
   ],
   "source": [
    "my_list.remove(5)\n",
    "\n",
    "print(my_list)"
   ]
  },
  {
   "cell_type": "markdown",
   "id": "3092a3d7",
   "metadata": {
    "papermill": {
     "duration": 0.050956,
     "end_time": "2024-07-02T15:52:12.909820",
     "exception": false,
     "start_time": "2024-07-02T15:52:12.858864",
     "status": "completed"
    },
    "tags": []
   },
   "source": [
    "Join two lists together with the **+** operator:"
   ]
  },
  {
   "cell_type": "code",
   "execution_count": 58,
   "id": "feb79d92",
   "metadata": {
    "execution": {
     "iopub.execute_input": "2024-07-02T15:52:13.013764Z",
     "iopub.status.busy": "2024-07-02T15:52:13.013399Z",
     "iopub.status.idle": "2024-07-02T15:52:13.017988Z",
     "shell.execute_reply": "2024-07-02T15:52:13.017154Z"
    },
    "papermill": {
     "duration": 0.05921,
     "end_time": "2024-07-02T15:52:13.020399",
     "exception": false,
     "start_time": "2024-07-02T15:52:12.961189",
     "status": "completed"
    },
    "tags": []
   },
   "outputs": [
    {
     "name": "stdout",
     "output_type": "stream",
     "text": [
      "['Lesson', 'Python', True, 'It is now not empty']\n"
     ]
    }
   ],
   "source": [
    "combined_list = my_list + empty_list\n",
    "\n",
    "print(combined_list)"
   ]
  },
  {
   "cell_type": "markdown",
   "id": "b5958dde",
   "metadata": {
    "papermill": {
     "duration": 0.050612,
     "end_time": "2024-07-02T15:52:13.121945",
     "exception": false,
     "start_time": "2024-07-02T15:52:13.071333",
     "status": "completed"
    },
    "tags": []
   },
   "source": [
    "You can also add a sequence to the end of an existing list eith the **list.extend()** function:"
   ]
  },
  {
   "cell_type": "code",
   "execution_count": 59,
   "id": "81d9f83c",
   "metadata": {
    "execution": {
     "iopub.execute_input": "2024-07-02T15:52:13.228898Z",
     "iopub.status.busy": "2024-07-02T15:52:13.228071Z",
     "iopub.status.idle": "2024-07-02T15:52:13.233091Z",
     "shell.execute_reply": "2024-07-02T15:52:13.232172Z"
    },
    "papermill": {
     "duration": 0.060861,
     "end_time": "2024-07-02T15:52:13.235022",
     "exception": false,
     "start_time": "2024-07-02T15:52:13.174161",
     "status": "completed"
    },
    "tags": []
   },
   "outputs": [
    {
     "name": "stdout",
     "output_type": "stream",
     "text": [
      "['Lesson', 'Python', True, 'It is now not empty']\n"
     ]
    }
   ],
   "source": [
    "combined_list = my_list\n",
    "combined_list.extend(empty_list)\n",
    "\n",
    "print(combined_list)"
   ]
  },
  {
   "cell_type": "markdown",
   "id": "b387b3f9",
   "metadata": {
    "papermill": {
     "duration": 0.051606,
     "end_time": "2024-07-02T15:52:13.338949",
     "exception": false,
     "start_time": "2024-07-02T15:52:13.287343",
     "status": "completed"
    },
    "tags": []
   },
   "source": [
    "Check the length, maximum, minimum and sum of a list with the **len(), max(), min(), sum()** functions, respectively:"
   ]
  },
  {
   "cell_type": "code",
   "execution_count": 60,
   "id": "d02c3f64",
   "metadata": {
    "execution": {
     "iopub.execute_input": "2024-07-02T15:52:13.443194Z",
     "iopub.status.busy": "2024-07-02T15:52:13.442818Z",
     "iopub.status.idle": "2024-07-02T15:52:13.448561Z",
     "shell.execute_reply": "2024-07-02T15:52:13.447724Z"
    },
    "papermill": {
     "duration": 0.061116,
     "end_time": "2024-07-02T15:52:13.451125",
     "exception": false,
     "start_time": "2024-07-02T15:52:13.390009",
     "status": "completed"
    },
    "tags": []
   },
   "outputs": [
    {
     "name": "stdout",
     "output_type": "stream",
     "text": [
      "8\n",
      "9\n",
      "1\n",
      "38\n",
      "4.75\n"
     ]
    }
   ],
   "source": [
    "num_list = [1, 3, 3, 5, 5, 5, 7, 9]\n",
    "print(len(num_list))                 # Check the length\n",
    "print(max(num_list))                 # Check the max\n",
    "print(min(num_list))                 # Check the min\n",
    "print(sum(num_list))                 # Check the sum\n",
    "print(sum(num_list)/len(num_list))   # Check the mean*"
   ]
  },
  {
   "cell_type": "markdown",
   "id": "35130ec1",
   "metadata": {
    "papermill": {
     "duration": 0.050866,
     "end_time": "2024-07-02T15:52:13.553080",
     "exception": false,
     "start_time": "2024-07-02T15:52:13.502214",
     "status": "completed"
    },
    "tags": []
   },
   "source": [
    "Note: Python does not have a built in function to calculate the mean, but the **NumPy** library it can.\n",
    "\n",
    "You can check whether a list contains a certain object with the \"**in**\" keyword:"
   ]
  },
  {
   "cell_type": "code",
   "execution_count": 61,
   "id": "0b99eca9",
   "metadata": {
    "execution": {
     "iopub.execute_input": "2024-07-02T15:52:13.657497Z",
     "iopub.status.busy": "2024-07-02T15:52:13.656696Z",
     "iopub.status.idle": "2024-07-02T15:52:13.662581Z",
     "shell.execute_reply": "2024-07-02T15:52:13.661579Z"
    },
    "papermill": {
     "duration": 0.060472,
     "end_time": "2024-07-02T15:52:13.664560",
     "exception": false,
     "start_time": "2024-07-02T15:52:13.604088",
     "status": "completed"
    },
    "tags": []
   },
   "outputs": [
    {
     "data": {
      "text/plain": [
       "True"
      ]
     },
     "execution_count": 61,
     "metadata": {},
     "output_type": "execute_result"
    }
   ],
   "source": [
    "1 in num_list"
   ]
  },
  {
   "cell_type": "markdown",
   "id": "49a47165",
   "metadata": {
    "papermill": {
     "duration": 0.051191,
     "end_time": "2024-07-02T15:52:13.767244",
     "exception": false,
     "start_time": "2024-07-02T15:52:13.716053",
     "status": "completed"
    },
    "tags": []
   },
   "source": [
    "Add the keyword \"**not**\" to test whether a list does not contain an object:"
   ]
  },
  {
   "cell_type": "code",
   "execution_count": 62,
   "id": "c6f081bb",
   "metadata": {
    "execution": {
     "iopub.execute_input": "2024-07-02T15:52:13.871894Z",
     "iopub.status.busy": "2024-07-02T15:52:13.871218Z",
     "iopub.status.idle": "2024-07-02T15:52:13.876734Z",
     "shell.execute_reply": "2024-07-02T15:52:13.875912Z"
    },
    "papermill": {
     "duration": 0.059691,
     "end_time": "2024-07-02T15:52:13.878720",
     "exception": false,
     "start_time": "2024-07-02T15:52:13.819029",
     "status": "completed"
    },
    "tags": []
   },
   "outputs": [
    {
     "data": {
      "text/plain": [
       "False"
      ]
     },
     "execution_count": 62,
     "metadata": {},
     "output_type": "execute_result"
    }
   ],
   "source": [
    "1 not in num_list"
   ]
  },
  {
   "cell_type": "markdown",
   "id": "9205d148",
   "metadata": {
    "papermill": {
     "duration": 0.052007,
     "end_time": "2024-07-02T15:52:13.982565",
     "exception": false,
     "start_time": "2024-07-02T15:52:13.930558",
     "status": "completed"
    },
    "tags": []
   },
   "source": [
    "Count the occurrences of an object within a list using the **list.count()** function:"
   ]
  },
  {
   "cell_type": "code",
   "execution_count": 63,
   "id": "60cc3992",
   "metadata": {
    "execution": {
     "iopub.execute_input": "2024-07-02T15:52:14.088914Z",
     "iopub.status.busy": "2024-07-02T15:52:14.088535Z",
     "iopub.status.idle": "2024-07-02T15:52:14.094303Z",
     "shell.execute_reply": "2024-07-02T15:52:14.093539Z"
    },
    "papermill": {
     "duration": 0.061766,
     "end_time": "2024-07-02T15:52:14.096253",
     "exception": false,
     "start_time": "2024-07-02T15:52:14.034487",
     "status": "completed"
    },
    "tags": []
   },
   "outputs": [
    {
     "data": {
      "text/plain": [
       "2"
      ]
     },
     "execution_count": 63,
     "metadata": {},
     "output_type": "execute_result"
    }
   ],
   "source": [
    "num_list.count(3)"
   ]
  },
  {
   "cell_type": "markdown",
   "id": "660a3b7f",
   "metadata": {
    "papermill": {
     "duration": 0.053391,
     "end_time": "2024-07-02T15:52:14.202814",
     "exception": false,
     "start_time": "2024-07-02T15:52:14.149423",
     "status": "completed"
    },
    "tags": []
   },
   "source": [
    "Other common list functions include **list.sort()** and **list.reverse()**:"
   ]
  },
  {
   "cell_type": "code",
   "execution_count": 64,
   "id": "ff0a1fa1",
   "metadata": {
    "execution": {
     "iopub.execute_input": "2024-07-02T15:52:14.308997Z",
     "iopub.status.busy": "2024-07-02T15:52:14.308653Z",
     "iopub.status.idle": "2024-07-02T15:52:14.314350Z",
     "shell.execute_reply": "2024-07-02T15:52:14.313534Z"
    },
    "papermill": {
     "duration": 0.061425,
     "end_time": "2024-07-02T15:52:14.316455",
     "exception": false,
     "start_time": "2024-07-02T15:52:14.255030",
     "status": "completed"
    },
    "tags": []
   },
   "outputs": [
    {
     "name": "stdout",
     "output_type": "stream",
     "text": [
      "Reversed list: [6, 8, 4, 2, 8, 5, 1]\n",
      "Sorted list: [1, 2, 4, 5, 6, 8, 8]\n"
     ]
    }
   ],
   "source": [
    "new_list = [1, 5, 8, 2, 4, 8, 6]     # Make a new list\n",
    "\n",
    "new_list.reverse()                   # Reverse the list\n",
    "print(\"Reversed list:\", new_list)\n",
    "\n",
    "new_list.sort()                      # Sort the list\n",
    "print(\"Sorted list:\", new_list)"
   ]
  },
  {
   "cell_type": "markdown",
   "id": "0efe98a0",
   "metadata": {
    "papermill": {
     "duration": 0.052274,
     "end_time": "2024-07-02T15:52:14.421309",
     "exception": false,
     "start_time": "2024-07-02T15:52:14.369035",
     "status": "completed"
    },
    "tags": []
   },
   "source": [
    "# **Lists Indexing and Slicing**"
   ]
  },
  {
   "cell_type": "code",
   "execution_count": 65,
   "id": "0c3b44da",
   "metadata": {
    "execution": {
     "iopub.execute_input": "2024-07-02T15:52:14.530517Z",
     "iopub.status.busy": "2024-07-02T15:52:14.530184Z",
     "iopub.status.idle": "2024-07-02T15:52:14.535161Z",
     "shell.execute_reply": "2024-07-02T15:52:14.534310Z"
    },
    "papermill": {
     "duration": 0.060822,
     "end_time": "2024-07-02T15:52:14.537522",
     "exception": false,
     "start_time": "2024-07-02T15:52:14.476700",
     "status": "completed"
    },
    "tags": []
   },
   "outputs": [
    {
     "name": "stdout",
     "output_type": "stream",
     "text": [
      "Hello\n",
      "practice\n"
     ]
    }
   ],
   "source": [
    "another_list = [\"Hello\", \"this\", \"is\", \"a\", \"practice\"]\n",
    "\n",
    "print(another_list[0])\n",
    "print(another_list[4])"
   ]
  },
  {
   "cell_type": "code",
   "execution_count": 66,
   "id": "acf29a4a",
   "metadata": {
    "execution": {
     "iopub.execute_input": "2024-07-02T15:52:14.643379Z",
     "iopub.status.busy": "2024-07-02T15:52:14.643017Z",
     "iopub.status.idle": "2024-07-02T15:52:14.647656Z",
     "shell.execute_reply": "2024-07-02T15:52:14.646805Z"
    },
    "papermill": {
     "duration": 0.060209,
     "end_time": "2024-07-02T15:52:14.650136",
     "exception": false,
     "start_time": "2024-07-02T15:52:14.589927",
     "status": "completed"
    },
    "tags": []
   },
   "outputs": [
    {
     "name": "stdout",
     "output_type": "stream",
     "text": [
      "practice\n",
      "is\n"
     ]
    }
   ],
   "source": [
    "print(another_list[-1])\n",
    "print(another_list[-3])"
   ]
  },
  {
   "cell_type": "markdown",
   "id": "35d9c808",
   "metadata": {
    "papermill": {
     "duration": 0.051676,
     "end_time": "2024-07-02T15:52:14.753953",
     "exception": false,
     "start_time": "2024-07-02T15:52:14.702277",
     "status": "completed"
    },
    "tags": []
   },
   "source": [
    "Supplying an index outside of a lists range will result in an **IndexError**:"
   ]
  },
  {
   "cell_type": "code",
   "execution_count": 67,
   "id": "6196f2ce",
   "metadata": {
    "execution": {
     "iopub.execute_input": "2024-07-02T15:52:14.860297Z",
     "iopub.status.busy": "2024-07-02T15:52:14.859470Z",
     "iopub.status.idle": "2024-07-02T15:52:15.180763Z",
     "shell.execute_reply": "2024-07-02T15:52:15.179483Z"
    },
    "papermill": {
     "duration": 0.37627,
     "end_time": "2024-07-02T15:52:15.182462",
     "exception": true,
     "start_time": "2024-07-02T15:52:14.806192",
     "status": "failed"
    },
    "tags": []
   },
   "outputs": [
    {
     "ename": "IndexError",
     "evalue": "list index out of range",
     "output_type": "error",
     "traceback": [
      "\u001b[0;31m---------------------------------------------------------------------------\u001b[0m",
      "\u001b[0;31mIndexError\u001b[0m                                Traceback (most recent call last)",
      "Cell \u001b[0;32mIn[67], line 1\u001b[0m\n\u001b[0;32m----> 1\u001b[0m \u001b[38;5;28mprint\u001b[39m(\u001b[43manother_list\u001b[49m\u001b[43m[\u001b[49m\u001b[38;5;241;43m6\u001b[39;49m\u001b[43m]\u001b[49m)\n",
      "\u001b[0;31mIndexError\u001b[0m: list index out of range"
     ]
    }
   ],
   "source": [
    "print(another_list[6])"
   ]
  },
  {
   "cell_type": "markdown",
   "id": "31c835e3",
   "metadata": {
    "papermill": {
     "duration": null,
     "end_time": null,
     "exception": null,
     "start_time": null,
     "status": "pending"
    },
    "tags": []
   },
   "source": [
    "If your list contains other indexed objects, you can supply additional indexes to get items contained within the nested objects:"
   ]
  },
  {
   "cell_type": "code",
   "execution_count": null,
   "id": "849abd2c",
   "metadata": {
    "execution": {
     "iopub.execute_input": "2024-07-02T13:12:08.418757Z",
     "iopub.status.busy": "2024-07-02T13:12:08.418342Z",
     "iopub.status.idle": "2024-07-02T13:12:08.424863Z",
     "shell.execute_reply": "2024-07-02T13:12:08.423904Z",
     "shell.execute_reply.started": "2024-07-02T13:12:08.418723Z"
    },
    "papermill": {
     "duration": null,
     "end_time": null,
     "exception": null,
     "start_time": null,
     "status": "pending"
    },
    "tags": []
   },
   "outputs": [],
   "source": [
    "nested_list = [[1, 2, 3], [4, 5, 6], [7, 8, 9]]\n",
    "\n",
    "print(nested_list[0][2])\n",
    "print(nested_list[1][1])\n",
    "print(nested_list[2][1])"
   ]
  },
  {
   "cell_type": "markdown",
   "id": "83cc67c6",
   "metadata": {
    "papermill": {
     "duration": null,
     "end_time": null,
     "exception": null,
     "start_time": null,
     "status": "pending"
    },
    "tags": []
   },
   "source": [
    "You can take a slice (sequential subset) of a list using the syntax **[start:stop:step]** where:\n",
    "* **start** and **stop** are the starting and ending indexes for the slice\n",
    "* **step** controls how frequently you sample values along the slice (default = 1; meaning you take all values in the range provided, starting from the list, up to but not including the last)"
   ]
  },
  {
   "cell_type": "code",
   "execution_count": null,
   "id": "fffc8d28",
   "metadata": {
    "execution": {
     "iopub.execute_input": "2024-07-02T13:15:48.633273Z",
     "iopub.status.busy": "2024-07-02T13:15:48.632890Z",
     "iopub.status.idle": "2024-07-02T13:15:48.638964Z",
     "shell.execute_reply": "2024-07-02T13:15:48.637707Z",
     "shell.execute_reply.started": "2024-07-02T13:15:48.633241Z"
    },
    "papermill": {
     "duration": null,
     "end_time": null,
     "exception": null,
     "start_time": null,
     "status": "pending"
    },
    "tags": []
   },
   "outputs": [],
   "source": [
    "my_slice = another_list[1:3]    # Slice index 1 and 2\n",
    "print(my_slice)"
   ]
  },
  {
   "cell_type": "code",
   "execution_count": null,
   "id": "5a222968",
   "metadata": {
    "execution": {
     "iopub.execute_input": "2024-07-02T13:18:23.062628Z",
     "iopub.status.busy": "2024-07-02T13:18:23.062257Z",
     "iopub.status.idle": "2024-07-02T13:18:23.068368Z",
     "shell.execute_reply": "2024-07-02T13:18:23.067246Z",
     "shell.execute_reply.started": "2024-07-02T13:18:23.062596Z"
    },
    "papermill": {
     "duration": null,
     "end_time": null,
     "exception": null,
     "start_time": null,
     "status": "pending"
    },
    "tags": []
   },
   "outputs": [],
   "source": [
    "# Slice the entire list  but use step size 2 to get every other item:\n",
    "\n",
    "my_slice = another_list[0:6:2]\n",
    "print(my_slice)"
   ]
  },
  {
   "cell_type": "markdown",
   "id": "c5011fff",
   "metadata": {
    "papermill": {
     "duration": null,
     "end_time": null,
     "exception": null,
     "start_time": null,
     "status": "pending"
    },
    "tags": []
   },
   "source": [
    "You can leave the starting or ending index blank to slice from the beginning or up to the end of the list respectively:"
   ]
  },
  {
   "cell_type": "code",
   "execution_count": null,
   "id": "b1d69651",
   "metadata": {
    "execution": {
     "iopub.execute_input": "2024-07-02T13:19:45.232574Z",
     "iopub.status.busy": "2024-07-02T13:19:45.231730Z",
     "iopub.status.idle": "2024-07-02T13:19:45.237795Z",
     "shell.execute_reply": "2024-07-02T13:19:45.236535Z",
     "shell.execute_reply.started": "2024-07-02T13:19:45.232535Z"
    },
    "papermill": {
     "duration": null,
     "end_time": null,
     "exception": null,
     "start_time": null,
     "status": "pending"
    },
    "tags": []
   },
   "outputs": [],
   "source": [
    "slice1 = another_list[:3]    # Slice everything up to index 4\n",
    "print(slice1)"
   ]
  },
  {
   "cell_type": "code",
   "execution_count": null,
   "id": "d9559478",
   "metadata": {
    "execution": {
     "iopub.execute_input": "2024-07-02T13:20:30.288103Z",
     "iopub.status.busy": "2024-07-02T13:20:30.287719Z",
     "iopub.status.idle": "2024-07-02T13:20:30.293974Z",
     "shell.execute_reply": "2024-07-02T13:20:30.292744Z",
     "shell.execute_reply.started": "2024-07-02T13:20:30.288072Z"
    },
    "papermill": {
     "duration": null,
     "end_time": null,
     "exception": null,
     "start_time": null,
     "status": "pending"
    },
    "tags": []
   },
   "outputs": [],
   "source": [
    "slice2 = another_list[3:]    # Slice everything from index 3 to the end\n",
    "print(slice2)"
   ]
  },
  {
   "cell_type": "markdown",
   "id": "1348aff4",
   "metadata": {
    "papermill": {
     "duration": null,
     "end_time": null,
     "exception": null,
     "start_time": null,
     "status": "pending"
    },
    "tags": []
   },
   "source": [
    "If you provide a negative number as the step, the slice steps backward:"
   ]
  },
  {
   "cell_type": "code",
   "execution_count": null,
   "id": "f375bdb2",
   "metadata": {
    "execution": {
     "iopub.execute_input": "2024-07-02T13:21:48.170348Z",
     "iopub.status.busy": "2024-07-02T13:21:48.169532Z",
     "iopub.status.idle": "2024-07-02T13:21:48.175995Z",
     "shell.execute_reply": "2024-07-02T13:21:48.174997Z",
     "shell.execute_reply.started": "2024-07-02T13:21:48.170312Z"
    },
    "papermill": {
     "duration": null,
     "end_time": null,
     "exception": null,
     "start_time": null,
     "status": "pending"
    },
    "tags": []
   },
   "outputs": [],
   "source": [
    "# Take a slice starting at index 4, backward to index 2\n",
    "\n",
    "my_slice = another_list[4:2:-1]\n",
    "print(my_slice)"
   ]
  },
  {
   "cell_type": "markdown",
   "id": "7c5c867d",
   "metadata": {
    "papermill": {
     "duration": null,
     "end_time": null,
     "exception": null,
     "start_time": null,
     "status": "pending"
    },
    "tags": []
   },
   "source": [
    "If you do not provide a start or ending index, you slice of the entire list:"
   ]
  },
  {
   "cell_type": "code",
   "execution_count": null,
   "id": "8dc7da8f",
   "metadata": {
    "execution": {
     "iopub.execute_input": "2024-07-02T13:22:57.917857Z",
     "iopub.status.busy": "2024-07-02T13:22:57.917484Z",
     "iopub.status.idle": "2024-07-02T13:22:57.923034Z",
     "shell.execute_reply": "2024-07-02T13:22:57.922122Z",
     "shell.execute_reply.started": "2024-07-02T13:22:57.917825Z"
    },
    "papermill": {
     "duration": null,
     "end_time": null,
     "exception": null,
     "start_time": null,
     "status": "pending"
    },
    "tags": []
   },
   "outputs": [],
   "source": [
    "my_slice = another_list[:]   # This slice operation copies the list\n",
    "print(my_slice)"
   ]
  },
  {
   "cell_type": "markdown",
   "id": "281eaf78",
   "metadata": {
    "papermill": {
     "duration": null,
     "end_time": null,
     "exception": null,
     "start_time": null,
     "status": "pending"
    },
    "tags": []
   },
   "source": [
    "Using a step of -1 without a starting or ending index slices the list in reverse, providing a shorthand to reverse a list:"
   ]
  },
  {
   "cell_type": "code",
   "execution_count": null,
   "id": "5a6b5c8d",
   "metadata": {
    "execution": {
     "iopub.execute_input": "2024-07-02T13:24:33.965198Z",
     "iopub.status.busy": "2024-07-02T13:24:33.964822Z",
     "iopub.status.idle": "2024-07-02T13:24:33.970848Z",
     "shell.execute_reply": "2024-07-02T13:24:33.969618Z",
     "shell.execute_reply.started": "2024-07-02T13:24:33.965167Z"
    },
    "papermill": {
     "duration": null,
     "end_time": null,
     "exception": null,
     "start_time": null,
     "status": "pending"
    },
    "tags": []
   },
   "outputs": [],
   "source": [
    "my_slice = another_list[::-1]  # This slice operation reverses the list\n",
    "print(my_slice)"
   ]
  },
  {
   "cell_type": "markdown",
   "id": "4ffea175",
   "metadata": {
    "papermill": {
     "duration": null,
     "end_time": null,
     "exception": null,
     "start_time": null,
     "status": "pending"
    },
    "tags": []
   },
   "source": [
    "You can use indexing to **change the values within a list** or **delete items in a list**:"
   ]
  },
  {
   "cell_type": "code",
   "execution_count": null,
   "id": "237586c5",
   "metadata": {
    "execution": {
     "iopub.execute_input": "2024-07-02T13:26:52.611617Z",
     "iopub.status.busy": "2024-07-02T13:26:52.611238Z",
     "iopub.status.idle": "2024-07-02T13:26:52.617345Z",
     "shell.execute_reply": "2024-07-02T13:26:52.616334Z",
     "shell.execute_reply.started": "2024-07-02T13:26:52.611583Z"
    },
    "papermill": {
     "duration": null,
     "end_time": null,
     "exception": null,
     "start_time": null,
     "status": "pending"
    },
    "tags": []
   },
   "outputs": [],
   "source": [
    "another_list[3] = \"basic\"   # Set the value at index 3 to \"new\"\n",
    "print(another_list)\n",
    "\n",
    "del(another_list[3])        # Delete the item at index 3\n",
    "print(another_list)"
   ]
  },
  {
   "cell_type": "markdown",
   "id": "1320062e",
   "metadata": {
    "papermill": {
     "duration": null,
     "end_time": null,
     "exception": null,
     "start_time": null,
     "status": "pending"
    },
    "tags": []
   },
   "source": [
    "You can also remove items from a list using **list.pop()** function.\n",
    "\n",
    "pop() removes the final item in a list and returns it:"
   ]
  },
  {
   "cell_type": "code",
   "execution_count": null,
   "id": "09c9b9fd",
   "metadata": {
    "execution": {
     "iopub.execute_input": "2024-07-02T13:28:19.843783Z",
     "iopub.status.busy": "2024-07-02T13:28:19.843405Z",
     "iopub.status.idle": "2024-07-02T13:28:19.849011Z",
     "shell.execute_reply": "2024-07-02T13:28:19.847949Z",
     "shell.execute_reply.started": "2024-07-02T13:28:19.843753Z"
    },
    "papermill": {
     "duration": null,
     "end_time": null,
     "exception": null,
     "start_time": null,
     "status": "pending"
    },
    "tags": []
   },
   "outputs": [],
   "source": [
    "next_item = another_list.pop()\n",
    "\n",
    "print(next_item)\n",
    "print(another_list)"
   ]
  },
  {
   "cell_type": "markdown",
   "id": "89a83ab0",
   "metadata": {
    "papermill": {
     "duration": null,
     "end_time": null,
     "exception": null,
     "start_time": null,
     "status": "pending"
    },
    "tags": []
   },
   "source": [
    "Notices that the list resizes itself dynamically as you **delete** or **add** items to it. Appending items to lists and removing items from the end of list with **list.pop()** are very fast operations. Deleting or inserting items at the front of a list or within the body of a list is much slower."
   ]
  },
  {
   "cell_type": "markdown",
   "id": "b98875ec",
   "metadata": {
    "papermill": {
     "duration": null,
     "end_time": null,
     "exception": null,
     "start_time": null,
     "status": "pending"
    },
    "tags": []
   },
   "source": [
    "# Copying Lists"
   ]
  },
  {
   "cell_type": "markdown",
   "id": "1d3db488",
   "metadata": {
    "papermill": {
     "duration": null,
     "end_time": null,
     "exception": null,
     "start_time": null,
     "status": "pending"
    },
    "tags": []
   },
   "source": [
    "We can slice an entire list using the [:] indexing operation.\n",
    "\n",
    "You can also copy a list using the **list.copy()** function:"
   ]
  },
  {
   "cell_type": "code",
   "execution_count": null,
   "id": "8576d2cb",
   "metadata": {
    "execution": {
     "iopub.execute_input": "2024-07-02T13:35:09.353068Z",
     "iopub.status.busy": "2024-07-02T13:35:09.352311Z",
     "iopub.status.idle": "2024-07-02T13:35:09.358887Z",
     "shell.execute_reply": "2024-07-02T13:35:09.357733Z",
     "shell.execute_reply.started": "2024-07-02T13:35:09.353031Z"
    },
    "papermill": {
     "duration": null,
     "end_time": null,
     "exception": null,
     "start_time": null,
     "status": "pending"
    },
    "tags": []
   },
   "outputs": [],
   "source": [
    "list1 = [1, 2, 3]        # Make a list\n",
    "list2 = list1.copy()     # Copy the list\n",
    "list1.append(4)          # Add an item to list 1\n",
    "\n",
    "print(\"List1:\", list1)\n",
    "print(\"List2:\", list2)"
   ]
  },
  {
   "cell_type": "markdown",
   "id": "2ba4eb2b",
   "metadata": {
    "papermill": {
     "duration": null,
     "end_time": null,
     "exception": null,
     "start_time": null,
     "status": "pending"
    },
    "tags": []
   },
   "source": [
    "The copy was not affected by the append operation we performed on the original list.\n",
    "\n",
    "The copy function (and slicing an entire list with [:]) creates what is known as **a shallow copy**, which makes a new list where each list element refers to the object at the same position (index) in the original list."
   ]
  },
  {
   "cell_type": "code",
   "execution_count": null,
   "id": "222c5230",
   "metadata": {
    "execution": {
     "iopub.execute_input": "2024-07-02T13:42:35.902936Z",
     "iopub.status.busy": "2024-07-02T13:42:35.902556Z",
     "iopub.status.idle": "2024-07-02T13:42:35.909948Z",
     "shell.execute_reply": "2024-07-02T13:42:35.908833Z",
     "shell.execute_reply.started": "2024-07-02T13:42:35.902903Z"
    },
    "papermill": {
     "duration": null,
     "end_time": null,
     "exception": null,
     "start_time": null,
     "status": "pending"
    },
    "tags": []
   },
   "outputs": [],
   "source": [
    "list1 = [1, 2, 3]                      # Make a new list\n",
    "list2 = [\"List within a list\", list1]  # Nest it in another list\n",
    "list3 = list2.copy()                   # Shallow copy list2\n",
    "\n",
    "print(\"Before appending to list1:\")\n",
    "print(\"List2:\", list2)\n",
    "print(\"List3:\", list3, \"\\n\")\n",
    "\n",
    "list1.append(4)                        # Add an item to list1\n",
    "print(\"After appending to list1:\")\n",
    "print(\"List2:\", list2)\n",
    "print(\"List3:\", list3)"
   ]
  },
  {
   "cell_type": "markdown",
   "id": "7885d291",
   "metadata": {
    "papermill": {
     "duration": null,
     "end_time": null,
     "exception": null,
     "start_time": null,
     "status": "pending"
    },
    "tags": []
   },
   "source": [
    "We use a shallow copy on list2, the second element of list2 and its copy both refer to list1. Thus, when we append a new value into list1, the second element of list2 and the copy, list3, both change.\n",
    "\n",
    "When you are working with nested lists, you have to make a **deepcopy** if you want to truly copy nested objects in the original to avoid this behavior of shallow copies.\n",
    "\n",
    "You can make a deep copy using the **deepcopy()** function in the copy library:"
   ]
  },
  {
   "cell_type": "code",
   "execution_count": null,
   "id": "1b91bb32",
   "metadata": {
    "execution": {
     "iopub.execute_input": "2024-07-02T13:50:54.491793Z",
     "iopub.status.busy": "2024-07-02T13:50:54.491388Z",
     "iopub.status.idle": "2024-07-02T13:50:54.499083Z",
     "shell.execute_reply": "2024-07-02T13:50:54.497945Z",
     "shell.execute_reply.started": "2024-07-02T13:50:54.491762Z"
    },
    "papermill": {
     "duration": null,
     "end_time": null,
     "exception": null,
     "start_time": null,
     "status": "pending"
    },
    "tags": []
   },
   "outputs": [],
   "source": [
    "import copy                            # Load the copy module\n",
    "\n",
    "list1 = [1, 2, 3]                      # Make a new list\n",
    "list2 = [\"List within a list\", list1]  # Nest it in another list\n",
    "list3 = copy.deepcopy(list2)           # Deep copy list2\n",
    "\n",
    "print(\"Before appending to list1:\")\n",
    "print(list1)\n",
    "print(\"List2:\", list2)\n",
    "print(\"List3:\", list3, \"\\n\")\n",
    "\n",
    "list1.append(4)                        # Add an item to list1\n",
    "print(\"After appending to list1:\")\n",
    "print(list1)\n",
    "print(\"List2:\", list2)\n",
    "print(\"List3:\", list3)"
   ]
  },
  {
   "cell_type": "markdown",
   "id": "58562e2e",
   "metadata": {
    "papermill": {
     "duration": null,
     "end_time": null,
     "exception": null,
     "start_time": null,
     "status": "pending"
    },
    "tags": []
   },
   "source": [
    "# **Tuples and Strings**"
   ]
  },
  {
   "cell_type": "markdown",
   "id": "ccfc2f6c",
   "metadata": {
    "papermill": {
     "duration": null,
     "end_time": null,
     "exception": null,
     "start_time": null,
     "status": "pending"
    },
    "tags": []
   },
   "source": [
    "# Tuples"
   ]
  },
  {
   "cell_type": "markdown",
   "id": "6be50c7d",
   "metadata": {
    "papermill": {
     "duration": null,
     "end_time": null,
     "exception": null,
     "start_time": null,
     "status": "pending"
    },
    "tags": []
   },
   "source": [
    "Tuples are an immutable sequence data type that are commonly used to hold short collections of related data.\n",
    "\n",
    "For instance, if you are wanted to store latitude and longitude coordinates for cities, tuples might be a good choice due to its values are related and not likely to change.\n",
    "\n",
    "Same as lists, tuples can store objects of different types.\n",
    "\n",
    "Construct a tuple with a comma separated sequence of objects within **parenthess** \"( )\":"
   ]
  },
  {
   "cell_type": "code",
   "execution_count": null,
   "id": "60929f4a",
   "metadata": {
    "execution": {
     "iopub.execute_input": "2024-07-02T14:00:12.144663Z",
     "iopub.status.busy": "2024-07-02T14:00:12.144305Z",
     "iopub.status.idle": "2024-07-02T14:00:12.149952Z",
     "shell.execute_reply": "2024-07-02T14:00:12.148745Z",
     "shell.execute_reply.started": "2024-07-02T14:00:12.144635Z"
    },
    "papermill": {
     "duration": null,
     "end_time": null,
     "exception": null,
     "start_time": null,
     "status": "pending"
    },
    "tags": []
   },
   "outputs": [],
   "source": [
    "my_tuple = (1, 3, 5)\n",
    "print(my_tuple)"
   ]
  },
  {
   "cell_type": "markdown",
   "id": "3b53bcc4",
   "metadata": {
    "papermill": {
     "duration": null,
     "end_time": null,
     "exception": null,
     "start_time": null,
     "status": "pending"
    },
    "tags": []
   },
   "source": [
    "Alternatively, you can construct a tuple by passing an iterable into the **tuple()** function:"
   ]
  },
  {
   "cell_type": "code",
   "execution_count": null,
   "id": "1ea0f5f2",
   "metadata": {
    "execution": {
     "iopub.execute_input": "2024-07-02T14:02:09.552499Z",
     "iopub.status.busy": "2024-07-02T14:02:09.552129Z",
     "iopub.status.idle": "2024-07-02T14:02:09.559833Z",
     "shell.execute_reply": "2024-07-02T14:02:09.558570Z",
     "shell.execute_reply.started": "2024-07-02T14:02:09.552471Z"
    },
    "papermill": {
     "duration": null,
     "end_time": null,
     "exception": null,
     "start_time": null,
     "status": "pending"
    },
    "tags": []
   },
   "outputs": [],
   "source": [
    "my_list = [2, 3, 1, 5, 4]\n",
    "\n",
    "another_tuple = tuple(my_list)\n",
    "another_tuple"
   ]
  },
  {
   "cell_type": "markdown",
   "id": "88ca914a",
   "metadata": {
    "papermill": {
     "duration": null,
     "end_time": null,
     "exception": null,
     "start_time": null,
     "status": "pending"
    },
    "tags": []
   },
   "source": [
    "Tuples generally support the same indexing and slicing operations as lists and they also support some of the same functions, with the caveat that **tuples cannot be changed after they created**.\n",
    "\n",
    "This means we can do things like find the length, max or min of a tuple, but **we cannot append new values to them** or **remove values from them**:"
   ]
  },
  {
   "cell_type": "code",
   "execution_count": null,
   "id": "aaa076e1",
   "metadata": {
    "execution": {
     "iopub.execute_input": "2024-07-02T14:05:27.262019Z",
     "iopub.status.busy": "2024-07-02T14:05:27.261599Z",
     "iopub.status.idle": "2024-07-02T14:05:27.268503Z",
     "shell.execute_reply": "2024-07-02T14:05:27.267417Z",
     "shell.execute_reply.started": "2024-07-02T14:05:27.261988Z"
    },
    "papermill": {
     "duration": null,
     "end_time": null,
     "exception": null,
     "start_time": null,
     "status": "pending"
    },
    "tags": []
   },
   "outputs": [],
   "source": [
    "another_tuple[2]    # You can index into tuples"
   ]
  },
  {
   "cell_type": "code",
   "execution_count": null,
   "id": "04b59608",
   "metadata": {
    "execution": {
     "iopub.execute_input": "2024-07-02T14:06:11.486101Z",
     "iopub.status.busy": "2024-07-02T14:06:11.485701Z",
     "iopub.status.idle": "2024-07-02T14:06:11.492061Z",
     "shell.execute_reply": "2024-07-02T14:06:11.491175Z",
     "shell.execute_reply.started": "2024-07-02T14:06:11.486069Z"
    },
    "papermill": {
     "duration": null,
     "end_time": null,
     "exception": null,
     "start_time": null,
     "status": "pending"
    },
    "tags": []
   },
   "outputs": [],
   "source": [
    "another_tuple[2:4]   # You can slice tuples"
   ]
  },
  {
   "cell_type": "code",
   "execution_count": null,
   "id": "f23f3c2c",
   "metadata": {
    "execution": {
     "iopub.execute_input": "2024-07-02T14:07:12.727753Z",
     "iopub.status.busy": "2024-07-02T14:07:12.727359Z",
     "iopub.status.idle": "2024-07-02T14:07:12.733956Z",
     "shell.execute_reply": "2024-07-02T14:07:12.732771Z",
     "shell.execute_reply.started": "2024-07-02T14:07:12.727722Z"
    },
    "papermill": {
     "duration": null,
     "end_time": null,
     "exception": null,
     "start_time": null,
     "status": "pending"
    },
    "tags": []
   },
   "outputs": [],
   "source": [
    "# You can use common sequence functions on tuples:\n",
    "\n",
    "print(len(another_tuple))\n",
    "print(min(another_tuple))\n",
    "print(max(another_tuple))\n",
    "print(sum(another_tuple))\n",
    "print(sum(another_tuple)/len(another_tuple))"
   ]
  },
  {
   "cell_type": "code",
   "execution_count": null,
   "id": "5c2de3cd",
   "metadata": {
    "execution": {
     "iopub.execute_input": "2024-07-02T14:08:00.575664Z",
     "iopub.status.busy": "2024-07-02T14:08:00.575210Z",
     "iopub.status.idle": "2024-07-02T14:08:00.599534Z",
     "shell.execute_reply": "2024-07-02T14:08:00.598021Z",
     "shell.execute_reply.started": "2024-07-02T14:08:00.575631Z"
    },
    "papermill": {
     "duration": null,
     "end_time": null,
     "exception": null,
     "start_time": null,
     "status": "pending"
    },
    "tags": []
   },
   "outputs": [],
   "source": [
    "another_tuple.append(2)   # You cannot append to a tuple"
   ]
  },
  {
   "cell_type": "code",
   "execution_count": null,
   "id": "72c70034",
   "metadata": {
    "execution": {
     "iopub.execute_input": "2024-07-02T14:08:39.134795Z",
     "iopub.status.busy": "2024-07-02T14:08:39.134423Z",
     "iopub.status.idle": "2024-07-02T14:08:39.158718Z",
     "shell.execute_reply": "2024-07-02T14:08:39.157038Z",
     "shell.execute_reply.started": "2024-07-02T14:08:39.134765Z"
    },
    "papermill": {
     "duration": null,
     "end_time": null,
     "exception": null,
     "start_time": null,
     "status": "pending"
    },
    "tags": []
   },
   "outputs": [],
   "source": [
    "del another_tuple[1]   # You cannot delete from a tuple"
   ]
  },
  {
   "cell_type": "markdown",
   "id": "dc4d9b74",
   "metadata": {
    "papermill": {
     "duration": null,
     "end_time": null,
     "exception": null,
     "start_time": null,
     "status": "pending"
    },
    "tags": []
   },
   "source": [
    "# String"
   ]
  },
  {
   "cell_type": "markdown",
   "id": "d4ba7f65",
   "metadata": {
    "papermill": {
     "duration": null,
     "end_time": null,
     "exception": null,
     "start_time": null,
     "status": "pending"
    },
    "tags": []
   },
   "source": [
    "Strings are technically sequences: immutable sequences of text characters.\n",
    "\n",
    "As sequences, they support indexing operations where the first character of a string is index 0. This means we can get individual letters or slices of letters with indexing:"
   ]
  },
  {
   "cell_type": "code",
   "execution_count": null,
   "id": "7df91d20",
   "metadata": {
    "execution": {
     "iopub.execute_input": "2024-07-02T14:11:09.723590Z",
     "iopub.status.busy": "2024-07-02T14:11:09.723163Z",
     "iopub.status.idle": "2024-07-02T14:11:09.730512Z",
     "shell.execute_reply": "2024-07-02T14:11:09.729396Z",
     "shell.execute_reply.started": "2024-07-02T14:11:09.723551Z"
    },
    "papermill": {
     "duration": null,
     "end_time": null,
     "exception": null,
     "start_time": null,
     "status": "pending"
    },
    "tags": []
   },
   "outputs": [],
   "source": [
    "my_string = \"Basics Python for Data Analysis\"\n",
    "my_string[5]   # Get the character at index 5"
   ]
  },
  {
   "cell_type": "code",
   "execution_count": null,
   "id": "934bcd75",
   "metadata": {
    "execution": {
     "iopub.execute_input": "2024-07-02T14:11:38.780150Z",
     "iopub.status.busy": "2024-07-02T14:11:38.779766Z",
     "iopub.status.idle": "2024-07-02T14:11:38.786937Z",
     "shell.execute_reply": "2024-07-02T14:11:38.785776Z",
     "shell.execute_reply.started": "2024-07-02T14:11:38.780121Z"
    },
    "papermill": {
     "duration": null,
     "end_time": null,
     "exception": null,
     "start_time": null,
     "status": "pending"
    },
    "tags": []
   },
   "outputs": [],
   "source": [
    "my_string[4::]   # Slice from the forth index to the end"
   ]
  },
  {
   "cell_type": "code",
   "execution_count": null,
   "id": "744ae0c4",
   "metadata": {
    "execution": {
     "iopub.execute_input": "2024-07-02T14:12:20.418669Z",
     "iopub.status.busy": "2024-07-02T14:12:20.418294Z",
     "iopub.status.idle": "2024-07-02T14:12:20.425192Z",
     "shell.execute_reply": "2024-07-02T14:12:20.424033Z",
     "shell.execute_reply.started": "2024-07-02T14:12:20.418638Z"
    },
    "papermill": {
     "duration": null,
     "end_time": null,
     "exception": null,
     "start_time": null,
     "status": "pending"
    },
    "tags": []
   },
   "outputs": [],
   "source": [
    "my_string[::-1]   # Reverse the string"
   ]
  },
  {
   "cell_type": "code",
   "execution_count": null,
   "id": "0fe9381f",
   "metadata": {
    "execution": {
     "iopub.execute_input": "2024-07-02T14:12:29.979019Z",
     "iopub.status.busy": "2024-07-02T14:12:29.978580Z",
     "iopub.status.idle": "2024-07-02T14:12:29.985748Z",
     "shell.execute_reply": "2024-07-02T14:12:29.984551Z",
     "shell.execute_reply.started": "2024-07-02T14:12:29.978983Z"
    },
    "papermill": {
     "duration": null,
     "end_time": null,
     "exception": null,
     "start_time": null,
     "status": "pending"
    },
    "tags": []
   },
   "outputs": [],
   "source": [
    "len(my_string)"
   ]
  },
  {
   "cell_type": "code",
   "execution_count": null,
   "id": "1d9508d1",
   "metadata": {
    "execution": {
     "iopub.execute_input": "2024-07-02T14:13:02.425671Z",
     "iopub.status.busy": "2024-07-02T14:13:02.425320Z",
     "iopub.status.idle": "2024-07-02T14:13:02.432421Z",
     "shell.execute_reply": "2024-07-02T14:13:02.431413Z",
     "shell.execute_reply.started": "2024-07-02T14:13:02.425642Z"
    },
    "papermill": {
     "duration": null,
     "end_time": null,
     "exception": null,
     "start_time": null,
     "status": "pending"
    },
    "tags": []
   },
   "outputs": [],
   "source": [
    "my_string.count(\"a\")   # Count the a's in the string"
   ]
  },
  {
   "cell_type": "markdown",
   "id": "2bf0e0f9",
   "metadata": {
    "papermill": {
     "duration": null,
     "end_time": null,
     "exception": null,
     "start_time": null,
     "status": "pending"
    },
    "tags": []
   },
   "source": [
    "As immutable objects, **you cannot change a string itself**:\n",
    "\n",
    "Every time you transform a string with a function, Python makes a new string object, rather than actually altering the original string that exists in yout computer's memory.\n",
    "\n",
    "Strings have many associated functions. Some basic string functions include:"
   ]
  },
  {
   "cell_type": "code",
   "execution_count": null,
   "id": "7033d468",
   "metadata": {
    "execution": {
     "iopub.execute_input": "2024-07-02T14:16:11.153604Z",
     "iopub.status.busy": "2024-07-02T14:16:11.153234Z",
     "iopub.status.idle": "2024-07-02T14:16:11.159997Z",
     "shell.execute_reply": "2024-07-02T14:16:11.158997Z",
     "shell.execute_reply.started": "2024-07-02T14:16:11.153570Z"
    },
    "papermill": {
     "duration": null,
     "end_time": null,
     "exception": null,
     "start_time": null,
     "status": "pending"
    },
    "tags": []
   },
   "outputs": [],
   "source": [
    "# str.lower()\n",
    "\n",
    "my_string.lower()   # Make all characters lowercase"
   ]
  },
  {
   "cell_type": "code",
   "execution_count": null,
   "id": "1b117bad",
   "metadata": {
    "execution": {
     "iopub.execute_input": "2024-07-02T14:16:43.594506Z",
     "iopub.status.busy": "2024-07-02T14:16:43.594135Z",
     "iopub.status.idle": "2024-07-02T14:16:43.601207Z",
     "shell.execute_reply": "2024-07-02T14:16:43.600091Z",
     "shell.execute_reply.started": "2024-07-02T14:16:43.594473Z"
    },
    "papermill": {
     "duration": null,
     "end_time": null,
     "exception": null,
     "start_time": null,
     "status": "pending"
    },
    "tags": []
   },
   "outputs": [],
   "source": [
    "# str.upper()\n",
    "\n",
    "my_string.upper()   # Make all characters uppercase"
   ]
  },
  {
   "cell_type": "code",
   "execution_count": null,
   "id": "6433a580",
   "metadata": {
    "execution": {
     "iopub.execute_input": "2024-07-02T14:17:39.844054Z",
     "iopub.status.busy": "2024-07-02T14:17:39.843632Z",
     "iopub.status.idle": "2024-07-02T14:17:39.850703Z",
     "shell.execute_reply": "2024-07-02T14:17:39.849447Z",
     "shell.execute_reply.started": "2024-07-02T14:17:39.844020Z"
    },
    "papermill": {
     "duration": null,
     "end_time": null,
     "exception": null,
     "start_time": null,
     "status": "pending"
    },
    "tags": []
   },
   "outputs": [],
   "source": [
    "# str.title()\n",
    "\n",
    "my_string.title()   # Make the first letter of each word capitalize"
   ]
  },
  {
   "cell_type": "markdown",
   "id": "66750e90",
   "metadata": {
    "papermill": {
     "duration": null,
     "end_time": null,
     "exception": null,
     "start_time": null,
     "status": "pending"
    },
    "tags": []
   },
   "source": [
    "Find the index of the first appearing substring within a string using **str.find()**.\n",
    "\n",
    "If the substring does not appear, find() returns -1:"
   ]
  },
  {
   "cell_type": "code",
   "execution_count": null,
   "id": "f36eeb25",
   "metadata": {
    "execution": {
     "iopub.execute_input": "2024-07-02T14:20:12.498846Z",
     "iopub.status.busy": "2024-07-02T14:20:12.498445Z",
     "iopub.status.idle": "2024-07-02T14:20:12.505240Z",
     "shell.execute_reply": "2024-07-02T14:20:12.504183Z",
     "shell.execute_reply.started": "2024-07-02T14:20:12.498812Z"
    },
    "papermill": {
     "duration": null,
     "end_time": null,
     "exception": null,
     "start_time": null,
     "status": "pending"
    },
    "tags": []
   },
   "outputs": [],
   "source": [
    "my_string.find(\"C\")"
   ]
  },
  {
   "cell_type": "code",
   "execution_count": null,
   "id": "a89eb353",
   "metadata": {
    "execution": {
     "iopub.execute_input": "2024-07-02T14:19:28.406643Z",
     "iopub.status.busy": "2024-07-02T14:19:28.406262Z",
     "iopub.status.idle": "2024-07-02T14:19:28.413069Z",
     "shell.execute_reply": "2024-07-02T14:19:28.412042Z",
     "shell.execute_reply.started": "2024-07-02T14:19:28.406610Z"
    },
    "papermill": {
     "duration": null,
     "end_time": null,
     "exception": null,
     "start_time": null,
     "status": "pending"
    },
    "tags": []
   },
   "outputs": [],
   "source": [
    "my_string.find(\"c\")"
   ]
  },
  {
   "cell_type": "markdown",
   "id": "cb4b5f6a",
   "metadata": {
    "papermill": {
     "duration": null,
     "end_time": null,
     "exception": null,
     "start_time": null,
     "status": "pending"
    },
    "tags": []
   },
   "source": [
    "Find and replace a target substring within a string using **str.replace()**:"
   ]
  },
  {
   "cell_type": "code",
   "execution_count": null,
   "id": "83f52c68",
   "metadata": {
    "execution": {
     "iopub.execute_input": "2024-07-02T14:21:48.028213Z",
     "iopub.status.busy": "2024-07-02T14:21:48.027841Z",
     "iopub.status.idle": "2024-07-02T14:21:48.035082Z",
     "shell.execute_reply": "2024-07-02T14:21:48.033875Z",
     "shell.execute_reply.started": "2024-07-02T14:21:48.028176Z"
    },
    "papermill": {
     "duration": null,
     "end_time": null,
     "exception": null,
     "start_time": null,
     "status": "pending"
    },
    "tags": []
   },
   "outputs": [],
   "source": [
    "my_string.replace(\"for\", \"4\")   # Substring \"for\" is replaced by \"4\""
   ]
  },
  {
   "cell_type": "markdown",
   "id": "0150f024",
   "metadata": {
    "papermill": {
     "duration": null,
     "end_time": null,
     "exception": null,
     "start_time": null,
     "status": "pending"
    },
    "tags": []
   },
   "source": [
    "Split a string into a list of substrings based on a given separating character with **str.split()**:"
   ]
  },
  {
   "cell_type": "code",
   "execution_count": null,
   "id": "88d76dea",
   "metadata": {
    "execution": {
     "iopub.execute_input": "2024-07-02T14:23:28.770644Z",
     "iopub.status.busy": "2024-07-02T14:23:28.769748Z",
     "iopub.status.idle": "2024-07-02T14:23:28.776845Z",
     "shell.execute_reply": "2024-07-02T14:23:28.775828Z",
     "shell.execute_reply.started": "2024-07-02T14:23:28.770602Z"
    },
    "papermill": {
     "duration": null,
     "end_time": null,
     "exception": null,
     "start_time": null,
     "status": "pending"
    },
    "tags": []
   },
   "outputs": [],
   "source": [
    "my_string.split()   # str.split() splits on spaces by default"
   ]
  },
  {
   "cell_type": "code",
   "execution_count": null,
   "id": "24e8262c",
   "metadata": {
    "execution": {
     "iopub.execute_input": "2024-07-02T14:24:10.723760Z",
     "iopub.status.busy": "2024-07-02T14:24:10.723365Z",
     "iopub.status.idle": "2024-07-02T14:24:10.730677Z",
     "shell.execute_reply": "2024-07-02T14:24:10.729604Z",
     "shell.execute_reply.started": "2024-07-02T14:24:10.723723Z"
    },
    "papermill": {
     "duration": null,
     "end_time": null,
     "exception": null,
     "start_time": null,
     "status": "pending"
    },
    "tags": []
   },
   "outputs": [],
   "source": [
    "my_string.split(\"a\")   # Supply a substring to split"
   ]
  },
  {
   "cell_type": "markdown",
   "id": "c7cf5d52",
   "metadata": {
    "papermill": {
     "duration": null,
     "end_time": null,
     "exception": null,
     "start_time": null,
     "status": "pending"
    },
    "tags": []
   },
   "source": [
    "Split a multi-line string into a list of lines using **str.splitlines()**:"
   ]
  },
  {
   "cell_type": "code",
   "execution_count": null,
   "id": "5bb66778",
   "metadata": {
    "execution": {
     "iopub.execute_input": "2024-07-02T14:25:41.291834Z",
     "iopub.status.busy": "2024-07-02T14:25:41.291123Z",
     "iopub.status.idle": "2024-07-02T14:25:41.298739Z",
     "shell.execute_reply": "2024-07-02T14:25:41.297694Z",
     "shell.execute_reply.started": "2024-07-02T14:25:41.291796Z"
    },
    "papermill": {
     "duration": null,
     "end_time": null,
     "exception": null,
     "start_time": null,
     "status": "pending"
    },
    "tags": []
   },
   "outputs": [],
   "source": [
    "multiline_string = \"\"\"Basics Python\n",
    "for\n",
    "Data Analysis\"\"\"\n",
    "\n",
    "multiline_string.splitlines()"
   ]
  },
  {
   "cell_type": "markdown",
   "id": "669064c7",
   "metadata": {
    "papermill": {
     "duration": null,
     "end_time": null,
     "exception": null,
     "start_time": null,
     "status": "pending"
    },
    "tags": []
   },
   "source": [
    "Strip leading and trailing characters from both ends of a string with **str.strip()**:"
   ]
  },
  {
   "cell_type": "code",
   "execution_count": null,
   "id": "0da03ddd",
   "metadata": {
    "execution": {
     "iopub.execute_input": "2024-07-02T14:27:24.801125Z",
     "iopub.status.busy": "2024-07-02T14:27:24.800210Z",
     "iopub.status.idle": "2024-07-02T14:27:24.807277Z",
     "shell.execute_reply": "2024-07-02T14:27:24.806287Z",
     "shell.execute_reply.started": "2024-07-02T14:27:24.801086Z"
    },
    "papermill": {
     "duration": null,
     "end_time": null,
     "exception": null,
     "start_time": null,
     "status": "pending"
    },
    "tags": []
   },
   "outputs": [],
   "source": [
    "# str.strip() removes whitespace by default\n",
    "\n",
    "\"            strip white space!         \".strip()"
   ]
  },
  {
   "cell_type": "markdown",
   "id": "7601d115",
   "metadata": {
    "papermill": {
     "duration": null,
     "end_time": null,
     "exception": null,
     "start_time": null,
     "status": "pending"
    },
    "tags": []
   },
   "source": [
    "Override the default by supplying a string containing all characters you would like to strip as an argument to the function:"
   ]
  },
  {
   "cell_type": "code",
   "execution_count": null,
   "id": "67d7863d",
   "metadata": {
    "execution": {
     "iopub.execute_input": "2024-07-02T14:28:58.415333Z",
     "iopub.status.busy": "2024-07-02T14:28:58.414986Z",
     "iopub.status.idle": "2024-07-02T14:28:58.421781Z",
     "shell.execute_reply": "2024-07-02T14:28:58.420646Z",
     "shell.execute_reply.started": "2024-07-02T14:28:58.415306Z"
    },
    "papermill": {
     "duration": null,
     "end_time": null,
     "exception": null,
     "start_time": null,
     "status": "pending"
    },
    "tags": []
   },
   "outputs": [],
   "source": [
    "\"xXxBuyNOWxxXXxXxXXXXx\".strip(\"xX\")"
   ]
  },
  {
   "cell_type": "markdown",
   "id": "eefece47",
   "metadata": {
    "papermill": {
     "duration": null,
     "end_time": null,
     "exception": null,
     "start_time": null,
     "status": "pending"
    },
    "tags": []
   },
   "source": [
    "You can strip characters from the left or right sides only with **str.lstrip()** and **str.rstrip()** respectively.\n",
    "\n",
    "To join or concatenate two strings together, you can use the **plus** (+) operator:"
   ]
  },
  {
   "cell_type": "code",
   "execution_count": null,
   "id": "9c78ae70",
   "metadata": {
    "execution": {
     "iopub.execute_input": "2024-07-02T14:31:10.640595Z",
     "iopub.status.busy": "2024-07-02T14:31:10.640127Z",
     "iopub.status.idle": "2024-07-02T14:31:10.648224Z",
     "shell.execute_reply": "2024-07-02T14:31:10.647008Z",
     "shell.execute_reply.started": "2024-07-02T14:31:10.640553Z"
    },
    "papermill": {
     "duration": null,
     "end_time": null,
     "exception": null,
     "start_time": null,
     "status": "pending"
    },
    "tags": []
   },
   "outputs": [],
   "source": [
    "\"Basics \" + \"Python \" + \"for \" + \"Data \" + \"Analysis\""
   ]
  },
  {
   "cell_type": "markdown",
   "id": "0b9d0cb3",
   "metadata": {
    "papermill": {
     "duration": null,
     "end_time": null,
     "exception": null,
     "start_time": null,
     "status": "pending"
    },
    "tags": []
   },
   "source": [
    "Convert a list of strings into a single string separated by a given delimiter with **str.join()**:"
   ]
  },
  {
   "cell_type": "code",
   "execution_count": null,
   "id": "3dd3068c",
   "metadata": {
    "execution": {
     "iopub.execute_input": "2024-07-02T14:33:06.558869Z",
     "iopub.status.busy": "2024-07-02T14:33:06.558447Z",
     "iopub.status.idle": "2024-07-02T14:33:06.566280Z",
     "shell.execute_reply": "2024-07-02T14:33:06.565092Z",
     "shell.execute_reply.started": "2024-07-02T14:33:06.558832Z"
    },
    "papermill": {
     "duration": null,
     "end_time": null,
     "exception": null,
     "start_time": null,
     "status": "pending"
    },
    "tags": []
   },
   "outputs": [],
   "source": [
    "\" \".join([\"Basics\", \"Python\", \"for\", \"Data\", \"Analysis\"])"
   ]
  },
  {
   "cell_type": "code",
   "execution_count": null,
   "id": "13e73015",
   "metadata": {
    "execution": {
     "iopub.execute_input": "2024-07-02T14:36:00.607452Z",
     "iopub.status.busy": "2024-07-02T14:36:00.606543Z",
     "iopub.status.idle": "2024-07-02T14:36:00.611723Z",
     "shell.execute_reply": "2024-07-02T14:36:00.610614Z",
     "shell.execute_reply.started": "2024-07-02T14:36:00.607411Z"
    },
    "papermill": {
     "duration": null,
     "end_time": null,
     "exception": null,
     "start_time": null,
     "status": "pending"
    },
    "tags": []
   },
   "outputs": [],
   "source": [
    "name = \"Jim\"\n",
    "age = 20\n",
    "city = \"Tokyo\""
   ]
  },
  {
   "cell_type": "markdown",
   "id": "5f77221a",
   "metadata": {
    "papermill": {
     "duration": null,
     "end_time": null,
     "exception": null,
     "start_time": null,
     "status": "pending"
    },
    "tags": []
   },
   "source": [
    "For complex string operations of this sort is preferable to use the **str.format()** function or formatted strings.\n",
    "\n",
    "str.format() takes in a template string with **curly braces** \"{ }\" as placeholders for values you provide to the function as the arguments. The arguments are then filled into the appropriate placeholders in the string:"
   ]
  },
  {
   "cell_type": "code",
   "execution_count": null,
   "id": "d6f2d477",
   "metadata": {
    "execution": {
     "iopub.execute_input": "2024-07-02T14:38:15.306077Z",
     "iopub.status.busy": "2024-07-02T14:38:15.305664Z",
     "iopub.status.idle": "2024-07-02T14:38:15.312873Z",
     "shell.execute_reply": "2024-07-02T14:38:15.311853Z",
     "shell.execute_reply.started": "2024-07-02T14:38:15.306042Z"
    },
    "papermill": {
     "duration": null,
     "end_time": null,
     "exception": null,
     "start_time": null,
     "status": "pending"
    },
    "tags": []
   },
   "outputs": [],
   "source": [
    "template_string = \"My name is {}, I am {} years old and live in {}\"\n",
    "\n",
    "template_string.format(name, age, city)"
   ]
  },
  {
   "cell_type": "markdown",
   "id": "1203ec0b",
   "metadata": {
    "papermill": {
     "duration": null,
     "end_time": null,
     "exception": null,
     "start_time": null,
     "status": "pending"
    },
    "tags": []
   },
   "source": [
    "Formatted strings or **f-string** for short are an alternative, relatively new (as of Python version 3.6) method for string formatting.\n",
    "\n",
    "F-strings are strings prefixed with \"f\" (or \"F\") that allow you to insert existing variables into string by name by placing them within curly braces:"
   ]
  },
  {
   "cell_type": "code",
   "execution_count": null,
   "id": "e77757f2",
   "metadata": {
    "execution": {
     "iopub.execute_input": "2024-07-02T14:42:38.607351Z",
     "iopub.status.busy": "2024-07-02T14:42:38.606981Z",
     "iopub.status.idle": "2024-07-02T14:42:38.612860Z",
     "shell.execute_reply": "2024-07-02T14:42:38.611887Z",
     "shell.execute_reply.started": "2024-07-02T14:42:38.607318Z"
    },
    "papermill": {
     "duration": null,
     "end_time": null,
     "exception": null,
     "start_time": null,
     "status": "pending"
    },
    "tags": []
   },
   "outputs": [],
   "source": [
    "# Remaking template_string using an f-string\n",
    "\n",
    "template_string = (f\"My name is {name}, I am {age} years old and live in {city}\")\n",
    "print(template_string)"
   ]
  },
  {
   "cell_type": "markdown",
   "id": "6c89133f",
   "metadata": {
    "papermill": {
     "duration": null,
     "end_time": null,
     "exception": null,
     "start_time": null,
     "status": "pending"
    },
    "tags": []
   },
   "source": [
    "*Notes: **lists, tuples and strings appear everywhere in Python code**, so it is essential to understand tha basics of how they work before we can start using Python for data analysis.*"
   ]
  },
  {
   "cell_type": "markdown",
   "id": "7ab3dfbe",
   "metadata": {
    "papermill": {
     "duration": null,
     "end_time": null,
     "exception": null,
     "start_time": null,
     "status": "pending"
    },
    "tags": []
   },
   "source": [
    "# **Dictionaries and Sets**"
   ]
  },
  {
   "cell_type": "markdown",
   "id": "49367c47",
   "metadata": {
    "papermill": {
     "duration": null,
     "end_time": null,
     "exception": null,
     "start_time": null,
     "status": "pending"
    },
    "tags": []
   },
   "source": [
    "# Dictionaries"
   ]
  },
  {
   "cell_type": "markdown",
   "id": "4960fd4d",
   "metadata": {
    "papermill": {
     "duration": null,
     "end_time": null,
     "exception": null,
     "start_time": null,
     "status": "pending"
    },
    "tags": []
   },
   "source": [
    "A dictionary (dict) is an object that maps a set of named indexes called **keys** to a set of corresponding values.\n",
    "\n",
    "Dict are mutable, so you can add and remove keys and their associated values. **A dictionary's keys must be immutable objects, such as ints, strigs or tuples**, but the values can be anything.\n",
    "\n",
    "Create a dictionary with a comma-separated list of **key: value pairs** within **curly braces** \"{ }\":"
   ]
  },
  {
   "cell_type": "code",
   "execution_count": null,
   "id": "5b0d975e",
   "metadata": {
    "execution": {
     "iopub.execute_input": "2024-07-02T14:52:48.528777Z",
     "iopub.status.busy": "2024-07-02T14:52:48.528397Z",
     "iopub.status.idle": "2024-07-02T14:52:48.534427Z",
     "shell.execute_reply": "2024-07-02T14:52:48.533347Z",
     "shell.execute_reply.started": "2024-07-02T14:52:48.528746Z"
    },
    "papermill": {
     "duration": null,
     "end_time": null,
     "exception": null,
     "start_time": null,
     "status": "pending"
    },
    "tags": []
   },
   "outputs": [],
   "source": [
    "my_dict = {\"name\": \"Jim\",\n",
    "          \"age\": 20,\n",
    "          \"city\": \"Tokyo\"}\n",
    "\n",
    "print(my_dict)"
   ]
  },
  {
   "cell_type": "markdown",
   "id": "5b3f8d3c",
   "metadata": {
    "papermill": {
     "duration": null,
     "end_time": null,
     "exception": null,
     "start_time": null,
     "status": "pending"
    },
    "tags": []
   },
   "source": [
    "Notices that in the printed dictionary, the items do not appear in the same order as when we defined it, since dictionaries are unordered. Index into a dictionary using keys rather than numeric indexes:"
   ]
  },
  {
   "cell_type": "code",
   "execution_count": null,
   "id": "9f73bee7",
   "metadata": {
    "execution": {
     "iopub.execute_input": "2024-07-02T14:55:35.154458Z",
     "iopub.status.busy": "2024-07-02T14:55:35.154086Z",
     "iopub.status.idle": "2024-07-02T14:55:35.160858Z",
     "shell.execute_reply": "2024-07-02T14:55:35.159777Z",
     "shell.execute_reply.started": "2024-07-02T14:55:35.154429Z"
    },
    "papermill": {
     "duration": null,
     "end_time": null,
     "exception": null,
     "start_time": null,
     "status": "pending"
    },
    "tags": []
   },
   "outputs": [],
   "source": [
    "my_dict[\"name\"]"
   ]
  },
  {
   "cell_type": "markdown",
   "id": "1b93ddc6",
   "metadata": {
    "papermill": {
     "duration": null,
     "end_time": null,
     "exception": null,
     "start_time": null,
     "status": "pending"
    },
    "tags": []
   },
   "source": [
    "Add new items to an existing dictionary with the following syntax:"
   ]
  },
  {
   "cell_type": "code",
   "execution_count": null,
   "id": "afd9e03f",
   "metadata": {
    "execution": {
     "iopub.execute_input": "2024-07-02T14:56:56.301506Z",
     "iopub.status.busy": "2024-07-02T14:56:56.301136Z",
     "iopub.status.idle": "2024-07-02T14:56:56.307384Z",
     "shell.execute_reply": "2024-07-02T14:56:56.306171Z",
     "shell.execute_reply.started": "2024-07-02T14:56:56.301473Z"
    },
    "papermill": {
     "duration": null,
     "end_time": null,
     "exception": null,
     "start_time": null,
     "status": "pending"
    },
    "tags": []
   },
   "outputs": [],
   "source": [
    "my_dict[\"new_key\"] = \"new_value\"\n",
    "\n",
    "print(my_dict)"
   ]
  },
  {
   "cell_type": "code",
   "execution_count": null,
   "id": "4fe6fdfe",
   "metadata": {
    "execution": {
     "iopub.execute_input": "2024-07-02T14:57:17.897090Z",
     "iopub.status.busy": "2024-07-02T14:57:17.896733Z",
     "iopub.status.idle": "2024-07-02T14:57:17.902349Z",
     "shell.execute_reply": "2024-07-02T14:57:17.901173Z",
     "shell.execute_reply.started": "2024-07-02T14:57:17.897062Z"
    },
    "papermill": {
     "duration": null,
     "end_time": null,
     "exception": null,
     "start_time": null,
     "status": "pending"
    },
    "tags": []
   },
   "outputs": [],
   "source": [
    "del my_dict[\"new_key\"]\n",
    "\n",
    "print(my_dict)"
   ]
  },
  {
   "cell_type": "markdown",
   "id": "8b3540cd",
   "metadata": {
    "papermill": {
     "duration": null,
     "end_time": null,
     "exception": null,
     "start_time": null,
     "status": "pending"
    },
    "tags": []
   },
   "source": [
    "Check the number of items in a dictionary with **len()**:"
   ]
  },
  {
   "cell_type": "code",
   "execution_count": null,
   "id": "391e8973",
   "metadata": {
    "execution": {
     "iopub.execute_input": "2024-07-02T14:57:59.877524Z",
     "iopub.status.busy": "2024-07-02T14:57:59.876566Z",
     "iopub.status.idle": "2024-07-02T14:57:59.883489Z",
     "shell.execute_reply": "2024-07-02T14:57:59.882397Z",
     "shell.execute_reply.started": "2024-07-02T14:57:59.877483Z"
    },
    "papermill": {
     "duration": null,
     "end_time": null,
     "exception": null,
     "start_time": null,
     "status": "pending"
    },
    "tags": []
   },
   "outputs": [],
   "source": [
    "len(my_dict)"
   ]
  },
  {
   "cell_type": "markdown",
   "id": "7a886fc3",
   "metadata": {
    "papermill": {
     "duration": null,
     "end_time": null,
     "exception": null,
     "start_time": null,
     "status": "pending"
    },
    "tags": []
   },
   "source": [
    "Check whether a certain key exists with \"**in**\":"
   ]
  },
  {
   "cell_type": "code",
   "execution_count": null,
   "id": "4fef1f66",
   "metadata": {
    "execution": {
     "iopub.execute_input": "2024-07-02T14:58:38.147783Z",
     "iopub.status.busy": "2024-07-02T14:58:38.147395Z",
     "iopub.status.idle": "2024-07-02T14:58:38.154079Z",
     "shell.execute_reply": "2024-07-02T14:58:38.153072Z",
     "shell.execute_reply.started": "2024-07-02T14:58:38.147749Z"
    },
    "papermill": {
     "duration": null,
     "end_time": null,
     "exception": null,
     "start_time": null,
     "status": "pending"
    },
    "tags": []
   },
   "outputs": [],
   "source": [
    "\"name\" in my_dict"
   ]
  },
  {
   "cell_type": "markdown",
   "id": "5a821d4b",
   "metadata": {
    "papermill": {
     "duration": null,
     "end_time": null,
     "exception": null,
     "start_time": null,
     "status": "pending"
    },
    "tags": []
   },
   "source": [
    "You can access\n",
    "* *all the keys* with the **.keys()**\n",
    "* *all the values* with the **.values()**\n",
    "* *all the key: value pairs of a dictionary* with the **.items()**"
   ]
  },
  {
   "cell_type": "code",
   "execution_count": null,
   "id": "9c6e0fb1",
   "metadata": {
    "execution": {
     "iopub.execute_input": "2024-07-02T15:00:42.422642Z",
     "iopub.status.busy": "2024-07-02T15:00:42.422288Z",
     "iopub.status.idle": "2024-07-02T15:00:42.429874Z",
     "shell.execute_reply": "2024-07-02T15:00:42.428698Z",
     "shell.execute_reply.started": "2024-07-02T15:00:42.422613Z"
    },
    "papermill": {
     "duration": null,
     "end_time": null,
     "exception": null,
     "start_time": null,
     "status": "pending"
    },
    "tags": []
   },
   "outputs": [],
   "source": [
    "my_dict.keys()"
   ]
  },
  {
   "cell_type": "code",
   "execution_count": null,
   "id": "bc4206b7",
   "metadata": {
    "execution": {
     "iopub.execute_input": "2024-07-02T15:01:03.038789Z",
     "iopub.status.busy": "2024-07-02T15:01:03.038406Z",
     "iopub.status.idle": "2024-07-02T15:01:03.045552Z",
     "shell.execute_reply": "2024-07-02T15:01:03.044560Z",
     "shell.execute_reply.started": "2024-07-02T15:01:03.038757Z"
    },
    "papermill": {
     "duration": null,
     "end_time": null,
     "exception": null,
     "start_time": null,
     "status": "pending"
    },
    "tags": []
   },
   "outputs": [],
   "source": [
    "my_dict.values()"
   ]
  },
  {
   "cell_type": "code",
   "execution_count": null,
   "id": "8bbdf0c3",
   "metadata": {
    "execution": {
     "iopub.execute_input": "2024-07-02T15:01:10.373682Z",
     "iopub.status.busy": "2024-07-02T15:01:10.373313Z",
     "iopub.status.idle": "2024-07-02T15:01:10.380197Z",
     "shell.execute_reply": "2024-07-02T15:01:10.379172Z",
     "shell.execute_reply.started": "2024-07-02T15:01:10.373653Z"
    },
    "papermill": {
     "duration": null,
     "end_time": null,
     "exception": null,
     "start_time": null,
     "status": "pending"
    },
    "tags": []
   },
   "outputs": [],
   "source": [
    "my_dict.items()"
   ]
  },
  {
   "cell_type": "markdown",
   "id": "8be0b2f9",
   "metadata": {
    "papermill": {
     "duration": null,
     "end_time": null,
     "exception": null,
     "start_time": null,
     "status": "pending"
    },
    "tags": []
   },
   "source": [
    "Real world data often comes in the form tables of rows and columns, where each column specifies a different data feature like name or age and each row represents an individual record.\n",
    "\n",
    "We can encode this sort of tabular data in a dictionary by **assigning each column label a key and then storing the column values as a list**.\n",
    "\n",
    "Consider the following data:\n",
    "\n",
    "| name    | age  | city   |\n",
    "| :---    | :--- | :---   |\n",
    "| Jim     | 20   | Tokyo  |\n",
    "| Shindi  | 24   | Berlin |\n",
    "| Thomas  | 28   | London |\n",
    "\n",
    "\n",
    "We can store this data in a dictionary like so:"
   ]
  },
  {
   "cell_type": "code",
   "execution_count": null,
   "id": "75017617",
   "metadata": {
    "execution": {
     "iopub.execute_input": "2024-07-02T15:13:44.912150Z",
     "iopub.status.busy": "2024-07-02T15:13:44.911787Z",
     "iopub.status.idle": "2024-07-02T15:13:44.917159Z",
     "shell.execute_reply": "2024-07-02T15:13:44.916122Z",
     "shell.execute_reply.started": "2024-07-02T15:13:44.912119Z"
    },
    "papermill": {
     "duration": null,
     "end_time": null,
     "exception": null,
     "start_time": null,
     "status": "pending"
    },
    "tags": []
   },
   "outputs": [],
   "source": [
    "my_table_dict = {\"name\": [\"Jim\", \"Shindi\", \"Thomas\"],\n",
    "                \"age\": [20, 24, 28],\n",
    "                \"city\": [\"Tokyo\", \"Berlin\", \"London\"]}"
   ]
  },
  {
   "cell_type": "markdown",
   "id": "208d5059",
   "metadata": {
    "papermill": {
     "duration": null,
     "end_time": null,
     "exception": null,
     "start_time": null,
     "status": "pending"
    },
    "tags": []
   },
   "source": [
    "Certain data formats like XML and JSON have a **non-tabular, nested structure**.\n",
    "\n",
    "Python dictionaries can contain other dictionaries, so they can mirror this sort of nested structure, providing a convenient interface for working with these sorts of data formats in Python."
   ]
  },
  {
   "cell_type": "markdown",
   "id": "6ff78363",
   "metadata": {
    "papermill": {
     "duration": null,
     "end_time": null,
     "exception": null,
     "start_time": null,
     "status": "pending"
    },
    "tags": []
   },
   "source": [
    "# Sets"
   ]
  },
  {
   "cell_type": "markdown",
   "id": "06bca873",
   "metadata": {
    "papermill": {
     "duration": null,
     "end_time": null,
     "exception": null,
     "start_time": null,
     "status": "pending"
    },
    "tags": []
   },
   "source": [
    "Sets are **unordered, mutable collections of immutable objects that cannot contain duplicates**.\n",
    "\n",
    "Sets are useful for **storing and performing operations on data** where **each value is unique**.\n",
    "\n",
    "Create a set within a comma-separated sequence of values within **curly braces** \"{ }\":"
   ]
  },
  {
   "cell_type": "code",
   "execution_count": null,
   "id": "3b35162c",
   "metadata": {
    "execution": {
     "iopub.execute_input": "2024-07-02T15:19:18.029885Z",
     "iopub.status.busy": "2024-07-02T15:19:18.029479Z",
     "iopub.status.idle": "2024-07-02T15:19:18.036512Z",
     "shell.execute_reply": "2024-07-02T15:19:18.035388Z",
     "shell.execute_reply.started": "2024-07-02T15:19:18.029845Z"
    },
    "papermill": {
     "duration": null,
     "end_time": null,
     "exception": null,
     "start_time": null,
     "status": "pending"
    },
    "tags": []
   },
   "outputs": [],
   "source": [
    "my_set = {1, 2, 3, 4, 5, 6, 7}\n",
    "\n",
    "type(my_set)"
   ]
  },
  {
   "cell_type": "markdown",
   "id": "285b80d9",
   "metadata": {
    "papermill": {
     "duration": null,
     "end_time": null,
     "exception": null,
     "start_time": null,
     "status": "pending"
    },
    "tags": []
   },
   "source": [
    "Add and remove items from a set with **.add()** and **.remove()** respectively:"
   ]
  },
  {
   "cell_type": "code",
   "execution_count": null,
   "id": "a62c21ff",
   "metadata": {
    "execution": {
     "iopub.execute_input": "2024-07-02T15:19:20.109219Z",
     "iopub.status.busy": "2024-07-02T15:19:20.108857Z",
     "iopub.status.idle": "2024-07-02T15:19:20.114973Z",
     "shell.execute_reply": "2024-07-02T15:19:20.113832Z",
     "shell.execute_reply.started": "2024-07-02T15:19:20.109191Z"
    },
    "papermill": {
     "duration": null,
     "end_time": null,
     "exception": null,
     "start_time": null,
     "status": "pending"
    },
    "tags": []
   },
   "outputs": [],
   "source": [
    "my_set.add(8)\n",
    "\n",
    "print(my_set)"
   ]
  },
  {
   "cell_type": "code",
   "execution_count": null,
   "id": "07d199d5",
   "metadata": {
    "execution": {
     "iopub.execute_input": "2024-07-02T15:19:35.121673Z",
     "iopub.status.busy": "2024-07-02T15:19:35.121291Z",
     "iopub.status.idle": "2024-07-02T15:19:35.126960Z",
     "shell.execute_reply": "2024-07-02T15:19:35.125828Z",
     "shell.execute_reply.started": "2024-07-02T15:19:35.121637Z"
    },
    "papermill": {
     "duration": null,
     "end_time": null,
     "exception": null,
     "start_time": null,
     "status": "pending"
    },
    "tags": []
   },
   "outputs": [],
   "source": [
    "my_set.remove(4)\n",
    "\n",
    "print(my_set)"
   ]
  },
  {
   "cell_type": "markdown",
   "id": "9eb1a66f",
   "metadata": {
    "papermill": {
     "duration": null,
     "end_time": null,
     "exception": null,
     "start_time": null,
     "status": "pending"
    },
    "tags": []
   },
   "source": [
    "Set do not support indexing, but they do support basic sequence functions like **len(), min(), max() and sum()**.\n",
    "\n",
    "You can also check membership and non-membership as usual:"
   ]
  },
  {
   "cell_type": "code",
   "execution_count": null,
   "id": "0b1dc563",
   "metadata": {
    "execution": {
     "iopub.execute_input": "2024-07-02T15:21:02.258460Z",
     "iopub.status.busy": "2024-07-02T15:21:02.257780Z",
     "iopub.status.idle": "2024-07-02T15:21:02.264610Z",
     "shell.execute_reply": "2024-07-02T15:21:02.263466Z",
     "shell.execute_reply.started": "2024-07-02T15:21:02.258422Z"
    },
    "papermill": {
     "duration": null,
     "end_time": null,
     "exception": null,
     "start_time": null,
     "status": "pending"
    },
    "tags": []
   },
   "outputs": [],
   "source": [
    "6 in my_set"
   ]
  },
  {
   "cell_type": "code",
   "execution_count": null,
   "id": "6b9cf004",
   "metadata": {
    "execution": {
     "iopub.execute_input": "2024-07-02T15:21:07.107204Z",
     "iopub.status.busy": "2024-07-02T15:21:07.106818Z",
     "iopub.status.idle": "2024-07-02T15:21:07.113895Z",
     "shell.execute_reply": "2024-07-02T15:21:07.112951Z",
     "shell.execute_reply.started": "2024-07-02T15:21:07.107173Z"
    },
    "papermill": {
     "duration": null,
     "end_time": null,
     "exception": null,
     "start_time": null,
     "status": "pending"
    },
    "tags": []
   },
   "outputs": [],
   "source": [
    "4 in my_set"
   ]
  },
  {
   "cell_type": "markdown",
   "id": "3013bdcb",
   "metadata": {
    "papermill": {
     "duration": null,
     "end_time": null,
     "exception": null,
     "start_time": null,
     "status": "pending"
    },
    "tags": []
   },
   "source": [
    "One of the main purposes of sets is to perform set operations that compare or combine different sets. Python sets support many common mathematical set operations like union, intersection, difference and checking whether one set is a subset of another:\n",
    "\n",
    "It means that sets do not have duplicate data."
   ]
  },
  {
   "cell_type": "code",
   "execution_count": null,
   "id": "2cc9e69e",
   "metadata": {
    "execution": {
     "iopub.execute_input": "2024-07-02T15:23:45.815724Z",
     "iopub.status.busy": "2024-07-02T15:23:45.814762Z",
     "iopub.status.idle": "2024-07-02T15:23:45.822654Z",
     "shell.execute_reply": "2024-07-02T15:23:45.821515Z",
     "shell.execute_reply.started": "2024-07-02T15:23:45.815655Z"
    },
    "papermill": {
     "duration": null,
     "end_time": null,
     "exception": null,
     "start_time": null,
     "status": "pending"
    },
    "tags": []
   },
   "outputs": [],
   "source": [
    "set1 = {1, 3, 5, 7}\n",
    "set2 = {1, 2, 3, 4}\n",
    "\n",
    "set1.union(set2)    # Get the union of two sets"
   ]
  },
  {
   "cell_type": "code",
   "execution_count": null,
   "id": "9b97dd1e",
   "metadata": {
    "execution": {
     "iopub.execute_input": "2024-07-02T15:23:54.790022Z",
     "iopub.status.busy": "2024-07-02T15:23:54.789605Z",
     "iopub.status.idle": "2024-07-02T15:23:54.796346Z",
     "shell.execute_reply": "2024-07-02T15:23:54.795359Z",
     "shell.execute_reply.started": "2024-07-02T15:23:54.789990Z"
    },
    "papermill": {
     "duration": null,
     "end_time": null,
     "exception": null,
     "start_time": null,
     "status": "pending"
    },
    "tags": []
   },
   "outputs": [],
   "source": [
    "set1.intersection(set2)"
   ]
  },
  {
   "cell_type": "code",
   "execution_count": null,
   "id": "fe9e9572",
   "metadata": {
    "execution": {
     "iopub.execute_input": "2024-07-02T15:26:25.810727Z",
     "iopub.status.busy": "2024-07-02T15:26:25.809819Z",
     "iopub.status.idle": "2024-07-02T15:26:25.817118Z",
     "shell.execute_reply": "2024-07-02T15:26:25.815941Z",
     "shell.execute_reply.started": "2024-07-02T15:26:25.810677Z"
    },
    "papermill": {
     "duration": null,
     "end_time": null,
     "exception": null,
     "start_time": null,
     "status": "pending"
    },
    "tags": []
   },
   "outputs": [],
   "source": [
    "set2.difference(set1)"
   ]
  },
  {
   "cell_type": "code",
   "execution_count": null,
   "id": "cf6f9a63",
   "metadata": {
    "execution": {
     "iopub.execute_input": "2024-07-02T15:26:37.964724Z",
     "iopub.status.busy": "2024-07-02T15:26:37.963337Z",
     "iopub.status.idle": "2024-07-02T15:26:37.970479Z",
     "shell.execute_reply": "2024-07-02T15:26:37.969518Z",
     "shell.execute_reply.started": "2024-07-02T15:26:37.964668Z"
    },
    "papermill": {
     "duration": null,
     "end_time": null,
     "exception": null,
     "start_time": null,
     "status": "pending"
    },
    "tags": []
   },
   "outputs": [],
   "source": [
    "{2, 4}.issubset(set2)   # Check whether set1 is a subset of set2"
   ]
  },
  {
   "cell_type": "markdown",
   "id": "9883e1e2",
   "metadata": {
    "papermill": {
     "duration": null,
     "end_time": null,
     "exception": null,
     "start_time": null,
     "status": "pending"
    },
    "tags": []
   },
   "source": [
    "You can convert a list into a set using the **set()** function.\n",
    "\n",
    "Converting a list to a set drops any duplicate elements in the list. This can be a useful way to strip unwanted duplicate items or count the number of unique elements in a list. It can also be useful to convert a list to a set if you plan to lookup items repeatedly, since membership lookups are faster with sets than lists."
   ]
  },
  {
   "cell_type": "code",
   "execution_count": null,
   "id": "e3367959",
   "metadata": {
    "execution": {
     "iopub.execute_input": "2024-07-02T15:30:51.763004Z",
     "iopub.status.busy": "2024-07-02T15:30:51.762610Z",
     "iopub.status.idle": "2024-07-02T15:30:51.769930Z",
     "shell.execute_reply": "2024-07-02T15:30:51.768978Z",
     "shell.execute_reply.started": "2024-07-02T15:30:51.762969Z"
    },
    "papermill": {
     "duration": null,
     "end_time": null,
     "exception": null,
     "start_time": null,
     "status": "pending"
    },
    "tags": []
   },
   "outputs": [],
   "source": [
    "my_list = [1, 1, 2, 2, 2, 2, 2, 3, 4, 4, 4, 5, 5, 5, 5, 6, 6]\n",
    "\n",
    "set(my_list)"
   ]
  },
  {
   "cell_type": "code",
   "execution_count": null,
   "id": "5b8bd3ae",
   "metadata": {
    "execution": {
     "iopub.execute_input": "2024-07-02T15:31:00.064527Z",
     "iopub.status.busy": "2024-07-02T15:31:00.063630Z",
     "iopub.status.idle": "2024-07-02T15:31:00.071163Z",
     "shell.execute_reply": "2024-07-02T15:31:00.070175Z",
     "shell.execute_reply.started": "2024-07-02T15:31:00.064490Z"
    },
    "papermill": {
     "duration": null,
     "end_time": null,
     "exception": null,
     "start_time": null,
     "status": "pending"
    },
    "tags": []
   },
   "outputs": [],
   "source": [
    "my_list = [1, 1, 2, 2, 2, 2, 2, 3, 4, 4, 4, 5, 5, 5, 5, 6, 6]\n",
    "\n",
    "list(set(my_list))"
   ]
  }
 ],
 "metadata": {
  "kaggle": {
   "accelerator": "gpu",
   "dataSources": [],
   "dockerImageVersionId": 30732,
   "isGpuEnabled": true,
   "isInternetEnabled": true,
   "language": "python",
   "sourceType": "notebook"
  },
  "kernelspec": {
   "display_name": "Python 3",
   "language": "python",
   "name": "python3"
  },
  "language_info": {
   "codemirror_mode": {
    "name": "ipython",
    "version": 3
   },
   "file_extension": ".py",
   "mimetype": "text/x-python",
   "name": "python",
   "nbconvert_exporter": "python",
   "pygments_lexer": "ipython3",
   "version": "3.10.13"
  },
  "papermill": {
   "default_parameters": {},
   "duration": 14.170083,
   "end_time": "2024-07-02T15:52:15.554930",
   "environment_variables": {},
   "exception": true,
   "input_path": "__notebook__.ipynb",
   "output_path": "__notebook__.ipynb",
   "parameters": {},
   "start_time": "2024-07-02T15:52:01.384847",
   "version": "2.5.0"
  }
 },
 "nbformat": 4,
 "nbformat_minor": 5
}
