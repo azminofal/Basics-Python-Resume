{
 "cells": [
  {
   "cell_type": "markdown",
   "id": "bba9dbb9",
   "metadata": {
    "_cell_guid": "b1076dfc-b9ad-4769-8c92-a6c4dae69d19",
    "_uuid": "8f2839f25d086af736a60e9eeb907d3b93b6e0e5",
    "papermill": {
     "duration": 0.021071,
     "end_time": "2024-07-08T15:49:47.003189",
     "exception": false,
     "start_time": "2024-07-08T15:49:46.982118",
     "status": "completed"
    },
    "tags": []
   },
   "source": [
    "# **Data Analysis for Vacation Planning**\n",
    "--------\n",
    "This exercise is the modified version from the original by freeCodeCamp.org on Youtube. Click [here](https://www.youtube.com/watch?v=JOKJ6g3gUFE&list=PLWKjhJtqVAblvI1i46ScbKV2jH1gdL7VQ&index=2https://www.youtube.com/watch?v=JOKJ6g3gUFE&list=PLWKjhJtqVAblvI1i46ScbKV2jH1gdL7VQ&index=2) to watch the video.\n",
    "________\n",
    "You're planning a leisure trip (vacation) and you need to decide which city you want to visit. You have shortlisted 4 cities, and identified the cost of the return flight, daily hotel cost and a weekly car rental cost (a car has to be rented for full weeks, even if you return the car before a week ends).\n",
    "\n",
    "\n",
    "City | Return Flight (Rp) | Hotel per day (Rp) | Weekly car rental (Rp)\n",
    ":--- | :--- | :--- | :---\n",
    "Yogyakarta | 800,000 | 500,000 | 1,963,500\n",
    "Surabaya | 1,000,000 | 450,000 | 2,450,000\n",
    "Denpasar | 1,000,000 | 550,000 | 1,750,000\n",
    "Lombok | 1,300,000 | 600,000 | 2,450,000\n",
    "\n",
    "Answer the following questions using the data above:\n",
    "\n",
    "1. If you're planning a 1-week long trip, which city should you visit to spend the least amount of money?\n",
    "2. How does the answer to previous question if you change the duration of the trip to 4 days, 10 days or 2 weeks?\n",
    "3. If your total budget for the trip is `Rp20,000,000`, which city should you visit to maximize the duration of your trip? Which city should you visit if you want to minimize the duration?\n",
    "4. How does the answer to the previous question change if your budget is `Rp5,000,000`, `Rp10,000,000` or `Rp15,000,000`?\n",
    "\n",
    "*Hint: To answer these questions, it will help to define a function `cost_of_trip` with relevant inputs like flight cost, hotel rate, car rental rate and duration of the trip. You may find the `math.ceil` function useful for calculating the total cost of car rental."
   ]
  },
  {
   "cell_type": "code",
   "execution_count": 1,
   "id": "4a533249",
   "metadata": {
    "execution": {
     "iopub.execute_input": "2024-07-08T15:49:47.049603Z",
     "iopub.status.busy": "2024-07-08T15:49:47.049152Z",
     "iopub.status.idle": "2024-07-08T15:49:47.063647Z",
     "shell.execute_reply": "2024-07-08T15:49:47.062111Z"
    },
    "papermill": {
     "duration": 0.042932,
     "end_time": "2024-07-08T15:49:47.066846",
     "exception": false,
     "start_time": "2024-07-08T15:49:47.023914",
     "status": "completed"
    },
    "tags": []
   },
   "outputs": [],
   "source": [
    "import math"
   ]
  },
  {
   "cell_type": "code",
   "execution_count": 2,
   "id": "db981e0d",
   "metadata": {
    "execution": {
     "iopub.execute_input": "2024-07-08T15:49:47.112187Z",
     "iopub.status.busy": "2024-07-08T15:49:47.111720Z",
     "iopub.status.idle": "2024-07-08T15:49:47.120880Z",
     "shell.execute_reply": "2024-07-08T15:49:47.119230Z"
    },
    "papermill": {
     "duration": 0.035782,
     "end_time": "2024-07-08T15:49:47.123982",
     "exception": false,
     "start_time": "2024-07-08T15:49:47.088200",
     "status": "completed"
    },
    "tags": []
   },
   "outputs": [],
   "source": [
    "def cost_of_trip(budget, return_flight, hotel_installment, duration, weekly_car_rental):\n",
    "    '''Calculates the cost of the trip.\n",
    "    \n",
    "    Arguments:\n",
    "        budget - budget of the trip\n",
    "        duration - duration of the leisure (in days)\n",
    "        return_flight - payment of airplane\n",
    "        hotel_installment - cost of hotel room per day\n",
    "        weekly_car_rental - payment of car rental weekly\n",
    "        total_cost - money spent for booking facilities\n",
    "        saving money - money does not be used yet\n",
    "    ''' \n",
    "    total_cost = (return_flight + (hotel_installment * duration) + weekly_car_rental)\n",
    "    total_cost = math.ceil(total_cost)\n",
    "    \n",
    "    saving_money = budget - total_cost\n",
    "    \n",
    "    return total_cost"
   ]
  },
  {
   "cell_type": "code",
   "execution_count": 3,
   "id": "9a8c96e3",
   "metadata": {
    "execution": {
     "iopub.execute_input": "2024-07-08T15:49:47.170247Z",
     "iopub.status.busy": "2024-07-08T15:49:47.169800Z",
     "iopub.status.idle": "2024-07-08T15:49:47.177610Z",
     "shell.execute_reply": "2024-07-08T15:49:47.176185Z"
    },
    "papermill": {
     "duration": 0.03528,
     "end_time": "2024-07-08T15:49:47.180597",
     "exception": false,
     "start_time": "2024-07-08T15:49:47.145317",
     "status": "completed"
    },
    "tags": []
   },
   "outputs": [
    {
     "name": "stdout",
     "output_type": "stream",
     "text": [
      "Help on function cost_of_trip in module __main__:\n",
      "\n",
      "cost_of_trip(budget, return_flight, hotel_installment, duration, weekly_car_rental)\n",
      "    Calculates the cost of the trip.\n",
      "    \n",
      "    Arguments:\n",
      "        budget - budget of the trip\n",
      "        duration - duration of the leisure (in days)\n",
      "        return_flight - payment of airplane\n",
      "        hotel_installment - cost of hotel room per day\n",
      "        weekly_car_rental - payment of car rental weekly\n",
      "        total_cost - money spent for booking facilities\n",
      "        saving money - money does not be used yet\n",
      "\n"
     ]
    }
   ],
   "source": [
    "help(cost_of_trip)"
   ]
  },
  {
   "cell_type": "markdown",
   "id": "5e89441c",
   "metadata": {
    "papermill": {
     "duration": 0.02006,
     "end_time": "2024-07-08T15:49:47.220843",
     "exception": false,
     "start_time": "2024-07-08T15:49:47.200783",
     "status": "completed"
    },
    "tags": []
   },
   "source": [
    "# Answering question No. 1\n",
    "\n",
    "If you're planning a 1-week long trip, which city should you visit to spend the least amount of money?"
   ]
  },
  {
   "cell_type": "code",
   "execution_count": 4,
   "id": "0b376432",
   "metadata": {
    "execution": {
     "iopub.execute_input": "2024-07-08T15:49:47.263692Z",
     "iopub.status.busy": "2024-07-08T15:49:47.263291Z",
     "iopub.status.idle": "2024-07-08T15:49:47.268065Z",
     "shell.execute_reply": "2024-07-08T15:49:47.267012Z"
    },
    "papermill": {
     "duration": 0.029096,
     "end_time": "2024-07-08T15:49:47.270681",
     "exception": false,
     "start_time": "2024-07-08T15:49:47.241585",
     "status": "completed"
    },
    "scrolled": true,
    "tags": []
   },
   "outputs": [],
   "source": [
    "duration = 7"
   ]
  },
  {
   "cell_type": "code",
   "execution_count": 5,
   "id": "c17c0dd5",
   "metadata": {
    "execution": {
     "iopub.execute_input": "2024-07-08T15:49:47.313497Z",
     "iopub.status.busy": "2024-07-08T15:49:47.313125Z",
     "iopub.status.idle": "2024-07-08T15:49:47.322523Z",
     "shell.execute_reply": "2024-07-08T15:49:47.321264Z"
    },
    "papermill": {
     "duration": 0.033926,
     "end_time": "2024-07-08T15:49:47.325259",
     "exception": false,
     "start_time": "2024-07-08T15:49:47.291333",
     "status": "completed"
    },
    "tags": []
   },
   "outputs": [
    {
     "data": {
      "text/plain": [
       "6263500"
      ]
     },
     "execution_count": 5,
     "metadata": {},
     "output_type": "execute_result"
    }
   ],
   "source": [
    "# Budget trip to Yogyakarta for 1 week\n",
    "\n",
    "Yogya_1_week = cost_of_trip(budget=0, return_flight=800000, duration=duration, hotel_installment=500000, weekly_car_rental=1963500)\n",
    "Yogya_1_week"
   ]
  },
  {
   "cell_type": "code",
   "execution_count": 6,
   "id": "5e49abbd",
   "metadata": {
    "execution": {
     "iopub.execute_input": "2024-07-08T15:49:47.368440Z",
     "iopub.status.busy": "2024-07-08T15:49:47.368022Z",
     "iopub.status.idle": "2024-07-08T15:49:47.376138Z",
     "shell.execute_reply": "2024-07-08T15:49:47.374947Z"
    },
    "papermill": {
     "duration": 0.033121,
     "end_time": "2024-07-08T15:49:47.378907",
     "exception": false,
     "start_time": "2024-07-08T15:49:47.345786",
     "status": "completed"
    },
    "tags": []
   },
   "outputs": [
    {
     "data": {
      "text/plain": [
       "6600000"
      ]
     },
     "execution_count": 6,
     "metadata": {},
     "output_type": "execute_result"
    }
   ],
   "source": [
    "# Budget trip to Surabaya for 1 week\n",
    "\n",
    "Surabaya_1_week = cost_of_trip(budget=0, return_flight=1000000, duration=duration, hotel_installment=450000, weekly_car_rental=2450000)\n",
    "Surabaya_1_week"
   ]
  },
  {
   "cell_type": "code",
   "execution_count": 7,
   "id": "00193695",
   "metadata": {
    "execution": {
     "iopub.execute_input": "2024-07-08T15:49:47.422606Z",
     "iopub.status.busy": "2024-07-08T15:49:47.422224Z",
     "iopub.status.idle": "2024-07-08T15:49:47.430446Z",
     "shell.execute_reply": "2024-07-08T15:49:47.429309Z"
    },
    "papermill": {
     "duration": 0.033263,
     "end_time": "2024-07-08T15:49:47.433234",
     "exception": false,
     "start_time": "2024-07-08T15:49:47.399971",
     "status": "completed"
    },
    "tags": []
   },
   "outputs": [
    {
     "data": {
      "text/plain": [
       "6600000"
      ]
     },
     "execution_count": 7,
     "metadata": {},
     "output_type": "execute_result"
    }
   ],
   "source": [
    "# Budget trip to Denpasar for 1 week\n",
    "\n",
    "Denpasar_1_week = cost_of_trip(budget=0, return_flight=1000000, duration=duration, hotel_installment=550000, weekly_car_rental=1750000)\n",
    "Denpasar_1_week"
   ]
  },
  {
   "cell_type": "code",
   "execution_count": 8,
   "id": "386dd2bc",
   "metadata": {
    "execution": {
     "iopub.execute_input": "2024-07-08T15:49:47.477828Z",
     "iopub.status.busy": "2024-07-08T15:49:47.477444Z",
     "iopub.status.idle": "2024-07-08T15:49:47.485031Z",
     "shell.execute_reply": "2024-07-08T15:49:47.483924Z"
    },
    "papermill": {
     "duration": 0.032911,
     "end_time": "2024-07-08T15:49:47.487438",
     "exception": false,
     "start_time": "2024-07-08T15:49:47.454527",
     "status": "completed"
    },
    "tags": []
   },
   "outputs": [
    {
     "data": {
      "text/plain": [
       "7950000"
      ]
     },
     "execution_count": 8,
     "metadata": {},
     "output_type": "execute_result"
    }
   ],
   "source": [
    "# Budget trip to Lombok for 1 week\n",
    "\n",
    "Lombok_1_week = cost_of_trip(budget=0, return_flight=1300000, duration=duration, hotel_installment=600000, weekly_car_rental=2450000)\n",
    "Lombok_1_week"
   ]
  },
  {
   "cell_type": "code",
   "execution_count": 9,
   "id": "2c2e0497",
   "metadata": {
    "execution": {
     "iopub.execute_input": "2024-07-08T15:49:47.533179Z",
     "iopub.status.busy": "2024-07-08T15:49:47.532727Z",
     "iopub.status.idle": "2024-07-08T15:49:47.540426Z",
     "shell.execute_reply": "2024-07-08T15:49:47.539017Z"
    },
    "papermill": {
     "duration": 0.033326,
     "end_time": "2024-07-08T15:49:47.543464",
     "exception": false,
     "start_time": "2024-07-08T15:49:47.510138",
     "status": "completed"
    },
    "tags": []
   },
   "outputs": [
    {
     "name": "stdout",
     "output_type": "stream",
     "text": [
      "Yogyakarta is the least budget trip of Rp6263500\n"
     ]
    }
   ],
   "source": [
    "if Yogya_1_week < Surabaya_1_week:\n",
    "    print(\"Yogyakarta is the least budget trip of Rp{}\".format(Yogya_1_week))\n",
    "elif Surabaya_1_week < Denpasar_1_week:\n",
    "    print(\"Surabaya is the least budget trip of Rp{}\".format(Surabaya_1_week))\n",
    "elif Denpasar_1_week < Lombok_1_week:\n",
    "    print(\"Denpasar is the least budget trip of Rp{}\".format(Denpasar_1_week))\n",
    "else:\n",
    "    print(\"Lombok is the least budget trip of Rp{}\".format(Lombok_1_week))"
   ]
  },
  {
   "cell_type": "markdown",
   "id": "8f4ed826",
   "metadata": {
    "papermill": {
     "duration": 0.022491,
     "end_time": "2024-07-08T15:49:47.587267",
     "exception": false,
     "start_time": "2024-07-08T15:49:47.564776",
     "status": "completed"
    },
    "tags": []
   },
   "source": [
    "# Answering No. 2\n",
    "\n",
    "How does the answer to previous question if you change the duration of the trip to `4 days`, `10 days` or `2 weeks`?"
   ]
  },
  {
   "cell_type": "markdown",
   "id": "33a3c63a",
   "metadata": {
    "papermill": {
     "duration": 0.020635,
     "end_time": "2024-07-08T15:49:47.629352",
     "exception": false,
     "start_time": "2024-07-08T15:49:47.608717",
     "status": "completed"
    },
    "tags": []
   },
   "source": [
    "# 4 days"
   ]
  },
  {
   "cell_type": "code",
   "execution_count": 10,
   "id": "03137e45",
   "metadata": {
    "execution": {
     "iopub.execute_input": "2024-07-08T15:49:47.673707Z",
     "iopub.status.busy": "2024-07-08T15:49:47.673314Z",
     "iopub.status.idle": "2024-07-08T15:49:47.678444Z",
     "shell.execute_reply": "2024-07-08T15:49:47.677215Z"
    },
    "papermill": {
     "duration": 0.030639,
     "end_time": "2024-07-08T15:49:47.681067",
     "exception": false,
     "start_time": "2024-07-08T15:49:47.650428",
     "status": "completed"
    },
    "tags": []
   },
   "outputs": [],
   "source": [
    "budget = 0\n",
    "duration = 4"
   ]
  },
  {
   "cell_type": "code",
   "execution_count": 11,
   "id": "22877502",
   "metadata": {
    "execution": {
     "iopub.execute_input": "2024-07-08T15:49:47.725759Z",
     "iopub.status.busy": "2024-07-08T15:49:47.725342Z",
     "iopub.status.idle": "2024-07-08T15:49:47.733462Z",
     "shell.execute_reply": "2024-07-08T15:49:47.732101Z"
    },
    "papermill": {
     "duration": 0.033752,
     "end_time": "2024-07-08T15:49:47.736239",
     "exception": false,
     "start_time": "2024-07-08T15:49:47.702487",
     "status": "completed"
    },
    "tags": []
   },
   "outputs": [
    {
     "data": {
      "text/plain": [
       "4763500"
      ]
     },
     "execution_count": 11,
     "metadata": {},
     "output_type": "execute_result"
    }
   ],
   "source": [
    "# Yogyakarta for 4 days\n",
    "\n",
    "Yogya_4_days = cost_of_trip(budget=budget, return_flight=800000, duration=duration, hotel_installment=500000, weekly_car_rental=1963500)\n",
    "Yogya_4_days"
   ]
  },
  {
   "cell_type": "code",
   "execution_count": 12,
   "id": "803f0165",
   "metadata": {
    "execution": {
     "iopub.execute_input": "2024-07-08T15:49:47.781023Z",
     "iopub.status.busy": "2024-07-08T15:49:47.780600Z",
     "iopub.status.idle": "2024-07-08T15:49:47.789077Z",
     "shell.execute_reply": "2024-07-08T15:49:47.787947Z"
    },
    "papermill": {
     "duration": 0.034629,
     "end_time": "2024-07-08T15:49:47.791940",
     "exception": false,
     "start_time": "2024-07-08T15:49:47.757311",
     "status": "completed"
    },
    "tags": []
   },
   "outputs": [
    {
     "data": {
      "text/plain": [
       "5250000"
      ]
     },
     "execution_count": 12,
     "metadata": {},
     "output_type": "execute_result"
    }
   ],
   "source": [
    "# Surabaya for 4 days\n",
    "\n",
    "Surabaya_4_days = cost_of_trip(budget=budget, return_flight=1000000, duration=duration, hotel_installment=450000, weekly_car_rental=2450000)\n",
    "Surabaya_4_days"
   ]
  },
  {
   "cell_type": "code",
   "execution_count": 13,
   "id": "eaf1ac46",
   "metadata": {
    "execution": {
     "iopub.execute_input": "2024-07-08T15:49:47.837016Z",
     "iopub.status.busy": "2024-07-08T15:49:47.836603Z",
     "iopub.status.idle": "2024-07-08T15:49:47.844929Z",
     "shell.execute_reply": "2024-07-08T15:49:47.843736Z"
    },
    "papermill": {
     "duration": 0.033535,
     "end_time": "2024-07-08T15:49:47.847347",
     "exception": false,
     "start_time": "2024-07-08T15:49:47.813812",
     "status": "completed"
    },
    "tags": []
   },
   "outputs": [
    {
     "data": {
      "text/plain": [
       "4950000"
      ]
     },
     "execution_count": 13,
     "metadata": {},
     "output_type": "execute_result"
    }
   ],
   "source": [
    "# Denpasar for 4 days\n",
    "\n",
    "Denpasar_4_days = cost_of_trip(budget=budget, return_flight=1000000, duration=duration, hotel_installment=550000, weekly_car_rental=1750000)\n",
    "Denpasar_4_days"
   ]
  },
  {
   "cell_type": "code",
   "execution_count": 14,
   "id": "54c220c2",
   "metadata": {
    "execution": {
     "iopub.execute_input": "2024-07-08T15:49:47.893769Z",
     "iopub.status.busy": "2024-07-08T15:49:47.893340Z",
     "iopub.status.idle": "2024-07-08T15:49:47.901120Z",
     "shell.execute_reply": "2024-07-08T15:49:47.899828Z"
    },
    "papermill": {
     "duration": 0.035,
     "end_time": "2024-07-08T15:49:47.903552",
     "exception": false,
     "start_time": "2024-07-08T15:49:47.868552",
     "status": "completed"
    },
    "tags": []
   },
   "outputs": [
    {
     "data": {
      "text/plain": [
       "6150000"
      ]
     },
     "execution_count": 14,
     "metadata": {},
     "output_type": "execute_result"
    }
   ],
   "source": [
    "# Lombok for 4 days\n",
    "\n",
    "Lombok_4_days = cost_of_trip(budget=budget, return_flight=1300000, duration=duration, hotel_installment=600000, weekly_car_rental=2450000)\n",
    "Lombok_4_days"
   ]
  },
  {
   "cell_type": "code",
   "execution_count": 15,
   "id": "a902cd63",
   "metadata": {
    "execution": {
     "iopub.execute_input": "2024-07-08T15:49:47.948112Z",
     "iopub.status.busy": "2024-07-08T15:49:47.947699Z",
     "iopub.status.idle": "2024-07-08T15:49:47.955046Z",
     "shell.execute_reply": "2024-07-08T15:49:47.953610Z"
    },
    "papermill": {
     "duration": 0.033401,
     "end_time": "2024-07-08T15:49:47.958205",
     "exception": false,
     "start_time": "2024-07-08T15:49:47.924804",
     "status": "completed"
    },
    "tags": []
   },
   "outputs": [
    {
     "name": "stdout",
     "output_type": "stream",
     "text": [
      "Yogyakarta is the least budget trip of Rp4763500\n"
     ]
    }
   ],
   "source": [
    "if Yogya_4_days < Surabaya_4_days:\n",
    "    print(\"Yogyakarta is the least budget trip of Rp{}\".format(Yogya_4_days))\n",
    "elif Surabaya_4_days < Denpasar_4_days:\n",
    "    print(\"Surabaya is the least budget trip of Rp{}\".format(Surabaya_4_days))\n",
    "elif Denpasar_4_days < Lombok_4_days:\n",
    "    print(\"Denpasar is the least budget trip of Rp{}\".format(Denpasar_4_days))\n",
    "else:\n",
    "    print(\"Lombok is the least budget trip of Rp{}\".format(Lombok_4_days))"
   ]
  },
  {
   "cell_type": "markdown",
   "id": "c6cbc241",
   "metadata": {
    "papermill": {
     "duration": 0.021842,
     "end_time": "2024-07-08T15:49:48.002733",
     "exception": false,
     "start_time": "2024-07-08T15:49:47.980891",
     "status": "completed"
    },
    "tags": []
   },
   "source": [
    "# 10 days"
   ]
  },
  {
   "cell_type": "code",
   "execution_count": 16,
   "id": "f89e8f89",
   "metadata": {
    "execution": {
     "iopub.execute_input": "2024-07-08T15:49:48.048811Z",
     "iopub.status.busy": "2024-07-08T15:49:48.048374Z",
     "iopub.status.idle": "2024-07-08T15:49:48.053646Z",
     "shell.execute_reply": "2024-07-08T15:49:48.052334Z"
    },
    "papermill": {
     "duration": 0.031459,
     "end_time": "2024-07-08T15:49:48.056435",
     "exception": false,
     "start_time": "2024-07-08T15:49:48.024976",
     "status": "completed"
    },
    "tags": []
   },
   "outputs": [],
   "source": [
    "duration = 10"
   ]
  },
  {
   "cell_type": "code",
   "execution_count": 17,
   "id": "a524419d",
   "metadata": {
    "execution": {
     "iopub.execute_input": "2024-07-08T15:49:48.104786Z",
     "iopub.status.busy": "2024-07-08T15:49:48.103697Z",
     "iopub.status.idle": "2024-07-08T15:49:48.112392Z",
     "shell.execute_reply": "2024-07-08T15:49:48.111126Z"
    },
    "papermill": {
     "duration": 0.036923,
     "end_time": "2024-07-08T15:49:48.115393",
     "exception": false,
     "start_time": "2024-07-08T15:49:48.078470",
     "status": "completed"
    },
    "tags": []
   },
   "outputs": [
    {
     "data": {
      "text/plain": [
       "7763500"
      ]
     },
     "execution_count": 17,
     "metadata": {},
     "output_type": "execute_result"
    }
   ],
   "source": [
    "# Yogyakarta for 10 days\n",
    "\n",
    "Yogya_10_days = cost_of_trip(budget=budget, return_flight=800000, duration=duration, hotel_installment=500000, weekly_car_rental=1963500)\n",
    "Yogya_10_days"
   ]
  },
  {
   "cell_type": "code",
   "execution_count": 18,
   "id": "74dee0ad",
   "metadata": {
    "execution": {
     "iopub.execute_input": "2024-07-08T15:49:48.225140Z",
     "iopub.status.busy": "2024-07-08T15:49:48.224641Z",
     "iopub.status.idle": "2024-07-08T15:49:48.233448Z",
     "shell.execute_reply": "2024-07-08T15:49:48.231899Z"
    },
    "papermill": {
     "duration": 0.036374,
     "end_time": "2024-07-08T15:49:48.237072",
     "exception": false,
     "start_time": "2024-07-08T15:49:48.200698",
     "status": "completed"
    },
    "tags": []
   },
   "outputs": [
    {
     "data": {
      "text/plain": [
       "7950000"
      ]
     },
     "execution_count": 18,
     "metadata": {},
     "output_type": "execute_result"
    }
   ],
   "source": [
    "# Surabaya for 10 days\n",
    "\n",
    "Surabaya_10_days = cost_of_trip(budget=budget, return_flight=1000000, duration=duration, hotel_installment=450000, weekly_car_rental=2450000)\n",
    "Surabaya_10_days"
   ]
  },
  {
   "cell_type": "code",
   "execution_count": 19,
   "id": "7df8db7e",
   "metadata": {
    "execution": {
     "iopub.execute_input": "2024-07-08T15:49:48.284926Z",
     "iopub.status.busy": "2024-07-08T15:49:48.284467Z",
     "iopub.status.idle": "2024-07-08T15:49:48.293152Z",
     "shell.execute_reply": "2024-07-08T15:49:48.291774Z"
    },
    "papermill": {
     "duration": 0.036337,
     "end_time": "2024-07-08T15:49:48.296034",
     "exception": false,
     "start_time": "2024-07-08T15:49:48.259697",
     "status": "completed"
    },
    "tags": []
   },
   "outputs": [
    {
     "data": {
      "text/plain": [
       "8250000"
      ]
     },
     "execution_count": 19,
     "metadata": {},
     "output_type": "execute_result"
    }
   ],
   "source": [
    "# Denpasar for 10 days\n",
    "\n",
    "Denpasar_10_days = cost_of_trip(budget=budget, return_flight=1000000, duration=duration, hotel_installment=550000, weekly_car_rental=1750000)\n",
    "Denpasar_10_days"
   ]
  },
  {
   "cell_type": "code",
   "execution_count": 20,
   "id": "bc5b55a3",
   "metadata": {
    "execution": {
     "iopub.execute_input": "2024-07-08T15:49:48.345228Z",
     "iopub.status.busy": "2024-07-08T15:49:48.344769Z",
     "iopub.status.idle": "2024-07-08T15:49:48.353402Z",
     "shell.execute_reply": "2024-07-08T15:49:48.351918Z"
    },
    "papermill": {
     "duration": 0.037026,
     "end_time": "2024-07-08T15:49:48.356008",
     "exception": false,
     "start_time": "2024-07-08T15:49:48.318982",
     "status": "completed"
    },
    "tags": []
   },
   "outputs": [
    {
     "data": {
      "text/plain": [
       "9750000"
      ]
     },
     "execution_count": 20,
     "metadata": {},
     "output_type": "execute_result"
    }
   ],
   "source": [
    "# Lombok for 10 days\n",
    "\n",
    "Lombok_10_days = cost_of_trip(budget=budget, return_flight=1300000, duration=duration, hotel_installment=600000, weekly_car_rental=2450000)\n",
    "Lombok_10_days"
   ]
  },
  {
   "cell_type": "code",
   "execution_count": 21,
   "id": "4df71e28",
   "metadata": {
    "execution": {
     "iopub.execute_input": "2024-07-08T15:49:48.403778Z",
     "iopub.status.busy": "2024-07-08T15:49:48.402707Z",
     "iopub.status.idle": "2024-07-08T15:49:48.411086Z",
     "shell.execute_reply": "2024-07-08T15:49:48.409569Z"
    },
    "papermill": {
     "duration": 0.035179,
     "end_time": "2024-07-08T15:49:48.414204",
     "exception": false,
     "start_time": "2024-07-08T15:49:48.379025",
     "status": "completed"
    },
    "tags": []
   },
   "outputs": [
    {
     "name": "stdout",
     "output_type": "stream",
     "text": [
      "Yogyakarta is the least budget trip of Rp7763500\n"
     ]
    }
   ],
   "source": [
    "if Yogya_10_days < Surabaya_10_days:\n",
    "    print(\"Yogyakarta is the least budget trip of Rp{}\".format(Yogya_10_days))\n",
    "elif Surabaya_10_days < Denpasar_10_days:\n",
    "    print(\"Surabaya is the least budget trip of Rp{}\".format(Surabaya_10_days))\n",
    "elif Denpasar_10_days < Lombok_10_days:\n",
    "    print(\"Denpasar is the least budget trip of Rp{}\".format(Denpasar_10_days))\n",
    "else:\n",
    "    print(\"Lombok is the least budget trip of Rp{}\".format(Lombok_10_days))"
   ]
  },
  {
   "cell_type": "markdown",
   "id": "b15757bd",
   "metadata": {
    "papermill": {
     "duration": 0.022096,
     "end_time": "2024-07-08T15:49:48.459092",
     "exception": false,
     "start_time": "2024-07-08T15:49:48.436996",
     "status": "completed"
    },
    "tags": []
   },
   "source": [
    "# 2 weeks"
   ]
  },
  {
   "cell_type": "code",
   "execution_count": 22,
   "id": "65e12af0",
   "metadata": {
    "execution": {
     "iopub.execute_input": "2024-07-08T15:49:48.508849Z",
     "iopub.status.busy": "2024-07-08T15:49:48.508456Z",
     "iopub.status.idle": "2024-07-08T15:49:48.514497Z",
     "shell.execute_reply": "2024-07-08T15:49:48.512645Z"
    },
    "papermill": {
     "duration": 0.034359,
     "end_time": "2024-07-08T15:49:48.517640",
     "exception": false,
     "start_time": "2024-07-08T15:49:48.483281",
     "status": "completed"
    },
    "tags": []
   },
   "outputs": [],
   "source": [
    "duration = 14"
   ]
  },
  {
   "cell_type": "code",
   "execution_count": 23,
   "id": "537a3614",
   "metadata": {
    "execution": {
     "iopub.execute_input": "2024-07-08T15:49:48.567496Z",
     "iopub.status.busy": "2024-07-08T15:49:48.567108Z",
     "iopub.status.idle": "2024-07-08T15:49:48.575051Z",
     "shell.execute_reply": "2024-07-08T15:49:48.573956Z"
    },
    "papermill": {
     "duration": 0.034496,
     "end_time": "2024-07-08T15:49:48.577685",
     "exception": false,
     "start_time": "2024-07-08T15:49:48.543189",
     "status": "completed"
    },
    "tags": []
   },
   "outputs": [
    {
     "data": {
      "text/plain": [
       "9763500"
      ]
     },
     "execution_count": 23,
     "metadata": {},
     "output_type": "execute_result"
    }
   ],
   "source": [
    "# Yogyakarta for 2 weeks\n",
    "\n",
    "Yogya_2_weeks = cost_of_trip(budget=budget, return_flight=800000, duration=duration, hotel_installment=500000, weekly_car_rental=1963500)\n",
    "Yogya_2_weeks"
   ]
  },
  {
   "cell_type": "code",
   "execution_count": 24,
   "id": "b5cec906",
   "metadata": {
    "execution": {
     "iopub.execute_input": "2024-07-08T15:49:48.628297Z",
     "iopub.status.busy": "2024-07-08T15:49:48.627882Z",
     "iopub.status.idle": "2024-07-08T15:49:48.636501Z",
     "shell.execute_reply": "2024-07-08T15:49:48.634953Z"
    },
    "papermill": {
     "duration": 0.038962,
     "end_time": "2024-07-08T15:49:48.639393",
     "exception": false,
     "start_time": "2024-07-08T15:49:48.600431",
     "status": "completed"
    },
    "tags": []
   },
   "outputs": [
    {
     "data": {
      "text/plain": [
       "9750000"
      ]
     },
     "execution_count": 24,
     "metadata": {},
     "output_type": "execute_result"
    }
   ],
   "source": [
    "# Surabaya for 2 weeks\n",
    "\n",
    "Surabaya_2_weeks = cost_of_trip(budget=budget, return_flight=1000000, duration=duration, hotel_installment=450000, weekly_car_rental=2450000)\n",
    "Surabaya_2_weeks"
   ]
  },
  {
   "cell_type": "code",
   "execution_count": 25,
   "id": "ce184a96",
   "metadata": {
    "execution": {
     "iopub.execute_input": "2024-07-08T15:49:48.688475Z",
     "iopub.status.busy": "2024-07-08T15:49:48.688033Z",
     "iopub.status.idle": "2024-07-08T15:49:48.696634Z",
     "shell.execute_reply": "2024-07-08T15:49:48.695437Z"
    },
    "papermill": {
     "duration": 0.036369,
     "end_time": "2024-07-08T15:49:48.699358",
     "exception": false,
     "start_time": "2024-07-08T15:49:48.662989",
     "status": "completed"
    },
    "tags": []
   },
   "outputs": [
    {
     "data": {
      "text/plain": [
       "10450000"
      ]
     },
     "execution_count": 25,
     "metadata": {},
     "output_type": "execute_result"
    }
   ],
   "source": [
    "# Denpasar for 2 weeks\n",
    "\n",
    "Denpasar_2_weeks = cost_of_trip(budget=budget, return_flight=1000000, duration=duration, hotel_installment=550000, weekly_car_rental=1750000)\n",
    "Denpasar_2_weeks"
   ]
  },
  {
   "cell_type": "code",
   "execution_count": 26,
   "id": "f54656e9",
   "metadata": {
    "execution": {
     "iopub.execute_input": "2024-07-08T15:49:48.749290Z",
     "iopub.status.busy": "2024-07-08T15:49:48.748817Z",
     "iopub.status.idle": "2024-07-08T15:49:48.758665Z",
     "shell.execute_reply": "2024-07-08T15:49:48.757036Z"
    },
    "papermill": {
     "duration": 0.03882,
     "end_time": "2024-07-08T15:49:48.761525",
     "exception": false,
     "start_time": "2024-07-08T15:49:48.722705",
     "status": "completed"
    },
    "tags": []
   },
   "outputs": [
    {
     "data": {
      "text/plain": [
       "12150000"
      ]
     },
     "execution_count": 26,
     "metadata": {},
     "output_type": "execute_result"
    }
   ],
   "source": [
    "# Lombok for 2 weeks\n",
    "\n",
    "Lombok_2_weeks = cost_of_trip(budget=budget, return_flight=1300000, duration=duration, hotel_installment=600000, weekly_car_rental=2450000)\n",
    "Lombok_2_weeks"
   ]
  },
  {
   "cell_type": "code",
   "execution_count": 27,
   "id": "ab63473d",
   "metadata": {
    "execution": {
     "iopub.execute_input": "2024-07-08T15:49:48.816693Z",
     "iopub.status.busy": "2024-07-08T15:49:48.815849Z",
     "iopub.status.idle": "2024-07-08T15:49:48.823426Z",
     "shell.execute_reply": "2024-07-08T15:49:48.822078Z"
    },
    "papermill": {
     "duration": 0.036272,
     "end_time": "2024-07-08T15:49:48.827255",
     "exception": false,
     "start_time": "2024-07-08T15:49:48.790983",
     "status": "completed"
    },
    "tags": []
   },
   "outputs": [
    {
     "name": "stdout",
     "output_type": "stream",
     "text": [
      "Surabaya is the least budget trip of Rp9750000\n"
     ]
    }
   ],
   "source": [
    "if Yogya_2_weeks < Surabaya_2_weeks:\n",
    "    print(\"Yogyakarta is the least budget trip of Rp{}\".format(Yogya_2_weeks))\n",
    "elif Surabaya_2_weeks < Denpasar_2_weeks:\n",
    "    print(\"Surabaya is the least budget trip of Rp{}\".format(Surabaya_2_weeks))\n",
    "elif Denpasar_2_weeks < Lombok_2_weeks:\n",
    "    print(\"Denpasar is the least budget trip of Rp{}\".format(Denpasar_2_weeks))\n",
    "else:\n",
    "    print(\"Lombok is the least budget trip of Rp{}\".format(Lombok_2_weeks))"
   ]
  },
  {
   "cell_type": "markdown",
   "id": "fcc111b8",
   "metadata": {
    "papermill": {
     "duration": 0.024394,
     "end_time": "2024-07-08T15:49:48.875902",
     "exception": false,
     "start_time": "2024-07-08T15:49:48.851508",
     "status": "completed"
    },
    "tags": []
   },
   "source": [
    "# Answering No. 3\n",
    "\n",
    "If your total budget for the trip is `Rp20,000,000`, which city should you visit to maximize the duration of your trip? Which city should you visit if you want to minimize the duration?"
   ]
  },
  {
   "cell_type": "markdown",
   "id": "dae20e03",
   "metadata": {
    "papermill": {
     "duration": 0.023751,
     "end_time": "2024-07-08T15:49:48.925382",
     "exception": false,
     "start_time": "2024-07-08T15:49:48.901631",
     "status": "completed"
    },
    "tags": []
   },
   "source": [
    "# Maximize the duration of the trip"
   ]
  },
  {
   "cell_type": "code",
   "execution_count": 28,
   "id": "b710ed68",
   "metadata": {
    "execution": {
     "iopub.execute_input": "2024-07-08T15:49:48.975848Z",
     "iopub.status.busy": "2024-07-08T15:49:48.974956Z",
     "iopub.status.idle": "2024-07-08T15:49:48.980158Z",
     "shell.execute_reply": "2024-07-08T15:49:48.978848Z"
    },
    "papermill": {
     "duration": 0.033507,
     "end_time": "2024-07-08T15:49:48.982845",
     "exception": false,
     "start_time": "2024-07-08T15:49:48.949338",
     "status": "completed"
    },
    "tags": []
   },
   "outputs": [],
   "source": [
    "max_budget = 20000000"
   ]
  },
  {
   "cell_type": "code",
   "execution_count": 29,
   "id": "1e74c955",
   "metadata": {
    "execution": {
     "iopub.execute_input": "2024-07-08T15:49:49.031681Z",
     "iopub.status.busy": "2024-07-08T15:49:49.031309Z",
     "iopub.status.idle": "2024-07-08T15:49:49.038570Z",
     "shell.execute_reply": "2024-07-08T15:49:49.037441Z"
    },
    "papermill": {
     "duration": 0.034821,
     "end_time": "2024-07-08T15:49:49.041306",
     "exception": false,
     "start_time": "2024-07-08T15:49:49.006485",
     "status": "completed"
    },
    "tags": []
   },
   "outputs": [
    {
     "name": "stdout",
     "output_type": "stream",
     "text": [
      "Total vacation cost: Rp 19763500\n",
      "Total duration of trip to Yogyakarta is 34 days\n",
      "Is Yogyakarta max duration cost of Rp0? True\n"
     ]
    }
   ],
   "source": [
    "# Yogyakarta\n",
    "\n",
    "yogya_max_duration = 34\n",
    "is_yogya_max_trip = Yogya_max_trip = cost_of_trip(budget=max_budget, return_flight=800000, duration=yogya_max_duration, hotel_installment=500000, weekly_car_rental=1963500)\n",
    "\n",
    "print(\"Total vacation cost: Rp\", Yogya_max_trip)\n",
    "print(\"Total duration of trip to Yogyakarta is {} days\".format(str(yogya_max_duration)))\n",
    "print(\"Is Yogyakarta max duration cost of Rp{}?\".format(str(budget)), is_yogya_max_trip <= max_budget)"
   ]
  },
  {
   "cell_type": "code",
   "execution_count": 30,
   "id": "26a81275",
   "metadata": {
    "execution": {
     "iopub.execute_input": "2024-07-08T15:49:49.091742Z",
     "iopub.status.busy": "2024-07-08T15:49:49.091343Z",
     "iopub.status.idle": "2024-07-08T15:49:49.100079Z",
     "shell.execute_reply": "2024-07-08T15:49:49.098158Z"
    },
    "papermill": {
     "duration": 0.038143,
     "end_time": "2024-07-08T15:49:49.103168",
     "exception": false,
     "start_time": "2024-07-08T15:49:49.065025",
     "status": "completed"
    },
    "tags": []
   },
   "outputs": [
    {
     "name": "stdout",
     "output_type": "stream",
     "text": [
      "Total vacation cost: Rp 19650000\n",
      "Total duration of trip to Surbaya is 36 days\n",
      "Is Surabaya max duration cost of Rp0? True\n"
     ]
    }
   ],
   "source": [
    "# Surabaya\n",
    "\n",
    "sby_max_duration = 36\n",
    "is_surabaya_max_trip = Surabaya_max_trip = cost_of_trip(budget=max_budget, return_flight=1000000, duration=sby_max_duration, hotel_installment=450000, weekly_car_rental=2450000)\n",
    "\n",
    "print(\"Total vacation cost: Rp\", Surabaya_max_trip)\n",
    "print(\"Total duration of trip to Surbaya is {} days\".format(str(sby_max_duration)))\n",
    "print(\"Is Surabaya max duration cost of Rp{}?\".format(str(budget)), is_surabaya_max_trip <= max_budget)"
   ]
  },
  {
   "cell_type": "code",
   "execution_count": 31,
   "id": "aeebcb8d",
   "metadata": {
    "execution": {
     "iopub.execute_input": "2024-07-08T15:49:49.154257Z",
     "iopub.status.busy": "2024-07-08T15:49:49.153786Z",
     "iopub.status.idle": "2024-07-08T15:49:49.161558Z",
     "shell.execute_reply": "2024-07-08T15:49:49.160253Z"
    },
    "papermill": {
     "duration": 0.036709,
     "end_time": "2024-07-08T15:49:49.164265",
     "exception": false,
     "start_time": "2024-07-08T15:49:49.127556",
     "status": "completed"
    },
    "tags": []
   },
   "outputs": [
    {
     "name": "stdout",
     "output_type": "stream",
     "text": [
      "Total vacation cost: Rp 19800000\n",
      "Total duration of trip to Denpasar is 31 days\n",
      "Is Denpasar max duration cost of Rp0? True\n"
     ]
    }
   ],
   "source": [
    "# Denpasar\n",
    "\n",
    "dpr_max_duration = 31\n",
    "is_denpasar_max_trip = Denpasar_max_trip = cost_of_trip(budget=max_budget, return_flight=1000000, duration=dpr_max_duration, hotel_installment=550000, weekly_car_rental=1750000)\n",
    "\n",
    "print(\"Total vacation cost: Rp\", Denpasar_max_trip)\n",
    "print(\"Total duration of trip to Denpasar is {} days\".format(str(dpr_max_duration)))\n",
    "print(\"Is Denpasar max duration cost of Rp{}?\".format(str(budget)), is_denpasar_max_trip <= max_budget)"
   ]
  },
  {
   "cell_type": "code",
   "execution_count": 32,
   "id": "cffad926",
   "metadata": {
    "execution": {
     "iopub.execute_input": "2024-07-08T15:49:49.218126Z",
     "iopub.status.busy": "2024-07-08T15:49:49.217660Z",
     "iopub.status.idle": "2024-07-08T15:49:49.226347Z",
     "shell.execute_reply": "2024-07-08T15:49:49.225052Z"
    },
    "papermill": {
     "duration": 0.039232,
     "end_time": "2024-07-08T15:49:49.229663",
     "exception": false,
     "start_time": "2024-07-08T15:49:49.190431",
     "status": "completed"
    },
    "tags": []
   },
   "outputs": [
    {
     "name": "stdout",
     "output_type": "stream",
     "text": [
      "Total vacation cost: Rp 19950000\n",
      "Total duration of trip to Lombok is 27 days\n",
      "Is Lombok max duration cost of Rp0? True\n"
     ]
    }
   ],
   "source": [
    "# Lombok\n",
    "\n",
    "lombok_max_duration = 27\n",
    "is_lombok_max_trip = Lombok_max_trip = cost_of_trip(budget=budget, return_flight=1300000, duration=lombok_max_duration, hotel_installment=600000, weekly_car_rental=2450000)\n",
    "\n",
    "print(\"Total vacation cost: Rp\", Lombok_max_trip)\n",
    "print(\"Total duration of trip to Lombok is {} days\".format(str(lombok_max_duration)))\n",
    "print(\"Is Lombok max duration cost of Rp{}?\".format(str(budget)), is_lombok_max_trip <= max_budget)"
   ]
  },
  {
   "cell_type": "code",
   "execution_count": 33,
   "id": "9b39597d",
   "metadata": {
    "execution": {
     "iopub.execute_input": "2024-07-08T15:49:49.281784Z",
     "iopub.status.busy": "2024-07-08T15:49:49.281376Z",
     "iopub.status.idle": "2024-07-08T15:49:49.289772Z",
     "shell.execute_reply": "2024-07-08T15:49:49.288412Z"
    },
    "papermill": {
     "duration": 0.038291,
     "end_time": "2024-07-08T15:49:49.293827",
     "exception": false,
     "start_time": "2024-07-08T15:49:49.255536",
     "status": "completed"
    },
    "tags": []
   },
   "outputs": [
    {
     "name": "stdout",
     "output_type": "stream",
     "text": [
      "We can maximaze leisure time in Surabaya for 36 days.\n"
     ]
    }
   ],
   "source": [
    "if ((yogya_max_duration >= sby_max_duration) and (yogya_max_duration >= dpr_max_duration) and (yogya_max_duration >= lombok_max_duration)):\n",
    "    print(\"We can maximaze leisure time in Yogyakarta for {} days.\".format(yogya_max_duration))\n",
    "elif ((sby_max_duration >= yogya_max_duration) and (sby_max_duration >= dpr_max_duration) and (sby_max_duration >= lombok_max_duration)):\n",
    "    print(\"We can maximaze leisure time in Surabaya for {} days.\".format(sby_max_duration))\n",
    "elif ((dpr_max_duration >= yogya_max_duration) and (dpr_max_duration >= sby_max_duration) and (dpr_max_duration >= lombok_max_duration)):\n",
    "    print(\"We can maximaze leisure time in Denpasar for {} days.\".format(dpr_max_duration))\n",
    "else:\n",
    "    print(\"We can maximaze leisure time in Lombok for {} days.\".format(lombok_max_duration))"
   ]
  },
  {
   "cell_type": "markdown",
   "id": "69519bee",
   "metadata": {
    "papermill": {
     "duration": 0.025634,
     "end_time": "2024-07-08T15:49:49.344539",
     "exception": false,
     "start_time": "2024-07-08T15:49:49.318905",
     "status": "completed"
    },
    "tags": []
   },
   "source": [
    "# Minimize the duration of the trip"
   ]
  },
  {
   "cell_type": "code",
   "execution_count": 34,
   "id": "1f31e1fc",
   "metadata": {
    "execution": {
     "iopub.execute_input": "2024-07-08T15:49:49.396184Z",
     "iopub.status.busy": "2024-07-08T15:49:49.395758Z",
     "iopub.status.idle": "2024-07-08T15:49:49.404026Z",
     "shell.execute_reply": "2024-07-08T15:49:49.402786Z"
    },
    "papermill": {
     "duration": 0.037199,
     "end_time": "2024-07-08T15:49:49.406831",
     "exception": false,
     "start_time": "2024-07-08T15:49:49.369632",
     "status": "completed"
    },
    "tags": []
   },
   "outputs": [
    {
     "name": "stdout",
     "output_type": "stream",
     "text": [
      "We can minimize vacation in Lombok for 27 days.\n"
     ]
    }
   ],
   "source": [
    "if ((yogya_max_duration <= sby_max_duration) and (yogya_max_duration <= dpr_max_duration) and (yogya_max_duration <= lombok_max_duration)):\n",
    "    print(\"We can minimize vacation in Yogyakarta for {} days.\".format(yogya_max_duration))\n",
    "elif ((sby_max_duration <= yogya_max_duration) and (sby_max_duration <= dpr_max_duration) and (sby_max_duration <= lombok_max_duration)):\n",
    "    print(\"We can minimize vacation in Surabaya for {} days.\".format(sby_max_duration))\n",
    "elif ((dpr_max_duration <= yogya_max_duration) and (dpr_max_duration <= sby_max_duration) and (dpr_max_duration <= lombok_max_duration)):\n",
    "    print(\"We can minimize vacation in Denpasar for {} days.\".format(dpr_max_duration))\n",
    "else:\n",
    "    print(\"We can minimize vacation in Lombok for {} days.\".format(lombok_max_duration))"
   ]
  },
  {
   "cell_type": "markdown",
   "id": "50fc9759",
   "metadata": {
    "execution": {
     "iopub.execute_input": "2024-07-08T13:42:13.777363Z",
     "iopub.status.busy": "2024-07-08T13:42:13.776167Z",
     "iopub.status.idle": "2024-07-08T13:42:13.785359Z",
     "shell.execute_reply": "2024-07-08T13:42:13.783581Z",
     "shell.execute_reply.started": "2024-07-08T13:42:13.777305Z"
    },
    "papermill": {
     "duration": 0.024422,
     "end_time": "2024-07-08T15:49:49.456250",
     "exception": false,
     "start_time": "2024-07-08T15:49:49.431828",
     "status": "completed"
    },
    "tags": []
   },
   "source": [
    "# Answering No. 4\n",
    "\n",
    "How does the answer to the previous question change if your budget is `Rp5,000,000`, `Rp10,000,000` or `Rp15,000,000`?"
   ]
  },
  {
   "cell_type": "markdown",
   "id": "076ed786",
   "metadata": {
    "papermill": {
     "duration": 0.0254,
     "end_time": "2024-07-08T15:49:49.505559",
     "exception": false,
     "start_time": "2024-07-08T15:49:49.480159",
     "status": "completed"
    },
    "tags": []
   },
   "source": [
    "# Budget: Rp5,000,000"
   ]
  },
  {
   "cell_type": "code",
   "execution_count": 35,
   "id": "a4d6ea09",
   "metadata": {
    "execution": {
     "iopub.execute_input": "2024-07-08T15:49:49.558477Z",
     "iopub.status.busy": "2024-07-08T15:49:49.558094Z",
     "iopub.status.idle": "2024-07-08T15:49:49.563360Z",
     "shell.execute_reply": "2024-07-08T15:49:49.562243Z"
    },
    "papermill": {
     "duration": 0.033992,
     "end_time": "2024-07-08T15:49:49.565927",
     "exception": false,
     "start_time": "2024-07-08T15:49:49.531935",
     "status": "completed"
    },
    "tags": []
   },
   "outputs": [],
   "source": [
    "the_5k_budget = 5000000"
   ]
  },
  {
   "cell_type": "code",
   "execution_count": 36,
   "id": "06e4dc56",
   "metadata": {
    "execution": {
     "iopub.execute_input": "2024-07-08T15:49:49.615364Z",
     "iopub.status.busy": "2024-07-08T15:49:49.614981Z",
     "iopub.status.idle": "2024-07-08T15:49:49.623319Z",
     "shell.execute_reply": "2024-07-08T15:49:49.621779Z"
    },
    "papermill": {
     "duration": 0.036859,
     "end_time": "2024-07-08T15:49:49.626508",
     "exception": false,
     "start_time": "2024-07-08T15:49:49.589649",
     "status": "completed"
    },
    "tags": []
   },
   "outputs": [
    {
     "name": "stdout",
     "output_type": "stream",
     "text": [
      "Total vacation cost: Rp 4763500\n",
      "Total duration of trip to Yogyakarta is 4 days\n",
      "Is Yogyakarta max duration cost of Rp5000000? True\n"
     ]
    }
   ],
   "source": [
    "# Yogyakarta\n",
    "\n",
    "yogya_5k_duration = 4\n",
    "is_yogya_5k = Yogya_5k = cost_of_trip(budget=the_5k_budget, return_flight=800000, duration=yogya_5k_duration, hotel_installment=500000, weekly_car_rental=1963500)\n",
    "\n",
    "print(\"Total vacation cost: Rp\", Yogya_5k)\n",
    "print(\"Total duration of trip to Yogyakarta is {} days\".format(str(yogya_5k_duration)))\n",
    "print(\"Is Yogyakarta max duration cost of Rp{}?\".format(str(the_5k_budget)), is_yogya_5k <= the_5k_budget)"
   ]
  },
  {
   "cell_type": "code",
   "execution_count": 37,
   "id": "4f5b548c",
   "metadata": {
    "execution": {
     "iopub.execute_input": "2024-07-08T15:49:49.676554Z",
     "iopub.status.busy": "2024-07-08T15:49:49.676155Z",
     "iopub.status.idle": "2024-07-08T15:49:49.683679Z",
     "shell.execute_reply": "2024-07-08T15:49:49.682299Z"
    },
    "papermill": {
     "duration": 0.035613,
     "end_time": "2024-07-08T15:49:49.686776",
     "exception": false,
     "start_time": "2024-07-08T15:49:49.651163",
     "status": "completed"
    },
    "tags": []
   },
   "outputs": [
    {
     "name": "stdout",
     "output_type": "stream",
     "text": [
      "Total vacation cost: Rp 4800000\n",
      "Total duration of trip to Surabaya is 3 days\n",
      "Is Surabaya max duration cost of Rp5000000? True\n"
     ]
    }
   ],
   "source": [
    "# Surabaya\n",
    "\n",
    "sby_5k_duration = 3\n",
    "is_surabaya_5k = Surabaya_5k = cost_of_trip(budget=the_5k_budget, return_flight=1000000, duration=sby_5k_duration, hotel_installment=450000, weekly_car_rental=2450000)\n",
    "\n",
    "print(\"Total vacation cost: Rp\", Surabaya_5k)\n",
    "print(\"Total duration of trip to Surabaya is {} days\".format(str(sby_5k_duration)))\n",
    "print(\"Is Surabaya max duration cost of Rp{}?\".format(str(the_5k_budget)), is_surabaya_5k <= the_5k_budget)"
   ]
  },
  {
   "cell_type": "code",
   "execution_count": 38,
   "id": "916802f4",
   "metadata": {
    "execution": {
     "iopub.execute_input": "2024-07-08T15:49:49.737833Z",
     "iopub.status.busy": "2024-07-08T15:49:49.737460Z",
     "iopub.status.idle": "2024-07-08T15:49:49.744834Z",
     "shell.execute_reply": "2024-07-08T15:49:49.743743Z"
    },
    "papermill": {
     "duration": 0.036029,
     "end_time": "2024-07-08T15:49:49.747286",
     "exception": false,
     "start_time": "2024-07-08T15:49:49.711257",
     "status": "completed"
    },
    "tags": []
   },
   "outputs": [
    {
     "name": "stdout",
     "output_type": "stream",
     "text": [
      "Total vacation cost: Rp 4950000\n",
      "Total duration of trip to Denpasar is 4 days\n",
      "Is Denpasar max duration cost of Rp5000000? True\n"
     ]
    }
   ],
   "source": [
    "# Denpasar\n",
    "\n",
    "dpr_5k_duration = 4\n",
    "is_denpasar_5k = Denpasar_5k = cost_of_trip(budget=the_5k_budget, return_flight=1000000, duration=dpr_5k_duration, hotel_installment=550000, weekly_car_rental=1750000)\n",
    "\n",
    "print(\"Total vacation cost: Rp\", Denpasar_5k)\n",
    "print(\"Total duration of trip to Denpasar is {} days\".format(str(dpr_5k_duration)))\n",
    "print(\"Is Denpasar max duration cost of Rp{}?\".format(str(the_5k_budget)), is_denpasar_5k <= the_5k_budget)"
   ]
  },
  {
   "cell_type": "code",
   "execution_count": 39,
   "id": "58df35b2",
   "metadata": {
    "execution": {
     "iopub.execute_input": "2024-07-08T15:49:49.798151Z",
     "iopub.status.busy": "2024-07-08T15:49:49.797661Z",
     "iopub.status.idle": "2024-07-08T15:49:49.806140Z",
     "shell.execute_reply": "2024-07-08T15:49:49.804670Z"
    },
    "papermill": {
     "duration": 0.037711,
     "end_time": "2024-07-08T15:49:49.809138",
     "exception": false,
     "start_time": "2024-07-08T15:49:49.771427",
     "status": "completed"
    },
    "tags": []
   },
   "outputs": [
    {
     "name": "stdout",
     "output_type": "stream",
     "text": [
      "Total vacation cost: Rp 4950000\n",
      "Total duration of trip to Lombok is 2 days\n",
      "Is Lombok max duration cost of Rp5000000? True\n"
     ]
    }
   ],
   "source": [
    "# Lombok\n",
    "\n",
    "lombok_5k_duration = 2\n",
    "is_lombok_5k = Lombok_5k = cost_of_trip(budget=the_5k_budget, return_flight=1300000, duration=lombok_5k_duration, hotel_installment=600000, weekly_car_rental=2450000)\n",
    "\n",
    "print(\"Total vacation cost: Rp\", Lombok_5k)\n",
    "print(\"Total duration of trip to Lombok is {} days\".format(str(lombok_5k_duration)))\n",
    "print(\"Is Lombok max duration cost of Rp{}?\".format(str(the_5k_budget)), is_lombok_5k <= the_5k_budget)"
   ]
  },
  {
   "cell_type": "code",
   "execution_count": 40,
   "id": "e0dd52b3",
   "metadata": {
    "execution": {
     "iopub.execute_input": "2024-07-08T15:49:49.868315Z",
     "iopub.status.busy": "2024-07-08T15:49:49.867821Z",
     "iopub.status.idle": "2024-07-08T15:49:49.878948Z",
     "shell.execute_reply": "2024-07-08T15:49:49.876557Z"
    },
    "papermill": {
     "duration": 0.04744,
     "end_time": "2024-07-08T15:49:49.882897",
     "exception": false,
     "start_time": "2024-07-08T15:49:49.835457",
     "status": "completed"
    },
    "tags": []
   },
   "outputs": [
    {
     "name": "stdout",
     "output_type": "stream",
     "text": [
      "We can maximaze leisure time in Yogyakarta for 4 days.\n"
     ]
    }
   ],
   "source": [
    "if ((yogya_5k_duration >= sby_5k_duration) and (yogya_5k_duration >= dpr_5k_duration) and (yogya_5k_duration >= lombok_5k_duration)):\n",
    "    print(\"We can maximaze leisure time in Yogyakarta for {} days.\".format(yogya_5k_duration))\n",
    "elif ((sby_5k_duration >= yogya_5k_duration) and (sby_5k_duration >= dpr_5k_duration) and (sby_5k_duration >= lombok_5k_duration)):\n",
    "    print(\"We can maximaze leisure time in Surabaya for {} days.\".format(sby_5k_duration))\n",
    "elif ((dpr_5k_duration >= yogya_5k_duration) and (dpr_5k_duration >= sby_5k_duration) and (dpr_5k_duration >= lombok_5k_duration)):\n",
    "    print(\"We can maximaze leisure time in Denpasar for {} days.\".format(dpr_5k_duration))\n",
    "else:\n",
    "    print(\"We can maximaze leisure time in Lombok for {} days.\".format(lombok_5k_duration))"
   ]
  },
  {
   "cell_type": "code",
   "execution_count": 41,
   "id": "dd8f5b9b",
   "metadata": {
    "execution": {
     "iopub.execute_input": "2024-07-08T15:49:49.943936Z",
     "iopub.status.busy": "2024-07-08T15:49:49.943543Z",
     "iopub.status.idle": "2024-07-08T15:49:49.951692Z",
     "shell.execute_reply": "2024-07-08T15:49:49.950465Z"
    },
    "papermill": {
     "duration": 0.039289,
     "end_time": "2024-07-08T15:49:49.954821",
     "exception": false,
     "start_time": "2024-07-08T15:49:49.915532",
     "status": "completed"
    },
    "tags": []
   },
   "outputs": [
    {
     "name": "stdout",
     "output_type": "stream",
     "text": [
      "We can maximaze leisure time in Lombok for 2 days.\n"
     ]
    }
   ],
   "source": [
    "if ((yogya_5k_duration <= sby_5k_duration) and (yogya_5k_duration <= dpr_5k_duration) and (yogya_5k_duration <= lombok_5k_duration)):\n",
    "    print(\"We can maximaze leisure time in Yogyakarta for {} days.\".format(yogya_5k_duration))\n",
    "elif ((sby_5k_duration <= yogya_5k_duration) and (sby_5k_duration <= dpr_5k_duration) and (sby_5k_duration <= lombok_5k_duration)):\n",
    "    print(\"We can maximaze leisure time in Surabaya for {} days.\".format(sby_5k_duration))\n",
    "elif ((dpr_5k_duration <= yogya_5k_duration) and (dpr_5k_duration <= sby_5k_duration) and (dpr_5k_duration <= lombok_5k_duration)):\n",
    "    print(\"We can maximaze leisure time in Denpasar for {} days.\".format(dpr_5k_duration))\n",
    "else:\n",
    "    print(\"We can maximaze leisure time in Lombok for {} days.\".format(lombok_5k_duration))"
   ]
  },
  {
   "cell_type": "markdown",
   "id": "0d68f386",
   "metadata": {
    "papermill": {
     "duration": 0.0291,
     "end_time": "2024-07-08T15:49:50.008580",
     "exception": false,
     "start_time": "2024-07-08T15:49:49.979480",
     "status": "completed"
    },
    "tags": []
   },
   "source": [
    "# Budget: Rp10,000,000"
   ]
  },
  {
   "cell_type": "code",
   "execution_count": 42,
   "id": "8ab0d69d",
   "metadata": {
    "execution": {
     "iopub.execute_input": "2024-07-08T15:49:50.081293Z",
     "iopub.status.busy": "2024-07-08T15:49:50.080463Z",
     "iopub.status.idle": "2024-07-08T15:49:50.087250Z",
     "shell.execute_reply": "2024-07-08T15:49:50.086050Z"
    },
    "papermill": {
     "duration": 0.04694,
     "end_time": "2024-07-08T15:49:50.090614",
     "exception": false,
     "start_time": "2024-07-08T15:49:50.043674",
     "status": "completed"
    },
    "tags": []
   },
   "outputs": [],
   "source": [
    "the_10k_budget = 10000000"
   ]
  },
  {
   "cell_type": "code",
   "execution_count": 43,
   "id": "54a77b03",
   "metadata": {
    "execution": {
     "iopub.execute_input": "2024-07-08T15:49:50.154591Z",
     "iopub.status.busy": "2024-07-08T15:49:50.154207Z",
     "iopub.status.idle": "2024-07-08T15:49:50.162036Z",
     "shell.execute_reply": "2024-07-08T15:49:50.160903Z"
    },
    "papermill": {
     "duration": 0.037425,
     "end_time": "2024-07-08T15:49:50.164842",
     "exception": false,
     "start_time": "2024-07-08T15:49:50.127417",
     "status": "completed"
    },
    "tags": []
   },
   "outputs": [
    {
     "name": "stdout",
     "output_type": "stream",
     "text": [
      "Total vacation cost: Rp 9763500\n",
      "Total duration of trip to Yogyakarta is 14 days\n",
      "Is Yogyakarta max duration cost of Rp10000000? True\n"
     ]
    }
   ],
   "source": [
    "# Yogyakarta\n",
    "\n",
    "yogya_10k_duration = 14\n",
    "is_yogya_10k = Yogya_10k = cost_of_trip(budget=the_10k_budget, return_flight=800000, duration=yogya_10k_duration, hotel_installment=500000, weekly_car_rental=1963500)\n",
    "\n",
    "print(\"Total vacation cost: Rp\", Yogya_10k)\n",
    "print(\"Total duration of trip to Yogyakarta is {} days\".format(str(yogya_10k_duration)))\n",
    "print(\"Is Yogyakarta max duration cost of Rp{}?\".format(str(the_10k_budget)), is_yogya_10k <= the_10k_budget)"
   ]
  },
  {
   "cell_type": "code",
   "execution_count": 44,
   "id": "c46e0b43",
   "metadata": {
    "execution": {
     "iopub.execute_input": "2024-07-08T15:49:50.220273Z",
     "iopub.status.busy": "2024-07-08T15:49:50.219843Z",
     "iopub.status.idle": "2024-07-08T15:49:50.228541Z",
     "shell.execute_reply": "2024-07-08T15:49:50.226869Z"
    },
    "papermill": {
     "duration": 0.04208,
     "end_time": "2024-07-08T15:49:50.231557",
     "exception": false,
     "start_time": "2024-07-08T15:49:50.189477",
     "status": "completed"
    },
    "tags": []
   },
   "outputs": [
    {
     "name": "stdout",
     "output_type": "stream",
     "text": [
      "Total vacation cost: Rp 9750000\n",
      "Total duration of trip to Surabaya is 14 days\n",
      "Is Surabaya max duration cost of Rp10000000? True\n"
     ]
    }
   ],
   "source": [
    "# Surabaya\n",
    "\n",
    "sby_10k_duration = 14\n",
    "is_surabaya_10k = Surabaya_10k = cost_of_trip(budget=the_10k_budget, return_flight=1000000, duration=sby_10k_duration, hotel_installment=450000, weekly_car_rental=2450000)\n",
    "\n",
    "print(\"Total vacation cost: Rp\", Surabaya_10k)\n",
    "print(\"Total duration of trip to Surabaya is {} days\".format(str(sby_10k_duration)))\n",
    "print(\"Is Surabaya max duration cost of Rp{}?\".format(str(the_10k_budget)), is_surabaya_10k <= the_10k_budget)"
   ]
  },
  {
   "cell_type": "code",
   "execution_count": 45,
   "id": "d84b0b44",
   "metadata": {
    "execution": {
     "iopub.execute_input": "2024-07-08T15:49:50.288338Z",
     "iopub.status.busy": "2024-07-08T15:49:50.287944Z",
     "iopub.status.idle": "2024-07-08T15:49:50.295616Z",
     "shell.execute_reply": "2024-07-08T15:49:50.294369Z"
    },
    "papermill": {
     "duration": 0.040021,
     "end_time": "2024-07-08T15:49:50.299233",
     "exception": false,
     "start_time": "2024-07-08T15:49:50.259212",
     "status": "completed"
    },
    "tags": []
   },
   "outputs": [
    {
     "name": "stdout",
     "output_type": "stream",
     "text": [
      "Total vacation cost: Rp 9900000\n",
      "Total duration of trip to Denpasar is 13 days\n",
      "Is Denpasar max duration cost of Rp10000000? True\n"
     ]
    }
   ],
   "source": [
    "# Denpasar\n",
    "\n",
    "dpr_10k_duration = 13\n",
    "is_denpasar_10k = Denpasar_10k = cost_of_trip(budget=the_10k_budget, return_flight=1000000, duration=dpr_10k_duration, hotel_installment=550000, weekly_car_rental=1750000)\n",
    "\n",
    "print(\"Total vacation cost: Rp\", Denpasar_10k)\n",
    "print(\"Total duration of trip to Denpasar is {} days\".format(str(dpr_10k_duration)))\n",
    "print(\"Is Denpasar max duration cost of Rp{}?\".format(str(the_10k_budget)), is_denpasar_10k <= the_10k_budget)"
   ]
  },
  {
   "cell_type": "code",
   "execution_count": 46,
   "id": "1cacfe30",
   "metadata": {
    "execution": {
     "iopub.execute_input": "2024-07-08T15:49:50.350721Z",
     "iopub.status.busy": "2024-07-08T15:49:50.350322Z",
     "iopub.status.idle": "2024-07-08T15:49:50.358052Z",
     "shell.execute_reply": "2024-07-08T15:49:50.356824Z"
    },
    "papermill": {
     "duration": 0.036241,
     "end_time": "2024-07-08T15:49:50.360660",
     "exception": false,
     "start_time": "2024-07-08T15:49:50.324419",
     "status": "completed"
    },
    "tags": []
   },
   "outputs": [
    {
     "name": "stdout",
     "output_type": "stream",
     "text": [
      "Total vacation cost: Rp 9750000\n",
      "Total duration of trip to Lombok is 10 days\n",
      "Is Lombok max duration cost of Rp10000000? True\n"
     ]
    }
   ],
   "source": [
    "# Lombok\n",
    "\n",
    "lombok_10k_duration = 10\n",
    "is_lombok_10k = Lombok_10k = cost_of_trip(budget=the_10k_budget, return_flight=1300000, duration=lombok_10k_duration, hotel_installment=600000, weekly_car_rental=2450000)\n",
    "\n",
    "print(\"Total vacation cost: Rp\", Lombok_10k)\n",
    "print(\"Total duration of trip to Lombok is {} days\".format(str(lombok_10k_duration)))\n",
    "print(\"Is Lombok max duration cost of Rp{}?\".format(str(the_10k_budget)), is_lombok_10k <= the_10k_budget)"
   ]
  },
  {
   "cell_type": "code",
   "execution_count": 47,
   "id": "939849f2",
   "metadata": {
    "execution": {
     "iopub.execute_input": "2024-07-08T15:49:50.412457Z",
     "iopub.status.busy": "2024-07-08T15:49:50.412043Z",
     "iopub.status.idle": "2024-07-08T15:49:50.420711Z",
     "shell.execute_reply": "2024-07-08T15:49:50.419441Z"
    },
    "papermill": {
     "duration": 0.03814,
     "end_time": "2024-07-08T15:49:50.423483",
     "exception": false,
     "start_time": "2024-07-08T15:49:50.385343",
     "status": "completed"
    },
    "tags": []
   },
   "outputs": [
    {
     "name": "stdout",
     "output_type": "stream",
     "text": [
      "We can maximaze leisure time in Yogyakarta for 14 days.\n"
     ]
    }
   ],
   "source": [
    "if ((yogya_10k_duration >= sby_10k_duration) and (yogya_10k_duration >= dpr_10k_duration) and (yogya_10k_duration >= lombok_10k_duration)):\n",
    "    print(\"We can maximaze leisure time in Yogyakarta for {} days.\".format(yogya_10k_duration))\n",
    "elif ((sby_10k_duration >= yogya_10k_duration) and (sby_10k_duration >= dpr_10k_duration) and (sby_10k_duration >= lombok_10k_duration)):\n",
    "    print(\"We can maximaze leisure time in Surabaya for {} days.\".format(sby_10k_duration))\n",
    "elif ((dpr_10k_duration >= yogya_10k_duration) and (dpr_10k_duration >= sby_10k_duration) and (dpr_10k_duration >= lombok_10k_duration)):\n",
    "    print(\"We can maximaze leisure time in Denpasar for {} days.\".format(dpr_10k_duration))\n",
    "else:\n",
    "    print(\"We can maximaze leisure time in Lombok for {} days.\".format(lombok_10k_duration))"
   ]
  },
  {
   "cell_type": "code",
   "execution_count": 48,
   "id": "95245323",
   "metadata": {
    "execution": {
     "iopub.execute_input": "2024-07-08T15:49:50.474989Z",
     "iopub.status.busy": "2024-07-08T15:49:50.474563Z",
     "iopub.status.idle": "2024-07-08T15:49:50.482915Z",
     "shell.execute_reply": "2024-07-08T15:49:50.481747Z"
    },
    "papermill": {
     "duration": 0.037917,
     "end_time": "2024-07-08T15:49:50.486287",
     "exception": false,
     "start_time": "2024-07-08T15:49:50.448370",
     "status": "completed"
    },
    "tags": []
   },
   "outputs": [
    {
     "name": "stdout",
     "output_type": "stream",
     "text": [
      "We can maximaze leisure time in Lombok for 10 days.\n"
     ]
    }
   ],
   "source": [
    "if ((yogya_10k_duration <= sby_10k_duration) and (yogya_10k_duration <= dpr_10k_duration) and (yogya_10k_duration <= lombok_10k_duration)):\n",
    "    print(\"We can maximaze leisure time in Yogyakarta for {} days.\".format(yogya_10k_duration))\n",
    "elif ((sby_10k_duration <= yogya_10k_duration) and (sby_10k_duration <= dpr_10k_duration) and (sby_10k_duration <= lombok_10k_duration)):\n",
    "    print(\"We can maximaze leisure time in Surabaya for {} days.\".format(sby_10k_duration))\n",
    "elif ((dpr_10k_duration <= yogya_10k_duration) and (dpr_10k_duration <= sby_10k_duration) and (dpr_10k_duration <= lombok_10k_duration)):\n",
    "    print(\"We can maximaze leisure time in Denpasar for {} days.\".format(dpr_10k_duration))\n",
    "else:\n",
    "    print(\"We can maximaze leisure time in Lombok for {} days.\".format(lombok_10k_duration))"
   ]
  },
  {
   "cell_type": "markdown",
   "id": "88286c2e",
   "metadata": {
    "papermill": {
     "duration": 0.025699,
     "end_time": "2024-07-08T15:49:50.537682",
     "exception": false,
     "start_time": "2024-07-08T15:49:50.511983",
     "status": "completed"
    },
    "tags": []
   },
   "source": [
    "# Budget: Rp15,000,000"
   ]
  },
  {
   "cell_type": "code",
   "execution_count": 49,
   "id": "35a3ab04",
   "metadata": {
    "execution": {
     "iopub.execute_input": "2024-07-08T15:49:50.590932Z",
     "iopub.status.busy": "2024-07-08T15:49:50.590488Z",
     "iopub.status.idle": "2024-07-08T15:49:50.595803Z",
     "shell.execute_reply": "2024-07-08T15:49:50.594464Z"
    },
    "papermill": {
     "duration": 0.035693,
     "end_time": "2024-07-08T15:49:50.598473",
     "exception": false,
     "start_time": "2024-07-08T15:49:50.562780",
     "status": "completed"
    },
    "tags": []
   },
   "outputs": [],
   "source": [
    "the_15k_budget = 15000000"
   ]
  },
  {
   "cell_type": "code",
   "execution_count": 50,
   "id": "a7df32f4",
   "metadata": {
    "execution": {
     "iopub.execute_input": "2024-07-08T15:49:50.650246Z",
     "iopub.status.busy": "2024-07-08T15:49:50.649812Z",
     "iopub.status.idle": "2024-07-08T15:49:50.657576Z",
     "shell.execute_reply": "2024-07-08T15:49:50.656403Z"
    },
    "papermill": {
     "duration": 0.036359,
     "end_time": "2024-07-08T15:49:50.660001",
     "exception": false,
     "start_time": "2024-07-08T15:49:50.623642",
     "status": "completed"
    },
    "tags": []
   },
   "outputs": [
    {
     "name": "stdout",
     "output_type": "stream",
     "text": [
      "Total vacation cost: Rp 14763500\n",
      "Total duration of trip to Yogyakarta is 24 days\n",
      "Is Yogyakarta max duration cost of Rp15000000? True\n"
     ]
    }
   ],
   "source": [
    "# Yogyakarta\n",
    "\n",
    "yogya_15k_duration = 24\n",
    "is_yogya_15k = Yogya_15k = cost_of_trip(budget=the_15k_budget, return_flight=800000, duration=yogya_15k_duration, hotel_installment=500000, weekly_car_rental=1963500)\n",
    "\n",
    "print(\"Total vacation cost: Rp\", Yogya_15k)\n",
    "print(\"Total duration of trip to Yogyakarta is {} days\".format(str(yogya_15k_duration)))\n",
    "print(\"Is Yogyakarta max duration cost of Rp{}?\".format(str(the_15k_budget)), is_yogya_15k <= the_15k_budget)"
   ]
  },
  {
   "cell_type": "code",
   "execution_count": 51,
   "id": "7cf17fe7",
   "metadata": {
    "execution": {
     "iopub.execute_input": "2024-07-08T15:49:50.713034Z",
     "iopub.status.busy": "2024-07-08T15:49:50.712237Z",
     "iopub.status.idle": "2024-07-08T15:49:50.719320Z",
     "shell.execute_reply": "2024-07-08T15:49:50.718179Z"
    },
    "papermill": {
     "duration": 0.037295,
     "end_time": "2024-07-08T15:49:50.722569",
     "exception": false,
     "start_time": "2024-07-08T15:49:50.685274",
     "status": "completed"
    },
    "tags": []
   },
   "outputs": [
    {
     "name": "stdout",
     "output_type": "stream",
     "text": [
      "Total vacation cost: Rp 14700000\n",
      "Total duration of trip to Surabaya is 25 days\n",
      "Is Surabaya max duration cost of Rp15000000? True\n"
     ]
    }
   ],
   "source": [
    "# Surabaya\n",
    "\n",
    "sby_15k_duration = 25\n",
    "is_surabaya_15k = Surabaya_15k = cost_of_trip(budget=the_15k_budget, return_flight=1000000, duration=sby_15k_duration, hotel_installment=450000, weekly_car_rental=2450000)\n",
    "\n",
    "print(\"Total vacation cost: Rp\", Surabaya_15k)\n",
    "print(\"Total duration of trip to Surabaya is {} days\".format(str(sby_15k_duration)))\n",
    "print(\"Is Surabaya max duration cost of Rp{}?\".format(str(the_15k_budget)), is_surabaya_15k <= the_15k_budget)"
   ]
  },
  {
   "cell_type": "code",
   "execution_count": 52,
   "id": "f39dfc6b",
   "metadata": {
    "execution": {
     "iopub.execute_input": "2024-07-08T15:49:50.775760Z",
     "iopub.status.busy": "2024-07-08T15:49:50.775346Z",
     "iopub.status.idle": "2024-07-08T15:49:50.782784Z",
     "shell.execute_reply": "2024-07-08T15:49:50.781549Z"
    },
    "papermill": {
     "duration": 0.037984,
     "end_time": "2024-07-08T15:49:50.785825",
     "exception": false,
     "start_time": "2024-07-08T15:49:50.747841",
     "status": "completed"
    },
    "tags": []
   },
   "outputs": [
    {
     "name": "stdout",
     "output_type": "stream",
     "text": [
      "Total vacation cost: Rp 14850000\n",
      "Total duration of trip to Denpasar is 22 days\n",
      "Is Denpasar max duration cost of Rp15000000? True\n"
     ]
    }
   ],
   "source": [
    "# Denpasar\n",
    "\n",
    "dpr_15k_duration = 22\n",
    "is_denpasar_15k = Denpasar_15k = cost_of_trip(budget=the_15k_budget, return_flight=1000000, duration=dpr_15k_duration, hotel_installment=550000, weekly_car_rental=1750000)\n",
    "\n",
    "print(\"Total vacation cost: Rp\", Denpasar_15k)\n",
    "print(\"Total duration of trip to Denpasar is {} days\".format(str(dpr_15k_duration)))\n",
    "print(\"Is Denpasar max duration cost of Rp{}?\".format(str(the_15k_budget)), is_denpasar_15k <= the_15k_budget)"
   ]
  },
  {
   "cell_type": "code",
   "execution_count": 53,
   "id": "ab73d6b6",
   "metadata": {
    "execution": {
     "iopub.execute_input": "2024-07-08T15:49:50.840741Z",
     "iopub.status.busy": "2024-07-08T15:49:50.839960Z",
     "iopub.status.idle": "2024-07-08T15:49:50.847542Z",
     "shell.execute_reply": "2024-07-08T15:49:50.846207Z"
    },
    "papermill": {
     "duration": 0.038886,
     "end_time": "2024-07-08T15:49:50.850523",
     "exception": false,
     "start_time": "2024-07-08T15:49:50.811637",
     "status": "completed"
    },
    "tags": []
   },
   "outputs": [
    {
     "name": "stdout",
     "output_type": "stream",
     "text": [
      "Total vacation cost: Rp 14550000\n",
      "Total duration of trip to Lombok is 18 days\n",
      "Is Lombok max duration cost of Rp15000000? True\n"
     ]
    }
   ],
   "source": [
    "# Lombok\n",
    "\n",
    "lombok_15k_duration = 18\n",
    "is_lombok_15k = Lombok_15k = cost_of_trip(budget=the_15k_budget, return_flight=1300000, duration=lombok_15k_duration, hotel_installment=600000, weekly_car_rental=2450000)\n",
    " \n",
    "print(\"Total vacation cost: Rp\", Lombok_15k)\n",
    "print(\"Total duration of trip to Lombok is {} days\".format(str(lombok_15k_duration)))\n",
    "print(\"Is Lombok max duration cost of Rp{}?\".format(str(the_15k_budget)), is_lombok_15k <= the_15k_budget)"
   ]
  },
  {
   "cell_type": "code",
   "execution_count": 54,
   "id": "bf401262",
   "metadata": {
    "execution": {
     "iopub.execute_input": "2024-07-08T15:49:50.909063Z",
     "iopub.status.busy": "2024-07-08T15:49:50.908637Z",
     "iopub.status.idle": "2024-07-08T15:49:50.917020Z",
     "shell.execute_reply": "2024-07-08T15:49:50.915664Z"
    },
    "papermill": {
     "duration": 0.042408,
     "end_time": "2024-07-08T15:49:50.919705",
     "exception": false,
     "start_time": "2024-07-08T15:49:50.877297",
     "status": "completed"
    },
    "tags": []
   },
   "outputs": [
    {
     "name": "stdout",
     "output_type": "stream",
     "text": [
      "We can maximaze leisure time in Surabaya for 25 days.\n"
     ]
    }
   ],
   "source": [
    "if ((yogya_15k_duration >= sby_15k_duration) and (yogya_15k_duration >= dpr_15k_duration) and (yogya_15k_duration >= lombok_15k_duration)):\n",
    "    print(\"We can maximaze leisure time in Yogyakarta for {} days.\".format(yogya_15k_duration))\n",
    "elif ((sby_15k_duration >= yogya_15k_duration) and (sby_15k_duration >= dpr_15k_duration) and (sby_15k_duration >= lombok_15k_duration)):\n",
    "    print(\"We can maximaze leisure time in Surabaya for {} days.\".format(sby_15k_duration))\n",
    "elif ((dpr_15k_duration >= yogya_15k_duration) and (dpr_15k_duration >= sby_15k_duration) and (dpr_15k_duration >= lombok_15k_duration)):\n",
    "    print(\"We can maximaze leisure time in Denpasar for {} days.\".format(dpr_15k_duration))\n",
    "else:\n",
    "    print(\"We can maximaze leisure time in Lombok for {} days.\".format(lombok_15k_duration))"
   ]
  },
  {
   "cell_type": "code",
   "execution_count": 55,
   "id": "3bfa4d87",
   "metadata": {
    "execution": {
     "iopub.execute_input": "2024-07-08T15:49:50.974062Z",
     "iopub.status.busy": "2024-07-08T15:49:50.973635Z",
     "iopub.status.idle": "2024-07-08T15:49:50.981940Z",
     "shell.execute_reply": "2024-07-08T15:49:50.980649Z"
    },
    "papermill": {
     "duration": 0.039011,
     "end_time": "2024-07-08T15:49:50.984758",
     "exception": false,
     "start_time": "2024-07-08T15:49:50.945747",
     "status": "completed"
    },
    "tags": []
   },
   "outputs": [
    {
     "name": "stdout",
     "output_type": "stream",
     "text": [
      "We can maximaze leisure time in Lombok for 18 days.\n"
     ]
    }
   ],
   "source": [
    "if ((yogya_15k_duration <= sby_15k_duration) and (yogya_15k_duration <= dpr_15k_duration) and (yogya_15k_duration <= lombok_15k_duration)):\n",
    "    print(\"We can maximaze leisure time in Yogyakarta for {} days.\".format(yogya_15k_duration))\n",
    "elif ((sby_15k_duration <= yogya_15k_duration) and (sby_15k_duration <= dpr_15k_duration) and (sby_15k_duration <= lombok_15k_duration)):\n",
    "    print(\"We can maximaze leisure time in Surabaya for {} days.\".format(sby_15k_duration))\n",
    "elif ((dpr_15k_duration <= yogya_15k_duration) and (dpr_15k_duration <= sby_15k_duration) and (dpr_15k_duration <= lombok_15k_duration)):\n",
    "    print(\"We can maximaze leisure time in Denpasar for {} days.\".format(dpr_15k_duration))\n",
    "else:\n",
    "    print(\"We can maximaze leisure time in Lombok for {} days.\".format(lombok_15k_duration))"
   ]
  },
  {
   "cell_type": "markdown",
   "id": "cd08cbdb",
   "metadata": {
    "papermill": {
     "duration": 0.02564,
     "end_time": "2024-07-08T15:49:51.036948",
     "exception": false,
     "start_time": "2024-07-08T15:49:51.011308",
     "status": "completed"
    },
    "tags": []
   },
   "source": [
    "# **Summary**\n",
    "\n",
    "There are a summarize based on the calculation that we have done:\n",
    "1. Yogyakarta is the city that we can spend less amount of money of `Rp6,263,500` for a week vacation rather than other cities.\n",
    "2. On the other scenario, we have least cost if:\n",
    "   * we trip to Yogyakarta for `4 days` and `10 days` with budget of `Rp4,763,500` and `Rp7,763,500` respectively;\n",
    "   * we trip to Surabaya for `2 weeks` with spending cost of `Rp9,750,000`.\n",
    "3. If the total budget for the trip is `Rp20,000,000`:\n",
    "   * we can maximaze leisure time in Surabaya for `36 days`;\n",
    "   * we can minimize leisure time in Lombok for `27 days`.\n",
    "4. If the total budget for the trip is `Rp5,000,000`, `Rp10,000,000` or `Rp15,000,000`:\n",
    "   * With budget of `Rp5,000,000`, we can maximaze vacation in Yogyakarta for `4 days` or minimize trip in Lombok for `2 days`;\n",
    "   * With budget of `Rp10,000,000`, we can maximaze vacation in Yogyakarta for `14 days` or minimize trip in Lombok for`10 days`;\n",
    "   * With budget of `Rp15,000,000`, we can maximaze vacation in Surabaya for `25 days` or minimize trip in Lombok for `18 days`."
   ]
  }
 ],
 "metadata": {
  "kaggle": {
   "accelerator": "none",
   "dataSources": [],
   "dockerImageVersionId": 30732,
   "isGpuEnabled": false,
   "isInternetEnabled": true,
   "language": "python",
   "sourceType": "notebook"
  },
  "kernelspec": {
   "display_name": "Python 3",
   "language": "python",
   "name": "python3"
  },
  "language_info": {
   "codemirror_mode": {
    "name": "ipython",
    "version": 3
   },
   "file_extension": ".py",
   "mimetype": "text/x-python",
   "name": "python",
   "nbconvert_exporter": "python",
   "pygments_lexer": "ipython3",
   "version": "3.10.13"
  },
  "papermill": {
   "default_parameters": {},
   "duration": 8.325789,
   "end_time": "2024-07-08T15:49:51.483575",
   "environment_variables": {},
   "exception": null,
   "input_path": "__notebook__.ipynb",
   "output_path": "__notebook__.ipynb",
   "parameters": {},
   "start_time": "2024-07-08T15:49:43.157786",
   "version": "2.5.0"
  }
 },
 "nbformat": 4,
 "nbformat_minor": 5
}
