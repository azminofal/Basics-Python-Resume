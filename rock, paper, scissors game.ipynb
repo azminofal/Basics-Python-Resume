{
 "cells": [
  {
   "cell_type": "markdown",
   "id": "c1f7b091-dcf6-478c-a806-6c05021a961f",
   "metadata": {},
   "source": [
    "## Rock, paper, scissors game"
   ]
  },
  {
   "cell_type": "code",
   "execution_count": 86,
   "id": "5f403b74-22ab-4941-8ae4-df9a9ab9b10a",
   "metadata": {},
   "outputs": [],
   "source": [
    "import random"
   ]
  },
  {
   "cell_type": "code",
   "execution_count": 87,
   "id": "1713683d-0d57-4f12-8593-7480fb980b4c",
   "metadata": {},
   "outputs": [],
   "source": [
    "def get_choices():\n",
    "    player_choice = input(\"Choose a choice: \")\n",
    "    options = [\"rock\", \"paper\", \"scissors\"]\n",
    "    computer_choice = random.choice(options)\n",
    "    choices = {\"player\": player_choice, \"computer\": computer_choice}\n",
    "    return choices"
   ]
  },
  {
   "cell_type": "code",
   "execution_count": 88,
   "id": "efa45598-6ff2-404a-8509-0b0e4f9294bb",
   "metadata": {},
   "outputs": [],
   "source": [
    "def check_win(player, computer):\n",
    "    print(f\"You chose {player}, Computer chose {computer}\") \n",
    "    if player == computer:\n",
    "        return \"IT IS A TIE.\"\n",
    "    elif player == \"rock\":\n",
    "        if computer == \"scissors\":\n",
    "            return(\"YOU WIN!\")\n",
    "        else:\n",
    "            return(\"YOU LOSE.\")\n",
    "    elif player == \"paper\":\n",
    "        if computer == \"rock\":\n",
    "            return(\"YOU WIN!\")\n",
    "        else:\n",
    "            return \"YOU LOSE.\"\n",
    "    elif player == \"scissors\":\n",
    "        if computer == \"paper\":\n",
    "            return(\"YOU WIN!\")\n",
    "        else:\n",
    "            return(\"YOU LOSE.\")"
   ]
  },
  {
   "cell_type": "code",
   "execution_count": 89,
   "id": "881f9b2d-b987-4fb5-bdfb-fba8c600a127",
   "metadata": {},
   "outputs": [
    {
     "name": "stdin",
     "output_type": "stream",
     "text": [
      "Choose a choice:  rock\n"
     ]
    },
    {
     "name": "stdout",
     "output_type": "stream",
     "text": [
      "You chose rock, Computer chose paper\n",
      "YOU LOSE.\n"
     ]
    }
   ],
   "source": [
    "choices = get_choices()\n",
    "result = check_win(choices[\"player\"], choices[\"computer\"])\n",
    "print(result)"
   ]
  }
 ],
 "metadata": {
  "kernelspec": {
   "display_name": "Python 3 (ipykernel)",
   "language": "python",
   "name": "python3"
  },
  "language_info": {
   "codemirror_mode": {
    "name": "ipython",
    "version": 3
   },
   "file_extension": ".py",
   "mimetype": "text/x-python",
   "name": "python",
   "nbconvert_exporter": "python",
   "pygments_lexer": "ipython3",
   "version": "3.11.7"
  }
 },
 "nbformat": 4,
 "nbformat_minor": 5
}
